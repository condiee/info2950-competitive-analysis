{
 "cells": [
  {
   "cell_type": "markdown",
   "metadata": {},
   "source": [
    "# Final Report"
   ]
  },
  {
   "cell_type": "markdown",
   "metadata": {},
   "source": [
    "## Introduction.\n",
    "Last summer and continuing remotely, I have been working at MassGeneral Hospital for Children as a digital marketing and web development intern. MGHfC struggles to some extent with brand recognition in competition with other childrens' hospitals and healthcare facilities, and as such the digital marketing department at MGHfC has been publishing more patient education pages on the website about conditions treated at the clinics of MGH's children's hospital to try and rank in Google and generate more site traffic and appointments.\n",
    "\n",
    "Despite their recent creation and upkeep, MGHfC's pages are often surpassed in Google rankings by those of the Mayo Clinic, the widely acclaimed healthcare company based in Minnesota. Whereas the Mayo Clinic ranks in Google for 2.5m keywords, MGHfC ranks for 90,813 (data obtained from analysis on https://moz.com/). In this project I will be analyzing the contents of their education pages about the symptoms and causes of the diseases and conditions listed on the Mayo Clinic website to determine which specific features of their web pages, if any, are boosting their rank in search so often and so highly.\n",
    "\n",
    "This report concludes that there is no clear pattern to how the analyzed features of the Mayo Clinic's Symptoms and Causes pages affect these pages' ranking in search. This finding is not definitive; the methods applied to analyze the data were not appropriate for the dataset in question. Readers may pursue inquiries about search engine optimization tactics by taking next steps to obtain comparative data about pages that do not rank at all in search, thus implementing logistic regression to predict the fact of whether a page will rank in search at all or not, rather than attempting to discriminate between how \"well\" a page might rank given different attributes."
   ]
  },
  {
   "cell_type": "markdown",
   "metadata": {},
   "source": [
    "## Data description.\n",
    "\n",
    "###  Why was this dataset created?\n",
    "The final dataset I am working with is a self-contained dataset of URLs that I scraped from the Mayo Clinic's site and cross-referenced with data about those pages provided by Screaming Frog SEO Spider (yes, that is actually the name of the application), an SEO analysis helper tool that I have access to due to my internship position. I added two more columns of data about those pages by scraping the publication date of the pages myself and adding information provided by another tool, Moz Pro, about how well pages rank in search.\n",
    "\n",
    "### What processes might have influenced what data was observed and recorded and what was not?\n",
    "SEO Spider provides valuable information that I would not otherwise be able to gather–data about the types of links on the web pages (internal, external, unique...). Due to the way the Mayo Clinic's symptoms and causes URLs are structured, I had to filter out the pages that I wanted from the data Spider provided, which included other pages listed under Diseases and Conditions that were not Symptoms and Causes pages. To find the pages I wanted, I scraped their URLs from the Mayo Clinic website and (inner) merged those from the ones provided by the SEO Spider crawl (which retrieved most of the population of Symptoms and Causes pages in the English language on the Mayo Clinic site by crawling to a depth of 2). I then merged that dataset one more time with data from Moz about whether the URL was included in the top visited pages on the Mayo Clinic's domain as measured by Moz.\n",
    "\n",
    "### What preprocessing was done, and how did the data come to be in the form that you are using?\n",
    "In terms of the SEO Spider data, I crawled https://www.mayoclinic.org/diseases-conditions to a depth of 2 and downloaded a .csv file that I cleaned, filtered, and aggregated so that the resulting dataset only included the columns relevant to my research question. I left behind address (the \"ugly\" (non-canonical) version of the final url), status code (which I can access myself with code, and should be 200, not very interesting for data analysis), page title and headers besides H1-1, which are standard across Symptoms and Causes pages, and columns that Spider left blank.\n",
    "\n",
    "On Moz, I did link research on the Mayo Clinic domain and downloaded a .csv file of the top 500 most visited pages, those on their website with the highest page authority. I then created a new column in my larger dataset indicating whether the Symptoms and Causes URL listed was among those 500 top-ranking pages or not.\n",
    "\n",
    "### What are the observations (rows) and the attributes (columns)?\n",
    "**Observations:** (1082) Each row contains information about the symptoms and causes page for a disease or condition listed on the Mayo Clinic website.\n",
    "\n",
    "**Attributes:** (15) The page's canonical **url**, its primary **header** (H1-1, also the name of the condition described), **header length,** **meta description** of the page (what shows up in the Google result), **meta description length**, the size of the page in **bytes**, the **word count** of the page, its **inlinks** (internal links pointing to a given URL from the same subdomain that is being crawled), **unique inlinks** (count several internal links from the same subdomain page as 1), **outlinks** (internal links to other URLs on the same subdomain), **unique outlinks,** **external outlinks** (links to another subdomain), **unique external outlinks,** whether a page is a **top** page of the domain, and the page's **publication date.**\n",
    "\n",
    "### If people are involved, were they aware of the data collection and if so, what purpose did they expect the data to be used for?\n",
    "People are tangentially involved–the data I analyzed consdiers how webpages were designed by a individual or team of individuals–whether they were web designers working for the Mayo Clinic or working for a separate company that created the website template in use by the Mayo Clinic–and the structure and content of each of those pages, which likely have many different authors. Data about the people themselves was not involved in my analysis; only data about their work.\n",
    "\n",
    "### Who funded the creation of the dataset?\n",
    "The licenses for SEO Spider and Moz Pro are funded by the MGH Marketing Department. My internship is unpaid–I am not completing this work for compensation besides my standing in this course, and the idea of applying this project to the area of my internship was entirely my own.\n",
    "\n",
    "To my knowledge, no one working for the Mayo Clinic is aware of this project, and none of the data used is confidential, private, or upsetting.\n",
    "\n",
    "This dataset has not yet been used for any tasks besides the analysis of this project. It could potentially be used by other competitors of the Mayo Clinic or the Mayo Clinic itself to attempt to improve marketing strategies. This data should not be used to compromise the Mayo Clinic or any associated groups."
   ]
  },
  {
   "cell_type": "markdown",
   "metadata": {},
   "source": [
    "### Import Libraries"
   ]
  },
  {
   "cell_type": "code",
   "execution_count": 438,
   "metadata": {},
   "outputs": [],
   "source": [
    "import pandas as pd\n",
    "import matplotlib.pyplot as plt\n",
    "import numpy as np\n",
    "from sklearn.linear_model import LinearRegression, LogisticRegression\n",
    "from sklearn.cluster import KMeans\n",
    "from datetime import datetime\n",
    "import matplotlib.dates as dt\n",
    "from bs4 import BeautifulSoup\n",
    "import requests\n",
    "import re"
   ]
  },
  {
   "cell_type": "markdown",
   "metadata": {},
   "source": [
    "### Read In the Dataset"
   ]
  },
  {
   "cell_type": "code",
   "execution_count": 439,
   "metadata": {},
   "outputs": [
    {
     "data": {
      "text/html": [
       "<div>\n",
       "<style scoped>\n",
       "    .dataframe tbody tr th:only-of-type {\n",
       "        vertical-align: middle;\n",
       "    }\n",
       "\n",
       "    .dataframe tbody tr th {\n",
       "        vertical-align: top;\n",
       "    }\n",
       "\n",
       "    .dataframe thead th {\n",
       "        text-align: right;\n",
       "    }\n",
       "</style>\n",
       "<table border=\"1\" class=\"dataframe\">\n",
       "  <thead>\n",
       "    <tr style=\"text-align: right;\">\n",
       "      <th></th>\n",
       "      <th>url</th>\n",
       "      <th>header</th>\n",
       "      <th>header_len</th>\n",
       "      <th>meta</th>\n",
       "      <th>meta_len</th>\n",
       "      <th>bytes</th>\n",
       "      <th>word_count</th>\n",
       "      <th>inlinks</th>\n",
       "      <th>unique_in</th>\n",
       "      <th>outlinks</th>\n",
       "      <th>unique_out</th>\n",
       "      <th>ext_links</th>\n",
       "      <th>unique_ext</th>\n",
       "      <th>pa</th>\n",
       "      <th>pub_date</th>\n",
       "    </tr>\n",
       "  </thead>\n",
       "  <tbody>\n",
       "    <tr>\n",
       "      <th>0</th>\n",
       "      <td>https://www.mayoclinic.org/diseases-conditions...</td>\n",
       "      <td>digeorge syndrome (22q11.2 deletion syndrome)</td>\n",
       "      <td>45</td>\n",
       "      <td>DiGeorge syndrome (22q11.2 deletion syndrome) ...</td>\n",
       "      <td>151</td>\n",
       "      <td>57561</td>\n",
       "      <td>2212</td>\n",
       "      <td>13</td>\n",
       "      <td>7</td>\n",
       "      <td>70</td>\n",
       "      <td>44</td>\n",
       "      <td>67</td>\n",
       "      <td>45</td>\n",
       "      <td>0.0</td>\n",
       "      <td>2017-07-18</td>\n",
       "    </tr>\n",
       "    <tr>\n",
       "      <th>1</th>\n",
       "      <td>https://www.mayoclinic.org/diseases-conditions...</td>\n",
       "      <td>atrial fibrillation</td>\n",
       "      <td>19</td>\n",
       "      <td>Find out about atrial fibrillation, a heart co...</td>\n",
       "      <td>152</td>\n",
       "      <td>68770</td>\n",
       "      <td>2732</td>\n",
       "      <td>31</td>\n",
       "      <td>19</td>\n",
       "      <td>100</td>\n",
       "      <td>71</td>\n",
       "      <td>75</td>\n",
       "      <td>52</td>\n",
       "      <td>1.0</td>\n",
       "      <td>2019-06-20</td>\n",
       "    </tr>\n",
       "    <tr>\n",
       "      <th>2</th>\n",
       "      <td>https://www.mayoclinic.org/diseases-conditions...</td>\n",
       "      <td>abdominal aortic aneurysm</td>\n",
       "      <td>25</td>\n",
       "      <td>An abdominal aortic aneurysm can grow slowly a...</td>\n",
       "      <td>128</td>\n",
       "      <td>48752</td>\n",
       "      <td>1530</td>\n",
       "      <td>26</td>\n",
       "      <td>15</td>\n",
       "      <td>78</td>\n",
       "      <td>49</td>\n",
       "      <td>67</td>\n",
       "      <td>45</td>\n",
       "      <td>0.0</td>\n",
       "      <td>2019-03-15</td>\n",
       "    </tr>\n",
       "    <tr>\n",
       "      <th>3</th>\n",
       "      <td>https://www.mayoclinic.org/diseases-conditions...</td>\n",
       "      <td>hyperhidrosis</td>\n",
       "      <td>13</td>\n",
       "      <td>Learn more about causes, symptoms, treatment a...</td>\n",
       "      <td>153</td>\n",
       "      <td>45026</td>\n",
       "      <td>1385</td>\n",
       "      <td>16</td>\n",
       "      <td>11</td>\n",
       "      <td>75</td>\n",
       "      <td>46</td>\n",
       "      <td>67</td>\n",
       "      <td>45</td>\n",
       "      <td>0.0</td>\n",
       "      <td>2017-10-27</td>\n",
       "    </tr>\n",
       "    <tr>\n",
       "      <th>4</th>\n",
       "      <td>https://www.mayoclinic.org/diseases-conditions...</td>\n",
       "      <td>bartholin's cyst</td>\n",
       "      <td>16</td>\n",
       "      <td>A Bartholin's cyst is a fluid-filled lump near...</td>\n",
       "      <td>126</td>\n",
       "      <td>43037</td>\n",
       "      <td>1202</td>\n",
       "      <td>12</td>\n",
       "      <td>6</td>\n",
       "      <td>70</td>\n",
       "      <td>44</td>\n",
       "      <td>67</td>\n",
       "      <td>45</td>\n",
       "      <td>0.0</td>\n",
       "      <td>2020-04-24</td>\n",
       "    </tr>\n",
       "  </tbody>\n",
       "</table>\n",
       "</div>"
      ],
      "text/plain": [
       "                                                 url  \\\n",
       "0  https://www.mayoclinic.org/diseases-conditions...   \n",
       "1  https://www.mayoclinic.org/diseases-conditions...   \n",
       "2  https://www.mayoclinic.org/diseases-conditions...   \n",
       "3  https://www.mayoclinic.org/diseases-conditions...   \n",
       "4  https://www.mayoclinic.org/diseases-conditions...   \n",
       "\n",
       "                                          header  header_len  \\\n",
       "0  digeorge syndrome (22q11.2 deletion syndrome)          45   \n",
       "1                            atrial fibrillation          19   \n",
       "2                      abdominal aortic aneurysm          25   \n",
       "3                                  hyperhidrosis          13   \n",
       "4                               bartholin's cyst          16   \n",
       "\n",
       "                                                meta  meta_len  bytes  \\\n",
       "0  DiGeorge syndrome (22q11.2 deletion syndrome) ...       151  57561   \n",
       "1  Find out about atrial fibrillation, a heart co...       152  68770   \n",
       "2  An abdominal aortic aneurysm can grow slowly a...       128  48752   \n",
       "3  Learn more about causes, symptoms, treatment a...       153  45026   \n",
       "4  A Bartholin's cyst is a fluid-filled lump near...       126  43037   \n",
       "\n",
       "   word_count  inlinks  unique_in  outlinks  unique_out  ext_links  \\\n",
       "0        2212       13          7        70          44         67   \n",
       "1        2732       31         19       100          71         75   \n",
       "2        1530       26         15        78          49         67   \n",
       "3        1385       16         11        75          46         67   \n",
       "4        1202       12          6        70          44         67   \n",
       "\n",
       "   unique_ext   pa    pub_date  \n",
       "0          45  0.0  2017-07-18  \n",
       "1          52  1.0  2019-06-20  \n",
       "2          45  0.0  2019-03-15  \n",
       "3          45  0.0  2017-10-27  \n",
       "4          45  0.0  2020-04-24  "
      ]
     },
     "execution_count": 439,
     "metadata": {},
     "output_type": "execute_result"
    }
   ],
   "source": [
    "# read in polished dataset from collection-4.ipynb\n",
    "data = pd.read_csv(\"data.csv\", index_col=0)\n",
    "data.head()"
   ]
  },
  {
   "cell_type": "code",
   "execution_count": 440,
   "metadata": {},
   "outputs": [],
   "source": [
    "# clarify that the pa column is now a binary measure of whether a URL is\n",
    "# one of the Mayo Clinic's 500 top-ranking pages or not\n",
    "data = data.rename(columns={'pa':'top'})"
   ]
  },
  {
   "cell_type": "code",
   "execution_count": 441,
   "metadata": {},
   "outputs": [
    {
     "data": {
      "text/plain": [
       "False"
      ]
     },
     "execution_count": 441,
     "metadata": {},
     "output_type": "execute_result"
    }
   ],
   "source": [
    "# triple check for null values\n",
    "data.isnull().values.any()"
   ]
  },
  {
   "cell_type": "code",
   "execution_count": 442,
   "metadata": {},
   "outputs": [
    {
     "data": {
      "text/plain": [
       "(1082, 15)"
      ]
     },
     "execution_count": 442,
     "metadata": {},
     "output_type": "execute_result"
    }
   ],
   "source": [
    "# final dataset counts\n",
    "data.shape"
   ]
  },
  {
   "cell_type": "markdown",
   "metadata": {},
   "source": [
    "## Data analysis.\n",
    "*Use summary functions like mean and standard deviation along with visual displays like scatter plots and histograms to describe data. Provide at least one model showing patterns or relationships between variables that addresses your research question. This could be a regression or clustering, or something else that measures some property of the dataset.*\n",
    "\n",
    "*Clearly detail your methods used in each part. Qualitative claims made in the exposition should have numerical backing here (instead of “X is larger than Y” write “X is 3.65 times larger than Y”). This should read like a scientific paper, but does not need to be \"stuffy\" or overly indirect. A reader should be able to replicate your experiments and findings via their own code after reading this.*"
   ]
  },
  {
   "cell_type": "code",
   "execution_count": 443,
   "metadata": {
    "scrolled": true
   },
   "outputs": [
    {
     "data": {
      "text/plain": [
       "Index(['url', 'header', 'header_len', 'meta', 'meta_len', 'bytes',\n",
       "       'word_count', 'inlinks', 'unique_in', 'outlinks', 'unique_out',\n",
       "       'ext_links', 'unique_ext', 'top', 'pub_date'],\n",
       "      dtype='object')"
      ]
     },
     "execution_count": 443,
     "metadata": {},
     "output_type": "execute_result"
    }
   ],
   "source": [
    "data.columns"
   ]
  },
  {
   "cell_type": "markdown",
   "metadata": {},
   "source": [
    "### Define functions with which to analyze the data"
   ]
  },
  {
   "cell_type": "code",
   "execution_count": 444,
   "metadata": {},
   "outputs": [],
   "source": [
    "# function to examine a column of data with summary functions and visual displays\n",
    "def examine(df, column, bins):\n",
    "    plt.hist(df[column], bins=bins)\n",
    "    plt.title(column)\n",
    "    plt.show()\n",
    "    print(\"min:\", df[column].min())\n",
    "    print(\"max:\", df[column].max())\n",
    "    print(\"mean:\", df[column].mean())\n",
    "    print(\"variance:\", df[column].var())\n",
    "    print(\"stan dev:\", df[column].std())"
   ]
  },
  {
   "cell_type": "code",
   "execution_count": 445,
   "metadata": {},
   "outputs": [],
   "source": [
    "# function to look at the data in a specific range (excluding outliers)\n",
    "def exclude(df, column, start, end, bins):\n",
    "    plt.hist(df[column], range = (start, end), bins=bins)\n",
    "    plt.title(column + \": range \" + str(start) + \" - \" + str(end))\n",
    "    plt.show()"
   ]
  },
  {
   "cell_type": "code",
   "execution_count": 446,
   "metadata": {},
   "outputs": [],
   "source": [
    "# scatterplot, covariance, and correlation coefficients\n",
    "def relate(x, y):\n",
    "    plt.scatter(x,y)\n",
    "    plt.xlabel(x.name)\n",
    "    plt.ylabel(y.name)\n",
    "    plt.show()\n",
    "    print(\"Covariance:\", round(np.cov(x, y)[0,1],5))\n",
    "    print(\"Pearson Correlation Coefficient:\", round(np.corrcoef(x,y)[0,1],5))\n",
    "    print(\"Spearman Correlation Coefficient:\", round(np.corrcoef(x.rank(), y.rank())[0][1],5))"
   ]
  },
  {
   "cell_type": "code",
   "execution_count": 447,
   "metadata": {},
   "outputs": [],
   "source": [
    "# linear regression\n",
    "def lin(x, y):\n",
    "    model = LinearRegression().fit(data[[x]], data[y])\n",
    "    print(x, \"and\", y, \":\")\n",
    "    print(\"slope (coefficient): %.5f\" % (model.coef_))\n",
    "    print(\"intercept: %.5f\" % model.intercept_)\n",
    "    print()"
   ]
  },
  {
   "cell_type": "code",
   "execution_count": 448,
   "metadata": {
    "scrolled": false
   },
   "outputs": [],
   "source": [
    "# joint linear regression to predict another variable\n",
    "def joint(columns, var):\n",
    "    model = LinearRegression().fit(data[columns], data[var])\n",
    "    print(\"intercept: %.4f\" % model.intercept_)\n",
    "    print(\"score: %.4f\" % model.score(data[columns], data[var]))\n",
    "    print()\n",
    "    print()\n",
    "    for i in range(len(columns)):\n",
    "        print(columns[i])\n",
    "        print(\"coef: %.4f\" % model.coef_[i])\n",
    "        print()"
   ]
  },
  {
   "cell_type": "code",
   "execution_count": 449,
   "metadata": {
    "scrolled": false
   },
   "outputs": [],
   "source": [
    "# function to compute and display logistic regression\n",
    "def log_reg(column1, column2):\n",
    "    model = LogisticRegression(solver=\"lbfgs\").fit(column1.values.reshape(-1, 1), column2)\n",
    "    print(\"Coefficient:\", model.coef_)\n",
    "    print(\"Intercept:\", model.intercept_)\n",
    "\n",
    "    plt.scatter(column1, column2 + np.random.normal(0, 0.05, size=len(column1)), alpha=0.1)\n",
    "    x_values = np.linspace(column1.min(), column1.max(), 500) #start, stop, num\n",
    "    # code adapted from Food Prefs\n",
    "    y_values = (np.exp(x_values * model.coef_[0,0] + model.intercept_[0])) / (1 + (np.exp(x_values * model.coef_[0,0] + model.intercept_[0])))\n",
    "    plt.plot(x_values, y_values)\n",
    "    \n",
    "    plt.xlabel(column1.name)\n",
    "    plt.ylabel(column2.name)\n",
    "    plt.show()"
   ]
  },
  {
   "cell_type": "markdown",
   "metadata": {},
   "source": [
    "### Header Length (H1-1)"
   ]
  },
  {
   "cell_type": "code",
   "execution_count": 450,
   "metadata": {},
   "outputs": [
    {
     "data": {
      "image/png": "[encoded data removed]",
      "text/plain": [
       "<Figure size 432x288 with 1 Axes>"
      ]
     },
     "metadata": {
      "needs_background": "light"
     },
     "output_type": "display_data"
    },
    {
     "name": "stdout",
     "output_type": "stream",
     "text": [
      "min: 3\n",
      "max: 59\n",
      "mean: 17.83086876155268\n",
      "variance: 67.76877796795944\n",
      "stan dev: 8.232179417867387\n"
     ]
    }
   ],
   "source": [
    "examine(data, \"header_len\", 20)"
   ]
  },
  {
   "cell_type": "markdown",
   "metadata": {},
   "source": [
    "SEO strategy recommends short, descriptive h1 headers that contain a page keyword; here, that means the name of the condition. It thus is unsurprising that the data peaks between 10 and 20 characters. It is not a normal distribution, since headers are more likely to have more characters than fewer; those that have more are likely conditions with long names or two different names (one more scientific, one translated from medical terminology into a name more evident), where one is listed after the other in parentheses. "
   ]
  },
  {
   "cell_type": "code",
   "execution_count": 451,
   "metadata": {},
   "outputs": [
    {
     "data": {
      "text/plain": [
       "['digeorge syndrome (22q11.2 deletion syndrome)',\n",
       " 'attention-deficit/hyperactivity disorder (adhd) in children',\n",
       " 'adult attention-deficit/hyperactivity disorder (adhd)',\n",
       " 'benign paroxysmal positional vertigo (bppv)',\n",
       " 'subconjunctival hemorrhage (broken blood vessel in eye)',\n",
       " 'paraneoplastic syndromes of the nervous system',\n",
       " 'diffuse idiopathic skeletal hyperostosis (dish)',\n",
       " 'persistent depressive disorder (dysthymia)',\n",
       " 'premature ventricular contractions (pvcs)',\n",
       " 'focal segmental glomerulosclerosis (fsgs)',\n",
       " 'functional neurologic disorders/conversion disorder',\n",
       " 'helicobacter pylori (h. pylori) infection',\n",
       " 'monoclonal gammopathy of undetermined significance (mgus)',\n",
       " 'orthostatic hypotension (postural hypotension)',\n",
       " 'small intestinal bacterial overgrowth (sibo)']"
      ]
     },
     "execution_count": 451,
     "metadata": {},
     "output_type": "execute_result"
    }
   ],
   "source": [
    "# like these\n",
    "data[data[\"header_len\"]>40]['header'].values.tolist()"
   ]
  },
  {
   "cell_type": "code",
   "execution_count": 452,
   "metadata": {
    "scrolled": true
   },
   "outputs": [
    {
     "name": "stdout",
     "output_type": "stream",
     "text": [
      "Coefficient: [[-0.02408413]]\n",
      "Intercept: [-0.9707755]\n"
     ]
    },
    {
     "data": {
      "image/png": "[encoded data removed]",
      "text/plain": [
       "<Figure size 432x288 with 1 Axes>"
      ]
     },
     "metadata": {
      "needs_background": "light"
     },
     "output_type": "display_data"
    }
   ],
   "source": [
    "# logistic regression of slight negative relationship between header length and top-ranking pages\n",
    "log_reg(data.header_len, data.top)"
   ]
  },
  {
   "cell_type": "markdown",
   "metadata": {},
   "source": [
    "### Meta Description Length"
   ]
  },
  {
   "cell_type": "code",
   "execution_count": 453,
   "metadata": {
    "scrolled": false
   },
   "outputs": [
    {
     "data": {
      "image/png": "[encoded data removed]",
      "text/plain": [
       "<Figure size 432x288 with 1 Axes>"
      ]
     },
     "metadata": {
      "needs_background": "light"
     },
     "output_type": "display_data"
    },
    {
     "name": "stdout",
     "output_type": "stream",
     "text": [
      "min: 0\n",
      "max: 229\n",
      "mean: 131.9260628465804\n",
      "variance: 498.3238529396175\n",
      "stan dev: 22.323168523747196\n"
     ]
    }
   ],
   "source": [
    "examine(data, \"meta_len\", 50)"
   ]
  },
  {
   "cell_type": "code",
   "execution_count": 454,
   "metadata": {},
   "outputs": [
    {
     "data": {
      "text/plain": [
       "18"
      ]
     },
     "execution_count": 454,
     "metadata": {},
     "output_type": "execute_result"
    }
   ],
   "source": [
    "len(data.loc[data[\"meta_len\"]>160]['meta_len'])"
   ]
  },
  {
   "cell_type": "markdown",
   "metadata": {},
   "source": [
    "According to Moz (https://moz.com/learn/seo/meta-description), Google usually only shows meta descriptions up to 160 characters long. The Mayo Clinic has kept all but 18 of their top-ranking Symptoms and Causes meta descriptions within this limit."
   ]
  },
  {
   "cell_type": "code",
   "execution_count": 455,
   "metadata": {},
   "outputs": [
    {
     "name": "stdout",
     "output_type": "stream",
     "text": [
      "meta_len and top :\n",
      "slope (coefficient): 0.00040\n",
      "intercept: 0.14723\n",
      "\n"
     ]
    }
   ],
   "source": [
    "# no linear relationship between length of meta description and top-ranking pages, not very surprising\n",
    "lin('meta_len', 'top')"
   ]
  },
  {
   "cell_type": "markdown",
   "metadata": {},
   "source": [
    "### Page Size (bytes)"
   ]
  },
  {
   "cell_type": "code",
   "execution_count": 456,
   "metadata": {},
   "outputs": [
    {
     "data": {
      "image/png": "[encoded data removed]",
      "text/plain": [
       "<Figure size 432x288 with 1 Axes>"
      ]
     },
     "metadata": {
      "needs_background": "light"
     },
     "output_type": "display_data"
    },
    {
     "name": "stdout",
     "output_type": "stream",
     "text": [
      "min: 38098\n",
      "max: 164386\n",
      "mean: 49309.71072088725\n",
      "variance: 55150230.49440855\n",
      "stan dev: 7426.3201179594025\n"
     ]
    }
   ],
   "source": [
    "examine(data, \"bytes\", 40)"
   ]
  },
  {
   "cell_type": "code",
   "execution_count": 457,
   "metadata": {
    "scrolled": false
   },
   "outputs": [
    {
     "data": {
      "text/html": [
       "<div>\n",
       "<style scoped>\n",
       "    .dataframe tbody tr th:only-of-type {\n",
       "        vertical-align: middle;\n",
       "    }\n",
       "\n",
       "    .dataframe tbody tr th {\n",
       "        vertical-align: top;\n",
       "    }\n",
       "\n",
       "    .dataframe thead th {\n",
       "        text-align: right;\n",
       "    }\n",
       "</style>\n",
       "<table border=\"1\" class=\"dataframe\">\n",
       "  <thead>\n",
       "    <tr style=\"text-align: right;\">\n",
       "      <th></th>\n",
       "      <th>url</th>\n",
       "      <th>header</th>\n",
       "      <th>header_len</th>\n",
       "      <th>meta</th>\n",
       "      <th>meta_len</th>\n",
       "      <th>bytes</th>\n",
       "      <th>word_count</th>\n",
       "      <th>inlinks</th>\n",
       "      <th>unique_in</th>\n",
       "      <th>outlinks</th>\n",
       "      <th>unique_out</th>\n",
       "      <th>ext_links</th>\n",
       "      <th>unique_ext</th>\n",
       "      <th>top</th>\n",
       "      <th>pub_date</th>\n",
       "    </tr>\n",
       "  </thead>\n",
       "  <tbody>\n",
       "    <tr>\n",
       "      <th>420</th>\n",
       "      <td>https://www.mayoclinic.org/diseases-conditions...</td>\n",
       "      <td>coronavirus disease 2019 (covid-19)</td>\n",
       "      <td>35</td>\n",
       "      <td>Find out about coronavirus disease 2019 (COVID...</td>\n",
       "      <td>157</td>\n",
       "      <td>164386</td>\n",
       "      <td>5194</td>\n",
       "      <td>15</td>\n",
       "      <td>7</td>\n",
       "      <td>97</td>\n",
       "      <td>62</td>\n",
       "      <td>263</td>\n",
       "      <td>240</td>\n",
       "      <td>1.0</td>\n",
       "      <td>2020-05-22</td>\n",
       "    </tr>\n",
       "  </tbody>\n",
       "</table>\n",
       "</div>"
      ],
      "text/plain": [
       "                                                   url  \\\n",
       "420  https://www.mayoclinic.org/diseases-conditions...   \n",
       "\n",
       "                                  header  header_len  \\\n",
       "420  coronavirus disease 2019 (covid-19)          35   \n",
       "\n",
       "                                                  meta  meta_len   bytes  \\\n",
       "420  Find out about coronavirus disease 2019 (COVID...       157  164386   \n",
       "\n",
       "     word_count  inlinks  unique_in  outlinks  unique_out  ext_links  \\\n",
       "420        5194       15          7        97          62        263   \n",
       "\n",
       "     unique_ext  top    pub_date  \n",
       "420         240  1.0  2020-05-22  "
      ]
     },
     "execution_count": 457,
     "metadata": {},
     "output_type": "execute_result"
    }
   ],
   "source": [
    "# the outlier is a page on COVID-19!\n",
    "data.loc[data[\"bytes\"]==164386]"
   ]
  },
  {
   "cell_type": "markdown",
   "metadata": {},
   "source": [
    "Unsurprisingly, the largest page is a page on COVID-19, to which the Mayo Clinic may well still be adding as the world continues to research the virus that has caused the current pandemic. The publication date is listed as May 21st, 2020, the current date on which this report is being written."
   ]
  },
  {
   "cell_type": "code",
   "execution_count": 458,
   "metadata": {
    "scrolled": true
   },
   "outputs": [
    {
     "data": {
      "text/html": [
       "<div>\n",
       "<style scoped>\n",
       "    .dataframe tbody tr th:only-of-type {\n",
       "        vertical-align: middle;\n",
       "    }\n",
       "\n",
       "    .dataframe tbody tr th {\n",
       "        vertical-align: top;\n",
       "    }\n",
       "\n",
       "    .dataframe thead th {\n",
       "        text-align: right;\n",
       "    }\n",
       "</style>\n",
       "<table border=\"1\" class=\"dataframe\">\n",
       "  <thead>\n",
       "    <tr style=\"text-align: right;\">\n",
       "      <th></th>\n",
       "      <th>url</th>\n",
       "      <th>header</th>\n",
       "      <th>header_len</th>\n",
       "      <th>meta</th>\n",
       "      <th>meta_len</th>\n",
       "      <th>bytes</th>\n",
       "      <th>word_count</th>\n",
       "      <th>inlinks</th>\n",
       "      <th>unique_in</th>\n",
       "      <th>outlinks</th>\n",
       "      <th>unique_out</th>\n",
       "      <th>ext_links</th>\n",
       "      <th>unique_ext</th>\n",
       "      <th>top</th>\n",
       "      <th>pub_date</th>\n",
       "    </tr>\n",
       "  </thead>\n",
       "  <tbody>\n",
       "    <tr>\n",
       "      <th>242</th>\n",
       "      <td>https://www.mayoclinic.org/diseases-conditions...</td>\n",
       "      <td>breast cancer</td>\n",
       "      <td>13</td>\n",
       "      <td>Breast cancer — Comprehensive overview covers ...</td>\n",
       "      <td>109</td>\n",
       "      <td>93906</td>\n",
       "      <td>3409</td>\n",
       "      <td>88</td>\n",
       "      <td>49</td>\n",
       "      <td>139</td>\n",
       "      <td>106</td>\n",
       "      <td>96</td>\n",
       "      <td>73</td>\n",
       "      <td>1.0</td>\n",
       "      <td>2019-11-22</td>\n",
       "    </tr>\n",
       "  </tbody>\n",
       "</table>\n",
       "</div>"
      ],
      "text/plain": [
       "                                                   url         header  \\\n",
       "242  https://www.mayoclinic.org/diseases-conditions...  breast cancer   \n",
       "\n",
       "     header_len                                               meta  meta_len  \\\n",
       "242          13  Breast cancer — Comprehensive overview covers ...       109   \n",
       "\n",
       "     bytes  word_count  inlinks  unique_in  outlinks  unique_out  ext_links  \\\n",
       "242  93906        3409       88         49       139         106         96   \n",
       "\n",
       "     unique_ext  top    pub_date  \n",
       "242          73  1.0  2019-11-22  "
      ]
     },
     "execution_count": 458,
     "metadata": {},
     "output_type": "execute_result"
    }
   ],
   "source": [
    "without = data.loc[data[\"bytes\"]<164386]\n",
    "data.loc[data.bytes == without['bytes'].max()]"
   ]
  },
  {
   "cell_type": "markdown",
   "metadata": {},
   "source": [
    "The next largest page after the one on Coronavirus is one about Breast Cancer, and it is 70480 fewer bytes in size, about 72 MB. The page on COVID-19 is substantially larger in size.\n",
    "\n",
    "When we exclude the size of the coronavirus page, there is a clear trend between the other less substantial outliers:"
   ]
  },
  {
   "cell_type": "code",
   "execution_count": 459,
   "metadata": {},
   "outputs": [
    {
     "data": {
      "image/png": "[encoded data removed]",
      "text/plain": [
       "<Figure size 432x288 with 1 Axes>"
      ]
     },
     "metadata": {
      "needs_background": "light"
     },
     "output_type": "display_data"
    }
   ],
   "source": [
    "exclude(data, 'bytes', 38000, 100000, 40)"
   ]
  },
  {
   "cell_type": "code",
   "execution_count": 460,
   "metadata": {
    "scrolled": false
   },
   "outputs": [
    {
     "data": {
      "text/html": [
       "<div>\n",
       "<style scoped>\n",
       "    .dataframe tbody tr th:only-of-type {\n",
       "        vertical-align: middle;\n",
       "    }\n",
       "\n",
       "    .dataframe tbody tr th {\n",
       "        vertical-align: top;\n",
       "    }\n",
       "\n",
       "    .dataframe thead th {\n",
       "        text-align: right;\n",
       "    }\n",
       "</style>\n",
       "<table border=\"1\" class=\"dataframe\">\n",
       "  <thead>\n",
       "    <tr style=\"text-align: right;\">\n",
       "      <th></th>\n",
       "      <th>url</th>\n",
       "      <th>header</th>\n",
       "      <th>header_len</th>\n",
       "      <th>meta</th>\n",
       "      <th>meta_len</th>\n",
       "      <th>bytes</th>\n",
       "      <th>word_count</th>\n",
       "      <th>inlinks</th>\n",
       "      <th>unique_in</th>\n",
       "      <th>outlinks</th>\n",
       "      <th>unique_out</th>\n",
       "      <th>ext_links</th>\n",
       "      <th>unique_ext</th>\n",
       "      <th>top</th>\n",
       "      <th>pub_date</th>\n",
       "    </tr>\n",
       "  </thead>\n",
       "  <tbody>\n",
       "    <tr>\n",
       "      <th>78</th>\n",
       "      <td>https://www.mayoclinic.org/diseases-conditions...</td>\n",
       "      <td>alzheimer's disease</td>\n",
       "      <td>19</td>\n",
       "      <td>Alzheimer's disease causes a progressive loss ...</td>\n",
       "      <td>128</td>\n",
       "      <td>91009</td>\n",
       "      <td>3572</td>\n",
       "      <td>15</td>\n",
       "      <td>7</td>\n",
       "      <td>127</td>\n",
       "      <td>85</td>\n",
       "      <td>97</td>\n",
       "      <td>73</td>\n",
       "      <td>1.0</td>\n",
       "      <td>2018-12-08</td>\n",
       "    </tr>\n",
       "    <tr>\n",
       "      <th>220</th>\n",
       "      <td>https://www.mayoclinic.org/diseases-conditions...</td>\n",
       "      <td>high blood pressure (hypertension)</td>\n",
       "      <td>34</td>\n",
       "      <td>Learn about the symptoms, treatment and preven...</td>\n",
       "      <td>142</td>\n",
       "      <td>83830</td>\n",
       "      <td>3147</td>\n",
       "      <td>9</td>\n",
       "      <td>3</td>\n",
       "      <td>131</td>\n",
       "      <td>92</td>\n",
       "      <td>85</td>\n",
       "      <td>58</td>\n",
       "      <td>1.0</td>\n",
       "      <td>2018-05-12</td>\n",
       "    </tr>\n",
       "    <tr>\n",
       "      <th>242</th>\n",
       "      <td>https://www.mayoclinic.org/diseases-conditions...</td>\n",
       "      <td>breast cancer</td>\n",
       "      <td>13</td>\n",
       "      <td>Breast cancer — Comprehensive overview covers ...</td>\n",
       "      <td>109</td>\n",
       "      <td>93906</td>\n",
       "      <td>3409</td>\n",
       "      <td>88</td>\n",
       "      <td>49</td>\n",
       "      <td>139</td>\n",
       "      <td>106</td>\n",
       "      <td>96</td>\n",
       "      <td>73</td>\n",
       "      <td>1.0</td>\n",
       "      <td>2019-11-22</td>\n",
       "    </tr>\n",
       "    <tr>\n",
       "      <th>276</th>\n",
       "      <td>https://www.mayoclinic.org/diseases-conditions...</td>\n",
       "      <td>cancer</td>\n",
       "      <td>6</td>\n",
       "      <td>Find out the basics about cancer, including sy...</td>\n",
       "      <td>120</td>\n",
       "      <td>93326</td>\n",
       "      <td>3532</td>\n",
       "      <td>26</td>\n",
       "      <td>21</td>\n",
       "      <td>130</td>\n",
       "      <td>99</td>\n",
       "      <td>104</td>\n",
       "      <td>80</td>\n",
       "      <td>1.0</td>\n",
       "      <td>2018-12-12</td>\n",
       "    </tr>\n",
       "    <tr>\n",
       "      <th>329</th>\n",
       "      <td>https://www.mayoclinic.org/diseases-conditions...</td>\n",
       "      <td>heart disease</td>\n",
       "      <td>13</td>\n",
       "      <td>Learn about symptoms, causes and treatment of ...</td>\n",
       "      <td>132</td>\n",
       "      <td>93732</td>\n",
       "      <td>4052</td>\n",
       "      <td>39</td>\n",
       "      <td>26</td>\n",
       "      <td>130</td>\n",
       "      <td>88</td>\n",
       "      <td>88</td>\n",
       "      <td>64</td>\n",
       "      <td>1.0</td>\n",
       "      <td>2018-03-22</td>\n",
       "    </tr>\n",
       "  </tbody>\n",
       "</table>\n",
       "</div>"
      ],
      "text/plain": [
       "                                                   url  \\\n",
       "78   https://www.mayoclinic.org/diseases-conditions...   \n",
       "220  https://www.mayoclinic.org/diseases-conditions...   \n",
       "242  https://www.mayoclinic.org/diseases-conditions...   \n",
       "276  https://www.mayoclinic.org/diseases-conditions...   \n",
       "329  https://www.mayoclinic.org/diseases-conditions...   \n",
       "\n",
       "                                 header  header_len  \\\n",
       "78                  alzheimer's disease          19   \n",
       "220  high blood pressure (hypertension)          34   \n",
       "242                       breast cancer          13   \n",
       "276                              cancer           6   \n",
       "329                       heart disease          13   \n",
       "\n",
       "                                                  meta  meta_len  bytes  \\\n",
       "78   Alzheimer's disease causes a progressive loss ...       128  91009   \n",
       "220  Learn about the symptoms, treatment and preven...       142  83830   \n",
       "242  Breast cancer — Comprehensive overview covers ...       109  93906   \n",
       "276  Find out the basics about cancer, including sy...       120  93326   \n",
       "329  Learn about symptoms, causes and treatment of ...       132  93732   \n",
       "\n",
       "     word_count  inlinks  unique_in  outlinks  unique_out  ext_links  \\\n",
       "78         3572       15          7       127          85         97   \n",
       "220        3147        9          3       131          92         85   \n",
       "242        3409       88         49       139         106         96   \n",
       "276        3532       26         21       130          99        104   \n",
       "329        4052       39         26       130          88         88   \n",
       "\n",
       "     unique_ext  top    pub_date  \n",
       "78           73  1.0  2018-12-08  \n",
       "220          58  1.0  2018-05-12  \n",
       "242          73  1.0  2019-11-22  \n",
       "276          80  1.0  2018-12-12  \n",
       "329          64  1.0  2018-03-22  "
      ]
     },
     "execution_count": 460,
     "metadata": {},
     "output_type": "execute_result"
    }
   ],
   "source": [
    "without.loc[without.bytes>80000]"
   ]
  },
  {
   "cell_type": "markdown",
   "metadata": {},
   "source": [
    "These larger pages are all about more commonly diagnosed conditions with various forms."
   ]
  },
  {
   "cell_type": "code",
   "execution_count": 461,
   "metadata": {
    "scrolled": true
   },
   "outputs": [
    {
     "data": {
      "image/png": "[encoded data removed]",
      "text/plain": [
       "<Figure size 432x288 with 1 Axes>"
      ]
     },
     "metadata": {
      "needs_background": "light"
     },
     "output_type": "display_data"
    },
    {
     "name": "stdout",
     "output_type": "stream",
     "text": [
      "Covariance: 1163.81543\n",
      "Pearson Correlation Coefficient: 0.39188\n",
      "Spearman Correlation Coefficient: 0.36918\n"
     ]
    }
   ],
   "source": [
    "# a little bit of positive correlation, due to outlier of large coronavirus page, but not significant\n",
    "relate(data.bytes, data.top)"
   ]
  },
  {
   "cell_type": "code",
   "execution_count": 462,
   "metadata": {},
   "outputs": [
    {
     "data": {
      "image/png": "[encoded data removed]",
      "text/plain": [
       "<Figure size 432x288 with 1 Axes>"
      ]
     },
     "metadata": {
      "needs_background": "light"
     },
     "output_type": "display_data"
    },
    {
     "name": "stdout",
     "output_type": "stream",
     "text": [
      "Covariance: 1079.53306\n",
      "Pearson Correlation Coefficient: 0.41258\n",
      "Spearman Correlation Coefficient: 0.36716\n"
     ]
    }
   ],
   "source": [
    "# removing outlier, more positive correlation, still may not be significant\n",
    "relate(without.bytes, without.top)"
   ]
  },
  {
   "cell_type": "code",
   "execution_count": 463,
   "metadata": {},
   "outputs": [
    {
     "data": {
      "image/png": "[encoded data removed]",
      "text/plain": [
       "<Figure size 432x288 with 1 Axes>"
      ]
     },
     "metadata": {
      "needs_background": "light"
     },
     "output_type": "display_data"
    },
    {
     "name": "stdout",
     "output_type": "stream",
     "text": [
      "Covariance: 3038495.20639\n",
      "Pearson Correlation Coefficient: 0.85714\n",
      "Spearman Correlation Coefficient: 0.87889\n"
     ]
    }
   ],
   "source": [
    "# word count and page size positively correlated\n",
    "relate(data.word_count, data.bytes)"
   ]
  },
  {
   "cell_type": "code",
   "execution_count": 464,
   "metadata": {},
   "outputs": [
    {
     "name": "stdout",
     "output_type": "stream",
     "text": [
      "word_count and bytes :\n",
      "slope (coefficient): 13.33484\n",
      "intercept: 27034.20984\n",
      "\n"
     ]
    }
   ],
   "source": [
    "lin('word_count', 'bytes')"
   ]
  },
  {
   "cell_type": "markdown",
   "metadata": {},
   "source": [
    "### Word Count"
   ]
  },
  {
   "cell_type": "code",
   "execution_count": 465,
   "metadata": {},
   "outputs": [
    {
     "data": {
      "image/png": "[encoded data removed]",
      "text/plain": [
       "<Figure size 432x288 with 1 Axes>"
      ]
     },
     "metadata": {
      "needs_background": "light"
     },
     "output_type": "display_data"
    },
    {
     "name": "stdout",
     "output_type": "stream",
     "text": [
      "min: 768\n",
      "max: 5194\n",
      "mean: 1670.4731977818853\n",
      "variance: 227861.3096417536\n",
      "stan dev: 477.34820586418215\n"
     ]
    }
   ],
   "source": [
    "examine(data, \"word_count\", 50)"
   ]
  },
  {
   "cell_type": "markdown",
   "metadata": {},
   "source": [
    "Word count is a little more difficult to analyze in terms of SEO. Web pages should not be too thin, and should include good \"anchor content\" unique to the page and the subject, but lots of content does not necessarily mean that it is of good quality. There is a general consensus in the SEO world that a word count of around 1500 is average for high-ranking pages, though the suggested amount of content varies for different kinds of web pages (such as a blog versus a healthcare education page). The Mayo Clinic's average word count is 1655 for their Symptoms and Causes pages, but we can see from the histogram that there appear to be some outliers affecting that number."
   ]
  },
  {
   "cell_type": "code",
   "execution_count": 466,
   "metadata": {
    "scrolled": false
   },
   "outputs": [
    {
     "data": {
      "text/html": [
       "<div>\n",
       "<style scoped>\n",
       "    .dataframe tbody tr th:only-of-type {\n",
       "        vertical-align: middle;\n",
       "    }\n",
       "\n",
       "    .dataframe tbody tr th {\n",
       "        vertical-align: top;\n",
       "    }\n",
       "\n",
       "    .dataframe thead th {\n",
       "        text-align: right;\n",
       "    }\n",
       "</style>\n",
       "<table border=\"1\" class=\"dataframe\">\n",
       "  <thead>\n",
       "    <tr style=\"text-align: right;\">\n",
       "      <th></th>\n",
       "      <th>url</th>\n",
       "      <th>header</th>\n",
       "      <th>header_len</th>\n",
       "      <th>meta</th>\n",
       "      <th>meta_len</th>\n",
       "      <th>bytes</th>\n",
       "      <th>word_count</th>\n",
       "      <th>inlinks</th>\n",
       "      <th>unique_in</th>\n",
       "      <th>outlinks</th>\n",
       "      <th>unique_out</th>\n",
       "      <th>ext_links</th>\n",
       "      <th>unique_ext</th>\n",
       "      <th>top</th>\n",
       "      <th>pub_date</th>\n",
       "    </tr>\n",
       "  </thead>\n",
       "  <tbody>\n",
       "    <tr>\n",
       "      <th>420</th>\n",
       "      <td>https://www.mayoclinic.org/diseases-conditions...</td>\n",
       "      <td>coronavirus disease 2019 (covid-19)</td>\n",
       "      <td>35</td>\n",
       "      <td>Find out about coronavirus disease 2019 (COVID...</td>\n",
       "      <td>157</td>\n",
       "      <td>164386</td>\n",
       "      <td>5194</td>\n",
       "      <td>15</td>\n",
       "      <td>7</td>\n",
       "      <td>97</td>\n",
       "      <td>62</td>\n",
       "      <td>263</td>\n",
       "      <td>240</td>\n",
       "      <td>1.0</td>\n",
       "      <td>2020-05-22</td>\n",
       "    </tr>\n",
       "  </tbody>\n",
       "</table>\n",
       "</div>"
      ],
      "text/plain": [
       "                                                   url  \\\n",
       "420  https://www.mayoclinic.org/diseases-conditions...   \n",
       "\n",
       "                                  header  header_len  \\\n",
       "420  coronavirus disease 2019 (covid-19)          35   \n",
       "\n",
       "                                                  meta  meta_len   bytes  \\\n",
       "420  Find out about coronavirus disease 2019 (COVID...       157  164386   \n",
       "\n",
       "     word_count  inlinks  unique_in  outlinks  unique_out  ext_links  \\\n",
       "420        5194       15          7        97          62        263   \n",
       "\n",
       "     unique_ext  top    pub_date  \n",
       "420         240  1.0  2020-05-22  "
      ]
     },
     "execution_count": 466,
     "metadata": {},
     "output_type": "execute_result"
    }
   ],
   "source": [
    "# unsurprisingly, coronavirus again\n",
    "data.loc[data[\"word_count\"]==5194]"
   ]
  },
  {
   "cell_type": "code",
   "execution_count": 467,
   "metadata": {
    "scrolled": true
   },
   "outputs": [
    {
     "data": {
      "image/png": "[encoded data removed]",
      "text/plain": [
       "<Figure size 432x288 with 1 Axes>"
      ]
     },
     "metadata": {
      "needs_background": "light"
     },
     "output_type": "display_data"
    }
   ],
   "source": [
    "exclude(data, 'word_count', 1000, 4000, 50)"
   ]
  },
  {
   "cell_type": "code",
   "execution_count": 468,
   "metadata": {
    "scrolled": true
   },
   "outputs": [
    {
     "data": {
      "text/html": [
       "<div>\n",
       "<style scoped>\n",
       "    .dataframe tbody tr th:only-of-type {\n",
       "        vertical-align: middle;\n",
       "    }\n",
       "\n",
       "    .dataframe tbody tr th {\n",
       "        vertical-align: top;\n",
       "    }\n",
       "\n",
       "    .dataframe thead th {\n",
       "        text-align: right;\n",
       "    }\n",
       "</style>\n",
       "<table border=\"1\" class=\"dataframe\">\n",
       "  <thead>\n",
       "    <tr style=\"text-align: right;\">\n",
       "      <th></th>\n",
       "      <th>url</th>\n",
       "      <th>header</th>\n",
       "      <th>header_len</th>\n",
       "      <th>meta</th>\n",
       "      <th>meta_len</th>\n",
       "      <th>bytes</th>\n",
       "      <th>word_count</th>\n",
       "      <th>inlinks</th>\n",
       "      <th>unique_in</th>\n",
       "      <th>outlinks</th>\n",
       "      <th>unique_out</th>\n",
       "      <th>ext_links</th>\n",
       "      <th>unique_ext</th>\n",
       "      <th>top</th>\n",
       "      <th>pub_date</th>\n",
       "    </tr>\n",
       "  </thead>\n",
       "  <tbody>\n",
       "    <tr>\n",
       "      <th>30</th>\n",
       "      <td>https://www.mayoclinic.org/diseases-conditions...</td>\n",
       "      <td>drug addiction (substance use disorder)</td>\n",
       "      <td>39</td>\n",
       "      <td>With drug addiction (substance use disorder), ...</td>\n",
       "      <td>160</td>\n",
       "      <td>70000</td>\n",
       "      <td>4308</td>\n",
       "      <td>10</td>\n",
       "      <td>5</td>\n",
       "      <td>74</td>\n",
       "      <td>46</td>\n",
       "      <td>69</td>\n",
       "      <td>46</td>\n",
       "      <td>1.0</td>\n",
       "      <td>2017-10-26</td>\n",
       "    </tr>\n",
       "    <tr>\n",
       "      <th>329</th>\n",
       "      <td>https://www.mayoclinic.org/diseases-conditions...</td>\n",
       "      <td>heart disease</td>\n",
       "      <td>13</td>\n",
       "      <td>Learn about symptoms, causes and treatment of ...</td>\n",
       "      <td>132</td>\n",
       "      <td>93732</td>\n",
       "      <td>4052</td>\n",
       "      <td>39</td>\n",
       "      <td>26</td>\n",
       "      <td>130</td>\n",
       "      <td>88</td>\n",
       "      <td>88</td>\n",
       "      <td>64</td>\n",
       "      <td>1.0</td>\n",
       "      <td>2018-03-22</td>\n",
       "    </tr>\n",
       "    <tr>\n",
       "      <th>420</th>\n",
       "      <td>https://www.mayoclinic.org/diseases-conditions...</td>\n",
       "      <td>coronavirus disease 2019 (covid-19)</td>\n",
       "      <td>35</td>\n",
       "      <td>Find out about coronavirus disease 2019 (COVID...</td>\n",
       "      <td>157</td>\n",
       "      <td>164386</td>\n",
       "      <td>5194</td>\n",
       "      <td>15</td>\n",
       "      <td>7</td>\n",
       "      <td>97</td>\n",
       "      <td>62</td>\n",
       "      <td>263</td>\n",
       "      <td>240</td>\n",
       "      <td>1.0</td>\n",
       "      <td>2020-05-22</td>\n",
       "    </tr>\n",
       "  </tbody>\n",
       "</table>\n",
       "</div>"
      ],
      "text/plain": [
       "                                                   url  \\\n",
       "30   https://www.mayoclinic.org/diseases-conditions...   \n",
       "329  https://www.mayoclinic.org/diseases-conditions...   \n",
       "420  https://www.mayoclinic.org/diseases-conditions...   \n",
       "\n",
       "                                      header  header_len  \\\n",
       "30   drug addiction (substance use disorder)          39   \n",
       "329                            heart disease          13   \n",
       "420      coronavirus disease 2019 (covid-19)          35   \n",
       "\n",
       "                                                  meta  meta_len   bytes  \\\n",
       "30   With drug addiction (substance use disorder), ...       160   70000   \n",
       "329  Learn about symptoms, causes and treatment of ...       132   93732   \n",
       "420  Find out about coronavirus disease 2019 (COVID...       157  164386   \n",
       "\n",
       "     word_count  inlinks  unique_in  outlinks  unique_out  ext_links  \\\n",
       "30         4308       10          5        74          46         69   \n",
       "329        4052       39         26       130          88         88   \n",
       "420        5194       15          7        97          62        263   \n",
       "\n",
       "     unique_ext  top    pub_date  \n",
       "30           46  1.0  2017-10-26  \n",
       "329          64  1.0  2018-03-22  \n",
       "420         240  1.0  2020-05-22  "
      ]
     },
     "execution_count": 468,
     "metadata": {},
     "output_type": "execute_result"
    }
   ],
   "source": [
    "# other pages with word count far above average\n",
    "data.loc[data[\"word_count\"]>4000]"
   ]
  },
  {
   "cell_type": "markdown",
   "metadata": {},
   "source": [
    "The pages besides coronavirus with high word count are heart disease and substace abuse disorder. Both are relatively common conditions, and both describe a range of conditions, explaining the need for more words."
   ]
  },
  {
   "cell_type": "code",
   "execution_count": 469,
   "metadata": {
    "scrolled": true
   },
   "outputs": [
    {
     "data": {
      "image/png": "[encoded data removed]",
      "text/plain": [
       "<Figure size 432x288 with 1 Axes>"
      ]
     },
     "metadata": {
      "needs_background": "light"
     },
     "output_type": "display_data"
    },
    {
     "name": "stdout",
     "output_type": "stream",
     "text": [
      "Covariance: 75.90175\n",
      "Pearson Correlation Coefficient: 0.39761\n",
      "Spearman Correlation Coefficient: 0.36551\n"
     ]
    }
   ],
   "source": [
    "# word count and page rank are positively correlated, but not significantly so\n",
    "relate(data.word_count, data.top)"
   ]
  },
  {
   "cell_type": "code",
   "execution_count": 470,
   "metadata": {
    "scrolled": true
   },
   "outputs": [
    {
     "name": "stdout",
     "output_type": "stream",
     "text": [
      "Coefficient: [[0.00213292]]\n",
      "Intercept: [-5.17393072]\n"
     ]
    },
    {
     "data": {
      "image/png": "[encoded data removed]",
      "text/plain": [
       "<Figure size 432x288 with 1 Axes>"
      ]
     },
     "metadata": {
      "needs_background": "light"
     },
     "output_type": "display_data"
    }
   ],
   "source": [
    "# effect of word count on top rank near 0\n",
    "log_reg(data.word_count, data.top)"
   ]
  },
  {
   "cell_type": "markdown",
   "metadata": {},
   "source": [
    "### Inlinks\n",
    "*Number of links to this page on the Mayo Clinic domain.*"
   ]
  },
  {
   "cell_type": "code",
   "execution_count": 471,
   "metadata": {},
   "outputs": [
    {
     "data": {
      "image/png": "[encoded data removed]",
      "text/plain": [
       "<Figure size 432x288 with 1 Axes>"
      ]
     },
     "metadata": {
      "needs_background": "light"
     },
     "output_type": "display_data"
    },
    {
     "name": "stdout",
     "output_type": "stream",
     "text": [
      "min: 7\n",
      "max: 88\n",
      "mean: 12.5452865064695\n",
      "variance: 45.659834376672514\n",
      "stan dev: 6.757206107310366\n"
     ]
    }
   ],
   "source": [
    "examine(data, \"inlinks\", 30)"
   ]
  },
  {
   "cell_type": "markdown",
   "metadata": {},
   "source": [
    "Most Symptoms and Causes pages on the Mayo Clinic site seem to have around 10 other Mayo Clinic pages linking to them. These would likely be related conditions and the Diagnosis and Treatment, Doctors and Departments, and Care at Mayo Clinic pages for the condition, as well as the index page the condition is listed under and any other related page on the website that for which linking to a Symptoms and Causes page would make sense."
   ]
  },
  {
   "cell_type": "code",
   "execution_count": 472,
   "metadata": {
    "scrolled": true
   },
   "outputs": [
    {
     "data": {
      "text/html": [
       "<div>\n",
       "<style scoped>\n",
       "    .dataframe tbody tr th:only-of-type {\n",
       "        vertical-align: middle;\n",
       "    }\n",
       "\n",
       "    .dataframe tbody tr th {\n",
       "        vertical-align: top;\n",
       "    }\n",
       "\n",
       "    .dataframe thead th {\n",
       "        text-align: right;\n",
       "    }\n",
       "</style>\n",
       "<table border=\"1\" class=\"dataframe\">\n",
       "  <thead>\n",
       "    <tr style=\"text-align: right;\">\n",
       "      <th></th>\n",
       "      <th>url</th>\n",
       "      <th>header</th>\n",
       "      <th>header_len</th>\n",
       "      <th>meta</th>\n",
       "      <th>meta_len</th>\n",
       "      <th>bytes</th>\n",
       "      <th>word_count</th>\n",
       "      <th>inlinks</th>\n",
       "      <th>unique_in</th>\n",
       "      <th>outlinks</th>\n",
       "      <th>unique_out</th>\n",
       "      <th>ext_links</th>\n",
       "      <th>unique_ext</th>\n",
       "      <th>top</th>\n",
       "      <th>pub_date</th>\n",
       "    </tr>\n",
       "  </thead>\n",
       "  <tbody>\n",
       "    <tr>\n",
       "      <th>242</th>\n",
       "      <td>https://www.mayoclinic.org/diseases-conditions...</td>\n",
       "      <td>breast cancer</td>\n",
       "      <td>13</td>\n",
       "      <td>Breast cancer — Comprehensive overview covers ...</td>\n",
       "      <td>109</td>\n",
       "      <td>93906</td>\n",
       "      <td>3409</td>\n",
       "      <td>88</td>\n",
       "      <td>49</td>\n",
       "      <td>139</td>\n",
       "      <td>106</td>\n",
       "      <td>96</td>\n",
       "      <td>73</td>\n",
       "      <td>1.0</td>\n",
       "      <td>2019-11-22</td>\n",
       "    </tr>\n",
       "  </tbody>\n",
       "</table>\n",
       "</div>"
      ],
      "text/plain": [
       "                                                   url         header  \\\n",
       "242  https://www.mayoclinic.org/diseases-conditions...  breast cancer   \n",
       "\n",
       "     header_len                                               meta  meta_len  \\\n",
       "242          13  Breast cancer — Comprehensive overview covers ...       109   \n",
       "\n",
       "     bytes  word_count  inlinks  unique_in  outlinks  unique_out  ext_links  \\\n",
       "242  93906        3409       88         49       139         106         96   \n",
       "\n",
       "     unique_ext  top    pub_date  \n",
       "242          73  1.0  2019-11-22  "
      ]
     },
     "execution_count": 472,
     "metadata": {},
     "output_type": "execute_result"
    }
   ],
   "source": [
    "data[data.inlinks>60]"
   ]
  },
  {
   "cell_type": "markdown",
   "metadata": {},
   "source": [
    "It's interesting that breast cancer is the page with the most internal inlinks of those that I am examining. There are several types of breast cancer as well as conditions that can lead to breast cancer, and of course there are also many other kinds of cancer. It is possible that such pages link between one another on the Mayo Clinic domain."
   ]
  },
  {
   "cell_type": "code",
   "execution_count": 473,
   "metadata": {
    "scrolled": true
   },
   "outputs": [
    {
     "data": {
      "text/html": [
       "<div>\n",
       "<style scoped>\n",
       "    .dataframe tbody tr th:only-of-type {\n",
       "        vertical-align: middle;\n",
       "    }\n",
       "\n",
       "    .dataframe tbody tr th {\n",
       "        vertical-align: top;\n",
       "    }\n",
       "\n",
       "    .dataframe thead th {\n",
       "        text-align: right;\n",
       "    }\n",
       "</style>\n",
       "<table border=\"1\" class=\"dataframe\">\n",
       "  <thead>\n",
       "    <tr style=\"text-align: right;\">\n",
       "      <th></th>\n",
       "      <th>url</th>\n",
       "      <th>header</th>\n",
       "      <th>header_len</th>\n",
       "      <th>meta</th>\n",
       "      <th>meta_len</th>\n",
       "      <th>bytes</th>\n",
       "      <th>word_count</th>\n",
       "      <th>inlinks</th>\n",
       "      <th>unique_in</th>\n",
       "      <th>outlinks</th>\n",
       "      <th>unique_out</th>\n",
       "      <th>ext_links</th>\n",
       "      <th>unique_ext</th>\n",
       "      <th>top</th>\n",
       "      <th>pub_date</th>\n",
       "    </tr>\n",
       "  </thead>\n",
       "  <tbody>\n",
       "    <tr>\n",
       "      <th>141</th>\n",
       "      <td>https://www.mayoclinic.org/diseases-conditions...</td>\n",
       "      <td>heart arrhythmia</td>\n",
       "      <td>16</td>\n",
       "      <td>Learn about common heart disorders that can ca...</td>\n",
       "      <td>103</td>\n",
       "      <td>68502</td>\n",
       "      <td>3397</td>\n",
       "      <td>54</td>\n",
       "      <td>34</td>\n",
       "      <td>94</td>\n",
       "      <td>65</td>\n",
       "      <td>67</td>\n",
       "      <td>45</td>\n",
       "      <td>1.0</td>\n",
       "      <td>2019-11-19</td>\n",
       "    </tr>\n",
       "    <tr>\n",
       "      <th>240</th>\n",
       "      <td>https://www.mayoclinic.org/diseases-conditions...</td>\n",
       "      <td>brain tumor</td>\n",
       "      <td>11</td>\n",
       "      <td>Find out more about the different brain tumor ...</td>\n",
       "      <td>122</td>\n",
       "      <td>60423</td>\n",
       "      <td>2007</td>\n",
       "      <td>57</td>\n",
       "      <td>31</td>\n",
       "      <td>105</td>\n",
       "      <td>77</td>\n",
       "      <td>70</td>\n",
       "      <td>48</td>\n",
       "      <td>0.0</td>\n",
       "      <td>2019-04-27</td>\n",
       "    </tr>\n",
       "    <tr>\n",
       "      <th>242</th>\n",
       "      <td>https://www.mayoclinic.org/diseases-conditions...</td>\n",
       "      <td>breast cancer</td>\n",
       "      <td>13</td>\n",
       "      <td>Breast cancer — Comprehensive overview covers ...</td>\n",
       "      <td>109</td>\n",
       "      <td>93906</td>\n",
       "      <td>3409</td>\n",
       "      <td>88</td>\n",
       "      <td>49</td>\n",
       "      <td>139</td>\n",
       "      <td>106</td>\n",
       "      <td>96</td>\n",
       "      <td>73</td>\n",
       "      <td>1.0</td>\n",
       "      <td>2019-11-22</td>\n",
       "    </tr>\n",
       "    <tr>\n",
       "      <th>409</th>\n",
       "      <td>https://www.mayoclinic.org/diseases-conditions...</td>\n",
       "      <td>congenital heart disease in adults</td>\n",
       "      <td>34</td>\n",
       "      <td>Learn about treatments and complications of he...</td>\n",
       "      <td>114</td>\n",
       "      <td>60740</td>\n",
       "      <td>2005</td>\n",
       "      <td>53</td>\n",
       "      <td>29</td>\n",
       "      <td>112</td>\n",
       "      <td>83</td>\n",
       "      <td>70</td>\n",
       "      <td>48</td>\n",
       "      <td>0.0</td>\n",
       "      <td>2020-05-14</td>\n",
       "    </tr>\n",
       "  </tbody>\n",
       "</table>\n",
       "</div>"
      ],
      "text/plain": [
       "                                                   url  \\\n",
       "141  https://www.mayoclinic.org/diseases-conditions...   \n",
       "240  https://www.mayoclinic.org/diseases-conditions...   \n",
       "242  https://www.mayoclinic.org/diseases-conditions...   \n",
       "409  https://www.mayoclinic.org/diseases-conditions...   \n",
       "\n",
       "                                 header  header_len  \\\n",
       "141                    heart arrhythmia          16   \n",
       "240                         brain tumor          11   \n",
       "242                       breast cancer          13   \n",
       "409  congenital heart disease in adults          34   \n",
       "\n",
       "                                                  meta  meta_len  bytes  \\\n",
       "141  Learn about common heart disorders that can ca...       103  68502   \n",
       "240  Find out more about the different brain tumor ...       122  60423   \n",
       "242  Breast cancer — Comprehensive overview covers ...       109  93906   \n",
       "409  Learn about treatments and complications of he...       114  60740   \n",
       "\n",
       "     word_count  inlinks  unique_in  outlinks  unique_out  ext_links  \\\n",
       "141        3397       54         34        94          65         67   \n",
       "240        2007       57         31       105          77         70   \n",
       "242        3409       88         49       139         106         96   \n",
       "409        2005       53         29       112          83         70   \n",
       "\n",
       "     unique_ext  top    pub_date  \n",
       "141          45  1.0  2019-11-19  \n",
       "240          48  0.0  2019-04-27  \n",
       "242          73  1.0  2019-11-22  \n",
       "409          48  0.0  2020-05-14  "
      ]
     },
     "execution_count": 473,
     "metadata": {},
     "output_type": "execute_result"
    }
   ],
   "source": [
    "data[data.inlinks>50]"
   ]
  },
  {
   "cell_type": "code",
   "execution_count": 474,
   "metadata": {},
   "outputs": [
    {
     "data": {
      "image/png": "[encoded data removed]",
      "text/plain": [
       "<Figure size 432x288 with 1 Axes>"
      ]
     },
     "metadata": {
      "needs_background": "light"
     },
     "output_type": "display_data"
    },
    {
     "name": "stdout",
     "output_type": "stream",
     "text": [
      "Covariance: 0.08993\n",
      "Pearson Correlation Coefficient: 0.03328\n",
      "Spearman Correlation Coefficient: 0.03072\n"
     ]
    }
   ],
   "source": [
    "# little correlation between inlinks and page authority\n",
    "relate(data.inlinks, data.top)"
   ]
  },
  {
   "cell_type": "markdown",
   "metadata": {},
   "source": [
    "### Unique Inlinks\n",
    "*Number of links to this page on the Mayo Clinic domain with links from the same page counted only once.*"
   ]
  },
  {
   "cell_type": "code",
   "execution_count": 475,
   "metadata": {
    "scrolled": false
   },
   "outputs": [
    {
     "data": {
      "image/png": "[encoded data removed]",
      "text/plain": [
       "<Figure size 432x288 with 1 Axes>"
      ]
     },
     "metadata": {
      "needs_background": "light"
     },
     "output_type": "display_data"
    },
    {
     "name": "stdout",
     "output_type": "stream",
     "text": [
      "min: 2\n",
      "max: 49\n",
      "mean: 5.779112754158965\n",
      "variance: 20.725446760632735\n",
      "stan dev: 4.552520923689724\n"
     ]
    }
   ],
   "source": [
    "examine(data, \"unique_in\", 30)"
   ]
  },
  {
   "cell_type": "markdown",
   "metadata": {},
   "source": [
    "This data largely resembles the total inlinks, except on a smaller scale."
   ]
  },
  {
   "cell_type": "code",
   "execution_count": 476,
   "metadata": {
    "scrolled": false
   },
   "outputs": [
    {
     "data": {
      "image/png": "[encoded data removed]",
      "text/plain": [
       "<Figure size 432x288 with 1 Axes>"
      ]
     },
     "metadata": {
      "needs_background": "light"
     },
     "output_type": "display_data"
    },
    {
     "name": "stdout",
     "output_type": "stream",
     "text": [
      "Covariance: 29.87912\n",
      "Pearson Correlation Coefficient: 0.97129\n",
      "Spearman Correlation Coefficient: 0.96545\n"
     ]
    }
   ],
   "source": [
    "# very positively correlated\n",
    "relate(data.inlinks, data.unique_in)"
   ]
  },
  {
   "cell_type": "code",
   "execution_count": 477,
   "metadata": {},
   "outputs": [
    {
     "name": "stdout",
     "output_type": "stream",
     "text": [
      "inlinks and unique_in :\n",
      "slope (coefficient): 0.65439\n",
      "intercept: -2.43034\n",
      "\n"
     ]
    }
   ],
   "source": [
    "# linear model is a good fit\n",
    "lin(\"inlinks\", \"unique_in\")"
   ]
  },
  {
   "cell_type": "code",
   "execution_count": 478,
   "metadata": {},
   "outputs": [
    {
     "data": {
      "text/html": [
       "<div>\n",
       "<style scoped>\n",
       "    .dataframe tbody tr th:only-of-type {\n",
       "        vertical-align: middle;\n",
       "    }\n",
       "\n",
       "    .dataframe tbody tr th {\n",
       "        vertical-align: top;\n",
       "    }\n",
       "\n",
       "    .dataframe thead th {\n",
       "        text-align: right;\n",
       "    }\n",
       "</style>\n",
       "<table border=\"1\" class=\"dataframe\">\n",
       "  <thead>\n",
       "    <tr style=\"text-align: right;\">\n",
       "      <th></th>\n",
       "      <th>url</th>\n",
       "      <th>header</th>\n",
       "      <th>header_len</th>\n",
       "      <th>meta</th>\n",
       "      <th>meta_len</th>\n",
       "      <th>bytes</th>\n",
       "      <th>word_count</th>\n",
       "      <th>inlinks</th>\n",
       "      <th>unique_in</th>\n",
       "      <th>outlinks</th>\n",
       "      <th>unique_out</th>\n",
       "      <th>ext_links</th>\n",
       "      <th>unique_ext</th>\n",
       "      <th>top</th>\n",
       "      <th>pub_date</th>\n",
       "    </tr>\n",
       "  </thead>\n",
       "  <tbody>\n",
       "    <tr>\n",
       "      <th>242</th>\n",
       "      <td>https://www.mayoclinic.org/diseases-conditions...</td>\n",
       "      <td>breast cancer</td>\n",
       "      <td>13</td>\n",
       "      <td>Breast cancer — Comprehensive overview covers ...</td>\n",
       "      <td>109</td>\n",
       "      <td>93906</td>\n",
       "      <td>3409</td>\n",
       "      <td>88</td>\n",
       "      <td>49</td>\n",
       "      <td>139</td>\n",
       "      <td>106</td>\n",
       "      <td>96</td>\n",
       "      <td>73</td>\n",
       "      <td>1.0</td>\n",
       "      <td>2019-11-22</td>\n",
       "    </tr>\n",
       "  </tbody>\n",
       "</table>\n",
       "</div>"
      ],
      "text/plain": [
       "                                                   url         header  \\\n",
       "242  https://www.mayoclinic.org/diseases-conditions...  breast cancer   \n",
       "\n",
       "     header_len                                               meta  meta_len  \\\n",
       "242          13  Breast cancer — Comprehensive overview covers ...       109   \n",
       "\n",
       "     bytes  word_count  inlinks  unique_in  outlinks  unique_out  ext_links  \\\n",
       "242  93906        3409       88         49       139         106         96   \n",
       "\n",
       "     unique_ext  top    pub_date  \n",
       "242          73  1.0  2019-11-22  "
      ]
     },
     "execution_count": 478,
     "metadata": {},
     "output_type": "execute_result"
    }
   ],
   "source": [
    "data[data.unique_in>35]"
   ]
  },
  {
   "cell_type": "markdown",
   "metadata": {},
   "source": [
    "As one would therefore expect, the page that had the most inlinks also has the most unique inlinks."
   ]
  },
  {
   "cell_type": "markdown",
   "metadata": {},
   "source": [
    "### Outlinks\n",
    "*Number of links from this page to other pages on the Mayo Clinic domain.*"
   ]
  },
  {
   "cell_type": "code",
   "execution_count": 479,
   "metadata": {},
   "outputs": [
    {
     "data": {
      "image/png": "[encoded data removed]",
      "text/plain": [
       "<Figure size 432x288 with 1 Axes>"
      ]
     },
     "metadata": {
      "needs_background": "light"
     },
     "output_type": "display_data"
    },
    {
     "name": "stdout",
     "output_type": "stream",
     "text": [
      "min: 65\n",
      "max: 139\n",
      "mean: 74.88817005545286\n",
      "variance: 64.16232060750211\n",
      "stan dev: 8.01013861350115\n"
     ]
    }
   ],
   "source": [
    "examine(data, \"outlinks\", 70)"
   ]
  },
  {
   "cell_type": "markdown",
   "metadata": {},
   "source": [
    "We can see that Symptoms and Causes pages tend to link more to other page on the Mayo Clinic domain than be linked to. This is largely intuitive since it is more common for pages about conditions and diseases to link to pages for clinics that treat them, research summaries about them, or patient stories than for those pages to link back to the page for the condition itself. "
   ]
  },
  {
   "cell_type": "code",
   "execution_count": 480,
   "metadata": {
    "scrolled": true
   },
   "outputs": [
    {
     "data": {
      "image/png": "[encoded data removed]",
      "text/plain": [
       "<Figure size 432x288 with 1 Axes>"
      ]
     },
     "metadata": {
      "needs_background": "light"
     },
     "output_type": "display_data"
    },
    {
     "name": "stdout",
     "output_type": "stream",
     "text": [
      "Covariance: 0.93631\n",
      "Pearson Correlation Coefficient: 0.2923\n",
      "Spearman Correlation Coefficient: 0.21562\n"
     ]
    }
   ],
   "source": [
    "# some positive corr but not significant\n",
    "relate(data.outlinks, data.top)"
   ]
  },
  {
   "cell_type": "markdown",
   "metadata": {},
   "source": [
    "### Unique Outlinks\n",
    "*Number of links from this page to other pages on the Mayo Clinic domain with links to the same page counted only once.*"
   ]
  },
  {
   "cell_type": "code",
   "execution_count": 481,
   "metadata": {
    "scrolled": false
   },
   "outputs": [
    {
     "data": {
      "image/png": "[encoded data removed]",
      "text/plain": [
       "<Figure size 432x288 with 1 Axes>"
      ]
     },
     "metadata": {
      "needs_background": "light"
     },
     "output_type": "display_data"
    },
    {
     "name": "stdout",
     "output_type": "stream",
     "text": [
      "min: 40\n",
      "max: 106\n",
      "mean: 47.34195933456562\n",
      "variance: 43.87925536189706\n",
      "stan dev: 6.624141858527568\n"
     ]
    }
   ],
   "source": [
    "examine(data, \"unique_out\", 70)"
   ]
  },
  {
   "cell_type": "markdown",
   "metadata": {},
   "source": [
    "Again, this data resembles the data for total outlinks in shape; we still get the outliers."
   ]
  },
  {
   "cell_type": "code",
   "execution_count": 482,
   "metadata": {},
   "outputs": [
    {
     "data": {
      "image/png": "[encoded data removed]",
      "text/plain": [
       "<Figure size 432x288 with 1 Axes>"
      ]
     },
     "metadata": {
      "needs_background": "light"
     },
     "output_type": "display_data"
    },
    {
     "name": "stdout",
     "output_type": "stream",
     "text": [
      "Covariance: 52.22144\n",
      "Pearson Correlation Coefficient: 0.98419\n",
      "Spearman Correlation Coefficient: 0.96658\n"
     ]
    }
   ],
   "source": [
    "# very positively correlated\n",
    "relate(data.outlinks, data.unique_out)"
   ]
  },
  {
   "cell_type": "code",
   "execution_count": 483,
   "metadata": {},
   "outputs": [
    {
     "name": "stdout",
     "output_type": "stream",
     "text": [
      "outlinks and unique_out :\n",
      "slope (coefficient): 0.81390\n",
      "intercept: -13.60920\n",
      "\n"
     ]
    }
   ],
   "source": [
    "# good fit\n",
    "lin('outlinks', 'unique_out')"
   ]
  },
  {
   "cell_type": "markdown",
   "metadata": {},
   "source": [
    "### External Links\n",
    "*Number of links from this page to another website (another domain).*"
   ]
  },
  {
   "cell_type": "code",
   "execution_count": 484,
   "metadata": {},
   "outputs": [
    {
     "data": {
      "image/png": "[encoded data removed]",
      "text/plain": [
       "<Figure size 432x288 with 1 Axes>"
      ]
     },
     "metadata": {
      "needs_background": "light"
     },
     "output_type": "display_data"
    },
    {
     "name": "stdout",
     "output_type": "stream",
     "text": [
      "min: 67\n",
      "max: 263\n",
      "mean: 68.69870609981515\n",
      "variance: 43.70007232982398\n",
      "stan dev: 6.6106030231608965\n"
     ]
    }
   ],
   "source": [
    "examine(data, \"ext_links\", 20)"
   ]
  },
  {
   "cell_type": "markdown",
   "metadata": {},
   "source": [
    "The skew in the data here looks more extreme."
   ]
  },
  {
   "cell_type": "code",
   "execution_count": 485,
   "metadata": {
    "scrolled": true
   },
   "outputs": [
    {
     "data": {
      "text/html": [
       "<div>\n",
       "<style scoped>\n",
       "    .dataframe tbody tr th:only-of-type {\n",
       "        vertical-align: middle;\n",
       "    }\n",
       "\n",
       "    .dataframe tbody tr th {\n",
       "        vertical-align: top;\n",
       "    }\n",
       "\n",
       "    .dataframe thead th {\n",
       "        text-align: right;\n",
       "    }\n",
       "</style>\n",
       "<table border=\"1\" class=\"dataframe\">\n",
       "  <thead>\n",
       "    <tr style=\"text-align: right;\">\n",
       "      <th></th>\n",
       "      <th>url</th>\n",
       "      <th>header</th>\n",
       "      <th>header_len</th>\n",
       "      <th>meta</th>\n",
       "      <th>meta_len</th>\n",
       "      <th>bytes</th>\n",
       "      <th>word_count</th>\n",
       "      <th>inlinks</th>\n",
       "      <th>unique_in</th>\n",
       "      <th>outlinks</th>\n",
       "      <th>unique_out</th>\n",
       "      <th>ext_links</th>\n",
       "      <th>unique_ext</th>\n",
       "      <th>top</th>\n",
       "      <th>pub_date</th>\n",
       "    </tr>\n",
       "  </thead>\n",
       "  <tbody>\n",
       "    <tr>\n",
       "      <th>276</th>\n",
       "      <td>https://www.mayoclinic.org/diseases-conditions...</td>\n",
       "      <td>cancer</td>\n",
       "      <td>6</td>\n",
       "      <td>Find out the basics about cancer, including sy...</td>\n",
       "      <td>120</td>\n",
       "      <td>93326</td>\n",
       "      <td>3532</td>\n",
       "      <td>26</td>\n",
       "      <td>21</td>\n",
       "      <td>130</td>\n",
       "      <td>99</td>\n",
       "      <td>104</td>\n",
       "      <td>80</td>\n",
       "      <td>1.0</td>\n",
       "      <td>2018-12-12</td>\n",
       "    </tr>\n",
       "    <tr>\n",
       "      <th>420</th>\n",
       "      <td>https://www.mayoclinic.org/diseases-conditions...</td>\n",
       "      <td>coronavirus disease 2019 (covid-19)</td>\n",
       "      <td>35</td>\n",
       "      <td>Find out about coronavirus disease 2019 (COVID...</td>\n",
       "      <td>157</td>\n",
       "      <td>164386</td>\n",
       "      <td>5194</td>\n",
       "      <td>15</td>\n",
       "      <td>7</td>\n",
       "      <td>97</td>\n",
       "      <td>62</td>\n",
       "      <td>263</td>\n",
       "      <td>240</td>\n",
       "      <td>1.0</td>\n",
       "      <td>2020-05-22</td>\n",
       "    </tr>\n",
       "  </tbody>\n",
       "</table>\n",
       "</div>"
      ],
      "text/plain": [
       "                                                   url  \\\n",
       "276  https://www.mayoclinic.org/diseases-conditions...   \n",
       "420  https://www.mayoclinic.org/diseases-conditions...   \n",
       "\n",
       "                                  header  header_len  \\\n",
       "276                               cancer           6   \n",
       "420  coronavirus disease 2019 (covid-19)          35   \n",
       "\n",
       "                                                  meta  meta_len   bytes  \\\n",
       "276  Find out the basics about cancer, including sy...       120   93326   \n",
       "420  Find out about coronavirus disease 2019 (COVID...       157  164386   \n",
       "\n",
       "     word_count  inlinks  unique_in  outlinks  unique_out  ext_links  \\\n",
       "276        3532       26         21       130          99        104   \n",
       "420        5194       15          7        97          62        263   \n",
       "\n",
       "     unique_ext  top    pub_date  \n",
       "276          80  1.0  2018-12-12  \n",
       "420         240  1.0  2020-05-22  "
      ]
     },
     "execution_count": 485,
     "metadata": {},
     "output_type": "execute_result"
    }
   ],
   "source": [
    "data[data.ext_links>100]"
   ]
  },
  {
   "cell_type": "markdown",
   "metadata": {},
   "source": [
    "The Symptoms and Causes pages on the Mayo Clinic domain with the most links to other websites are those for cancer and coronavirus, widespread, newsworthy, very serious conditions that are currently affecting the lives of many, and about which people need a wealth of information to learn from and respond to to help with prevention and treatment.\n",
    "\n",
    "Cancer's external links are about 5 standard deviations above the mean, while coronavirus is almost 29."
   ]
  },
  {
   "cell_type": "code",
   "execution_count": 486,
   "metadata": {},
   "outputs": [
    {
     "data": {
      "image/png": "[encoded data removed]",
      "text/plain": [
       "<Figure size 432x288 with 1 Axes>"
      ]
     },
     "metadata": {
      "needs_background": "light"
     },
     "output_type": "display_data"
    }
   ],
   "source": [
    "exclude(data, \"ext_links\", 65, 100, 20)"
   ]
  },
  {
   "cell_type": "code",
   "execution_count": 487,
   "metadata": {
    "scrolled": false
   },
   "outputs": [
    {
     "data": {
      "text/html": [
       "<div>\n",
       "<style scoped>\n",
       "    .dataframe tbody tr th:only-of-type {\n",
       "        vertical-align: middle;\n",
       "    }\n",
       "\n",
       "    .dataframe tbody tr th {\n",
       "        vertical-align: top;\n",
       "    }\n",
       "\n",
       "    .dataframe thead th {\n",
       "        text-align: right;\n",
       "    }\n",
       "</style>\n",
       "<table border=\"1\" class=\"dataframe\">\n",
       "  <thead>\n",
       "    <tr style=\"text-align: right;\">\n",
       "      <th></th>\n",
       "      <th>url</th>\n",
       "      <th>header</th>\n",
       "      <th>header_len</th>\n",
       "      <th>meta</th>\n",
       "      <th>meta_len</th>\n",
       "      <th>bytes</th>\n",
       "      <th>word_count</th>\n",
       "      <th>inlinks</th>\n",
       "      <th>unique_in</th>\n",
       "      <th>outlinks</th>\n",
       "      <th>unique_out</th>\n",
       "      <th>ext_links</th>\n",
       "      <th>unique_ext</th>\n",
       "      <th>top</th>\n",
       "      <th>pub_date</th>\n",
       "    </tr>\n",
       "  </thead>\n",
       "  <tbody>\n",
       "    <tr>\n",
       "      <th>78</th>\n",
       "      <td>https://www.mayoclinic.org/diseases-conditions...</td>\n",
       "      <td>alzheimer's disease</td>\n",
       "      <td>19</td>\n",
       "      <td>Alzheimer's disease causes a progressive loss ...</td>\n",
       "      <td>128</td>\n",
       "      <td>91009</td>\n",
       "      <td>3572</td>\n",
       "      <td>15</td>\n",
       "      <td>7</td>\n",
       "      <td>127</td>\n",
       "      <td>85</td>\n",
       "      <td>97</td>\n",
       "      <td>73</td>\n",
       "      <td>1.0</td>\n",
       "      <td>2018-12-08</td>\n",
       "    </tr>\n",
       "    <tr>\n",
       "      <th>242</th>\n",
       "      <td>https://www.mayoclinic.org/diseases-conditions...</td>\n",
       "      <td>breast cancer</td>\n",
       "      <td>13</td>\n",
       "      <td>Breast cancer — Comprehensive overview covers ...</td>\n",
       "      <td>109</td>\n",
       "      <td>93906</td>\n",
       "      <td>3409</td>\n",
       "      <td>88</td>\n",
       "      <td>49</td>\n",
       "      <td>139</td>\n",
       "      <td>106</td>\n",
       "      <td>96</td>\n",
       "      <td>73</td>\n",
       "      <td>1.0</td>\n",
       "      <td>2019-11-22</td>\n",
       "    </tr>\n",
       "    <tr>\n",
       "      <th>276</th>\n",
       "      <td>https://www.mayoclinic.org/diseases-conditions...</td>\n",
       "      <td>cancer</td>\n",
       "      <td>6</td>\n",
       "      <td>Find out the basics about cancer, including sy...</td>\n",
       "      <td>120</td>\n",
       "      <td>93326</td>\n",
       "      <td>3532</td>\n",
       "      <td>26</td>\n",
       "      <td>21</td>\n",
       "      <td>130</td>\n",
       "      <td>99</td>\n",
       "      <td>104</td>\n",
       "      <td>80</td>\n",
       "      <td>1.0</td>\n",
       "      <td>2018-12-12</td>\n",
       "    </tr>\n",
       "    <tr>\n",
       "      <th>420</th>\n",
       "      <td>https://www.mayoclinic.org/diseases-conditions...</td>\n",
       "      <td>coronavirus disease 2019 (covid-19)</td>\n",
       "      <td>35</td>\n",
       "      <td>Find out about coronavirus disease 2019 (COVID...</td>\n",
       "      <td>157</td>\n",
       "      <td>164386</td>\n",
       "      <td>5194</td>\n",
       "      <td>15</td>\n",
       "      <td>7</td>\n",
       "      <td>97</td>\n",
       "      <td>62</td>\n",
       "      <td>263</td>\n",
       "      <td>240</td>\n",
       "      <td>1.0</td>\n",
       "      <td>2020-05-22</td>\n",
       "    </tr>\n",
       "  </tbody>\n",
       "</table>\n",
       "</div>"
      ],
      "text/plain": [
       "                                                   url  \\\n",
       "78   https://www.mayoclinic.org/diseases-conditions...   \n",
       "242  https://www.mayoclinic.org/diseases-conditions...   \n",
       "276  https://www.mayoclinic.org/diseases-conditions...   \n",
       "420  https://www.mayoclinic.org/diseases-conditions...   \n",
       "\n",
       "                                  header  header_len  \\\n",
       "78                   alzheimer's disease          19   \n",
       "242                        breast cancer          13   \n",
       "276                               cancer           6   \n",
       "420  coronavirus disease 2019 (covid-19)          35   \n",
       "\n",
       "                                                  meta  meta_len   bytes  \\\n",
       "78   Alzheimer's disease causes a progressive loss ...       128   91009   \n",
       "242  Breast cancer — Comprehensive overview covers ...       109   93906   \n",
       "276  Find out the basics about cancer, including sy...       120   93326   \n",
       "420  Find out about coronavirus disease 2019 (COVID...       157  164386   \n",
       "\n",
       "     word_count  inlinks  unique_in  outlinks  unique_out  ext_links  \\\n",
       "78         3572       15          7       127          85         97   \n",
       "242        3409       88         49       139         106         96   \n",
       "276        3532       26         21       130          99        104   \n",
       "420        5194       15          7        97          62        263   \n",
       "\n",
       "     unique_ext  top    pub_date  \n",
       "78           73  1.0  2018-12-08  \n",
       "242          73  1.0  2019-11-22  \n",
       "276          80  1.0  2018-12-12  \n",
       "420         240  1.0  2020-05-22  "
      ]
     },
     "execution_count": 487,
     "metadata": {},
     "output_type": "execute_result"
    }
   ],
   "source": [
    "data[data.ext_links>90]"
   ]
  },
  {
   "cell_type": "markdown",
   "metadata": {},
   "source": [
    "Other pages with high numbers of external links include breast cancer and Alzheimer's."
   ]
  },
  {
   "cell_type": "code",
   "execution_count": 488,
   "metadata": {},
   "outputs": [
    {
     "data": {
      "image/png": "[encoded data removed]",
      "text/plain": [
       "<Figure size 432x288 with 1 Axes>"
      ]
     },
     "metadata": {
      "needs_background": "light"
     },
     "output_type": "display_data"
    },
    {
     "name": "stdout",
     "output_type": "stream",
     "text": [
      "Covariance: 0.42259\n",
      "Pearson Correlation Coefficient: 0.38459\n",
      "Spearman Correlation Coefficient: 0.34876\n"
     ]
    }
   ],
   "source": [
    "# data without outliers\n",
    "relate(data.ext_links[data.ext_links<100], data.top[data.ext_links<100])"
   ]
  },
  {
   "cell_type": "markdown",
   "metadata": {},
   "source": [
    "### Unique External Links\n",
    "*Number of links from this page to another website with links to the same page counted only once.*"
   ]
  },
  {
   "cell_type": "code",
   "execution_count": 489,
   "metadata": {
    "scrolled": false
   },
   "outputs": [
    {
     "data": {
      "image/png": "[encoded data removed]",
      "text/plain": [
       "<Figure size 432x288 with 1 Axes>"
      ]
     },
     "metadata": {
      "needs_background": "light"
     },
     "output_type": "display_data"
    },
    {
     "name": "stdout",
     "output_type": "stream",
     "text": [
      "min: 45\n",
      "max: 240\n",
      "mean: 46.33456561922366\n",
      "variance: 41.423577470713276\n",
      "stan dev: 6.43611509147508\n"
     ]
    }
   ],
   "source": [
    "examine(data, \"unique_ext\", 30)"
   ]
  },
  {
   "cell_type": "markdown",
   "metadata": {},
   "source": [
    "The average number of unique external outlinks is almost 20 fewer than the average number of all external outlinks, but in both histograms we can see the very tall peak around the mean. "
   ]
  },
  {
   "cell_type": "code",
   "execution_count": 490,
   "metadata": {},
   "outputs": [
    {
     "data": {
      "image/png": "[encoded data removed]",
      "text/plain": [
       "<Figure size 432x288 with 1 Axes>"
      ]
     },
     "metadata": {
      "needs_background": "light"
     },
     "output_type": "display_data"
    },
    {
     "name": "stdout",
     "output_type": "stream",
     "text": [
      "Covariance: 42.35992\n",
      "Pearson Correlation Coefficient: 0.99561\n",
      "Spearman Correlation Coefficient: 0.98853\n"
     ]
    }
   ],
   "source": [
    "# positively correlated with big gap\n",
    "relate(data.unique_ext, data.ext_links)"
   ]
  },
  {
   "cell_type": "code",
   "execution_count": 491,
   "metadata": {},
   "outputs": [
    {
     "name": "stdout",
     "output_type": "stream",
     "text": [
      "unique_ext and ext_links :\n",
      "slope (coefficient): 1.02260\n",
      "intercept: 21.31679\n",
      "\n"
     ]
    }
   ],
   "source": [
    "# approximately 1:1 ratio, very linear relationship\n",
    "lin('unique_ext', 'ext_links')"
   ]
  },
  {
   "cell_type": "code",
   "execution_count": 492,
   "metadata": {},
   "outputs": [
    {
     "data": {
      "text/html": [
       "<div>\n",
       "<style scoped>\n",
       "    .dataframe tbody tr th:only-of-type {\n",
       "        vertical-align: middle;\n",
       "    }\n",
       "\n",
       "    .dataframe tbody tr th {\n",
       "        vertical-align: top;\n",
       "    }\n",
       "\n",
       "    .dataframe thead th {\n",
       "        text-align: right;\n",
       "    }\n",
       "</style>\n",
       "<table border=\"1\" class=\"dataframe\">\n",
       "  <thead>\n",
       "    <tr style=\"text-align: right;\">\n",
       "      <th></th>\n",
       "      <th>url</th>\n",
       "      <th>header</th>\n",
       "      <th>header_len</th>\n",
       "      <th>meta</th>\n",
       "      <th>meta_len</th>\n",
       "      <th>bytes</th>\n",
       "      <th>word_count</th>\n",
       "      <th>inlinks</th>\n",
       "      <th>unique_in</th>\n",
       "      <th>outlinks</th>\n",
       "      <th>unique_out</th>\n",
       "      <th>ext_links</th>\n",
       "      <th>unique_ext</th>\n",
       "      <th>top</th>\n",
       "      <th>pub_date</th>\n",
       "    </tr>\n",
       "  </thead>\n",
       "  <tbody>\n",
       "    <tr>\n",
       "      <th>420</th>\n",
       "      <td>https://www.mayoclinic.org/diseases-conditions...</td>\n",
       "      <td>coronavirus disease 2019 (covid-19)</td>\n",
       "      <td>35</td>\n",
       "      <td>Find out about coronavirus disease 2019 (COVID...</td>\n",
       "      <td>157</td>\n",
       "      <td>164386</td>\n",
       "      <td>5194</td>\n",
       "      <td>15</td>\n",
       "      <td>7</td>\n",
       "      <td>97</td>\n",
       "      <td>62</td>\n",
       "      <td>263</td>\n",
       "      <td>240</td>\n",
       "      <td>1.0</td>\n",
       "      <td>2020-05-22</td>\n",
       "    </tr>\n",
       "  </tbody>\n",
       "</table>\n",
       "</div>"
      ],
      "text/plain": [
       "                                                   url  \\\n",
       "420  https://www.mayoclinic.org/diseases-conditions...   \n",
       "\n",
       "                                  header  header_len  \\\n",
       "420  coronavirus disease 2019 (covid-19)          35   \n",
       "\n",
       "                                                  meta  meta_len   bytes  \\\n",
       "420  Find out about coronavirus disease 2019 (COVID...       157  164386   \n",
       "\n",
       "     word_count  inlinks  unique_in  outlinks  unique_out  ext_links  \\\n",
       "420        5194       15          7        97          62        263   \n",
       "\n",
       "     unique_ext  top    pub_date  \n",
       "420         240  1.0  2020-05-22  "
      ]
     },
     "execution_count": 492,
     "metadata": {},
     "output_type": "execute_result"
    }
   ],
   "source": [
    "data[data.unique_ext>80]"
   ]
  },
  {
   "cell_type": "code",
   "execution_count": 493,
   "metadata": {},
   "outputs": [
    {
     "name": "stdout",
     "output_type": "stream",
     "text": [
      "The outlier here is again coronavirus, which has 2.529 times as many external links and\n",
      "3.0 times as many unique external links as any other URL in the dataset.\n"
     ]
    }
   ],
   "source": [
    "focus = data[data.unique_ext<200]\n",
    "print(\"The outlier here is again coronavirus, which has\", round(data.ext_links.max() / focus.ext_links.max(), 3),\n",
    "      \"times as many external links and\")\n",
    "print(data.unique_ext.max() / focus.unique_ext.max(),\n",
    "      \"times as many unique external links as any other URL in the dataset.\")"
   ]
  },
  {
   "cell_type": "code",
   "execution_count": 494,
   "metadata": {
    "scrolled": true
   },
   "outputs": [
    {
     "data": {
      "image/png": "[encoded data removed]",
      "text/plain": [
       "<Figure size 432x288 with 1 Axes>"
      ]
     },
     "metadata": {
      "needs_background": "light"
     },
     "output_type": "display_data"
    }
   ],
   "source": [
    "exclude(data, \"unique_ext\", 44,80, 30)"
   ]
  },
  {
   "cell_type": "code",
   "execution_count": 495,
   "metadata": {},
   "outputs": [
    {
     "data": {
      "text/html": [
       "<div>\n",
       "<style scoped>\n",
       "    .dataframe tbody tr th:only-of-type {\n",
       "        vertical-align: middle;\n",
       "    }\n",
       "\n",
       "    .dataframe tbody tr th {\n",
       "        vertical-align: top;\n",
       "    }\n",
       "\n",
       "    .dataframe thead th {\n",
       "        text-align: right;\n",
       "    }\n",
       "</style>\n",
       "<table border=\"1\" class=\"dataframe\">\n",
       "  <thead>\n",
       "    <tr style=\"text-align: right;\">\n",
       "      <th></th>\n",
       "      <th>url</th>\n",
       "      <th>header</th>\n",
       "      <th>header_len</th>\n",
       "      <th>meta</th>\n",
       "      <th>meta_len</th>\n",
       "      <th>bytes</th>\n",
       "      <th>word_count</th>\n",
       "      <th>inlinks</th>\n",
       "      <th>unique_in</th>\n",
       "      <th>outlinks</th>\n",
       "      <th>unique_out</th>\n",
       "      <th>ext_links</th>\n",
       "      <th>unique_ext</th>\n",
       "      <th>top</th>\n",
       "      <th>pub_date</th>\n",
       "    </tr>\n",
       "  </thead>\n",
       "  <tbody>\n",
       "    <tr>\n",
       "      <th>78</th>\n",
       "      <td>https://www.mayoclinic.org/diseases-conditions...</td>\n",
       "      <td>alzheimer's disease</td>\n",
       "      <td>19</td>\n",
       "      <td>Alzheimer's disease causes a progressive loss ...</td>\n",
       "      <td>128</td>\n",
       "      <td>91009</td>\n",
       "      <td>3572</td>\n",
       "      <td>15</td>\n",
       "      <td>7</td>\n",
       "      <td>127</td>\n",
       "      <td>85</td>\n",
       "      <td>97</td>\n",
       "      <td>73</td>\n",
       "      <td>1.0</td>\n",
       "      <td>2018-12-08</td>\n",
       "    </tr>\n",
       "    <tr>\n",
       "      <th>242</th>\n",
       "      <td>https://www.mayoclinic.org/diseases-conditions...</td>\n",
       "      <td>breast cancer</td>\n",
       "      <td>13</td>\n",
       "      <td>Breast cancer — Comprehensive overview covers ...</td>\n",
       "      <td>109</td>\n",
       "      <td>93906</td>\n",
       "      <td>3409</td>\n",
       "      <td>88</td>\n",
       "      <td>49</td>\n",
       "      <td>139</td>\n",
       "      <td>106</td>\n",
       "      <td>96</td>\n",
       "      <td>73</td>\n",
       "      <td>1.0</td>\n",
       "      <td>2019-11-22</td>\n",
       "    </tr>\n",
       "    <tr>\n",
       "      <th>276</th>\n",
       "      <td>https://www.mayoclinic.org/diseases-conditions...</td>\n",
       "      <td>cancer</td>\n",
       "      <td>6</td>\n",
       "      <td>Find out the basics about cancer, including sy...</td>\n",
       "      <td>120</td>\n",
       "      <td>93326</td>\n",
       "      <td>3532</td>\n",
       "      <td>26</td>\n",
       "      <td>21</td>\n",
       "      <td>130</td>\n",
       "      <td>99</td>\n",
       "      <td>104</td>\n",
       "      <td>80</td>\n",
       "      <td>1.0</td>\n",
       "      <td>2018-12-12</td>\n",
       "    </tr>\n",
       "    <tr>\n",
       "      <th>607</th>\n",
       "      <td>https://www.mayoclinic.org/diseases-conditions...</td>\n",
       "      <td>influenza (flu)</td>\n",
       "      <td>15</td>\n",
       "      <td>Learn more about the symptoms, causes and prev...</td>\n",
       "      <td>131</td>\n",
       "      <td>68565</td>\n",
       "      <td>2899</td>\n",
       "      <td>8</td>\n",
       "      <td>3</td>\n",
       "      <td>82</td>\n",
       "      <td>50</td>\n",
       "      <td>89</td>\n",
       "      <td>66</td>\n",
       "      <td>1.0</td>\n",
       "      <td>2019-10-04</td>\n",
       "    </tr>\n",
       "  </tbody>\n",
       "</table>\n",
       "</div>"
      ],
      "text/plain": [
       "                                                   url               header  \\\n",
       "78   https://www.mayoclinic.org/diseases-conditions...  alzheimer's disease   \n",
       "242  https://www.mayoclinic.org/diseases-conditions...        breast cancer   \n",
       "276  https://www.mayoclinic.org/diseases-conditions...               cancer   \n",
       "607  https://www.mayoclinic.org/diseases-conditions...      influenza (flu)   \n",
       "\n",
       "     header_len                                               meta  meta_len  \\\n",
       "78           19  Alzheimer's disease causes a progressive loss ...       128   \n",
       "242          13  Breast cancer — Comprehensive overview covers ...       109   \n",
       "276           6  Find out the basics about cancer, including sy...       120   \n",
       "607          15  Learn more about the symptoms, causes and prev...       131   \n",
       "\n",
       "     bytes  word_count  inlinks  unique_in  outlinks  unique_out  ext_links  \\\n",
       "78   91009        3572       15          7       127          85         97   \n",
       "242  93906        3409       88         49       139         106         96   \n",
       "276  93326        3532       26         21       130          99        104   \n",
       "607  68565        2899        8          3        82          50         89   \n",
       "\n",
       "     unique_ext  top    pub_date  \n",
       "78           73  1.0  2018-12-08  \n",
       "242          73  1.0  2019-11-22  \n",
       "276          80  1.0  2018-12-12  \n",
       "607          66  1.0  2019-10-04  "
      ]
     },
     "execution_count": 495,
     "metadata": {},
     "output_type": "execute_result"
    }
   ],
   "source": [
    "# look at other outliers\n",
    "focus[focus.unique_ext>65]"
   ]
  },
  {
   "cell_type": "code",
   "execution_count": 496,
   "metadata": {
    "scrolled": true
   },
   "outputs": [
    {
     "data": {
      "image/png": "[encoded data removed]",
      "text/plain": [
       "<Figure size 432x288 with 1 Axes>"
      ]
     },
     "metadata": {
      "needs_background": "light"
     },
     "output_type": "display_data"
    }
   ],
   "source": [
    "exclude(data, \"unique_ext\", 44, 55, 10)"
   ]
  },
  {
   "cell_type": "markdown",
   "metadata": {},
   "source": [
    "Zooming in on the data closer to the mean, we get a better sense of the distribution. The decrease in number of pages with increased unique external links looks exponential."
   ]
  },
  {
   "cell_type": "code",
   "execution_count": 497,
   "metadata": {},
   "outputs": [
    {
     "data": {
      "image/png": "[encoded data removed]",
      "text/plain": [
       "<Figure size 432x288 with 1 Axes>"
      ]
     },
     "metadata": {
      "needs_background": "light"
     },
     "output_type": "display_data"
    },
    {
     "name": "stdout",
     "output_type": "stream",
     "text": [
      "Covariance: 0.36001\n",
      "Pearson Correlation Coefficient: 0.37995\n",
      "Spearman Correlation Coefficient: 0.35358\n"
     ]
    }
   ],
   "source": [
    "# some positive correlation between unique external links and top ranking page authority\n",
    "relate(data.unique_ext[data.unique_ext<80], data.top[data.unique_ext<80])"
   ]
  },
  {
   "cell_type": "markdown",
   "metadata": {},
   "source": [
    "### Most Recent Publication Date"
   ]
  },
  {
   "cell_type": "code",
   "execution_count": 498,
   "metadata": {},
   "outputs": [
    {
     "data": {
      "text/plain": [
       "'2017-07-18'"
      ]
     },
     "execution_count": 498,
     "metadata": {},
     "output_type": "execute_result"
    }
   ],
   "source": [
    "data.pub_date[0]"
   ]
  },
  {
   "cell_type": "code",
   "execution_count": 499,
   "metadata": {
    "scrolled": true
   },
   "outputs": [
    {
     "data": {
      "text/plain": [
       "str"
      ]
     },
     "execution_count": 499,
     "metadata": {},
     "output_type": "execute_result"
    }
   ],
   "source": [
    "# check date type\n",
    "type(data.pub_date[0])"
   ]
  },
  {
   "cell_type": "code",
   "execution_count": 500,
   "metadata": {},
   "outputs": [
    {
     "data": {
      "text/plain": [
       "numpy.float64"
      ]
     },
     "execution_count": 500,
     "metadata": {},
     "output_type": "execute_result"
    }
   ],
   "source": [
    "# convert pub_date from string to datetime_ob\n",
    "dat = []\n",
    "for date in data.pub_date:\n",
    "    ob = datetime.strptime(date, '%Y-%m-%d')\n",
    "    dat.append(ob)\n",
    "    \n",
    "# convert pub_date from datetime_ob to float\n",
    "data.pub_date = dt.date2num(dat)\n",
    "type(data[\"pub_date\"][0])"
   ]
  },
  {
   "cell_type": "code",
   "execution_count": 501,
   "metadata": {
    "scrolled": true
   },
   "outputs": [
    {
     "name": "stdout",
     "output_type": "stream",
     "text": [
      "min: 736230.0 2016-09-23\n",
      "max: 737567.0 2020-05-22\n"
     ]
    }
   ],
   "source": [
    "print(\"min:\", data[\"pub_date\"].min(), dt.num2date(data[\"pub_date\"].min()).strftime('%Y-%m-%d'))\n",
    "print(\"max:\", data[\"pub_date\"].max(), dt.num2date(data[\"pub_date\"].max()).strftime('%Y-%m-%d'))"
   ]
  },
  {
   "cell_type": "code",
   "execution_count": 502,
   "metadata": {
    "scrolled": true
   },
   "outputs": [
    {
     "data": {
      "text/html": [
       "<div>\n",
       "<style scoped>\n",
       "    .dataframe tbody tr th:only-of-type {\n",
       "        vertical-align: middle;\n",
       "    }\n",
       "\n",
       "    .dataframe tbody tr th {\n",
       "        vertical-align: top;\n",
       "    }\n",
       "\n",
       "    .dataframe thead th {\n",
       "        text-align: right;\n",
       "    }\n",
       "</style>\n",
       "<table border=\"1\" class=\"dataframe\">\n",
       "  <thead>\n",
       "    <tr style=\"text-align: right;\">\n",
       "      <th></th>\n",
       "      <th>url</th>\n",
       "      <th>header</th>\n",
       "      <th>header_len</th>\n",
       "      <th>meta</th>\n",
       "      <th>meta_len</th>\n",
       "      <th>bytes</th>\n",
       "      <th>word_count</th>\n",
       "      <th>inlinks</th>\n",
       "      <th>unique_in</th>\n",
       "      <th>outlinks</th>\n",
       "      <th>unique_out</th>\n",
       "      <th>ext_links</th>\n",
       "      <th>unique_ext</th>\n",
       "      <th>top</th>\n",
       "      <th>pub_date</th>\n",
       "    </tr>\n",
       "  </thead>\n",
       "  <tbody>\n",
       "    <tr>\n",
       "      <th>11</th>\n",
       "      <td>https://www.mayoclinic.org/diseases-conditions...</td>\n",
       "      <td>gastroesophageal reflux disease (gerd)</td>\n",
       "      <td>38</td>\n",
       "      <td>GERD, in which stomach acid moves into the eso...</td>\n",
       "      <td>140</td>\n",
       "      <td>52830</td>\n",
       "      <td>1555</td>\n",
       "      <td>16</td>\n",
       "      <td>8</td>\n",
       "      <td>85</td>\n",
       "      <td>52</td>\n",
       "      <td>71</td>\n",
       "      <td>47</td>\n",
       "      <td>1.0</td>\n",
       "      <td>737567.0</td>\n",
       "    </tr>\n",
       "    <tr>\n",
       "      <th>74</th>\n",
       "      <td>https://www.mayoclinic.org/diseases-conditions...</td>\n",
       "      <td>hair loss</td>\n",
       "      <td>9</td>\n",
       "      <td>Hair loss — Learn about the causes and treatme...</td>\n",
       "      <td>150</td>\n",
       "      <td>57288</td>\n",
       "      <td>2046</td>\n",
       "      <td>11</td>\n",
       "      <td>6</td>\n",
       "      <td>79</td>\n",
       "      <td>48</td>\n",
       "      <td>72</td>\n",
       "      <td>50</td>\n",
       "      <td>1.0</td>\n",
       "      <td>737567.0</td>\n",
       "    </tr>\n",
       "    <tr>\n",
       "      <th>420</th>\n",
       "      <td>https://www.mayoclinic.org/diseases-conditions...</td>\n",
       "      <td>coronavirus disease 2019 (covid-19)</td>\n",
       "      <td>35</td>\n",
       "      <td>Find out about coronavirus disease 2019 (COVID...</td>\n",
       "      <td>157</td>\n",
       "      <td>164386</td>\n",
       "      <td>5194</td>\n",
       "      <td>15</td>\n",
       "      <td>7</td>\n",
       "      <td>97</td>\n",
       "      <td>62</td>\n",
       "      <td>263</td>\n",
       "      <td>240</td>\n",
       "      <td>1.0</td>\n",
       "      <td>737567.0</td>\n",
       "    </tr>\n",
       "  </tbody>\n",
       "</table>\n",
       "</div>"
      ],
      "text/plain": [
       "                                                   url  \\\n",
       "11   https://www.mayoclinic.org/diseases-conditions...   \n",
       "74   https://www.mayoclinic.org/diseases-conditions...   \n",
       "420  https://www.mayoclinic.org/diseases-conditions...   \n",
       "\n",
       "                                     header  header_len  \\\n",
       "11   gastroesophageal reflux disease (gerd)          38   \n",
       "74                                hair loss           9   \n",
       "420     coronavirus disease 2019 (covid-19)          35   \n",
       "\n",
       "                                                  meta  meta_len   bytes  \\\n",
       "11   GERD, in which stomach acid moves into the eso...       140   52830   \n",
       "74   Hair loss — Learn about the causes and treatme...       150   57288   \n",
       "420  Find out about coronavirus disease 2019 (COVID...       157  164386   \n",
       "\n",
       "     word_count  inlinks  unique_in  outlinks  unique_out  ext_links  \\\n",
       "11         1555       16          8        85          52         71   \n",
       "74         2046       11          6        79          48         72   \n",
       "420        5194       15          7        97          62        263   \n",
       "\n",
       "     unique_ext  top  pub_date  \n",
       "11           47  1.0  737567.0  \n",
       "74           50  1.0  737567.0  \n",
       "420         240  1.0  737567.0  "
      ]
     },
     "execution_count": 502,
     "metadata": {},
     "output_type": "execute_result"
    }
   ],
   "source": [
    "# updated again today! (may 22, 2020)\n",
    "data[data.pub_date == 737567.0]"
   ]
  },
  {
   "cell_type": "code",
   "execution_count": 503,
   "metadata": {},
   "outputs": [
    {
     "name": "stdout",
     "output_type": "stream",
     "text": [
      "pub_date and top :\n",
      "slope (coefficient): 0.00009\n",
      "intercept: -67.17998\n",
      "\n"
     ]
    }
   ],
   "source": [
    "# approximately 0 linear relationship between publication date and whether a page ranks in the top 500\n",
    "lin('pub_date', 'top')"
   ]
  },
  {
   "cell_type": "markdown",
   "metadata": {},
   "source": [
    "### Joint Linear Regression with all measurable variables"
   ]
  },
  {
   "cell_type": "code",
   "execution_count": 504,
   "metadata": {},
   "outputs": [
    {
     "name": "stdout",
     "output_type": "stream",
     "text": [
      "intercept: -65.6574\n",
      "score: 0.2243\n",
      "\n",
      "\n",
      "header_len\n",
      "coef: -0.0026\n",
      "\n",
      "meta_len\n",
      "coef: -0.0001\n",
      "\n",
      "bytes\n",
      "coef: -0.0000\n",
      "\n",
      "word_count\n",
      "coef: 0.0003\n",
      "\n",
      "inlinks\n",
      "coef: -0.0044\n",
      "\n",
      "unique_in\n",
      "coef: -0.0104\n",
      "\n",
      "outlinks\n",
      "coef: 0.0162\n",
      "\n",
      "unique_out\n",
      "coef: -0.0038\n",
      "\n",
      "ext_links\n",
      "coef: 0.0818\n",
      "\n",
      "unique_ext\n",
      "coef: -0.0787\n",
      "\n",
      "pub_date\n",
      "coef: 0.0001\n",
      "\n"
     ]
    }
   ],
   "source": [
    "all_vars = ['header_len', 'meta_len', 'bytes',\n",
    "       'word_count', 'inlinks', 'unique_in', 'outlinks', 'unique_out',\n",
    "       'ext_links', 'unique_ext','pub_date']\n",
    "joint(all_vars, 'top')"
   ]
  },
  {
   "cell_type": "markdown",
   "metadata": {},
   "source": [
    "A joint linear model of all of the variables in the dataset that may contribute to a URL ranking well in search only has 22% accuracy. We conclude that there is not a decisive linear relationship between the combination of these variables and whether a page on the Mayo Clinic domain will be included in its 500 best-ranking pages."
   ]
  },
  {
   "cell_type": "markdown",
   "metadata": {},
   "source": [
    "## Evaluation of significance."
   ]
  },
  {
   "cell_type": "markdown",
   "metadata": {},
   "source": [
    "The main patterns observed in the dataset above were as follows: word count and page size, inlinks and unique inlinks, outlinks and unique outlinks, and external links and unique external links all have a positive linear relationship between one another.\n",
    "\n",
    "To test the significance of these observations, I will shuffle the data to determine whether my observations are significantly different than random permutations of the data. "
   ]
  },
  {
   "cell_type": "code",
   "execution_count": 505,
   "metadata": {},
   "outputs": [],
   "source": [
    "def std_error(x, y, predictions):\n",
    "    x_mean = x.mean()\n",
    "    sum_x_squared = np.sum((x - x_mean)**2)\n",
    "    sum_squared_error = np.sum((y - predictions)**2)\n",
    "    return np.sqrt(sum_squared_error / ((len(x) - 2) * sum_x_squared))"
   ]
  },
  {
   "cell_type": "code",
   "execution_count": 506,
   "metadata": {
    "scrolled": false
   },
   "outputs": [],
   "source": [
    "def perm(var, target):\n",
    "    # original data\n",
    "    modl = LinearRegression().fit(data[[var]], data[target])\n",
    "    print(\"Slope:\", modl.coef_[0])\n",
    "    print(\"Error:\", std_error(data[var], data[target], modl.predict(data[[var]])))\n",
    "    \n",
    "    # random permutation of original data\n",
    "    rando = np.random.permutation(data[target].copy())\n",
    "    steeper_slopes = 0\n",
    "    for i in range(1000):\n",
    "        mo = LinearRegression().fit(data[[var]], rando)\n",
    "        if mo.coef_[0] > modl.coef_[0]:\n",
    "            steeper_slopes += 1\n",
    "    print('Number of steeper slopes: {}'.format(steeper_slopes))"
   ]
  },
  {
   "cell_type": "code",
   "execution_count": 507,
   "metadata": {},
   "outputs": [
    {
     "name": "stdout",
     "output_type": "stream",
     "text": [
      "Slope: -0.0035691320765961734\n",
      "Error: 0.0014742030126593786\n",
      "Number of steeper slopes: 1000\n"
     ]
    }
   ],
   "source": [
    "# test against insignificant negative relationship between header length and whether a page is a top page\n",
    "perm('header_len', \"top\")"
   ]
  },
  {
   "cell_type": "markdown",
   "metadata": {},
   "source": [
    "With random permutations of the data, we do not obtain any slopes steeper than the actual slopes of the linear models of the relationships between the variables below."
   ]
  },
  {
   "cell_type": "code",
   "execution_count": 508,
   "metadata": {},
   "outputs": [
    {
     "name": "stdout",
     "output_type": "stream",
     "text": [
      "Slope: 13.334844828067695\n",
      "Error: 0.24384291486896184\n",
      "Number of steeper slopes: 0\n"
     ]
    }
   ],
   "source": [
    "perm('word_count', 'bytes')"
   ]
  },
  {
   "cell_type": "code",
   "execution_count": 509,
   "metadata": {
    "scrolled": true
   },
   "outputs": [
    {
     "name": "stdout",
     "output_type": "stream",
     "text": [
      "Slope: 0.6543850970103171\n",
      "Error: 0.004877191351672329\n",
      "Number of steeper slopes: 0\n"
     ]
    }
   ],
   "source": [
    "perm('inlinks', \"unique_in\")"
   ]
  },
  {
   "cell_type": "code",
   "execution_count": 510,
   "metadata": {},
   "outputs": [
    {
     "name": "stdout",
     "output_type": "stream",
     "text": [
      "Slope: 0.8138957555167631\n",
      "Error: 0.004456847613708415\n",
      "Number of steeper slopes: 0\n"
     ]
    }
   ],
   "source": [
    "# same with outlinks\n",
    "perm('outlinks', \"unique_out\")"
   ]
  },
  {
   "cell_type": "markdown",
   "metadata": {},
   "source": [
    "## Conclusion."
   ]
  },
  {
   "cell_type": "markdown",
   "metadata": {},
   "source": [
    "Over the course of my data analysis, I found that the dataset that I had gathered so painstakingly combining web scraping and several datasets calculated with and downloaded from SEO tools was not well suited for the type of analysis I was attempting. My research question was about how to rank well in search, but the question I posed is complicated; pages rank differently in search depending on the search terms themselves, so there is no concrete number to reference for a page's ranking. I did not have a good indication of the quality of the Mayo Clinic URLs I wanted to look at in comparison to one another nor to another domain's pages.\n",
    "\n",
    "In my ambitious undertaking of multiple rounds of data collection and analysis, I still was unable to find any satisfactory results. But I learned quite a lot about the process of a project like this, and how to better think ahead about the data I would be examining and how best to approach it.\n",
    "\n",
    "I would have had to collect more data about Mayo Clinic pages or the pages of another healthcare website that don't rank as well to best answer this question, but the SEO tools I had access to only give you a limited amount of information (the 500 top pages of a domain, the keywords pages rank #1 for...) In my effort to find some measure of how well a page is optimizing in search from the data I had access to, I first turned to the measure of page authority as defined by Moz (https://moz.com/learn/seo/page-authority):\n",
    "\n",
    "\"Page Authority (PA) is a score developed by Moz that predicts how well a specific page will rank on search engine result pages (SERP). Page Authority scores range from one to 100, with higher scores corresponding to a greater ability to rank. ... Because it's a comparative tool, there isn't necessarily a \"good\" or \"bad\" Page Authority score. ... Like Domain Authority, Page Authority is a holistic score and difficult to influence directly. It is made up of an aggregate of metrics that each have an impact on the score. This multi-factorial dependence is intentional: Since Google takes a lot of factors into account when ranking a page, a metric that tries to calculate it must incorporate a lot of factors, as well.\"\n",
    "\n",
    "However, Page Authority is largely comparative of other domains, and with my data I wanted to examine how Mayo Clinic's Symptoms and Causes pages compared between one another. My next idea was to I gather data about the 500 Top Pages of the Mayo Clinic domain and merge the the page authority of the Symptoms and Causes pages within it, converting the page authority column to binary data describing whether the URL was in the Top Pages or not (with the column called \"top\"). Those in the top 500 list were marked with a 1 for true, and the rest of the pages already in my dataset that had not been in the top 500 were marked with a 0 for false.\n",
    "\n",
    "Upon analyzing the data with logistic regressions to measure how data from SEO Spider about different variables of the page such as word count, page size, links, and publication date affected whether a page was a top page of the Mayo Clinic domain or not, I did not find any staggering results. My models were not the right fir for the data I had and that data I had was not the right fit for the research question I was posing, thus I am not very confident in my conclusions, except to say this: there is no formula for ranking better in Google that one can easily extract from performing simple analysis of pages that rank well. There is good reason for why many people interested in search engine optimization make such a study of search engine algorithms when trying to increase the impact of their online presence!"
   ]
  },
  {
   "cell_type": "markdown",
   "metadata": {},
   "source": [
    "## Source code.\n",
    "**Link to my Github repository**: https://github.coecis.cornell.edu/erc97/info2950"
   ]
  },
  {
   "cell_type": "markdown",
   "metadata": {},
   "source": [
    "## Acknowledgments.\n",
    "I would first and foremost like to thank Professor David Mimno and the INFO 2950 course staff. I could not have come close to producing a project like this, feeble results aside, without your tutelage this semester, in person and remotely. Spepcifically, the lectures, lecture videos, lecture code, homeworks, and section help that clarified my knowledge of the material have taught me an overwhelming amount that I will carry forward with me into my senior year. I would like to mention Irena and Greg for the examples of data cleaning and other tutorials that were especially helpful.\n",
    "\n",
    "I would also like to thank my boss at MGHfC, Dave Ekrem, for teaching me all about search engine optimization and inspiring my curiosity about what goes on behind the scenes with search engine algorithms. I hope I can continue using data science to give us more ideas about how to step up MGHfC's digital marketing.\n",
    "\n",
    "I of course owe the Mayo Clinic a debt of gratitude for providing the data that I analyzed, as well as SEO Spider and Moz Pro for the tools they provided for that analysis as well as their tips about SEO strategy.\n",
    "\n",
    "Finally, I could not have written all of the code I did without the help of Matplotlib documentation, Towards Data Science, and of course, Stack Overflow.\n",
    "\n",
    "- Pages that were especially helpful:\n",
    "    - https://stackoverflow.com/questions/33814887/python-pandas-printing-out-values-of-each-cells\n",
    "    - https://stackoverflow.com/questions/466345/converting-string-into-datetime\n",
    "    - https://stackoverflow.com/questions/1574088/plotting-time-in-python-with-matplotlib\n",
    "    - https://towardsdatascience.com/building-a-logistic-regression-in-python-step-by-step-becd4d56c9c8"
   ]
  },
  {
   "cell_type": "code",
   "execution_count": null,
   "metadata": {},
   "outputs": [],
   "source": []
  }
 ],
 "metadata": {
  "kernelspec": {
   "display_name": "Python 3",
   "language": "python",
   "name": "python3"
  },
  "language_info": {
   "codemirror_mode": {
    "name": "ipython",
    "version": 3
   },
   "file_extension": ".py",
   "mimetype": "text/x-python",
   "name": "python",
   "nbconvert_exporter": "python",
   "pygments_lexer": "ipython3",
   "version": "3.7.6"
  }
 },
 "nbformat": 4,
 "nbformat_minor": 2
}
