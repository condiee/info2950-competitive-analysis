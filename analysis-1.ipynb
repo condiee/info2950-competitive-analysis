{
 "cells": [
  {
   "cell_type": "markdown",
   "metadata": {},
   "source": [
    "# Data Analysis and Evaluation:"
   ]
  },
  {
   "cell_type": "code",
   "execution_count": 337,
   "metadata": {},
   "outputs": [],
   "source": [
    "import pandas as pd\n",
    "import matplotlib.pyplot as plt\n",
    "import numpy as np\n",
    "from sklearn.linear_model import LinearRegression, LogisticRegression\n",
    "from datetime import datetime\n",
    "from bs4 import BeautifulSoup\n",
    "import requests\n",
    "import re\n",
    "import matplotlib.dates as dt"
   ]
  },
  {
   "cell_type": "code",
   "execution_count": 367,
   "metadata": {},
   "outputs": [
    {
     "data": {
      "text/html": [
       "<div>\n",
       "<style scoped>\n",
       "    .dataframe tbody tr th:only-of-type {\n",
       "        vertical-align: middle;\n",
       "    }\n",
       "\n",
       "    .dataframe tbody tr th {\n",
       "        vertical-align: top;\n",
       "    }\n",
       "\n",
       "    .dataframe thead th {\n",
       "        text-align: right;\n",
       "    }\n",
       "</style>\n",
       "<table border=\"1\" class=\"dataframe\">\n",
       "  <thead>\n",
       "    <tr style=\"text-align: right;\">\n",
       "      <th></th>\n",
       "      <th>url</th>\n",
       "      <th>header</th>\n",
       "      <th>header_len</th>\n",
       "      <th>meta</th>\n",
       "      <th>meta_len</th>\n",
       "      <th>bytes</th>\n",
       "      <th>word_count</th>\n",
       "      <th>inlinks</th>\n",
       "      <th>unique_in</th>\n",
       "      <th>outlinks</th>\n",
       "      <th>unique_out</th>\n",
       "      <th>ext_links</th>\n",
       "      <th>unique_ext</th>\n",
       "      <th>top</th>\n",
       "      <th>pub_date</th>\n",
       "    </tr>\n",
       "  </thead>\n",
       "  <tbody>\n",
       "    <tr>\n",
       "      <th>0</th>\n",
       "      <td>https://www.mayoclinic.org/diseases-conditions...</td>\n",
       "      <td>digeorge syndrome (22q11.2 deletion syndrome)</td>\n",
       "      <td>45</td>\n",
       "      <td>DiGeorge syndrome (22q11.2 deletion syndrome) ...</td>\n",
       "      <td>151</td>\n",
       "      <td>57561</td>\n",
       "      <td>2212</td>\n",
       "      <td>13</td>\n",
       "      <td>7</td>\n",
       "      <td>70</td>\n",
       "      <td>44</td>\n",
       "      <td>67</td>\n",
       "      <td>45</td>\n",
       "      <td>0</td>\n",
       "      <td>2017-07-18</td>\n",
       "    </tr>\n",
       "    <tr>\n",
       "      <th>1</th>\n",
       "      <td>https://www.mayoclinic.org/diseases-conditions...</td>\n",
       "      <td>atrial fibrillation</td>\n",
       "      <td>19</td>\n",
       "      <td>Find out about atrial fibrillation, a heart co...</td>\n",
       "      <td>152</td>\n",
       "      <td>68770</td>\n",
       "      <td>2732</td>\n",
       "      <td>31</td>\n",
       "      <td>19</td>\n",
       "      <td>100</td>\n",
       "      <td>71</td>\n",
       "      <td>75</td>\n",
       "      <td>52</td>\n",
       "      <td>1</td>\n",
       "      <td>2019-06-20</td>\n",
       "    </tr>\n",
       "    <tr>\n",
       "      <th>2</th>\n",
       "      <td>https://www.mayoclinic.org/diseases-conditions...</td>\n",
       "      <td>abdominal aortic aneurysm</td>\n",
       "      <td>25</td>\n",
       "      <td>An abdominal aortic aneurysm can grow slowly a...</td>\n",
       "      <td>128</td>\n",
       "      <td>48752</td>\n",
       "      <td>1530</td>\n",
       "      <td>26</td>\n",
       "      <td>15</td>\n",
       "      <td>78</td>\n",
       "      <td>49</td>\n",
       "      <td>67</td>\n",
       "      <td>45</td>\n",
       "      <td>0</td>\n",
       "      <td>2019-03-15</td>\n",
       "    </tr>\n",
       "    <tr>\n",
       "      <th>3</th>\n",
       "      <td>https://www.mayoclinic.org/diseases-conditions...</td>\n",
       "      <td>hyperhidrosis</td>\n",
       "      <td>13</td>\n",
       "      <td>Learn more about causes, symptoms, treatment a...</td>\n",
       "      <td>153</td>\n",
       "      <td>45026</td>\n",
       "      <td>1385</td>\n",
       "      <td>16</td>\n",
       "      <td>11</td>\n",
       "      <td>75</td>\n",
       "      <td>46</td>\n",
       "      <td>67</td>\n",
       "      <td>45</td>\n",
       "      <td>0</td>\n",
       "      <td>2017-10-27</td>\n",
       "    </tr>\n",
       "    <tr>\n",
       "      <th>4</th>\n",
       "      <td>https://www.mayoclinic.org/diseases-conditions...</td>\n",
       "      <td>bartholin's cyst</td>\n",
       "      <td>16</td>\n",
       "      <td>A Bartholin's cyst is a fluid-filled lump near...</td>\n",
       "      <td>126</td>\n",
       "      <td>43037</td>\n",
       "      <td>1202</td>\n",
       "      <td>12</td>\n",
       "      <td>6</td>\n",
       "      <td>70</td>\n",
       "      <td>44</td>\n",
       "      <td>67</td>\n",
       "      <td>45</td>\n",
       "      <td>0</td>\n",
       "      <td>2020-04-24</td>\n",
       "    </tr>\n",
       "  </tbody>\n",
       "</table>\n",
       "</div>"
      ],
      "text/plain": [
       "                                                 url  \\\n",
       "0  https://www.mayoclinic.org/diseases-conditions...   \n",
       "1  https://www.mayoclinic.org/diseases-conditions...   \n",
       "2  https://www.mayoclinic.org/diseases-conditions...   \n",
       "3  https://www.mayoclinic.org/diseases-conditions...   \n",
       "4  https://www.mayoclinic.org/diseases-conditions...   \n",
       "\n",
       "                                          header  header_len  \\\n",
       "0  digeorge syndrome (22q11.2 deletion syndrome)          45   \n",
       "1                            atrial fibrillation          19   \n",
       "2                      abdominal aortic aneurysm          25   \n",
       "3                                  hyperhidrosis          13   \n",
       "4                               bartholin's cyst          16   \n",
       "\n",
       "                                                meta  meta_len  bytes  \\\n",
       "0  DiGeorge syndrome (22q11.2 deletion syndrome) ...       151  57561   \n",
       "1  Find out about atrial fibrillation, a heart co...       152  68770   \n",
       "2  An abdominal aortic aneurysm can grow slowly a...       128  48752   \n",
       "3  Learn more about causes, symptoms, treatment a...       153  45026   \n",
       "4  A Bartholin's cyst is a fluid-filled lump near...       126  43037   \n",
       "\n",
       "   word_count  inlinks  unique_in  outlinks  unique_out  ext_links  \\\n",
       "0        2212       13          7        70          44         67   \n",
       "1        2732       31         19       100          71         75   \n",
       "2        1530       26         15        78          49         67   \n",
       "3        1385       16         11        75          46         67   \n",
       "4        1202       12          6        70          44         67   \n",
       "\n",
       "   unique_ext  top    pub_date  \n",
       "0          45    0  2017-07-18  \n",
       "1          52    1  2019-06-20  \n",
       "2          45    0  2019-03-15  \n",
       "3          45    0  2017-10-27  \n",
       "4          45    0  2020-04-24  "
      ]
     },
     "execution_count": 367,
     "metadata": {},
     "output_type": "execute_result"
    }
   ],
   "source": [
    "# read in polished dataset from collection-final.ipynb\n",
    "data = pd.read_csv(\"data.csv\", index_col=0)\n",
    "data.head()"
   ]
  },
  {
   "cell_type": "code",
   "execution_count": 420,
   "metadata": {
    "scrolled": true
   },
   "outputs": [
    {
     "data": {
      "text/html": [
       "<div>\n",
       "<style scoped>\n",
       "    .dataframe tbody tr th:only-of-type {\n",
       "        vertical-align: middle;\n",
       "    }\n",
       "\n",
       "    .dataframe tbody tr th {\n",
       "        vertical-align: top;\n",
       "    }\n",
       "\n",
       "    .dataframe thead th {\n",
       "        text-align: right;\n",
       "    }\n",
       "</style>\n",
       "<table border=\"1\" class=\"dataframe\">\n",
       "  <thead>\n",
       "    <tr style=\"text-align: right;\">\n",
       "      <th></th>\n",
       "      <th>url</th>\n",
       "      <th>header</th>\n",
       "      <th>header_len</th>\n",
       "      <th>meta</th>\n",
       "      <th>meta_len</th>\n",
       "      <th>bytes</th>\n",
       "      <th>word_count</th>\n",
       "      <th>inlinks</th>\n",
       "      <th>unique_in</th>\n",
       "      <th>outlinks</th>\n",
       "      <th>unique_out</th>\n",
       "      <th>ext_links</th>\n",
       "      <th>unique_ext</th>\n",
       "      <th>top</th>\n",
       "      <th>pub_date</th>\n",
       "    </tr>\n",
       "  </thead>\n",
       "  <tbody>\n",
       "    <tr>\n",
       "      <th>0</th>\n",
       "      <td>https://www.mayoclinic.org/diseases-conditions...</td>\n",
       "      <td>digeorge syndrome (22q11.2 deletion syndrome)</td>\n",
       "      <td>45</td>\n",
       "      <td>DiGeorge syndrome (22q11.2 deletion syndrome) ...</td>\n",
       "      <td>151</td>\n",
       "      <td>57561</td>\n",
       "      <td>2212</td>\n",
       "      <td>13</td>\n",
       "      <td>7</td>\n",
       "      <td>70</td>\n",
       "      <td>44</td>\n",
       "      <td>67</td>\n",
       "      <td>45</td>\n",
       "      <td>0</td>\n",
       "      <td>736528.0</td>\n",
       "    </tr>\n",
       "    <tr>\n",
       "      <th>1</th>\n",
       "      <td>https://www.mayoclinic.org/diseases-conditions...</td>\n",
       "      <td>atrial fibrillation</td>\n",
       "      <td>19</td>\n",
       "      <td>Find out about atrial fibrillation, a heart co...</td>\n",
       "      <td>152</td>\n",
       "      <td>68770</td>\n",
       "      <td>2732</td>\n",
       "      <td>31</td>\n",
       "      <td>19</td>\n",
       "      <td>100</td>\n",
       "      <td>71</td>\n",
       "      <td>75</td>\n",
       "      <td>52</td>\n",
       "      <td>1</td>\n",
       "      <td>737230.0</td>\n",
       "    </tr>\n",
       "  </tbody>\n",
       "</table>\n",
       "</div>"
      ],
      "text/plain": [
       "                                                 url  \\\n",
       "0  https://www.mayoclinic.org/diseases-conditions...   \n",
       "1  https://www.mayoclinic.org/diseases-conditions...   \n",
       "\n",
       "                                          header  header_len  \\\n",
       "0  digeorge syndrome (22q11.2 deletion syndrome)          45   \n",
       "1                            atrial fibrillation          19   \n",
       "\n",
       "                                                meta  meta_len  bytes  \\\n",
       "0  DiGeorge syndrome (22q11.2 deletion syndrome) ...       151  57561   \n",
       "1  Find out about atrial fibrillation, a heart co...       152  68770   \n",
       "\n",
       "   word_count  inlinks  unique_in  outlinks  unique_out  ext_links  \\\n",
       "0        2212       13          7        70          44         67   \n",
       "1        2732       31         19       100          71         75   \n",
       "\n",
       "   unique_ext  top  pub_date  \n",
       "0          45    0  736528.0  \n",
       "1          52    1  737230.0  "
      ]
     },
     "execution_count": 420,
     "metadata": {},
     "output_type": "execute_result"
    }
   ],
   "source": [
    "data.head(2)"
   ]
  },
  {
   "cell_type": "code",
   "execution_count": 421,
   "metadata": {},
   "outputs": [
    {
     "data": {
      "text/plain": [
       "False"
      ]
     },
     "execution_count": 421,
     "metadata": {},
     "output_type": "execute_result"
    }
   ],
   "source": [
    "# triple check for null values\n",
    "data.isnull().values.any()"
   ]
  },
  {
   "cell_type": "code",
   "execution_count": 422,
   "metadata": {},
   "outputs": [
    {
     "data": {
      "text/plain": [
       "(1145, 15)"
      ]
     },
     "execution_count": 422,
     "metadata": {},
     "output_type": "execute_result"
    }
   ],
   "source": [
    "# final dataset counts\n",
    "data.shape"
   ]
  },
  {
   "cell_type": "code",
   "execution_count": 423,
   "metadata": {
    "scrolled": false
   },
   "outputs": [
    {
     "data": {
      "text/plain": [
       "Index(['url', 'header', 'header_len', 'meta', 'meta_len', 'bytes',\n",
       "       'word_count', 'inlinks', 'unique_in', 'outlinks', 'unique_out',\n",
       "       'ext_links', 'unique_ext', 'top', 'pub_date'],\n",
       "      dtype='object')"
      ]
     },
     "execution_count": 423,
     "metadata": {},
     "output_type": "execute_result"
    }
   ],
   "source": [
    "# columns of data to work with\n",
    "data.columns"
   ]
  },
  {
   "cell_type": "code",
   "execution_count": 270,
   "metadata": {},
   "outputs": [],
   "source": [
    "# function to examine a column of data with summary functions and visual displays\n",
    "def examine(df, column, bins):\n",
    "    plt.hist(df[column], bins=bins)\n",
    "    plt.title(column)\n",
    "    plt.show()\n",
    "    print(\"min:\", df[column].min())\n",
    "    print(\"max:\", df[column].max())\n",
    "    print(\"mean:\", df[column].mean())\n",
    "    print(\"variance:\", df[column].var())\n",
    "    print(\"stan dev:\", df[column].std())"
   ]
  },
  {
   "cell_type": "code",
   "execution_count": 271,
   "metadata": {},
   "outputs": [],
   "source": [
    "# function to model patterns or relationships between variables\n",
    "def relate(x, y):\n",
    "    print(\"Covariance:\", round(np.cov(x, y)[0,1],5))\n",
    "    print(\"Correlation:\", round(np.corrcoef(x,y)[0,1],5))\n",
    "    xdata = x.values.reshape(-1,1)\n",
    "    ydata = y.values.reshape(-1,1)\n",
    "    mod = LinearRegression().fit(xdata, ydata)\n",
    "    print(\"R squared:\", round(mod.score(xdata, ydata),5))\n",
    "    print(\"Linear Regression Slope:\", mod.coef_[0][0])"
   ]
  },
  {
   "cell_type": "code",
   "execution_count": 272,
   "metadata": {},
   "outputs": [],
   "source": [
    "# function to look at the data in a specific range (excluding outliers)\n",
    "def exclude(df, column, start, end, bins):\n",
    "    plt.hist(df[column], range = (start, end), bins=bins)\n",
    "    plt.title(column + \": range \" + str(start) + \" - \" + str(end))\n",
    "    plt.show()"
   ]
  },
  {
   "cell_type": "code",
   "execution_count": 454,
   "metadata": {
    "scrolled": false
   },
   "outputs": [],
   "source": [
    "# compute and display logistic regression\n",
    "def log_reg(column1, column2):\n",
    "    model = LogisticRegression(solver=\"lbfgs\").fit(column1.values.reshape(-1, 1), column2)\n",
    "    model.coef_, model.intercept_\n",
    "\n",
    "    x_values = np.linspace(0, 25, 100)\n",
    "    y_values = (np.exp(x_values * model.coef_[0,0] + model.intercept_[0])) / (1 + (np.exp(x_values * model.coef_[0,0] + model.intercept_[0])))\n",
    "    \n",
    "    plt.scatter(column1, column2 + np.random.normal(0, 0.05, size=len(column1)), alpha=0.1)\n",
    "    plt.plot(x_values, y_values)\n",
    "    plt.show()"
   ]
  },
  {
   "cell_type": "code",
   "execution_count": 424,
   "metadata": {},
   "outputs": [
    {
     "name": "stdout",
     "output_type": "stream",
     "text": [
      "18.8646288209607 % of pages in this dataset are in the Mayo Clinic's 500 top-ranking pages for 'page authority'.\n"
     ]
    }
   ],
   "source": [
    "# Symptoms and Causes pages that were listed in the 500 top-ranking pages of the Mayo Clinic's domain by Moz\n",
    "\n",
    "ranked = data[data['top']==1]\n",
    "print(((len(ranked) / len(data)) * 100), \"% of pages in this dataset are in the Mayo Clinic's 500 top-ranking pages for 'page authority'.\")"
   ]
  },
  {
   "cell_type": "code",
   "execution_count": 425,
   "metadata": {},
   "outputs": [
    {
     "data": {
      "text/plain": [
       "Index(['url', 'header', 'header_len', 'meta', 'meta_len', 'bytes',\n",
       "       'word_count', 'inlinks', 'unique_in', 'outlinks', 'unique_out',\n",
       "       'ext_links', 'unique_ext', 'top', 'pub_date'],\n",
       "      dtype='object')"
      ]
     },
     "execution_count": 425,
     "metadata": {},
     "output_type": "execute_result"
    }
   ],
   "source": [
    "# create separate dataframe with ranked pages\n",
    "ranked.columns"
   ]
  },
  {
   "cell_type": "code",
   "execution_count": 426,
   "metadata": {},
   "outputs": [
    {
     "data": {
      "text/plain": [
       "(216, 15)"
      ]
     },
     "execution_count": 426,
     "metadata": {},
     "output_type": "execute_result"
    }
   ],
   "source": [
    "ranked.shape"
   ]
  },
  {
   "cell_type": "markdown",
   "metadata": {},
   "source": [
    "### header"
   ]
  },
  {
   "cell_type": "code",
   "execution_count": 273,
   "metadata": {},
   "outputs": [
    {
     "data": {
      "image/png": "[encoded data removed]",
      "text/plain": [
       "<Figure size 432x288 with 1 Axes>"
      ]
     },
     "metadata": {
      "needs_background": "light"
     },
     "output_type": "display_data"
    },
    {
     "name": "stdout",
     "output_type": "stream",
     "text": [
      "min: 3\n",
      "max: 59\n",
      "mean: 17.97292576419214\n",
      "variance: 69.04909151983388\n",
      "stan dev: 8.309578299759494\n"
     ]
    }
   ],
   "source": [
    "examine(data, \"header_len\", 55)"
   ]
  },
  {
   "cell_type": "markdown",
   "metadata": {},
   "source": [
    "SEO strategy recommends short, descriptive h1 headers that contains a page keyword; here, that means the name of the condition. It thus is unsurprising that the data peaks between 10 and 20 characters. It is not quite a normal distribution, since headers are more likely to have more characters than fewer; those that have more are likely conditions with long names or two different names (one more scientific, one translated from medical terminology into a name more evident), where one is listed after the other in parentheses. "
   ]
  },
  {
   "cell_type": "code",
   "execution_count": 78,
   "metadata": {},
   "outputs": [
    {
     "data": {
      "text/plain": [
       "['digeorge syndrome (22q11.2 deletion syndrome)',\n",
       " 'attention-deficit/hyperactivity disorder (adhd) in children',\n",
       " 'adult attention-deficit/hyperactivity disorder (adhd)',\n",
       " 'benign paroxysmal positional vertigo (bppv)',\n",
       " 'subconjunctival hemorrhage (broken blood vessel in eye)',\n",
       " 'paraneoplastic syndromes of the nervous system',\n",
       " 'central nervous system vascular malformations',\n",
       " 'diffuse idiopathic skeletal hyperostosis (dish)',\n",
       " 'persistent depressive disorder (dysthymia)',\n",
       " 'premature ventricular contractions (pvcs)',\n",
       " 'focal segmental glomerulosclerosis (fsgs)',\n",
       " 'functional neurologic disorders/conversion disorder',\n",
       " 'helicobacter pylori (h. pylori) infection',\n",
       " 'monoclonal gammopathy of undetermined significance (mgus)',\n",
       " 'multiple endocrine neoplasia, type 1 (men 1)',\n",
       " 'orthostatic hypotension (postural hypotension)',\n",
       " 'small intestinal bacterial overgrowth (sibo)',\n",
       " 'spontaneous coronary artery dissection (scad)']"
      ]
     },
     "execution_count": 78,
     "metadata": {},
     "output_type": "execute_result"
    }
   ],
   "source": [
    "# like these\n",
    "data[data[\"header_len\"]>40]['header'].values.tolist()"
   ]
  },
  {
   "cell_type": "code",
   "execution_count": 427,
   "metadata": {},
   "outputs": [
    {
     "data": {
      "image/png": "[encoded data removed]",
      "text/plain": [
       "<Figure size 432x288 with 1 Axes>"
      ]
     },
     "metadata": {
      "needs_background": "light"
     },
     "output_type": "display_data"
    },
    {
     "name": "stdout",
     "output_type": "stream",
     "text": [
      "min: 4\n",
      "max: 43\n",
      "mean: 16.62037037037037\n",
      "variance: 72.02265288544359\n",
      "stan dev: 8.486616103338456\n"
     ]
    }
   ],
   "source": [
    "# similar shape with only top-ranked pages\n",
    "examine(ranked, \"header_len\", 55)"
   ]
  },
  {
   "cell_type": "markdown",
   "metadata": {},
   "source": [
    "### meta description"
   ]
  },
  {
   "cell_type": "code",
   "execution_count": 274,
   "metadata": {
    "scrolled": false
   },
   "outputs": [
    {
     "data": {
      "image/png": "[encoded data removed]",
      "text/plain": [
       "<Figure size 432x288 with 1 Axes>"
      ]
     },
     "metadata": {
      "needs_background": "light"
     },
     "output_type": "display_data"
    },
    {
     "name": "stdout",
     "output_type": "stream",
     "text": [
      "min: 0\n",
      "max: 229\n",
      "mean: 132.05502183406114\n",
      "variance: 493.88245946193547\n",
      "stan dev: 22.223466414174354\n"
     ]
    }
   ],
   "source": [
    "examine(data, \"meta_len\", 50)"
   ]
  },
  {
   "cell_type": "code",
   "execution_count": 87,
   "metadata": {
    "scrolled": true
   },
   "outputs": [
    {
     "data": {
      "text/html": [
       "<div>\n",
       "<style scoped>\n",
       "    .dataframe tbody tr th:only-of-type {\n",
       "        vertical-align: middle;\n",
       "    }\n",
       "\n",
       "    .dataframe tbody tr th {\n",
       "        vertical-align: top;\n",
       "    }\n",
       "\n",
       "    .dataframe thead th {\n",
       "        text-align: right;\n",
       "    }\n",
       "</style>\n",
       "<table border=\"1\" class=\"dataframe\">\n",
       "  <thead>\n",
       "    <tr style=\"text-align: right;\">\n",
       "      <th></th>\n",
       "      <th>url</th>\n",
       "      <th>header</th>\n",
       "      <th>header_len</th>\n",
       "      <th>meta</th>\n",
       "      <th>meta_len</th>\n",
       "      <th>bytes</th>\n",
       "      <th>word_count</th>\n",
       "      <th>inlinks</th>\n",
       "      <th>unique_in</th>\n",
       "      <th>outlinks</th>\n",
       "      <th>unique_out</th>\n",
       "      <th>ext_links</th>\n",
       "      <th>unique_ext</th>\n",
       "      <th>top</th>\n",
       "      <th>pub_date</th>\n",
       "    </tr>\n",
       "  </thead>\n",
       "  <tbody>\n",
       "    <tr>\n",
       "      <th>1077</th>\n",
       "      <td>https://www.mayoclinic.org/diseases-conditions...</td>\n",
       "      <td>supraventricular tachycardia</td>\n",
       "      <td>28</td>\n",
       "      <td>Supraventricular tachycardia (SVT) is an abnor...</td>\n",
       "      <td>229</td>\n",
       "      <td>55958</td>\n",
       "      <td>2211</td>\n",
       "      <td>22</td>\n",
       "      <td>11</td>\n",
       "      <td>80</td>\n",
       "      <td>51</td>\n",
       "      <td>67</td>\n",
       "      <td>45</td>\n",
       "      <td>0</td>\n",
       "      <td>2019-11-13</td>\n",
       "    </tr>\n",
       "  </tbody>\n",
       "</table>\n",
       "</div>"
      ],
      "text/plain": [
       "                                                    url  \\\n",
       "1077  https://www.mayoclinic.org/diseases-conditions...   \n",
       "\n",
       "                            header  header_len  \\\n",
       "1077  supraventricular tachycardia          28   \n",
       "\n",
       "                                                   meta  meta_len  bytes  \\\n",
       "1077  Supraventricular tachycardia (SVT) is an abnor...       229  55958   \n",
       "\n",
       "      word_count  inlinks  unique_in  outlinks  unique_out  ext_links  \\\n",
       "1077        2211       22         11        80          51         67   \n",
       "\n",
       "      unique_ext  top    pub_date  \n",
       "1077          45    0  2019-11-13  "
      ]
     },
     "execution_count": 87,
     "metadata": {},
     "output_type": "execute_result"
    }
   ],
   "source": [
    "# check higher values\n",
    "data.loc[data[\"meta_len\"]>200]"
   ]
  },
  {
   "cell_type": "code",
   "execution_count": 96,
   "metadata": {},
   "outputs": [
    {
     "data": {
      "text/plain": [
       "18"
      ]
     },
     "execution_count": 96,
     "metadata": {},
     "output_type": "execute_result"
    }
   ],
   "source": [
    "# check how many are longer than 160 characters\n",
    "len(data.loc[data[\"meta_len\"]>160])"
   ]
  },
  {
   "cell_type": "markdown",
   "metadata": {},
   "source": [
    "According to Moz (https://moz.com/learn/seo/meta-description), Google usually only shows meta descriptions up to 160 characters long. The Mayo Clinic has kept all but 18 of their Symptoms and Causes meta descriptions within this limit."
   ]
  },
  {
   "cell_type": "code",
   "execution_count": 89,
   "metadata": {
    "scrolled": true
   },
   "outputs": [
    {
     "data": {
      "text/html": [
       "<div>\n",
       "<style scoped>\n",
       "    .dataframe tbody tr th:only-of-type {\n",
       "        vertical-align: middle;\n",
       "    }\n",
       "\n",
       "    .dataframe tbody tr th {\n",
       "        vertical-align: top;\n",
       "    }\n",
       "\n",
       "    .dataframe thead th {\n",
       "        text-align: right;\n",
       "    }\n",
       "</style>\n",
       "<table border=\"1\" class=\"dataframe\">\n",
       "  <thead>\n",
       "    <tr style=\"text-align: right;\">\n",
       "      <th></th>\n",
       "      <th>url</th>\n",
       "      <th>header</th>\n",
       "      <th>header_len</th>\n",
       "      <th>meta</th>\n",
       "      <th>meta_len</th>\n",
       "      <th>bytes</th>\n",
       "      <th>word_count</th>\n",
       "      <th>inlinks</th>\n",
       "      <th>unique_in</th>\n",
       "      <th>outlinks</th>\n",
       "      <th>unique_out</th>\n",
       "      <th>ext_links</th>\n",
       "      <th>unique_ext</th>\n",
       "      <th>top</th>\n",
       "      <th>pub_date</th>\n",
       "    </tr>\n",
       "  </thead>\n",
       "  <tbody>\n",
       "    <tr>\n",
       "      <th>131</th>\n",
       "      <td>https://www.mayoclinic.org/diseases-conditions...</td>\n",
       "      <td>aortic valve disease</td>\n",
       "      <td>20</td>\n",
       "      <td>What is aortic valve disease?</td>\n",
       "      <td>29</td>\n",
       "      <td>53338</td>\n",
       "      <td>1681</td>\n",
       "      <td>16</td>\n",
       "      <td>11</td>\n",
       "      <td>79</td>\n",
       "      <td>50</td>\n",
       "      <td>68</td>\n",
       "      <td>46</td>\n",
       "      <td>0</td>\n",
       "      <td>2020-01-09</td>\n",
       "    </tr>\n",
       "    <tr>\n",
       "      <th>834</th>\n",
       "      <td>https://www.mayoclinic.org/diseases-conditions...</td>\n",
       "      <td>mitral valve disease</td>\n",
       "      <td>20</td>\n",
       "      <td>What is mitral valve disease?</td>\n",
       "      <td>30</td>\n",
       "      <td>54820</td>\n",
       "      <td>1704</td>\n",
       "      <td>24</td>\n",
       "      <td>15</td>\n",
       "      <td>84</td>\n",
       "      <td>55</td>\n",
       "      <td>68</td>\n",
       "      <td>46</td>\n",
       "      <td>0</td>\n",
       "      <td>2020-01-07</td>\n",
       "    </tr>\n",
       "    <tr>\n",
       "      <th>1085</th>\n",
       "      <td>https://www.mayoclinic.org/diseases-conditions...</td>\n",
       "      <td>tapeworm infection</td>\n",
       "      <td>18</td>\n",
       "      <td></td>\n",
       "      <td>0</td>\n",
       "      <td>47202</td>\n",
       "      <td>1731</td>\n",
       "      <td>15</td>\n",
       "      <td>6</td>\n",
       "      <td>71</td>\n",
       "      <td>45</td>\n",
       "      <td>67</td>\n",
       "      <td>45</td>\n",
       "      <td>0</td>\n",
       "      <td>2017-12-15</td>\n",
       "    </tr>\n",
       "  </tbody>\n",
       "</table>\n",
       "</div>"
      ],
      "text/plain": [
       "                                                    url                header  \\\n",
       "131   https://www.mayoclinic.org/diseases-conditions...  aortic valve disease   \n",
       "834   https://www.mayoclinic.org/diseases-conditions...  mitral valve disease   \n",
       "1085  https://www.mayoclinic.org/diseases-conditions...    tapeworm infection   \n",
       "\n",
       "      header_len                            meta  meta_len  bytes  word_count  \\\n",
       "131           20   What is aortic valve disease?        29  53338        1681   \n",
       "834           20  What is mitral valve disease?         30  54820        1704   \n",
       "1085          18                                         0  47202        1731   \n",
       "\n",
       "      inlinks  unique_in  outlinks  unique_out  ext_links  unique_ext  top  \\\n",
       "131        16         11        79          50         68          46    0   \n",
       "834        24         15        84          55         68          46    0   \n",
       "1085       15          6        71          45         67          45    0   \n",
       "\n",
       "        pub_date  \n",
       "131   2020-01-09  \n",
       "834   2020-01-07  \n",
       "1085  2017-12-15  "
      ]
     },
     "execution_count": 89,
     "metadata": {},
     "output_type": "execute_result"
    }
   ],
   "source": [
    "# check lower values\n",
    "data.loc[data[\"meta_len\"]<50]"
   ]
  },
  {
   "cell_type": "markdown",
   "metadata": {},
   "source": [
    "On at least one of their pages (Tapeworm Infection), they did not provide a meta description. That's not an enormous problem, since providing one is not necessary, but they have them for all of their other pages since it is a commonly cited SEO best practice to tell search engines exactly what you want them to display to rank better with their algorithm.\n",
    "\n",
    "Google provides this snippet when you search for \"tapeworm mayo clinic\": \"Invasive infection. If tapeworm larvae have migrated out of your intestines and formed cysts in other tissues, they can eventually cause organ and ...\"\n",
    "(https://www.google.com/search?q=tapeworm+mayo+clinic&rlz=1C5CHFA_enUS814US814&oq=mayo+tape&aqs=chrome.3.69i57j0l7.3705j0j7&sourceid=chrome&ie=UTF-8)\n",
    "\n",
    "The other two pages with descriptions under 50 characters are pages for which the Mayo Clinic has simply provided a \"What is...?\" Jeopardy question (answer?) for the meta descriptions instead of giving more detail."
   ]
  },
  {
   "cell_type": "code",
   "execution_count": 275,
   "metadata": {},
   "outputs": [
    {
     "data": {
      "image/png": "[encoded data removed]",
      "text/plain": [
       "<Figure size 432x288 with 1 Axes>"
      ]
     },
     "metadata": {
      "needs_background": "light"
     },
     "output_type": "display_data"
    }
   ],
   "source": [
    "exclude(data, \"meta_len\", 50, 200, 100)"
   ]
  },
  {
   "cell_type": "markdown",
   "metadata": {},
   "source": [
    "Upon looking closer at the data by limiting the range we look at, we can see an even more defined peak around 160 characters."
   ]
  },
  {
   "cell_type": "code",
   "execution_count": 430,
   "metadata": {},
   "outputs": [
    {
     "data": {
      "image/png": "[encoded data removed]",
      "text/plain": [
       "<Figure size 432x288 with 1 Axes>"
      ]
     },
     "metadata": {
      "needs_background": "light"
     },
     "output_type": "display_data"
    },
    {
     "name": "stdout",
     "output_type": "stream",
     "text": [
      "min: 70\n",
      "max: 161\n",
      "mean: 132.91666666666666\n",
      "variance: 436.71860465116276\n",
      "stan dev: 20.897813394017152\n"
     ]
    }
   ],
   "source": [
    "# same peak with only top-ranked pages\n",
    "examine(ranked, \"meta_len\", 100)"
   ]
  },
  {
   "cell_type": "markdown",
   "metadata": {},
   "source": [
    "### word count"
   ]
  },
  {
   "cell_type": "code",
   "execution_count": 276,
   "metadata": {},
   "outputs": [
    {
     "data": {
      "image/png": "[encoded data removed]",
      "text/plain": [
       "<Figure size 432x288 with 1 Axes>"
      ]
     },
     "metadata": {
      "needs_background": "light"
     },
     "output_type": "display_data"
    },
    {
     "name": "stdout",
     "output_type": "stream",
     "text": [
      "min: 768\n",
      "max: 5194\n",
      "mean: 1654.593886462882\n",
      "variance: 227073.3847528018\n",
      "stan dev: 476.5221765592886\n"
     ]
    }
   ],
   "source": [
    "examine(data, \"word_count\", 200)"
   ]
  },
  {
   "cell_type": "code",
   "execution_count": 308,
   "metadata": {},
   "outputs": [
    {
     "data": {
      "image/png": "[encoded data removed]",
      "text/plain": [
       "<Figure size 432x288 with 1 Axes>"
      ]
     },
     "metadata": {
      "needs_background": "light"
     },
     "output_type": "display_data"
    },
    {
     "name": "stdout",
     "output_type": "stream",
     "text": [
      "min: 1055\n",
      "max: 5194\n",
      "mean: 2050.3333333333335\n",
      "variance: 347291.97209302324\n",
      "stan dev: 589.314832744793\n"
     ]
    }
   ],
   "source": [
    "examine(ranked, \"word_count\", 200)"
   ]
  },
  {
   "cell_type": "markdown",
   "metadata": {},
   "source": [
    "Word count is a little more difficult to analyze in terms of SEO. Web pages should not be too thin, and should include good \"anchor content\" unique to the page and the subject, but lots of content does not necessarily mean that it is of good quality. There is a general consensus in the SEO world that a word count of around 1500 is average for high-ranking pages, though the suggested amount of content varies for different kinds of web pages (such as a blog versus a healthcare education page). The Mayo Clinic's average word count is 1655 for their Symptoms and Causes pages, but we can see from the histogram that there appear to be some outliers affecting that number."
   ]
  },
  {
   "cell_type": "code",
   "execution_count": 97,
   "metadata": {
    "scrolled": true
   },
   "outputs": [
    {
     "data": {
      "text/html": [
       "<div>\n",
       "<style scoped>\n",
       "    .dataframe tbody tr th:only-of-type {\n",
       "        vertical-align: middle;\n",
       "    }\n",
       "\n",
       "    .dataframe tbody tr th {\n",
       "        vertical-align: top;\n",
       "    }\n",
       "\n",
       "    .dataframe thead th {\n",
       "        text-align: right;\n",
       "    }\n",
       "</style>\n",
       "<table border=\"1\" class=\"dataframe\">\n",
       "  <thead>\n",
       "    <tr style=\"text-align: right;\">\n",
       "      <th></th>\n",
       "      <th>url</th>\n",
       "      <th>header</th>\n",
       "      <th>header_len</th>\n",
       "      <th>meta</th>\n",
       "      <th>meta_len</th>\n",
       "      <th>bytes</th>\n",
       "      <th>word_count</th>\n",
       "      <th>inlinks</th>\n",
       "      <th>unique_in</th>\n",
       "      <th>outlinks</th>\n",
       "      <th>unique_out</th>\n",
       "      <th>ext_links</th>\n",
       "      <th>unique_ext</th>\n",
       "      <th>top</th>\n",
       "      <th>pub_date</th>\n",
       "    </tr>\n",
       "  </thead>\n",
       "  <tbody>\n",
       "    <tr>\n",
       "      <th>418</th>\n",
       "      <td>https://www.mayoclinic.org/diseases-conditions...</td>\n",
       "      <td>coronavirus disease 2019 (covid-19)</td>\n",
       "      <td>35</td>\n",
       "      <td>Find out about coronavirus disease 2019 (COVID...</td>\n",
       "      <td>157</td>\n",
       "      <td>164386</td>\n",
       "      <td>5194</td>\n",
       "      <td>15</td>\n",
       "      <td>7</td>\n",
       "      <td>97</td>\n",
       "      <td>62</td>\n",
       "      <td>263</td>\n",
       "      <td>240</td>\n",
       "      <td>1</td>\n",
       "      <td>2020-05-12</td>\n",
       "    </tr>\n",
       "  </tbody>\n",
       "</table>\n",
       "</div>"
      ],
      "text/plain": [
       "                                                   url  \\\n",
       "418  https://www.mayoclinic.org/diseases-conditions...   \n",
       "\n",
       "                                  header  header_len  \\\n",
       "418  coronavirus disease 2019 (covid-19)          35   \n",
       "\n",
       "                                                  meta  meta_len   bytes  \\\n",
       "418  Find out about coronavirus disease 2019 (COVID...       157  164386   \n",
       "\n",
       "     word_count  inlinks  unique_in  outlinks  unique_out  ext_links  \\\n",
       "418        5194       15          7        97          62        263   \n",
       "\n",
       "     unique_ext  top    pub_date  \n",
       "418         240    1  2020-05-12  "
      ]
     },
     "execution_count": 97,
     "metadata": {},
     "output_type": "execute_result"
    }
   ],
   "source": [
    "data.loc[data[\"word_count\"]==5194]"
   ]
  },
  {
   "cell_type": "markdown",
   "metadata": {},
   "source": [
    "Unsurprisingly, the page with the highest word count is a page on COVID-19 to which the Mayo Clinic may well still be adding as the world continues to research the virus that has caused the current pandemic. The publication date is listed as May 12, 2020, within this month."
   ]
  },
  {
   "cell_type": "code",
   "execution_count": 98,
   "metadata": {
    "scrolled": true
   },
   "outputs": [
    {
     "data": {
      "text/html": [
       "<div>\n",
       "<style scoped>\n",
       "    .dataframe tbody tr th:only-of-type {\n",
       "        vertical-align: middle;\n",
       "    }\n",
       "\n",
       "    .dataframe tbody tr th {\n",
       "        vertical-align: top;\n",
       "    }\n",
       "\n",
       "    .dataframe thead th {\n",
       "        text-align: right;\n",
       "    }\n",
       "</style>\n",
       "<table border=\"1\" class=\"dataframe\">\n",
       "  <thead>\n",
       "    <tr style=\"text-align: right;\">\n",
       "      <th></th>\n",
       "      <th>url</th>\n",
       "      <th>header</th>\n",
       "      <th>header_len</th>\n",
       "      <th>meta</th>\n",
       "      <th>meta_len</th>\n",
       "      <th>bytes</th>\n",
       "      <th>word_count</th>\n",
       "      <th>inlinks</th>\n",
       "      <th>unique_in</th>\n",
       "      <th>outlinks</th>\n",
       "      <th>unique_out</th>\n",
       "      <th>ext_links</th>\n",
       "      <th>unique_ext</th>\n",
       "      <th>top</th>\n",
       "      <th>pub_date</th>\n",
       "    </tr>\n",
       "  </thead>\n",
       "  <tbody>\n",
       "    <tr>\n",
       "      <th>30</th>\n",
       "      <td>https://www.mayoclinic.org/diseases-conditions...</td>\n",
       "      <td>drug addiction (substance use disorder)</td>\n",
       "      <td>39</td>\n",
       "      <td>With drug addiction (substance use disorder), ...</td>\n",
       "      <td>160</td>\n",
       "      <td>70000</td>\n",
       "      <td>4308</td>\n",
       "      <td>10</td>\n",
       "      <td>5</td>\n",
       "      <td>74</td>\n",
       "      <td>46</td>\n",
       "      <td>69</td>\n",
       "      <td>46</td>\n",
       "      <td>1</td>\n",
       "      <td>2017-10-26</td>\n",
       "    </tr>\n",
       "    <tr>\n",
       "      <th>327</th>\n",
       "      <td>https://www.mayoclinic.org/diseases-conditions...</td>\n",
       "      <td>heart disease</td>\n",
       "      <td>13</td>\n",
       "      <td>Learn about symptoms, causes and treatment of ...</td>\n",
       "      <td>132</td>\n",
       "      <td>93732</td>\n",
       "      <td>4052</td>\n",
       "      <td>39</td>\n",
       "      <td>26</td>\n",
       "      <td>130</td>\n",
       "      <td>88</td>\n",
       "      <td>88</td>\n",
       "      <td>64</td>\n",
       "      <td>1</td>\n",
       "      <td>2018-03-22</td>\n",
       "    </tr>\n",
       "    <tr>\n",
       "      <th>418</th>\n",
       "      <td>https://www.mayoclinic.org/diseases-conditions...</td>\n",
       "      <td>coronavirus disease 2019 (covid-19)</td>\n",
       "      <td>35</td>\n",
       "      <td>Find out about coronavirus disease 2019 (COVID...</td>\n",
       "      <td>157</td>\n",
       "      <td>164386</td>\n",
       "      <td>5194</td>\n",
       "      <td>15</td>\n",
       "      <td>7</td>\n",
       "      <td>97</td>\n",
       "      <td>62</td>\n",
       "      <td>263</td>\n",
       "      <td>240</td>\n",
       "      <td>1</td>\n",
       "      <td>2020-05-12</td>\n",
       "    </tr>\n",
       "  </tbody>\n",
       "</table>\n",
       "</div>"
      ],
      "text/plain": [
       "                                                   url  \\\n",
       "30   https://www.mayoclinic.org/diseases-conditions...   \n",
       "327  https://www.mayoclinic.org/diseases-conditions...   \n",
       "418  https://www.mayoclinic.org/diseases-conditions...   \n",
       "\n",
       "                                      header  header_len  \\\n",
       "30   drug addiction (substance use disorder)          39   \n",
       "327                            heart disease          13   \n",
       "418      coronavirus disease 2019 (covid-19)          35   \n",
       "\n",
       "                                                  meta  meta_len   bytes  \\\n",
       "30   With drug addiction (substance use disorder), ...       160   70000   \n",
       "327  Learn about symptoms, causes and treatment of ...       132   93732   \n",
       "418  Find out about coronavirus disease 2019 (COVID...       157  164386   \n",
       "\n",
       "     word_count  inlinks  unique_in  outlinks  unique_out  ext_links  \\\n",
       "30         4308       10          5        74          46         69   \n",
       "327        4052       39         26       130          88         88   \n",
       "418        5194       15          7        97          62        263   \n",
       "\n",
       "     unique_ext  top    pub_date  \n",
       "30           46    1  2017-10-26  \n",
       "327          64    1  2018-03-22  \n",
       "418         240    1  2020-05-12  "
      ]
     },
     "execution_count": 98,
     "metadata": {},
     "output_type": "execute_result"
    }
   ],
   "source": [
    "# other pages with word count far above average\n",
    "data.loc[data[\"word_count\"]>4000]"
   ]
  },
  {
   "cell_type": "markdown",
   "metadata": {},
   "source": [
    "The other pages with high word count are heart disease and substace abuse disorder. Both are relatively common conditions, and both describe a range of conditions, explaining the need for more words."
   ]
  },
  {
   "cell_type": "markdown",
   "metadata": {},
   "source": [
    "### page size"
   ]
  },
  {
   "cell_type": "code",
   "execution_count": 277,
   "metadata": {},
   "outputs": [
    {
     "data": {
      "image/png": "[encoded data removed]",
      "text/plain": [
       "<Figure size 432x288 with 1 Axes>"
      ]
     },
     "metadata": {
      "needs_background": "light"
     },
     "output_type": "display_data"
    },
    {
     "name": "stdout",
     "output_type": "stream",
     "text": [
      "min: 38098\n",
      "max: 164386\n",
      "mean: 49090.52139737991\n",
      "variance: 54176621.569690354\n",
      "stan dev: 7360.476993353784\n"
     ]
    }
   ],
   "source": [
    "examine(data, \"bytes\", 40)"
   ]
  },
  {
   "cell_type": "code",
   "execution_count": 309,
   "metadata": {},
   "outputs": [
    {
     "data": {
      "image/png": "[encoded data removed]",
      "text/plain": [
       "<Figure size 432x288 with 1 Axes>"
      ]
     },
     "metadata": {
      "needs_background": "light"
     },
     "output_type": "display_data"
    },
    {
     "name": "stdout",
     "output_type": "stream",
     "text": [
      "min: 41133\n",
      "max: 164386\n",
      "mean: 55134.17592592593\n",
      "variance: 138044112.84332475\n",
      "stan dev: 11749.217541748249\n"
     ]
    }
   ],
   "source": [
    "examine(ranked, \"bytes\", 40)"
   ]
  },
  {
   "cell_type": "code",
   "execution_count": 106,
   "metadata": {
    "scrolled": false
   },
   "outputs": [
    {
     "data": {
      "text/html": [
       "<div>\n",
       "<style scoped>\n",
       "    .dataframe tbody tr th:only-of-type {\n",
       "        vertical-align: middle;\n",
       "    }\n",
       "\n",
       "    .dataframe tbody tr th {\n",
       "        vertical-align: top;\n",
       "    }\n",
       "\n",
       "    .dataframe thead th {\n",
       "        text-align: right;\n",
       "    }\n",
       "</style>\n",
       "<table border=\"1\" class=\"dataframe\">\n",
       "  <thead>\n",
       "    <tr style=\"text-align: right;\">\n",
       "      <th></th>\n",
       "      <th>url</th>\n",
       "      <th>header</th>\n",
       "      <th>header_len</th>\n",
       "      <th>meta</th>\n",
       "      <th>meta_len</th>\n",
       "      <th>bytes</th>\n",
       "      <th>word_count</th>\n",
       "      <th>inlinks</th>\n",
       "      <th>unique_in</th>\n",
       "      <th>outlinks</th>\n",
       "      <th>unique_out</th>\n",
       "      <th>ext_links</th>\n",
       "      <th>unique_ext</th>\n",
       "      <th>top</th>\n",
       "      <th>pub_date</th>\n",
       "    </tr>\n",
       "  </thead>\n",
       "  <tbody>\n",
       "    <tr>\n",
       "      <th>418</th>\n",
       "      <td>https://www.mayoclinic.org/diseases-conditions...</td>\n",
       "      <td>coronavirus disease 2019 (covid-19)</td>\n",
       "      <td>35</td>\n",
       "      <td>Find out about coronavirus disease 2019 (COVID...</td>\n",
       "      <td>157</td>\n",
       "      <td>164386</td>\n",
       "      <td>5194</td>\n",
       "      <td>15</td>\n",
       "      <td>7</td>\n",
       "      <td>97</td>\n",
       "      <td>62</td>\n",
       "      <td>263</td>\n",
       "      <td>240</td>\n",
       "      <td>1</td>\n",
       "      <td>2020-05-12</td>\n",
       "    </tr>\n",
       "  </tbody>\n",
       "</table>\n",
       "</div>"
      ],
      "text/plain": [
       "                                                   url  \\\n",
       "418  https://www.mayoclinic.org/diseases-conditions...   \n",
       "\n",
       "                                  header  header_len  \\\n",
       "418  coronavirus disease 2019 (covid-19)          35   \n",
       "\n",
       "                                                  meta  meta_len   bytes  \\\n",
       "418  Find out about coronavirus disease 2019 (COVID...       157  164386   \n",
       "\n",
       "     word_count  inlinks  unique_in  outlinks  unique_out  ext_links  \\\n",
       "418        5194       15          7        97          62        263   \n",
       "\n",
       "     unique_ext  top    pub_date  \n",
       "418         240    1  2020-05-12  "
      ]
     },
     "execution_count": 106,
     "metadata": {},
     "output_type": "execute_result"
    }
   ],
   "source": [
    "# unsurprisingly, the outlier is again coronavirus!\n",
    "data.loc[data[\"bytes\"]==164386]"
   ]
  },
  {
   "cell_type": "code",
   "execution_count": 105,
   "metadata": {},
   "outputs": [
    {
     "data": {
      "text/html": [
       "<div>\n",
       "<style scoped>\n",
       "    .dataframe tbody tr th:only-of-type {\n",
       "        vertical-align: middle;\n",
       "    }\n",
       "\n",
       "    .dataframe tbody tr th {\n",
       "        vertical-align: top;\n",
       "    }\n",
       "\n",
       "    .dataframe thead th {\n",
       "        text-align: right;\n",
       "    }\n",
       "</style>\n",
       "<table border=\"1\" class=\"dataframe\">\n",
       "  <thead>\n",
       "    <tr style=\"text-align: right;\">\n",
       "      <th></th>\n",
       "      <th>url</th>\n",
       "      <th>header</th>\n",
       "      <th>header_len</th>\n",
       "      <th>meta</th>\n",
       "      <th>meta_len</th>\n",
       "      <th>bytes</th>\n",
       "      <th>word_count</th>\n",
       "      <th>inlinks</th>\n",
       "      <th>unique_in</th>\n",
       "      <th>outlinks</th>\n",
       "      <th>unique_out</th>\n",
       "      <th>ext_links</th>\n",
       "      <th>unique_ext</th>\n",
       "      <th>top</th>\n",
       "      <th>pub_date</th>\n",
       "    </tr>\n",
       "  </thead>\n",
       "  <tbody>\n",
       "    <tr>\n",
       "      <th>418</th>\n",
       "      <td>https://www.mayoclinic.org/diseases-conditions...</td>\n",
       "      <td>coronavirus disease 2019 (covid-19)</td>\n",
       "      <td>35</td>\n",
       "      <td>Find out about coronavirus disease 2019 (COVID...</td>\n",
       "      <td>157</td>\n",
       "      <td>164386</td>\n",
       "      <td>5194</td>\n",
       "      <td>15</td>\n",
       "      <td>7</td>\n",
       "      <td>97</td>\n",
       "      <td>62</td>\n",
       "      <td>263</td>\n",
       "      <td>240</td>\n",
       "      <td>1</td>\n",
       "      <td>2020-05-12</td>\n",
       "    </tr>\n",
       "  </tbody>\n",
       "</table>\n",
       "</div>"
      ],
      "text/plain": [
       "                                                   url  \\\n",
       "418  https://www.mayoclinic.org/diseases-conditions...   \n",
       "\n",
       "                                  header  header_len  \\\n",
       "418  coronavirus disease 2019 (covid-19)          35   \n",
       "\n",
       "                                                  meta  meta_len   bytes  \\\n",
       "418  Find out about coronavirus disease 2019 (COVID...       157  164386   \n",
       "\n",
       "     word_count  inlinks  unique_in  outlinks  unique_out  ext_links  \\\n",
       "418        5194       15          7        97          62        263   \n",
       "\n",
       "     unique_ext  top    pub_date  \n",
       "418         240    1  2020-05-12  "
      ]
     },
     "execution_count": 105,
     "metadata": {},
     "output_type": "execute_result"
    }
   ],
   "source": [
    "# check if it's the only real outlier\n",
    "data[data.bytes>100000]"
   ]
  },
  {
   "cell_type": "code",
   "execution_count": 278,
   "metadata": {},
   "outputs": [
    {
     "data": {
      "image/png": "[encoded data removed]",
      "text/plain": [
       "<Figure size 432x288 with 1 Axes>"
      ]
     },
     "metadata": {
      "needs_background": "light"
     },
     "output_type": "display_data"
    }
   ],
   "source": [
    "exclude(data, \"bytes\", 38000, 100000, 50)"
   ]
  },
  {
   "cell_type": "markdown",
   "metadata": {},
   "source": [
    "Besides the page on coronavirus, there are still a number of larger pages far from the peak:"
   ]
  },
  {
   "cell_type": "code",
   "execution_count": 107,
   "metadata": {
    "scrolled": false
   },
   "outputs": [
    {
     "data": {
      "text/html": [
       "<div>\n",
       "<style scoped>\n",
       "    .dataframe tbody tr th:only-of-type {\n",
       "        vertical-align: middle;\n",
       "    }\n",
       "\n",
       "    .dataframe tbody tr th {\n",
       "        vertical-align: top;\n",
       "    }\n",
       "\n",
       "    .dataframe thead th {\n",
       "        text-align: right;\n",
       "    }\n",
       "</style>\n",
       "<table border=\"1\" class=\"dataframe\">\n",
       "  <thead>\n",
       "    <tr style=\"text-align: right;\">\n",
       "      <th></th>\n",
       "      <th>url</th>\n",
       "      <th>header</th>\n",
       "      <th>header_len</th>\n",
       "      <th>meta</th>\n",
       "      <th>meta_len</th>\n",
       "      <th>bytes</th>\n",
       "      <th>word_count</th>\n",
       "      <th>inlinks</th>\n",
       "      <th>unique_in</th>\n",
       "      <th>outlinks</th>\n",
       "      <th>unique_out</th>\n",
       "      <th>ext_links</th>\n",
       "      <th>unique_ext</th>\n",
       "      <th>top</th>\n",
       "      <th>pub_date</th>\n",
       "    </tr>\n",
       "  </thead>\n",
       "  <tbody>\n",
       "    <tr>\n",
       "      <th>78</th>\n",
       "      <td>https://www.mayoclinic.org/diseases-conditions...</td>\n",
       "      <td>alzheimer's disease</td>\n",
       "      <td>19</td>\n",
       "      <td>Alzheimer's disease causes a progressive loss ...</td>\n",
       "      <td>128</td>\n",
       "      <td>91009</td>\n",
       "      <td>3572</td>\n",
       "      <td>15</td>\n",
       "      <td>7</td>\n",
       "      <td>127</td>\n",
       "      <td>85</td>\n",
       "      <td>97</td>\n",
       "      <td>73</td>\n",
       "      <td>1</td>\n",
       "      <td>2018-12-08</td>\n",
       "    </tr>\n",
       "    <tr>\n",
       "      <th>220</th>\n",
       "      <td>https://www.mayoclinic.org/diseases-conditions...</td>\n",
       "      <td>high blood pressure (hypertension)</td>\n",
       "      <td>34</td>\n",
       "      <td>Learn about the symptoms, treatment and preven...</td>\n",
       "      <td>142</td>\n",
       "      <td>83830</td>\n",
       "      <td>3147</td>\n",
       "      <td>9</td>\n",
       "      <td>3</td>\n",
       "      <td>131</td>\n",
       "      <td>92</td>\n",
       "      <td>85</td>\n",
       "      <td>58</td>\n",
       "      <td>1</td>\n",
       "      <td>2018-05-12</td>\n",
       "    </tr>\n",
       "    <tr>\n",
       "      <th>238</th>\n",
       "      <td>https://www.mayoclinic.org/diseases-conditions...</td>\n",
       "      <td>stroke</td>\n",
       "      <td>6</td>\n",
       "      <td>Promptly spotting stroke symptoms leads to fas...</td>\n",
       "      <td>89</td>\n",
       "      <td>75718</td>\n",
       "      <td>3539</td>\n",
       "      <td>23</td>\n",
       "      <td>15</td>\n",
       "      <td>92</td>\n",
       "      <td>61</td>\n",
       "      <td>86</td>\n",
       "      <td>63</td>\n",
       "      <td>1</td>\n",
       "      <td>2020-04-24</td>\n",
       "    </tr>\n",
       "    <tr>\n",
       "      <th>242</th>\n",
       "      <td>https://www.mayoclinic.org/diseases-conditions...</td>\n",
       "      <td>breast cancer</td>\n",
       "      <td>13</td>\n",
       "      <td>Breast cancer — Comprehensive overview covers ...</td>\n",
       "      <td>109</td>\n",
       "      <td>93906</td>\n",
       "      <td>3409</td>\n",
       "      <td>88</td>\n",
       "      <td>49</td>\n",
       "      <td>139</td>\n",
       "      <td>106</td>\n",
       "      <td>96</td>\n",
       "      <td>73</td>\n",
       "      <td>1</td>\n",
       "      <td>2019-11-22</td>\n",
       "    </tr>\n",
       "    <tr>\n",
       "      <th>275</th>\n",
       "      <td>https://www.mayoclinic.org/diseases-conditions...</td>\n",
       "      <td>cancer</td>\n",
       "      <td>6</td>\n",
       "      <td>Find out the basics about cancer, including sy...</td>\n",
       "      <td>120</td>\n",
       "      <td>93326</td>\n",
       "      <td>3532</td>\n",
       "      <td>26</td>\n",
       "      <td>21</td>\n",
       "      <td>130</td>\n",
       "      <td>99</td>\n",
       "      <td>104</td>\n",
       "      <td>80</td>\n",
       "      <td>1</td>\n",
       "      <td>2018-12-12</td>\n",
       "    </tr>\n",
       "    <tr>\n",
       "      <th>301</th>\n",
       "      <td>https://www.mayoclinic.org/diseases-conditions...</td>\n",
       "      <td>pancreatic cancer</td>\n",
       "      <td>17</td>\n",
       "      <td>Pancreatic cancer — Overview covers symptoms, ...</td>\n",
       "      <td>152</td>\n",
       "      <td>76004</td>\n",
       "      <td>2881</td>\n",
       "      <td>21</td>\n",
       "      <td>11</td>\n",
       "      <td>93</td>\n",
       "      <td>64</td>\n",
       "      <td>87</td>\n",
       "      <td>63</td>\n",
       "      <td>1</td>\n",
       "      <td>2020-04-24</td>\n",
       "    </tr>\n",
       "    <tr>\n",
       "      <th>327</th>\n",
       "      <td>https://www.mayoclinic.org/diseases-conditions...</td>\n",
       "      <td>heart disease</td>\n",
       "      <td>13</td>\n",
       "      <td>Learn about symptoms, causes and treatment of ...</td>\n",
       "      <td>132</td>\n",
       "      <td>93732</td>\n",
       "      <td>4052</td>\n",
       "      <td>39</td>\n",
       "      <td>26</td>\n",
       "      <td>130</td>\n",
       "      <td>88</td>\n",
       "      <td>88</td>\n",
       "      <td>64</td>\n",
       "      <td>1</td>\n",
       "      <td>2018-03-22</td>\n",
       "    </tr>\n",
       "    <tr>\n",
       "      <th>379</th>\n",
       "      <td>https://www.mayoclinic.org/diseases-conditions...</td>\n",
       "      <td>depression (major depressive disorder)</td>\n",
       "      <td>38</td>\n",
       "      <td>Depression is a mood disorder that causes a pe...</td>\n",
       "      <td>141</td>\n",
       "      <td>75409</td>\n",
       "      <td>2681</td>\n",
       "      <td>12</td>\n",
       "      <td>6</td>\n",
       "      <td>120</td>\n",
       "      <td>81</td>\n",
       "      <td>80</td>\n",
       "      <td>57</td>\n",
       "      <td>1</td>\n",
       "      <td>2018-02-03</td>\n",
       "    </tr>\n",
       "    <tr>\n",
       "      <th>418</th>\n",
       "      <td>https://www.mayoclinic.org/diseases-conditions...</td>\n",
       "      <td>coronavirus disease 2019 (covid-19)</td>\n",
       "      <td>35</td>\n",
       "      <td>Find out about coronavirus disease 2019 (COVID...</td>\n",
       "      <td>157</td>\n",
       "      <td>164386</td>\n",
       "      <td>5194</td>\n",
       "      <td>15</td>\n",
       "      <td>7</td>\n",
       "      <td>97</td>\n",
       "      <td>62</td>\n",
       "      <td>263</td>\n",
       "      <td>240</td>\n",
       "      <td>1</td>\n",
       "      <td>2020-05-12</td>\n",
       "    </tr>\n",
       "    <tr>\n",
       "      <th>482</th>\n",
       "      <td>https://www.mayoclinic.org/diseases-conditions...</td>\n",
       "      <td>diabetes</td>\n",
       "      <td>8</td>\n",
       "      <td>Learn more about the different types of this b...</td>\n",
       "      <td>109</td>\n",
       "      <td>78005</td>\n",
       "      <td>3448</td>\n",
       "      <td>7</td>\n",
       "      <td>2</td>\n",
       "      <td>132</td>\n",
       "      <td>92</td>\n",
       "      <td>70</td>\n",
       "      <td>47</td>\n",
       "      <td>1</td>\n",
       "      <td>2018-08-08</td>\n",
       "    </tr>\n",
       "    <tr>\n",
       "      <th>978</th>\n",
       "      <td>https://www.mayoclinic.org/diseases-conditions...</td>\n",
       "      <td>psoriasis</td>\n",
       "      <td>9</td>\n",
       "      <td>Learn about this common skin condition that ca...</td>\n",
       "      <td>148</td>\n",
       "      <td>75064</td>\n",
       "      <td>2435</td>\n",
       "      <td>8</td>\n",
       "      <td>3</td>\n",
       "      <td>109</td>\n",
       "      <td>75</td>\n",
       "      <td>69</td>\n",
       "      <td>46</td>\n",
       "      <td>1</td>\n",
       "      <td>2020-05-02</td>\n",
       "    </tr>\n",
       "  </tbody>\n",
       "</table>\n",
       "</div>"
      ],
      "text/plain": [
       "                                                   url  \\\n",
       "78   https://www.mayoclinic.org/diseases-conditions...   \n",
       "220  https://www.mayoclinic.org/diseases-conditions...   \n",
       "238  https://www.mayoclinic.org/diseases-conditions...   \n",
       "242  https://www.mayoclinic.org/diseases-conditions...   \n",
       "275  https://www.mayoclinic.org/diseases-conditions...   \n",
       "301  https://www.mayoclinic.org/diseases-conditions...   \n",
       "327  https://www.mayoclinic.org/diseases-conditions...   \n",
       "379  https://www.mayoclinic.org/diseases-conditions...   \n",
       "418  https://www.mayoclinic.org/diseases-conditions...   \n",
       "482  https://www.mayoclinic.org/diseases-conditions...   \n",
       "978  https://www.mayoclinic.org/diseases-conditions...   \n",
       "\n",
       "                                     header  header_len  \\\n",
       "78                      alzheimer's disease          19   \n",
       "220      high blood pressure (hypertension)          34   \n",
       "238                                  stroke           6   \n",
       "242                           breast cancer          13   \n",
       "275                                  cancer           6   \n",
       "301                       pancreatic cancer          17   \n",
       "327                           heart disease          13   \n",
       "379  depression (major depressive disorder)          38   \n",
       "418     coronavirus disease 2019 (covid-19)          35   \n",
       "482                                diabetes           8   \n",
       "978                               psoriasis           9   \n",
       "\n",
       "                                                  meta  meta_len   bytes  \\\n",
       "78   Alzheimer's disease causes a progressive loss ...       128   91009   \n",
       "220  Learn about the symptoms, treatment and preven...       142   83830   \n",
       "238  Promptly spotting stroke symptoms leads to fas...        89   75718   \n",
       "242  Breast cancer — Comprehensive overview covers ...       109   93906   \n",
       "275  Find out the basics about cancer, including sy...       120   93326   \n",
       "301  Pancreatic cancer — Overview covers symptoms, ...       152   76004   \n",
       "327  Learn about symptoms, causes and treatment of ...       132   93732   \n",
       "379  Depression is a mood disorder that causes a pe...       141   75409   \n",
       "418  Find out about coronavirus disease 2019 (COVID...       157  164386   \n",
       "482  Learn more about the different types of this b...       109   78005   \n",
       "978  Learn about this common skin condition that ca...       148   75064   \n",
       "\n",
       "     word_count  inlinks  unique_in  outlinks  unique_out  ext_links  \\\n",
       "78         3572       15          7       127          85         97   \n",
       "220        3147        9          3       131          92         85   \n",
       "238        3539       23         15        92          61         86   \n",
       "242        3409       88         49       139         106         96   \n",
       "275        3532       26         21       130          99        104   \n",
       "301        2881       21         11        93          64         87   \n",
       "327        4052       39         26       130          88         88   \n",
       "379        2681       12          6       120          81         80   \n",
       "418        5194       15          7        97          62        263   \n",
       "482        3448        7          2       132          92         70   \n",
       "978        2435        8          3       109          75         69   \n",
       "\n",
       "     unique_ext  top    pub_date  \n",
       "78           73    1  2018-12-08  \n",
       "220          58    1  2018-05-12  \n",
       "238          63    1  2020-04-24  \n",
       "242          73    1  2019-11-22  \n",
       "275          80    1  2018-12-12  \n",
       "301          63    1  2020-04-24  \n",
       "327          64    1  2018-03-22  \n",
       "379          57    1  2018-02-03  \n",
       "418         240    1  2020-05-12  \n",
       "482          47    1  2018-08-08  \n",
       "978          46    1  2020-05-02  "
      ]
     },
     "execution_count": 107,
     "metadata": {},
     "output_type": "execute_result"
    }
   ],
   "source": [
    "data.loc[data.bytes>75000]"
   ]
  },
  {
   "cell_type": "markdown",
   "metadata": {},
   "source": [
    "Again, the trend makes sense, as these larger pages are all about more commonly diagnosed conditions that have various forms. These also are all listed among the top 500 ranking pages of the Mayo Clinic domain."
   ]
  },
  {
   "cell_type": "code",
   "execution_count": 267,
   "metadata": {},
   "outputs": [
    {
     "data": {
      "text/plain": [
       "78     1\n",
       "220    1\n",
       "238    1\n",
       "242    1\n",
       "275    1\n",
       "301    1\n",
       "327    1\n",
       "379    1\n",
       "418    1\n",
       "482    1\n",
       "978    1\n",
       "Name: top, dtype: int64"
      ]
     },
     "execution_count": 267,
     "metadata": {},
     "output_type": "execute_result"
    }
   ],
   "source": [
    "data.loc[data.bytes>75000][\"top\"]"
   ]
  },
  {
   "cell_type": "markdown",
   "metadata": {},
   "source": [
    "### links"
   ]
  },
  {
   "cell_type": "markdown",
   "metadata": {},
   "source": [
    "**inlinks** – Number of links to this page on the Mayo Clinic domain."
   ]
  },
  {
   "cell_type": "code",
   "execution_count": 279,
   "metadata": {},
   "outputs": [
    {
     "data": {
      "image/png": "[encoded data removed]",
      "text/plain": [
       "<Figure size 432x288 with 1 Axes>"
      ]
     },
     "metadata": {
      "needs_background": "light"
     },
     "output_type": "display_data"
    },
    {
     "name": "stdout",
     "output_type": "stream",
     "text": [
      "min: 7\n",
      "max: 88\n",
      "mean: 12.442794759825327\n",
      "variance: 45.03540476990259\n",
      "stan dev: 6.710842329387764\n"
     ]
    }
   ],
   "source": [
    "examine(data, \"inlinks\", 30)"
   ]
  },
  {
   "cell_type": "markdown",
   "metadata": {},
   "source": [
    "Most Symptoms and Causes pages on the Mayo Clinic site seem to have around 10 other Mayo Clinic pages linking to them. These would likely be related conditions and the Diagnosis and Treatment, Doctors and Departments, and Care at Mayo Clinic pages for the condition, as well as the index page the condition is listed under and any other related page on the website that for which linking to a Symptoms and Causes page would make sense."
   ]
  },
  {
   "cell_type": "code",
   "execution_count": 108,
   "metadata": {
    "scrolled": true
   },
   "outputs": [
    {
     "data": {
      "text/html": [
       "<div>\n",
       "<style scoped>\n",
       "    .dataframe tbody tr th:only-of-type {\n",
       "        vertical-align: middle;\n",
       "    }\n",
       "\n",
       "    .dataframe tbody tr th {\n",
       "        vertical-align: top;\n",
       "    }\n",
       "\n",
       "    .dataframe thead th {\n",
       "        text-align: right;\n",
       "    }\n",
       "</style>\n",
       "<table border=\"1\" class=\"dataframe\">\n",
       "  <thead>\n",
       "    <tr style=\"text-align: right;\">\n",
       "      <th></th>\n",
       "      <th>url</th>\n",
       "      <th>header</th>\n",
       "      <th>header_len</th>\n",
       "      <th>meta</th>\n",
       "      <th>meta_len</th>\n",
       "      <th>bytes</th>\n",
       "      <th>word_count</th>\n",
       "      <th>inlinks</th>\n",
       "      <th>unique_in</th>\n",
       "      <th>outlinks</th>\n",
       "      <th>unique_out</th>\n",
       "      <th>ext_links</th>\n",
       "      <th>unique_ext</th>\n",
       "      <th>top</th>\n",
       "      <th>pub_date</th>\n",
       "    </tr>\n",
       "  </thead>\n",
       "  <tbody>\n",
       "    <tr>\n",
       "      <th>242</th>\n",
       "      <td>https://www.mayoclinic.org/diseases-conditions...</td>\n",
       "      <td>breast cancer</td>\n",
       "      <td>13</td>\n",
       "      <td>Breast cancer — Comprehensive overview covers ...</td>\n",
       "      <td>109</td>\n",
       "      <td>93906</td>\n",
       "      <td>3409</td>\n",
       "      <td>88</td>\n",
       "      <td>49</td>\n",
       "      <td>139</td>\n",
       "      <td>106</td>\n",
       "      <td>96</td>\n",
       "      <td>73</td>\n",
       "      <td>1</td>\n",
       "      <td>2019-11-22</td>\n",
       "    </tr>\n",
       "  </tbody>\n",
       "</table>\n",
       "</div>"
      ],
      "text/plain": [
       "                                                   url         header  \\\n",
       "242  https://www.mayoclinic.org/diseases-conditions...  breast cancer   \n",
       "\n",
       "     header_len                                               meta  meta_len  \\\n",
       "242          13  Breast cancer — Comprehensive overview covers ...       109   \n",
       "\n",
       "     bytes  word_count  inlinks  unique_in  outlinks  unique_out  ext_links  \\\n",
       "242  93906        3409       88         49       139         106         96   \n",
       "\n",
       "     unique_ext  top    pub_date  \n",
       "242          73    1  2019-11-22  "
      ]
     },
     "execution_count": 108,
     "metadata": {},
     "output_type": "execute_result"
    }
   ],
   "source": [
    "data[data.inlinks>60]"
   ]
  },
  {
   "cell_type": "markdown",
   "metadata": {},
   "source": [
    "It's interesting that breast cancer is the page with the most internal inlinks of those I am examining. There are several types of breast cancer as well as conditions that can lead to breast cancer, and of course there are also many other kinds of cancer. It is possible that such pages link between one another on the Mayo Clinic domain."
   ]
  },
  {
   "cell_type": "markdown",
   "metadata": {},
   "source": [
    "**unique inlinks** – Number of links to this page on the Mayo Clinic domain with links from the same page counted only once."
   ]
  },
  {
   "cell_type": "code",
   "execution_count": 280,
   "metadata": {
    "scrolled": false
   },
   "outputs": [
    {
     "data": {
      "image/png": "[encoded data removed]",
      "text/plain": [
       "<Figure size 432x288 with 1 Axes>"
      ]
     },
     "metadata": {
      "needs_background": "light"
     },
     "output_type": "display_data"
    },
    {
     "name": "stdout",
     "output_type": "stream",
     "text": [
      "min: 2\n",
      "max: 49\n",
      "mean: 5.716157205240175\n",
      "variance: 20.588069136104068\n",
      "stan dev: 4.537407755106881\n"
     ]
    }
   ],
   "source": [
    "examine(data, \"unique_in\", 30)"
   ]
  },
  {
   "cell_type": "markdown",
   "metadata": {},
   "source": [
    "This data largely resembles the total inlinks, except on a somewhat smaller scale."
   ]
  },
  {
   "cell_type": "code",
   "execution_count": 281,
   "metadata": {
    "scrolled": true
   },
   "outputs": [
    {
     "name": "stdout",
     "output_type": "stream",
     "text": [
      "Covariance: 29.57859\n",
      "Correlation: 0.97139\n",
      "R squared: 0.94359\n",
      "Linear Regression Slope: 0.6567852852612575\n"
     ]
    }
   ],
   "source": [
    "relate(data.inlinks, data.unique_in)"
   ]
  },
  {
   "cell_type": "code",
   "execution_count": 114,
   "metadata": {},
   "outputs": [
    {
     "data": {
      "text/html": [
       "<div>\n",
       "<style scoped>\n",
       "    .dataframe tbody tr th:only-of-type {\n",
       "        vertical-align: middle;\n",
       "    }\n",
       "\n",
       "    .dataframe tbody tr th {\n",
       "        vertical-align: top;\n",
       "    }\n",
       "\n",
       "    .dataframe thead th {\n",
       "        text-align: right;\n",
       "    }\n",
       "</style>\n",
       "<table border=\"1\" class=\"dataframe\">\n",
       "  <thead>\n",
       "    <tr style=\"text-align: right;\">\n",
       "      <th></th>\n",
       "      <th>url</th>\n",
       "      <th>header</th>\n",
       "      <th>header_len</th>\n",
       "      <th>meta</th>\n",
       "      <th>meta_len</th>\n",
       "      <th>bytes</th>\n",
       "      <th>word_count</th>\n",
       "      <th>inlinks</th>\n",
       "      <th>unique_in</th>\n",
       "      <th>outlinks</th>\n",
       "      <th>unique_out</th>\n",
       "      <th>ext_links</th>\n",
       "      <th>unique_ext</th>\n",
       "      <th>top</th>\n",
       "      <th>pub_date</th>\n",
       "    </tr>\n",
       "  </thead>\n",
       "  <tbody>\n",
       "    <tr>\n",
       "      <th>242</th>\n",
       "      <td>https://www.mayoclinic.org/diseases-conditions...</td>\n",
       "      <td>breast cancer</td>\n",
       "      <td>13</td>\n",
       "      <td>Breast cancer — Comprehensive overview covers ...</td>\n",
       "      <td>109</td>\n",
       "      <td>93906</td>\n",
       "      <td>3409</td>\n",
       "      <td>88</td>\n",
       "      <td>49</td>\n",
       "      <td>139</td>\n",
       "      <td>106</td>\n",
       "      <td>96</td>\n",
       "      <td>73</td>\n",
       "      <td>1</td>\n",
       "      <td>2019-11-22</td>\n",
       "    </tr>\n",
       "  </tbody>\n",
       "</table>\n",
       "</div>"
      ],
      "text/plain": [
       "                                                   url         header  \\\n",
       "242  https://www.mayoclinic.org/diseases-conditions...  breast cancer   \n",
       "\n",
       "     header_len                                               meta  meta_len  \\\n",
       "242          13  Breast cancer — Comprehensive overview covers ...       109   \n",
       "\n",
       "     bytes  word_count  inlinks  unique_in  outlinks  unique_out  ext_links  \\\n",
       "242  93906        3409       88         49       139         106         96   \n",
       "\n",
       "     unique_ext  top    pub_date  \n",
       "242          73    1  2019-11-22  "
      ]
     },
     "execution_count": 114,
     "metadata": {},
     "output_type": "execute_result"
    }
   ],
   "source": [
    "data[data.unique_in>35]"
   ]
  },
  {
   "cell_type": "markdown",
   "metadata": {},
   "source": [
    "As one would therefore expect, the page that had the most inlinks also has the most unique inlinks."
   ]
  },
  {
   "cell_type": "markdown",
   "metadata": {},
   "source": [
    "**outlinks** – Number of links from this page to other pages on the Mayo Clinic domain."
   ]
  },
  {
   "cell_type": "code",
   "execution_count": 282,
   "metadata": {},
   "outputs": [
    {
     "data": {
      "image/png": "[encoded data removed]",
      "text/plain": [
       "<Figure size 432x288 with 1 Axes>"
      ]
     },
     "metadata": {
      "needs_background": "light"
     },
     "output_type": "display_data"
    },
    {
     "name": "stdout",
     "output_type": "stream",
     "text": [
      "min: 65\n",
      "max: 139\n",
      "mean: 74.75633187772925\n",
      "variance: 62.18969981983083\n",
      "stan dev: 7.886044624514296\n"
     ]
    }
   ],
   "source": [
    "examine(data, \"outlinks\", 50)"
   ]
  },
  {
   "cell_type": "markdown",
   "metadata": {},
   "source": [
    "We can see that Symptoms and Causes pages tend to link more to other page on the Mayo Clinic domain than be linked to. This is largely intuitive since it is more common for pages about conditions and diseases to link to pages for clinics that treat them, research summaries about them, or patient stories than for those pages to link back to the page for the condition itself. "
   ]
  },
  {
   "cell_type": "markdown",
   "metadata": {},
   "source": [
    "**unique outlinks** – Number of links from this page to other pages on the Mayo Clinic domain with links to the same page counted only once."
   ]
  },
  {
   "cell_type": "code",
   "execution_count": 283,
   "metadata": {
    "scrolled": false
   },
   "outputs": [
    {
     "data": {
      "image/png": "[encoded data removed]",
      "text/plain": [
       "<Figure size 432x288 with 1 Axes>"
      ]
     },
     "metadata": {
      "needs_background": "light"
     },
     "output_type": "display_data"
    },
    {
     "name": "stdout",
     "output_type": "stream",
     "text": [
      "min: 40\n",
      "max: 106\n",
      "mean: 47.21310043668122\n",
      "variance: 42.61713592084771\n",
      "stan dev: 6.528180138510863\n"
     ]
    }
   ],
   "source": [
    "examine(data, \"unique_out\", 60)"
   ]
  },
  {
   "cell_type": "markdown",
   "metadata": {},
   "source": [
    "Again, this data resembles the data for total outlinks in shape."
   ]
  },
  {
   "cell_type": "markdown",
   "metadata": {},
   "source": [
    "**external (out)links** – Number of links from this page to another website."
   ]
  },
  {
   "cell_type": "code",
   "execution_count": 284,
   "metadata": {},
   "outputs": [
    {
     "data": {
      "image/png": "[encoded data removed]",
      "text/plain": [
       "<Figure size 432x288 with 1 Axes>"
      ]
     },
     "metadata": {
      "needs_background": "light"
     },
     "output_type": "display_data"
    },
    {
     "name": "stdout",
     "output_type": "stream",
     "text": [
      "min: 67\n",
      "max: 263\n",
      "mean: 68.6410480349345\n",
      "variance: 41.44359330625706\n",
      "stan dev: 6.437669866206022\n"
     ]
    }
   ],
   "source": [
    "examine(data, \"ext_links\", 30)"
   ]
  },
  {
   "cell_type": "markdown",
   "metadata": {},
   "source": [
    "This outlier is more extreme than the others we have seen in the data so far."
   ]
  },
  {
   "cell_type": "code",
   "execution_count": 36,
   "metadata": {
    "scrolled": true
   },
   "outputs": [
    {
     "data": {
      "text/html": [
       "<div>\n",
       "<style scoped>\n",
       "    .dataframe tbody tr th:only-of-type {\n",
       "        vertical-align: middle;\n",
       "    }\n",
       "\n",
       "    .dataframe tbody tr th {\n",
       "        vertical-align: top;\n",
       "    }\n",
       "\n",
       "    .dataframe thead th {\n",
       "        text-align: right;\n",
       "    }\n",
       "</style>\n",
       "<table border=\"1\" class=\"dataframe\">\n",
       "  <thead>\n",
       "    <tr style=\"text-align: right;\">\n",
       "      <th></th>\n",
       "      <th>url</th>\n",
       "      <th>header</th>\n",
       "      <th>header_len</th>\n",
       "      <th>meta</th>\n",
       "      <th>meta_len</th>\n",
       "      <th>bytes</th>\n",
       "      <th>word_count</th>\n",
       "      <th>inlinks</th>\n",
       "      <th>unique_in</th>\n",
       "      <th>outlinks</th>\n",
       "      <th>unique_out</th>\n",
       "      <th>ext_links</th>\n",
       "      <th>unique_ext</th>\n",
       "      <th>top</th>\n",
       "      <th>pub_date</th>\n",
       "    </tr>\n",
       "  </thead>\n",
       "  <tbody>\n",
       "    <tr>\n",
       "      <th>275</th>\n",
       "      <td>https://www.mayoclinic.org/diseases-conditions...</td>\n",
       "      <td>cancer</td>\n",
       "      <td>6</td>\n",
       "      <td>Find out the basics about cancer, including sy...</td>\n",
       "      <td>120</td>\n",
       "      <td>93326</td>\n",
       "      <td>3532</td>\n",
       "      <td>26</td>\n",
       "      <td>21</td>\n",
       "      <td>130</td>\n",
       "      <td>99</td>\n",
       "      <td>104</td>\n",
       "      <td>80</td>\n",
       "      <td>1</td>\n",
       "      <td>NaN</td>\n",
       "    </tr>\n",
       "    <tr>\n",
       "      <th>418</th>\n",
       "      <td>https://www.mayoclinic.org/diseases-conditions...</td>\n",
       "      <td>coronavirus disease 2019 (covid-19)</td>\n",
       "      <td>35</td>\n",
       "      <td>Find out about coronavirus disease 2019 (COVID...</td>\n",
       "      <td>157</td>\n",
       "      <td>164386</td>\n",
       "      <td>5194</td>\n",
       "      <td>15</td>\n",
       "      <td>7</td>\n",
       "      <td>97</td>\n",
       "      <td>62</td>\n",
       "      <td>263</td>\n",
       "      <td>240</td>\n",
       "      <td>1</td>\n",
       "      <td>NaN</td>\n",
       "    </tr>\n",
       "  </tbody>\n",
       "</table>\n",
       "</div>"
      ],
      "text/plain": [
       "                                                   url  \\\n",
       "275  https://www.mayoclinic.org/diseases-conditions...   \n",
       "418  https://www.mayoclinic.org/diseases-conditions...   \n",
       "\n",
       "                                  header  header_len  \\\n",
       "275                               cancer           6   \n",
       "418  coronavirus disease 2019 (covid-19)          35   \n",
       "\n",
       "                                                  meta  meta_len   bytes  \\\n",
       "275  Find out the basics about cancer, including sy...       120   93326   \n",
       "418  Find out about coronavirus disease 2019 (COVID...       157  164386   \n",
       "\n",
       "     word_count  inlinks  unique_in  outlinks  unique_out  ext_links  \\\n",
       "275        3532       26         21       130          99        104   \n",
       "418        5194       15          7        97          62        263   \n",
       "\n",
       "     unique_ext  top pub_date  \n",
       "275          80    1      NaN  \n",
       "418         240    1      NaN  "
      ]
     },
     "execution_count": 36,
     "metadata": {},
     "output_type": "execute_result"
    }
   ],
   "source": [
    "data[data.ext_links>100]"
   ]
  },
  {
   "cell_type": "markdown",
   "metadata": {},
   "source": [
    "And we see why: the Symptoms and Causes pages on the Mayo Clinic domain with the most links to other websites are those for cancer and coronavirus, widespread, newsworthy, very serious conditions that are currently affecting the lives of many, and about which people need a wealth of information to learn from and respond to to help with prevention and treatment."
   ]
  },
  {
   "cell_type": "code",
   "execution_count": 285,
   "metadata": {},
   "outputs": [
    {
     "data": {
      "image/png": "[encoded data removed]",
      "text/plain": [
       "<Figure size 432x288 with 1 Axes>"
      ]
     },
     "metadata": {
      "needs_background": "light"
     },
     "output_type": "display_data"
    }
   ],
   "source": [
    "exclude(data, \"ext_links\", 65, 100, 30)"
   ]
  },
  {
   "cell_type": "code",
   "execution_count": 38,
   "metadata": {
    "scrolled": false
   },
   "outputs": [
    {
     "data": {
      "text/html": [
       "<div>\n",
       "<style scoped>\n",
       "    .dataframe tbody tr th:only-of-type {\n",
       "        vertical-align: middle;\n",
       "    }\n",
       "\n",
       "    .dataframe tbody tr th {\n",
       "        vertical-align: top;\n",
       "    }\n",
       "\n",
       "    .dataframe thead th {\n",
       "        text-align: right;\n",
       "    }\n",
       "</style>\n",
       "<table border=\"1\" class=\"dataframe\">\n",
       "  <thead>\n",
       "    <tr style=\"text-align: right;\">\n",
       "      <th></th>\n",
       "      <th>url</th>\n",
       "      <th>header</th>\n",
       "      <th>header_len</th>\n",
       "      <th>meta</th>\n",
       "      <th>meta_len</th>\n",
       "      <th>bytes</th>\n",
       "      <th>word_count</th>\n",
       "      <th>inlinks</th>\n",
       "      <th>unique_in</th>\n",
       "      <th>outlinks</th>\n",
       "      <th>unique_out</th>\n",
       "      <th>ext_links</th>\n",
       "      <th>unique_ext</th>\n",
       "      <th>top</th>\n",
       "      <th>pub_date</th>\n",
       "    </tr>\n",
       "  </thead>\n",
       "  <tbody>\n",
       "    <tr>\n",
       "      <th>78</th>\n",
       "      <td>https://www.mayoclinic.org/diseases-conditions...</td>\n",
       "      <td>alzheimer's disease</td>\n",
       "      <td>19</td>\n",
       "      <td>Alzheimer's disease causes a progressive loss ...</td>\n",
       "      <td>128</td>\n",
       "      <td>91009</td>\n",
       "      <td>3572</td>\n",
       "      <td>15</td>\n",
       "      <td>7</td>\n",
       "      <td>127</td>\n",
       "      <td>85</td>\n",
       "      <td>97</td>\n",
       "      <td>73</td>\n",
       "      <td>1</td>\n",
       "      <td>NaN</td>\n",
       "    </tr>\n",
       "    <tr>\n",
       "      <th>220</th>\n",
       "      <td>https://www.mayoclinic.org/diseases-conditions...</td>\n",
       "      <td>high blood pressure (hypertension)</td>\n",
       "      <td>34</td>\n",
       "      <td>Learn about the symptoms, treatment and preven...</td>\n",
       "      <td>142</td>\n",
       "      <td>83830</td>\n",
       "      <td>3147</td>\n",
       "      <td>9</td>\n",
       "      <td>3</td>\n",
       "      <td>131</td>\n",
       "      <td>92</td>\n",
       "      <td>85</td>\n",
       "      <td>58</td>\n",
       "      <td>1</td>\n",
       "      <td>NaN</td>\n",
       "    </tr>\n",
       "    <tr>\n",
       "      <th>238</th>\n",
       "      <td>https://www.mayoclinic.org/diseases-conditions...</td>\n",
       "      <td>stroke</td>\n",
       "      <td>6</td>\n",
       "      <td>Promptly spotting stroke symptoms leads to fas...</td>\n",
       "      <td>89</td>\n",
       "      <td>75718</td>\n",
       "      <td>3539</td>\n",
       "      <td>23</td>\n",
       "      <td>15</td>\n",
       "      <td>92</td>\n",
       "      <td>61</td>\n",
       "      <td>86</td>\n",
       "      <td>63</td>\n",
       "      <td>1</td>\n",
       "      <td>NaN</td>\n",
       "    </tr>\n",
       "    <tr>\n",
       "      <th>242</th>\n",
       "      <td>https://www.mayoclinic.org/diseases-conditions...</td>\n",
       "      <td>breast cancer</td>\n",
       "      <td>13</td>\n",
       "      <td>Breast cancer — Comprehensive overview covers ...</td>\n",
       "      <td>109</td>\n",
       "      <td>93906</td>\n",
       "      <td>3409</td>\n",
       "      <td>88</td>\n",
       "      <td>49</td>\n",
       "      <td>139</td>\n",
       "      <td>106</td>\n",
       "      <td>96</td>\n",
       "      <td>73</td>\n",
       "      <td>1</td>\n",
       "      <td>NaN</td>\n",
       "    </tr>\n",
       "    <tr>\n",
       "      <th>275</th>\n",
       "      <td>https://www.mayoclinic.org/diseases-conditions...</td>\n",
       "      <td>cancer</td>\n",
       "      <td>6</td>\n",
       "      <td>Find out the basics about cancer, including sy...</td>\n",
       "      <td>120</td>\n",
       "      <td>93326</td>\n",
       "      <td>3532</td>\n",
       "      <td>26</td>\n",
       "      <td>21</td>\n",
       "      <td>130</td>\n",
       "      <td>99</td>\n",
       "      <td>104</td>\n",
       "      <td>80</td>\n",
       "      <td>1</td>\n",
       "      <td>NaN</td>\n",
       "    </tr>\n",
       "    <tr>\n",
       "      <th>280</th>\n",
       "      <td>https://www.mayoclinic.org/diseases-conditions...</td>\n",
       "      <td>colon cancer</td>\n",
       "      <td>12</td>\n",
       "      <td>Find out about symptoms and risk factors for c...</td>\n",
       "      <td>158</td>\n",
       "      <td>67832</td>\n",
       "      <td>2531</td>\n",
       "      <td>43</td>\n",
       "      <td>21</td>\n",
       "      <td>96</td>\n",
       "      <td>64</td>\n",
       "      <td>83</td>\n",
       "      <td>60</td>\n",
       "      <td>1</td>\n",
       "      <td>NaN</td>\n",
       "    </tr>\n",
       "    <tr>\n",
       "      <th>301</th>\n",
       "      <td>https://www.mayoclinic.org/diseases-conditions...</td>\n",
       "      <td>pancreatic cancer</td>\n",
       "      <td>17</td>\n",
       "      <td>Pancreatic cancer — Overview covers symptoms, ...</td>\n",
       "      <td>152</td>\n",
       "      <td>76004</td>\n",
       "      <td>2881</td>\n",
       "      <td>21</td>\n",
       "      <td>11</td>\n",
       "      <td>93</td>\n",
       "      <td>64</td>\n",
       "      <td>87</td>\n",
       "      <td>63</td>\n",
       "      <td>1</td>\n",
       "      <td>NaN</td>\n",
       "    </tr>\n",
       "    <tr>\n",
       "      <th>327</th>\n",
       "      <td>https://www.mayoclinic.org/diseases-conditions...</td>\n",
       "      <td>heart disease</td>\n",
       "      <td>13</td>\n",
       "      <td>Learn about symptoms, causes and treatment of ...</td>\n",
       "      <td>132</td>\n",
       "      <td>93732</td>\n",
       "      <td>4052</td>\n",
       "      <td>39</td>\n",
       "      <td>26</td>\n",
       "      <td>130</td>\n",
       "      <td>88</td>\n",
       "      <td>88</td>\n",
       "      <td>64</td>\n",
       "      <td>1</td>\n",
       "      <td>NaN</td>\n",
       "    </tr>\n",
       "    <tr>\n",
       "      <th>418</th>\n",
       "      <td>https://www.mayoclinic.org/diseases-conditions...</td>\n",
       "      <td>coronavirus disease 2019 (covid-19)</td>\n",
       "      <td>35</td>\n",
       "      <td>Find out about coronavirus disease 2019 (COVID...</td>\n",
       "      <td>157</td>\n",
       "      <td>164386</td>\n",
       "      <td>5194</td>\n",
       "      <td>15</td>\n",
       "      <td>7</td>\n",
       "      <td>97</td>\n",
       "      <td>62</td>\n",
       "      <td>263</td>\n",
       "      <td>240</td>\n",
       "      <td>1</td>\n",
       "      <td>NaN</td>\n",
       "    </tr>\n",
       "    <tr>\n",
       "      <th>604</th>\n",
       "      <td>https://www.mayoclinic.org/diseases-conditions...</td>\n",
       "      <td>influenza (flu)</td>\n",
       "      <td>15</td>\n",
       "      <td>Learn more about the symptoms, causes and prev...</td>\n",
       "      <td>131</td>\n",
       "      <td>68565</td>\n",
       "      <td>2899</td>\n",
       "      <td>8</td>\n",
       "      <td>3</td>\n",
       "      <td>82</td>\n",
       "      <td>50</td>\n",
       "      <td>89</td>\n",
       "      <td>66</td>\n",
       "      <td>1</td>\n",
       "      <td>NaN</td>\n",
       "    </tr>\n",
       "    <tr>\n",
       "      <th>892</th>\n",
       "      <td>https://www.mayoclinic.org/diseases-conditions...</td>\n",
       "      <td>osteoporosis</td>\n",
       "      <td>12</td>\n",
       "      <td>Fractures associated with this bone-weakening ...</td>\n",
       "      <td>136</td>\n",
       "      <td>67863</td>\n",
       "      <td>2744</td>\n",
       "      <td>9</td>\n",
       "      <td>4</td>\n",
       "      <td>86</td>\n",
       "      <td>56</td>\n",
       "      <td>81</td>\n",
       "      <td>56</td>\n",
       "      <td>1</td>\n",
       "      <td>NaN</td>\n",
       "    </tr>\n",
       "  </tbody>\n",
       "</table>\n",
       "</div>"
      ],
      "text/plain": [
       "                                                   url  \\\n",
       "78   https://www.mayoclinic.org/diseases-conditions...   \n",
       "220  https://www.mayoclinic.org/diseases-conditions...   \n",
       "238  https://www.mayoclinic.org/diseases-conditions...   \n",
       "242  https://www.mayoclinic.org/diseases-conditions...   \n",
       "275  https://www.mayoclinic.org/diseases-conditions...   \n",
       "280  https://www.mayoclinic.org/diseases-conditions...   \n",
       "301  https://www.mayoclinic.org/diseases-conditions...   \n",
       "327  https://www.mayoclinic.org/diseases-conditions...   \n",
       "418  https://www.mayoclinic.org/diseases-conditions...   \n",
       "604  https://www.mayoclinic.org/diseases-conditions...   \n",
       "892  https://www.mayoclinic.org/diseases-conditions...   \n",
       "\n",
       "                                  header  header_len  \\\n",
       "78                   alzheimer's disease          19   \n",
       "220   high blood pressure (hypertension)          34   \n",
       "238                               stroke           6   \n",
       "242                        breast cancer          13   \n",
       "275                               cancer           6   \n",
       "280                         colon cancer          12   \n",
       "301                    pancreatic cancer          17   \n",
       "327                        heart disease          13   \n",
       "418  coronavirus disease 2019 (covid-19)          35   \n",
       "604                      influenza (flu)          15   \n",
       "892                         osteoporosis          12   \n",
       "\n",
       "                                                  meta  meta_len   bytes  \\\n",
       "78   Alzheimer's disease causes a progressive loss ...       128   91009   \n",
       "220  Learn about the symptoms, treatment and preven...       142   83830   \n",
       "238  Promptly spotting stroke symptoms leads to fas...        89   75718   \n",
       "242  Breast cancer — Comprehensive overview covers ...       109   93906   \n",
       "275  Find out the basics about cancer, including sy...       120   93326   \n",
       "280  Find out about symptoms and risk factors for c...       158   67832   \n",
       "301  Pancreatic cancer — Overview covers symptoms, ...       152   76004   \n",
       "327  Learn about symptoms, causes and treatment of ...       132   93732   \n",
       "418  Find out about coronavirus disease 2019 (COVID...       157  164386   \n",
       "604  Learn more about the symptoms, causes and prev...       131   68565   \n",
       "892  Fractures associated with this bone-weakening ...       136   67863   \n",
       "\n",
       "     word_count  inlinks  unique_in  outlinks  unique_out  ext_links  \\\n",
       "78         3572       15          7       127          85         97   \n",
       "220        3147        9          3       131          92         85   \n",
       "238        3539       23         15        92          61         86   \n",
       "242        3409       88         49       139         106         96   \n",
       "275        3532       26         21       130          99        104   \n",
       "280        2531       43         21        96          64         83   \n",
       "301        2881       21         11        93          64         87   \n",
       "327        4052       39         26       130          88         88   \n",
       "418        5194       15          7        97          62        263   \n",
       "604        2899        8          3        82          50         89   \n",
       "892        2744        9          4        86          56         81   \n",
       "\n",
       "     unique_ext  top pub_date  \n",
       "78           73    1      NaN  \n",
       "220          58    1      NaN  \n",
       "238          63    1      NaN  \n",
       "242          73    1      NaN  \n",
       "275          80    1      NaN  \n",
       "280          60    1      NaN  \n",
       "301          63    1      NaN  \n",
       "327          64    1      NaN  \n",
       "418         240    1      NaN  \n",
       "604          66    1      NaN  \n",
       "892          56    1      NaN  "
      ]
     },
     "execution_count": 38,
     "metadata": {},
     "output_type": "execute_result"
    }
   ],
   "source": [
    "data[data.ext_links>80]"
   ]
  },
  {
   "cell_type": "markdown",
   "metadata": {},
   "source": [
    "Other such pages include different forms of cancer and common, perilous conditions."
   ]
  },
  {
   "cell_type": "markdown",
   "metadata": {},
   "source": [
    "**unique external links** – Number of links from this page to another website with links to the same page counted only once."
   ]
  },
  {
   "cell_type": "code",
   "execution_count": 286,
   "metadata": {
    "scrolled": false
   },
   "outputs": [
    {
     "data": {
      "image/png": "[encoded data removed]",
      "text/plain": [
       "<Figure size 432x288 with 1 Axes>"
      ]
     },
     "metadata": {
      "needs_background": "light"
     },
     "output_type": "display_data"
    },
    {
     "name": "stdout",
     "output_type": "stream",
     "text": [
      "min: 45\n",
      "max: 240\n",
      "mean: 46.287336244541486\n",
      "variance: 39.22768039820442\n",
      "stan dev: 6.263200491618037\n"
     ]
    }
   ],
   "source": [
    "examine(data, \"unique_ext\", 30)"
   ]
  },
  {
   "cell_type": "code",
   "execution_count": 40,
   "metadata": {},
   "outputs": [
    {
     "data": {
      "text/html": [
       "<div>\n",
       "<style scoped>\n",
       "    .dataframe tbody tr th:only-of-type {\n",
       "        vertical-align: middle;\n",
       "    }\n",
       "\n",
       "    .dataframe tbody tr th {\n",
       "        vertical-align: top;\n",
       "    }\n",
       "\n",
       "    .dataframe thead th {\n",
       "        text-align: right;\n",
       "    }\n",
       "</style>\n",
       "<table border=\"1\" class=\"dataframe\">\n",
       "  <thead>\n",
       "    <tr style=\"text-align: right;\">\n",
       "      <th></th>\n",
       "      <th>url</th>\n",
       "      <th>header</th>\n",
       "      <th>header_len</th>\n",
       "      <th>meta</th>\n",
       "      <th>meta_len</th>\n",
       "      <th>bytes</th>\n",
       "      <th>word_count</th>\n",
       "      <th>inlinks</th>\n",
       "      <th>unique_in</th>\n",
       "      <th>outlinks</th>\n",
       "      <th>unique_out</th>\n",
       "      <th>ext_links</th>\n",
       "      <th>unique_ext</th>\n",
       "      <th>top</th>\n",
       "      <th>pub_date</th>\n",
       "    </tr>\n",
       "  </thead>\n",
       "  <tbody>\n",
       "    <tr>\n",
       "      <th>418</th>\n",
       "      <td>https://www.mayoclinic.org/diseases-conditions...</td>\n",
       "      <td>coronavirus disease 2019 (covid-19)</td>\n",
       "      <td>35</td>\n",
       "      <td>Find out about coronavirus disease 2019 (COVID...</td>\n",
       "      <td>157</td>\n",
       "      <td>164386</td>\n",
       "      <td>5194</td>\n",
       "      <td>15</td>\n",
       "      <td>7</td>\n",
       "      <td>97</td>\n",
       "      <td>62</td>\n",
       "      <td>263</td>\n",
       "      <td>240</td>\n",
       "      <td>1</td>\n",
       "      <td>NaN</td>\n",
       "    </tr>\n",
       "  </tbody>\n",
       "</table>\n",
       "</div>"
      ],
      "text/plain": [
       "                                                   url  \\\n",
       "418  https://www.mayoclinic.org/diseases-conditions...   \n",
       "\n",
       "                                  header  header_len  \\\n",
       "418  coronavirus disease 2019 (covid-19)          35   \n",
       "\n",
       "                                                  meta  meta_len   bytes  \\\n",
       "418  Find out about coronavirus disease 2019 (COVID...       157  164386   \n",
       "\n",
       "     word_count  inlinks  unique_in  outlinks  unique_out  ext_links  \\\n",
       "418        5194       15          7        97          62        263   \n",
       "\n",
       "     unique_ext  top pub_date  \n",
       "418         240    1      NaN  "
      ]
     },
     "execution_count": 40,
     "metadata": {},
     "output_type": "execute_result"
    }
   ],
   "source": [
    "data[data.unique_ext>80]"
   ]
  },
  {
   "cell_type": "code",
   "execution_count": 287,
   "metadata": {
    "scrolled": true
   },
   "outputs": [
    {
     "data": {
      "image/png": "[encoded data removed]",
      "text/plain": [
       "<Figure size 432x288 with 1 Axes>"
      ]
     },
     "metadata": {
      "needs_background": "light"
     },
     "output_type": "display_data"
    }
   ],
   "source": [
    "exclude(data, \"unique_ext\", 44,80, 30)"
   ]
  },
  {
   "cell_type": "code",
   "execution_count": 42,
   "metadata": {},
   "outputs": [
    {
     "data": {
      "text/html": [
       "<div>\n",
       "<style scoped>\n",
       "    .dataframe tbody tr th:only-of-type {\n",
       "        vertical-align: middle;\n",
       "    }\n",
       "\n",
       "    .dataframe tbody tr th {\n",
       "        vertical-align: top;\n",
       "    }\n",
       "\n",
       "    .dataframe thead th {\n",
       "        text-align: right;\n",
       "    }\n",
       "</style>\n",
       "<table border=\"1\" class=\"dataframe\">\n",
       "  <thead>\n",
       "    <tr style=\"text-align: right;\">\n",
       "      <th></th>\n",
       "      <th>url</th>\n",
       "      <th>header</th>\n",
       "      <th>header_len</th>\n",
       "      <th>meta</th>\n",
       "      <th>meta_len</th>\n",
       "      <th>bytes</th>\n",
       "      <th>word_count</th>\n",
       "      <th>inlinks</th>\n",
       "      <th>unique_in</th>\n",
       "      <th>outlinks</th>\n",
       "      <th>unique_out</th>\n",
       "      <th>ext_links</th>\n",
       "      <th>unique_ext</th>\n",
       "      <th>top</th>\n",
       "      <th>pub_date</th>\n",
       "    </tr>\n",
       "  </thead>\n",
       "  <tbody>\n",
       "    <tr>\n",
       "      <th>78</th>\n",
       "      <td>https://www.mayoclinic.org/diseases-conditions...</td>\n",
       "      <td>alzheimer's disease</td>\n",
       "      <td>19</td>\n",
       "      <td>Alzheimer's disease causes a progressive loss ...</td>\n",
       "      <td>128</td>\n",
       "      <td>91009</td>\n",
       "      <td>3572</td>\n",
       "      <td>15</td>\n",
       "      <td>7</td>\n",
       "      <td>127</td>\n",
       "      <td>85</td>\n",
       "      <td>97</td>\n",
       "      <td>73</td>\n",
       "      <td>1</td>\n",
       "      <td>NaN</td>\n",
       "    </tr>\n",
       "    <tr>\n",
       "      <th>220</th>\n",
       "      <td>https://www.mayoclinic.org/diseases-conditions...</td>\n",
       "      <td>high blood pressure (hypertension)</td>\n",
       "      <td>34</td>\n",
       "      <td>Learn about the symptoms, treatment and preven...</td>\n",
       "      <td>142</td>\n",
       "      <td>83830</td>\n",
       "      <td>3147</td>\n",
       "      <td>9</td>\n",
       "      <td>3</td>\n",
       "      <td>131</td>\n",
       "      <td>92</td>\n",
       "      <td>85</td>\n",
       "      <td>58</td>\n",
       "      <td>1</td>\n",
       "      <td>NaN</td>\n",
       "    </tr>\n",
       "    <tr>\n",
       "      <th>238</th>\n",
       "      <td>https://www.mayoclinic.org/diseases-conditions...</td>\n",
       "      <td>stroke</td>\n",
       "      <td>6</td>\n",
       "      <td>Promptly spotting stroke symptoms leads to fas...</td>\n",
       "      <td>89</td>\n",
       "      <td>75718</td>\n",
       "      <td>3539</td>\n",
       "      <td>23</td>\n",
       "      <td>15</td>\n",
       "      <td>92</td>\n",
       "      <td>61</td>\n",
       "      <td>86</td>\n",
       "      <td>63</td>\n",
       "      <td>1</td>\n",
       "      <td>NaN</td>\n",
       "    </tr>\n",
       "    <tr>\n",
       "      <th>242</th>\n",
       "      <td>https://www.mayoclinic.org/diseases-conditions...</td>\n",
       "      <td>breast cancer</td>\n",
       "      <td>13</td>\n",
       "      <td>Breast cancer — Comprehensive overview covers ...</td>\n",
       "      <td>109</td>\n",
       "      <td>93906</td>\n",
       "      <td>3409</td>\n",
       "      <td>88</td>\n",
       "      <td>49</td>\n",
       "      <td>139</td>\n",
       "      <td>106</td>\n",
       "      <td>96</td>\n",
       "      <td>73</td>\n",
       "      <td>1</td>\n",
       "      <td>NaN</td>\n",
       "    </tr>\n",
       "    <tr>\n",
       "      <th>275</th>\n",
       "      <td>https://www.mayoclinic.org/diseases-conditions...</td>\n",
       "      <td>cancer</td>\n",
       "      <td>6</td>\n",
       "      <td>Find out the basics about cancer, including sy...</td>\n",
       "      <td>120</td>\n",
       "      <td>93326</td>\n",
       "      <td>3532</td>\n",
       "      <td>26</td>\n",
       "      <td>21</td>\n",
       "      <td>130</td>\n",
       "      <td>99</td>\n",
       "      <td>104</td>\n",
       "      <td>80</td>\n",
       "      <td>1</td>\n",
       "      <td>NaN</td>\n",
       "    </tr>\n",
       "    <tr>\n",
       "      <th>280</th>\n",
       "      <td>https://www.mayoclinic.org/diseases-conditions...</td>\n",
       "      <td>colon cancer</td>\n",
       "      <td>12</td>\n",
       "      <td>Find out about symptoms and risk factors for c...</td>\n",
       "      <td>158</td>\n",
       "      <td>67832</td>\n",
       "      <td>2531</td>\n",
       "      <td>43</td>\n",
       "      <td>21</td>\n",
       "      <td>96</td>\n",
       "      <td>64</td>\n",
       "      <td>83</td>\n",
       "      <td>60</td>\n",
       "      <td>1</td>\n",
       "      <td>NaN</td>\n",
       "    </tr>\n",
       "    <tr>\n",
       "      <th>301</th>\n",
       "      <td>https://www.mayoclinic.org/diseases-conditions...</td>\n",
       "      <td>pancreatic cancer</td>\n",
       "      <td>17</td>\n",
       "      <td>Pancreatic cancer — Overview covers symptoms, ...</td>\n",
       "      <td>152</td>\n",
       "      <td>76004</td>\n",
       "      <td>2881</td>\n",
       "      <td>21</td>\n",
       "      <td>11</td>\n",
       "      <td>93</td>\n",
       "      <td>64</td>\n",
       "      <td>87</td>\n",
       "      <td>63</td>\n",
       "      <td>1</td>\n",
       "      <td>NaN</td>\n",
       "    </tr>\n",
       "    <tr>\n",
       "      <th>327</th>\n",
       "      <td>https://www.mayoclinic.org/diseases-conditions...</td>\n",
       "      <td>heart disease</td>\n",
       "      <td>13</td>\n",
       "      <td>Learn about symptoms, causes and treatment of ...</td>\n",
       "      <td>132</td>\n",
       "      <td>93732</td>\n",
       "      <td>4052</td>\n",
       "      <td>39</td>\n",
       "      <td>26</td>\n",
       "      <td>130</td>\n",
       "      <td>88</td>\n",
       "      <td>88</td>\n",
       "      <td>64</td>\n",
       "      <td>1</td>\n",
       "      <td>NaN</td>\n",
       "    </tr>\n",
       "    <tr>\n",
       "      <th>379</th>\n",
       "      <td>https://www.mayoclinic.org/diseases-conditions...</td>\n",
       "      <td>depression (major depressive disorder)</td>\n",
       "      <td>38</td>\n",
       "      <td>Depression is a mood disorder that causes a pe...</td>\n",
       "      <td>141</td>\n",
       "      <td>75409</td>\n",
       "      <td>2681</td>\n",
       "      <td>12</td>\n",
       "      <td>6</td>\n",
       "      <td>120</td>\n",
       "      <td>81</td>\n",
       "      <td>80</td>\n",
       "      <td>57</td>\n",
       "      <td>1</td>\n",
       "      <td>NaN</td>\n",
       "    </tr>\n",
       "    <tr>\n",
       "      <th>418</th>\n",
       "      <td>https://www.mayoclinic.org/diseases-conditions...</td>\n",
       "      <td>coronavirus disease 2019 (covid-19)</td>\n",
       "      <td>35</td>\n",
       "      <td>Find out about coronavirus disease 2019 (COVID...</td>\n",
       "      <td>157</td>\n",
       "      <td>164386</td>\n",
       "      <td>5194</td>\n",
       "      <td>15</td>\n",
       "      <td>7</td>\n",
       "      <td>97</td>\n",
       "      <td>62</td>\n",
       "      <td>263</td>\n",
       "      <td>240</td>\n",
       "      <td>1</td>\n",
       "      <td>NaN</td>\n",
       "    </tr>\n",
       "    <tr>\n",
       "      <th>604</th>\n",
       "      <td>https://www.mayoclinic.org/diseases-conditions...</td>\n",
       "      <td>influenza (flu)</td>\n",
       "      <td>15</td>\n",
       "      <td>Learn more about the symptoms, causes and prev...</td>\n",
       "      <td>131</td>\n",
       "      <td>68565</td>\n",
       "      <td>2899</td>\n",
       "      <td>8</td>\n",
       "      <td>3</td>\n",
       "      <td>82</td>\n",
       "      <td>50</td>\n",
       "      <td>89</td>\n",
       "      <td>66</td>\n",
       "      <td>1</td>\n",
       "      <td>NaN</td>\n",
       "    </tr>\n",
       "    <tr>\n",
       "      <th>822</th>\n",
       "      <td>https://www.mayoclinic.org/diseases-conditions...</td>\n",
       "      <td>menopause</td>\n",
       "      <td>9</td>\n",
       "      <td>Find out how this biological change impacts yo...</td>\n",
       "      <td>105</td>\n",
       "      <td>60088</td>\n",
       "      <td>2181</td>\n",
       "      <td>8</td>\n",
       "      <td>3</td>\n",
       "      <td>81</td>\n",
       "      <td>52</td>\n",
       "      <td>80</td>\n",
       "      <td>57</td>\n",
       "      <td>1</td>\n",
       "      <td>NaN</td>\n",
       "    </tr>\n",
       "    <tr>\n",
       "      <th>892</th>\n",
       "      <td>https://www.mayoclinic.org/diseases-conditions...</td>\n",
       "      <td>osteoporosis</td>\n",
       "      <td>12</td>\n",
       "      <td>Fractures associated with this bone-weakening ...</td>\n",
       "      <td>136</td>\n",
       "      <td>67863</td>\n",
       "      <td>2744</td>\n",
       "      <td>9</td>\n",
       "      <td>4</td>\n",
       "      <td>86</td>\n",
       "      <td>56</td>\n",
       "      <td>81</td>\n",
       "      <td>56</td>\n",
       "      <td>1</td>\n",
       "      <td>NaN</td>\n",
       "    </tr>\n",
       "    <tr>\n",
       "      <th>968</th>\n",
       "      <td>https://www.mayoclinic.org/diseases-conditions...</td>\n",
       "      <td>prescription drug abuse</td>\n",
       "      <td>23</td>\n",
       "      <td>Using a prescription medication in a way not i...</td>\n",
       "      <td>147</td>\n",
       "      <td>64388</td>\n",
       "      <td>2589</td>\n",
       "      <td>8</td>\n",
       "      <td>3</td>\n",
       "      <td>86</td>\n",
       "      <td>52</td>\n",
       "      <td>79</td>\n",
       "      <td>56</td>\n",
       "      <td>0</td>\n",
       "      <td>NaN</td>\n",
       "    </tr>\n",
       "  </tbody>\n",
       "</table>\n",
       "</div>"
      ],
      "text/plain": [
       "                                                   url  \\\n",
       "78   https://www.mayoclinic.org/diseases-conditions...   \n",
       "220  https://www.mayoclinic.org/diseases-conditions...   \n",
       "238  https://www.mayoclinic.org/diseases-conditions...   \n",
       "242  https://www.mayoclinic.org/diseases-conditions...   \n",
       "275  https://www.mayoclinic.org/diseases-conditions...   \n",
       "280  https://www.mayoclinic.org/diseases-conditions...   \n",
       "301  https://www.mayoclinic.org/diseases-conditions...   \n",
       "327  https://www.mayoclinic.org/diseases-conditions...   \n",
       "379  https://www.mayoclinic.org/diseases-conditions...   \n",
       "418  https://www.mayoclinic.org/diseases-conditions...   \n",
       "604  https://www.mayoclinic.org/diseases-conditions...   \n",
       "822  https://www.mayoclinic.org/diseases-conditions...   \n",
       "892  https://www.mayoclinic.org/diseases-conditions...   \n",
       "968  https://www.mayoclinic.org/diseases-conditions...   \n",
       "\n",
       "                                     header  header_len  \\\n",
       "78                      alzheimer's disease          19   \n",
       "220      high blood pressure (hypertension)          34   \n",
       "238                                  stroke           6   \n",
       "242                           breast cancer          13   \n",
       "275                                  cancer           6   \n",
       "280                            colon cancer          12   \n",
       "301                       pancreatic cancer          17   \n",
       "327                           heart disease          13   \n",
       "379  depression (major depressive disorder)          38   \n",
       "418     coronavirus disease 2019 (covid-19)          35   \n",
       "604                         influenza (flu)          15   \n",
       "822                               menopause           9   \n",
       "892                            osteoporosis          12   \n",
       "968                 prescription drug abuse          23   \n",
       "\n",
       "                                                  meta  meta_len   bytes  \\\n",
       "78   Alzheimer's disease causes a progressive loss ...       128   91009   \n",
       "220  Learn about the symptoms, treatment and preven...       142   83830   \n",
       "238  Promptly spotting stroke symptoms leads to fas...        89   75718   \n",
       "242  Breast cancer — Comprehensive overview covers ...       109   93906   \n",
       "275  Find out the basics about cancer, including sy...       120   93326   \n",
       "280  Find out about symptoms and risk factors for c...       158   67832   \n",
       "301  Pancreatic cancer — Overview covers symptoms, ...       152   76004   \n",
       "327  Learn about symptoms, causes and treatment of ...       132   93732   \n",
       "379  Depression is a mood disorder that causes a pe...       141   75409   \n",
       "418  Find out about coronavirus disease 2019 (COVID...       157  164386   \n",
       "604  Learn more about the symptoms, causes and prev...       131   68565   \n",
       "822  Find out how this biological change impacts yo...       105   60088   \n",
       "892  Fractures associated with this bone-weakening ...       136   67863   \n",
       "968  Using a prescription medication in a way not i...       147   64388   \n",
       "\n",
       "     word_count  inlinks  unique_in  outlinks  unique_out  ext_links  \\\n",
       "78         3572       15          7       127          85         97   \n",
       "220        3147        9          3       131          92         85   \n",
       "238        3539       23         15        92          61         86   \n",
       "242        3409       88         49       139         106         96   \n",
       "275        3532       26         21       130          99        104   \n",
       "280        2531       43         21        96          64         83   \n",
       "301        2881       21         11        93          64         87   \n",
       "327        4052       39         26       130          88         88   \n",
       "379        2681       12          6       120          81         80   \n",
       "418        5194       15          7        97          62        263   \n",
       "604        2899        8          3        82          50         89   \n",
       "822        2181        8          3        81          52         80   \n",
       "892        2744        9          4        86          56         81   \n",
       "968        2589        8          3        86          52         79   \n",
       "\n",
       "     unique_ext  top pub_date  \n",
       "78           73    1      NaN  \n",
       "220          58    1      NaN  \n",
       "238          63    1      NaN  \n",
       "242          73    1      NaN  \n",
       "275          80    1      NaN  \n",
       "280          60    1      NaN  \n",
       "301          63    1      NaN  \n",
       "327          64    1      NaN  \n",
       "379          57    1      NaN  \n",
       "418         240    1      NaN  \n",
       "604          66    1      NaN  \n",
       "822          57    1      NaN  \n",
       "892          56    1      NaN  \n",
       "968          56    0      NaN  "
      ]
     },
     "execution_count": 42,
     "metadata": {},
     "output_type": "execute_result"
    }
   ],
   "source": [
    "data[data.unique_ext>55]"
   ]
  },
  {
   "cell_type": "code",
   "execution_count": 288,
   "metadata": {
    "scrolled": true
   },
   "outputs": [
    {
     "data": {
      "image/png": "[encoded data removed]",
      "text/plain": [
       "<Figure size 432x288 with 1 Axes>"
      ]
     },
     "metadata": {
      "needs_background": "light"
     },
     "output_type": "display_data"
    }
   ],
   "source": [
    "exclude(data, \"unique_ext\", 44, 55, 20)"
   ]
  },
  {
   "cell_type": "code",
   "execution_count": 462,
   "metadata": {},
   "outputs": [],
   "source": [
    "lim = data[data.unique_ext<55]"
   ]
  },
  {
   "cell_type": "markdown",
   "metadata": {},
   "source": [
    "### publication date"
   ]
  },
  {
   "cell_type": "code",
   "execution_count": 368,
   "metadata": {},
   "outputs": [
    {
     "data": {
      "text/plain": [
       "'2017-07-18'"
      ]
     },
     "execution_count": 368,
     "metadata": {},
     "output_type": "execute_result"
    }
   ],
   "source": [
    "data.pub_date[0]"
   ]
  },
  {
   "cell_type": "code",
   "execution_count": 369,
   "metadata": {},
   "outputs": [
    {
     "data": {
      "text/plain": [
       "str"
      ]
     },
     "execution_count": 369,
     "metadata": {},
     "output_type": "execute_result"
    }
   ],
   "source": [
    "# check date type\n",
    "type(data.pub_date[0])"
   ]
  },
  {
   "cell_type": "code",
   "execution_count": 370,
   "metadata": {},
   "outputs": [
    {
     "data": {
      "text/plain": [
       "numpy.float64"
      ]
     },
     "execution_count": 370,
     "metadata": {},
     "output_type": "execute_result"
    }
   ],
   "source": [
    "# convert pub_date from string to datetime_ob\n",
    "dat = []\n",
    "for date in data.pub_date:\n",
    "    ob = datetime.strptime(date, '%Y-%m-%d')\n",
    "    dat.append(ob)\n",
    "    \n",
    "# convert pub_date from datetime_ob to float\n",
    "data.pub_date = dt.date2num(dat)\n",
    "type(data[\"pub_date\"][0])"
   ]
  },
  {
   "cell_type": "code",
   "execution_count": 409,
   "metadata": {},
   "outputs": [
    {
     "name": "stdout",
     "output_type": "stream",
     "text": [
      "min: 735352.0 2014-04-29\n",
      "max: 737565.0 2020-05-20\n"
     ]
    }
   ],
   "source": [
    "print(\"min:\", data[\"pub_date\"].min(), dt.num2date(data[\"pub_date\"].min()).strftime('%Y-%m-%d'))\n",
    "print(\"max:\", data[\"pub_date\"].maxdef pub(col, colname):\n",
    "    plt.plot_date(x=data[\"pub_date\"], y=col, xdate=True, ydate=False, alpha=0.5)\n",
    "    plt.title(\"publication date, \" + colname)\n",
    "    plt.show()\n",
    "\n",
    "data.columns\n",
    "\n",
    "compare = ['header_len', 'meta_len', 'bytes',\n",
    "       'word_count', 'inlinks', 'unique_in', 'outlinks', 'unique_out',\n",
    "       'ext_links', 'unique_ext']\n",
    "\n",
    "for col in compare:\n",
    "    pub(data[col], col)(), dt.num2date(data[\"pub_date\"].max()).strftime('%Y-%m-%d'))"
   ]
  },
  {
   "cell_type": "code",
   "execution_count": 410,
   "metadata": {},
   "outputs": [
    {
     "data": {
      "text/html": [
       "<div>\n",
       "<style scoped>\n",
       "    .dataframe tbody tr th:only-of-type {\n",
       "        vertical-align: middle;\n",
       "    }\n",
       "\n",
       "    .dataframe tbody tr th {\n",
       "        vertical-align: top;\n",
       "    }\n",
       "\n",
       "    .dataframe thead th {\n",
       "        text-align: right;\n",
       "    }\n",
       "</style>\n",
       "<table border=\"1\" class=\"dataframe\">\n",
       "  <thead>\n",
       "    <tr style=\"text-align: right;\">\n",
       "      <th></th>\n",
       "      <th>url</th>\n",
       "      <th>header</th>\n",
       "      <th>header_len</th>\n",
       "      <th>meta</th>\n",
       "      <th>meta_len</th>\n",
       "      <th>bytes</th>\n",
       "      <th>word_count</th>\n",
       "      <th>inlinks</th>\n",
       "      <th>unique_in</th>\n",
       "      <th>outlinks</th>\n",
       "      <th>unique_out</th>\n",
       "      <th>ext_links</th>\n",
       "      <th>unique_ext</th>\n",
       "      <th>top</th>\n",
       "      <th>pub_date</th>\n",
       "    </tr>\n",
       "  </thead>\n",
       "  <tbody>\n",
       "    <tr>\n",
       "      <th>765</th>\n",
       "      <td>https://www.mayoclinic.org/diseases-conditions...</td>\n",
       "      <td>juvenile fibromyalgia</td>\n",
       "      <td>21</td>\n",
       "      <td>Juvenile fibromyalgia — Comprehensive overview...</td>\n",
       "      <td>133</td>\n",
       "      <td>43108</td>\n",
       "      <td>1373</td>\n",
       "      <td>7</td>\n",
       "      <td>2</td>\n",
       "      <td>67</td>\n",
       "      <td>41</td>\n",
       "      <td>67</td>\n",
       "      <td>45</td>\n",
       "      <td>0</td>\n",
       "      <td>735352.0</td>\n",
       "    </tr>\n",
       "  </tbody>\n",
       "</table>\n",
       "</div>"
      ],
      "text/plain": [
       "                                                   url                 header  \\\n",
       "765  https://www.mayoclinic.org/diseases-conditions...  juvenile fibromyalgia   \n",
       "\n",
       "     header_len                                               meta  meta_len  \\\n",
       "765          21  Juvenile fibromyalgia — Comprehensive overview...       133   \n",
       "\n",
       "     bytes  word_count  inlinks  unique_in  outlinks  unique_out  ext_links  \\\n",
       "765  43108        1373        7          2        67          41         67   \n",
       "\n",
       "     unique_ext  top  pub_date  \n",
       "765          45    0  735352.0  "
      ]
     },
     "execution_count": 410,
     "metadata": {},
     "output_type": "execute_result"
    }
   ],
   "source": [
    "data[data.pub_date == 735352.0]"
   ]
  },
  {
   "cell_type": "code",
   "execution_count": 465,
   "metadata": {},
   "outputs": [
    {
     "data": {
      "text/html": [
       "<div>\n",
       "<style scoped>\n",
       "    .dataframe tbody tr th:only-of-type {\n",
       "        vertical-align: middle;\n",
       "    }\n",
       "\n",
       "    .dataframe tbody tr th {\n",
       "        vertical-align: top;\n",
       "    }\n",
       "\n",
       "    .dataframe thead th {\n",
       "        text-align: right;\n",
       "    }\n",
       "</style>\n",
       "<table border=\"1\" class=\"dataframe\">\n",
       "  <thead>\n",
       "    <tr style=\"text-align: right;\">\n",
       "      <th></th>\n",
       "      <th>url</th>\n",
       "      <th>header</th>\n",
       "      <th>header_len</th>\n",
       "      <th>meta</th>\n",
       "      <th>meta_len</th>\n",
       "      <th>bytes</th>\n",
       "      <th>word_count</th>\n",
       "      <th>inlinks</th>\n",
       "      <th>unique_in</th>\n",
       "      <th>outlinks</th>\n",
       "      <th>unique_out</th>\n",
       "      <th>ext_links</th>\n",
       "      <th>unique_ext</th>\n",
       "      <th>top</th>\n",
       "      <th>pub_date</th>\n",
       "    </tr>\n",
       "  </thead>\n",
       "  <tbody>\n",
       "    <tr>\n",
       "      <th>428</th>\n",
       "      <td>https://www.mayoclinic.org/diseases-conditions...</td>\n",
       "      <td>sudden infant death syndrome (sids)</td>\n",
       "      <td>35</td>\n",
       "      <td>Fluffy blankets and tummy sleeping increases S...</td>\n",
       "      <td>155</td>\n",
       "      <td>44878</td>\n",
       "      <td>1673</td>\n",
       "      <td>9</td>\n",
       "      <td>3</td>\n",
       "      <td>69</td>\n",
       "      <td>42</td>\n",
       "      <td>67</td>\n",
       "      <td>45</td>\n",
       "      <td>1</td>\n",
       "      <td>737565.0</td>\n",
       "    </tr>\n",
       "    <tr>\n",
       "      <th>453</th>\n",
       "      <td>https://www.mayoclinic.org/diseases-conditions...</td>\n",
       "      <td>ductal carcinoma in situ (dcis)</td>\n",
       "      <td>31</td>\n",
       "      <td>Noninvasive breast cancer often has no signs o...</td>\n",
       "      <td>156</td>\n",
       "      <td>48613</td>\n",
       "      <td>1412</td>\n",
       "      <td>25</td>\n",
       "      <td>14</td>\n",
       "      <td>81</td>\n",
       "      <td>54</td>\n",
       "      <td>70</td>\n",
       "      <td>47</td>\n",
       "      <td>0</td>\n",
       "      <td>737565.0</td>\n",
       "    </tr>\n",
       "    <tr>\n",
       "      <th>778</th>\n",
       "      <td>https://www.mayoclinic.org/diseases-conditions...</td>\n",
       "      <td>lobular carcinoma in situ (lcis)</td>\n",
       "      <td>32</td>\n",
       "      <td>If a breast biopsy reveals you have LCIS, your...</td>\n",
       "      <td>159</td>\n",
       "      <td>49162</td>\n",
       "      <td>1348</td>\n",
       "      <td>17</td>\n",
       "      <td>10</td>\n",
       "      <td>77</td>\n",
       "      <td>51</td>\n",
       "      <td>69</td>\n",
       "      <td>46</td>\n",
       "      <td>0</td>\n",
       "      <td>737565.0</td>\n",
       "    </tr>\n",
       "  </tbody>\n",
       "</table>\n",
       "</div>"
      ],
      "text/plain": [
       "                                                   url  \\\n",
       "428  https://www.mayoclinic.org/diseases-conditions...   \n",
       "453  https://www.mayoclinic.org/diseases-conditions...   \n",
       "778  https://www.mayoclinic.org/diseases-conditions...   \n",
       "\n",
       "                                  header  header_len  \\\n",
       "428  sudden infant death syndrome (sids)          35   \n",
       "453      ductal carcinoma in situ (dcis)          31   \n",
       "778     lobular carcinoma in situ (lcis)          32   \n",
       "\n",
       "                                                  meta  meta_len  bytes  \\\n",
       "428  Fluffy blankets and tummy sleeping increases S...       155  44878   \n",
       "453  Noninvasive breast cancer often has no signs o...       156  48613   \n",
       "778  If a breast biopsy reveals you have LCIS, your...       159  49162   \n",
       "\n",
       "     word_count  inlinks  unique_in  outlinks  unique_out  ext_links  \\\n",
       "428        1673        9          3        69          42         67   \n",
       "453        1412       25         14        81          54         70   \n",
       "778        1348       17         10        77          51         69   \n",
       "\n",
       "     unique_ext  top  pub_date  \n",
       "428          45    1  737565.0  \n",
       "453          47    0  737565.0  \n",
       "778          46    0  737565.0  "
      ]
     },
     "execution_count": 465,
     "metadata": {},
     "output_type": "execute_result"
    }
   ],
   "source": [
    "data[data.pub_date == 737565.0]"
   ]
  },
  {
   "cell_type": "code",
   "execution_count": 401,
   "metadata": {},
   "outputs": [],
   "source": [
    "def pub(col, colname):\n",
    "    plt.plot_date(x=data[\"pub_date\"], y=col, xdate=True, ydate=False, alpha=0.5)\n",
    "    plt.title(\"publication date, \" + colname)\n",
    "    plt.show()"
   ]
  },
  {
   "cell_type": "code",
   "execution_count": 402,
   "metadata": {
    "scrolled": false
   },
   "outputs": [
    {
     "data": {
      "image/png": "[encoded data removed]",
      "text/plain": [
       "<Figure size 432x288 with 1 Axes>"
      ]
     },
     "metadata": {
      "needs_background": "light"
     },
     "output_type": "display_data"
    },
    {
     "data": {
      "image/png": "[encoded data removed]",
      "text/plain": [
       "<Figure size 432x288 with 1 Axes>"
      ]
     },
     "metadata": {
      "needs_background": "light"
     },
     "output_type": "display_data"
    },
    {
     "data": {
      "image/png": "[encoded data removed]",
      "text/plain": [
       "<Figure size 432x288 with 1 Axes>"
      ]
     },
     "metadata": {
      "needs_background": "light"
     },
     "output_type": "display_data"
    },
    {
     "data": {
      "image/png": "[encoded data removed]",
      "text/plain": [
       "<Figure size 432x288 with 1 Axes>"
      ]
     },
     "metadata": {
      "needs_background": "light"
     },
     "output_type": "display_data"
    },
    {
     "data": {
      "image/png": "[encoded data removed]",
      "text/plain": [
       "<Figure size 432x288 with 1 Axes>"
      ]
     },
     "metadata": {
      "needs_background": "light"
     },
     "output_type": "display_data"
    },
    {
     "data": {
      "image/png": "[encoded data removed]",
      "text/plain": [
       "<Figure size 432x288 with 1 Axes>"
      ]
     },
     "metadata": {
      "needs_background": "light"
     },
     "output_type": "display_data"
    },
    {
     "data": {
      "image/png": "[encoded data removed]",
      "text/plain": [
       "<Figure size 432x288 with 1 Axes>"
      ]
     },
     "metadata": {
      "needs_background": "light"
     },
     "output_type": "display_data"
    },
    {
     "data": {
      "image/png": "[encoded data removed]",
      "text/plain": [
       "<Figure size 432x288 with 1 Axes>"
      ]
     },
     "metadata": {
      "needs_background": "light"
     },
     "output_type": "display_data"
    },
    {
     "data": {
      "image/png": "[encoded data removed]",
      "text/plain": [
       "<Figure size 432x288 with 1 Axes>"
      ]
     },
     "metadata": {
      "needs_background": "light"
     },
     "output_type": "display_data"
    },
    {
     "data": {
      "image/png": "[encoded data removed]",
      "text/plain": [
       "<Figure size 432x288 with 1 Axes>"
      ]
     },
     "metadata": {
      "needs_background": "light"
     },
     "output_type": "display_data"
    }
   ],
   "source": [
    "compare = ['header_len', 'meta_len', 'bytes',\n",
    "       'word_count', 'inlinks', 'unique_in', 'outlinks', 'unique_out',\n",
    "       'ext_links', 'unique_ext']\n",
    "\n",
    "for col in compare:\n",
    "    pub(data[col], col)"
   ]
  },
  {
   "cell_type": "markdown",
   "metadata": {},
   "source": [
    "### top-ranking pages of the Mayo Clinic domain"
   ]
  },
  {
   "cell_type": "markdown",
   "metadata": {},
   "source": [
    "Main SEO boxes to check:\n",
    "- link authority\n",
    "- quality content\n",
    "- publication date\n",
    "\n",
    "Others that may give pages a boost:\n",
    "- good headers\n",
    "- word count\n",
    "- url length\n",
    "- page authority"
   ]
  },
  {
   "cell_type": "code",
   "execution_count": 466,
   "metadata": {},
   "outputs": [
    {
     "data": {
      "text/plain": [
       "Index(['url', 'header', 'header_len', 'meta', 'meta_len', 'bytes',\n",
       "       'word_count', 'inlinks', 'unique_in', 'outlinks', 'unique_out',\n",
       "       'ext_links', 'unique_ext', 'top', 'pub_date'],\n",
       "      dtype='object')"
      ]
     },
     "execution_count": 466,
     "metadata": {},
     "output_type": "execute_result"
    }
   ],
   "source": [
    "ranked.columns"
   ]
  },
  {
   "cell_type": "code",
   "execution_count": 471,
   "metadata": {},
   "outputs": [
    {
     "name": "stdout",
     "output_type": "stream",
     "text": [
      "Covariance: 282.69251\n",
      "Correlation: 0.10601\n",
      "R squared: 0.01124\n",
      "Linear Regression Slope: 0.002733121618710703\n"
     ]
    }
   ],
   "source": [
    "relate(ranked.pub_date, ranked.inlinks)"
   ]
  },
  {
   "cell_type": "code",
   "execution_count": 473,
   "metadata": {},
   "outputs": [
    {
     "data": {
      "image/png": "[encoded data removed]",
      "text/plain": [
       "<Figure size 432x288 with 1 Axes>"
      ]
     },
     "metadata": {
      "needs_background": "light"
     },
     "output_type": "display_data"
    }
   ],
   "source": [
    "log_reg(ranked.pub_date, ranked.unique_ext)"
   ]
  },
  {
   "cell_type": "code",
   "execution_count": 475,
   "metadata": {},
   "outputs": [
    {
     "ename": "KeyError",
     "evalue": "'page_auth'",
     "output_type": "error",
     "traceback": [
      "\u001b[0;31m---------------------------------------------------------------------------\u001b[0m",
      "\u001b[0;31mKeyError\u001b[0m                                  Traceback (most recent call last)",
      "\u001b[0;32m~/opt/anaconda3/envs/info2950/lib/python3.7/site-packages/pandas/core/indexes/base.py\u001b[0m in \u001b[0;36mget_loc\u001b[0;34m(self, key, method, tolerance)\u001b[0m\n\u001b[1;32m   2896\u001b[0m             \u001b[0;32mtry\u001b[0m\u001b[0;34m:\u001b[0m\u001b[0;34m\u001b[0m\u001b[0;34m\u001b[0m\u001b[0m\n\u001b[0;32m-> 2897\u001b[0;31m                 \u001b[0;32mreturn\u001b[0m \u001b[0mself\u001b[0m\u001b[0;34m.\u001b[0m\u001b[0m_engine\u001b[0m\u001b[0;34m.\u001b[0m\u001b[0mget_loc\u001b[0m\u001b[0;34m(\u001b[0m\u001b[0mkey\u001b[0m\u001b[0;34m)\u001b[0m\u001b[0;34m\u001b[0m\u001b[0;34m\u001b[0m\u001b[0m\n\u001b[0m\u001b[1;32m   2898\u001b[0m             \u001b[0;32mexcept\u001b[0m \u001b[0mKeyError\u001b[0m\u001b[0;34m:\u001b[0m\u001b[0;34m\u001b[0m\u001b[0;34m\u001b[0m\u001b[0m\n",
      "\u001b[0;32mpandas/_libs/index.pyx\u001b[0m in \u001b[0;36mpandas._libs.index.IndexEngine.get_loc\u001b[0;34m()\u001b[0m\n",
      "\u001b[0;32mpandas/_libs/index.pyx\u001b[0m in \u001b[0;36mpandas._libs.index.IndexEngine.get_loc\u001b[0;34m()\u001b[0m\n",
      "\u001b[0;32mpandas/_libs/hashtable_class_helper.pxi\u001b[0m in \u001b[0;36mpandas._libs.hashtable.PyObjectHashTable.get_item\u001b[0;34m()\u001b[0m\n",
      "\u001b[0;32mpandas/_libs/hashtable_class_helper.pxi\u001b[0m in \u001b[0;36mpandas._libs.hashtable.PyObjectHashTable.get_item\u001b[0;34m()\u001b[0m\n",
      "\u001b[0;31mKeyError\u001b[0m: 'page_auth'",
      "\nDuring handling of the above exception, another exception occurred:\n",
      "\u001b[0;31mKeyError\u001b[0m                                  Traceback (most recent call last)",
      "\u001b[0;32m<ipython-input-475-db8d18951d45>\u001b[0m in \u001b[0;36m<module>\u001b[0;34m\u001b[0m\n\u001b[1;32m      1\u001b[0m for column in ['header_len', 'meta_len', 'bytes', 'word_count', 'total_links', 'inbound_domains', 'outbound_domains', 'ext_links', 'unique_ext', 'inlinks', 'unique_in', 'outlinks',\n\u001b[1;32m      2\u001b[0m        'unique_out', 'pub_date']:\n\u001b[0;32m----> 3\u001b[0;31m     \u001b[0mmodel\u001b[0m \u001b[0;34m=\u001b[0m \u001b[0mLinearRegression\u001b[0m\u001b[0;34m(\u001b[0m\u001b[0;34m)\u001b[0m\u001b[0;34m.\u001b[0m\u001b[0mfit\u001b[0m\u001b[0;34m(\u001b[0m\u001b[0mdata\u001b[0m\u001b[0;34m[\u001b[0m\u001b[0;34m[\u001b[0m\u001b[0mcolumn\u001b[0m\u001b[0;34m]\u001b[0m\u001b[0;34m]\u001b[0m\u001b[0;34m,\u001b[0m \u001b[0mdata\u001b[0m\u001b[0;34m[\u001b[0m\u001b[0;34m\"page_auth\"\u001b[0m\u001b[0;34m]\u001b[0m\u001b[0;34m)\u001b[0m\u001b[0;34m\u001b[0m\u001b[0;34m\u001b[0m\u001b[0m\n\u001b[0m\u001b[1;32m      4\u001b[0m     \u001b[0mprint\u001b[0m\u001b[0;34m(\u001b[0m\u001b[0;34m\"%s coefficient: %.5f\"\u001b[0m \u001b[0;34m%\u001b[0m \u001b[0;34m(\u001b[0m\u001b[0mcolumn\u001b[0m\u001b[0;34m,\u001b[0m \u001b[0mmodel\u001b[0m\u001b[0;34m.\u001b[0m\u001b[0mcoef_\u001b[0m\u001b[0;34m)\u001b[0m\u001b[0;34m)\u001b[0m\u001b[0;34m\u001b[0m\u001b[0;34m\u001b[0m\u001b[0m\n",
      "\u001b[0;32m~/opt/anaconda3/envs/info2950/lib/python3.7/site-packages/pandas/core/frame.py\u001b[0m in \u001b[0;36m__getitem__\u001b[0;34m(self, key)\u001b[0m\n\u001b[1;32m   2993\u001b[0m             \u001b[0;32mif\u001b[0m \u001b[0mself\u001b[0m\u001b[0;34m.\u001b[0m\u001b[0mcolumns\u001b[0m\u001b[0;34m.\u001b[0m\u001b[0mnlevels\u001b[0m \u001b[0;34m>\u001b[0m \u001b[0;36m1\u001b[0m\u001b[0;34m:\u001b[0m\u001b[0;34m\u001b[0m\u001b[0;34m\u001b[0m\u001b[0m\n\u001b[1;32m   2994\u001b[0m                 \u001b[0;32mreturn\u001b[0m \u001b[0mself\u001b[0m\u001b[0;34m.\u001b[0m\u001b[0m_getitem_multilevel\u001b[0m\u001b[0;34m(\u001b[0m\u001b[0mkey\u001b[0m\u001b[0;34m)\u001b[0m\u001b[0;34m\u001b[0m\u001b[0;34m\u001b[0m\u001b[0m\n\u001b[0;32m-> 2995\u001b[0;31m             \u001b[0mindexer\u001b[0m \u001b[0;34m=\u001b[0m \u001b[0mself\u001b[0m\u001b[0;34m.\u001b[0m\u001b[0mcolumns\u001b[0m\u001b[0;34m.\u001b[0m\u001b[0mget_loc\u001b[0m\u001b[0;34m(\u001b[0m\u001b[0mkey\u001b[0m\u001b[0;34m)\u001b[0m\u001b[0;34m\u001b[0m\u001b[0;34m\u001b[0m\u001b[0m\n\u001b[0m\u001b[1;32m   2996\u001b[0m             \u001b[0;32mif\u001b[0m \u001b[0mis_integer\u001b[0m\u001b[0;34m(\u001b[0m\u001b[0mindexer\u001b[0m\u001b[0;34m)\u001b[0m\u001b[0;34m:\u001b[0m\u001b[0;34m\u001b[0m\u001b[0;34m\u001b[0m\u001b[0m\n\u001b[1;32m   2997\u001b[0m                 \u001b[0mindexer\u001b[0m \u001b[0;34m=\u001b[0m \u001b[0;34m[\u001b[0m\u001b[0mindexer\u001b[0m\u001b[0;34m]\u001b[0m\u001b[0;34m\u001b[0m\u001b[0;34m\u001b[0m\u001b[0m\n",
      "\u001b[0;32m~/opt/anaconda3/envs/info2950/lib/python3.7/site-packages/pandas/core/indexes/base.py\u001b[0m in \u001b[0;36mget_loc\u001b[0;34m(self, key, method, tolerance)\u001b[0m\n\u001b[1;32m   2897\u001b[0m                 \u001b[0;32mreturn\u001b[0m \u001b[0mself\u001b[0m\u001b[0;34m.\u001b[0m\u001b[0m_engine\u001b[0m\u001b[0;34m.\u001b[0m\u001b[0mget_loc\u001b[0m\u001b[0;34m(\u001b[0m\u001b[0mkey\u001b[0m\u001b[0;34m)\u001b[0m\u001b[0;34m\u001b[0m\u001b[0;34m\u001b[0m\u001b[0m\n\u001b[1;32m   2898\u001b[0m             \u001b[0;32mexcept\u001b[0m \u001b[0mKeyError\u001b[0m\u001b[0;34m:\u001b[0m\u001b[0;34m\u001b[0m\u001b[0;34m\u001b[0m\u001b[0m\n\u001b[0;32m-> 2899\u001b[0;31m                 \u001b[0;32mreturn\u001b[0m \u001b[0mself\u001b[0m\u001b[0;34m.\u001b[0m\u001b[0m_engine\u001b[0m\u001b[0;34m.\u001b[0m\u001b[0mget_loc\u001b[0m\u001b[0;34m(\u001b[0m\u001b[0mself\u001b[0m\u001b[0;34m.\u001b[0m\u001b[0m_maybe_cast_indexer\u001b[0m\u001b[0;34m(\u001b[0m\u001b[0mkey\u001b[0m\u001b[0;34m)\u001b[0m\u001b[0;34m)\u001b[0m\u001b[0;34m\u001b[0m\u001b[0;34m\u001b[0m\u001b[0m\n\u001b[0m\u001b[1;32m   2900\u001b[0m         \u001b[0mindexer\u001b[0m \u001b[0;34m=\u001b[0m \u001b[0mself\u001b[0m\u001b[0;34m.\u001b[0m\u001b[0mget_indexer\u001b[0m\u001b[0;34m(\u001b[0m\u001b[0;34m[\u001b[0m\u001b[0mkey\u001b[0m\u001b[0;34m]\u001b[0m\u001b[0;34m,\u001b[0m \u001b[0mmethod\u001b[0m\u001b[0;34m=\u001b[0m\u001b[0mmethod\u001b[0m\u001b[0;34m,\u001b[0m \u001b[0mtolerance\u001b[0m\u001b[0;34m=\u001b[0m\u001b[0mtolerance\u001b[0m\u001b[0;34m)\u001b[0m\u001b[0;34m\u001b[0m\u001b[0;34m\u001b[0m\u001b[0m\n\u001b[1;32m   2901\u001b[0m         \u001b[0;32mif\u001b[0m \u001b[0mindexer\u001b[0m\u001b[0;34m.\u001b[0m\u001b[0mndim\u001b[0m \u001b[0;34m>\u001b[0m \u001b[0;36m1\u001b[0m \u001b[0;32mor\u001b[0m \u001b[0mindexer\u001b[0m\u001b[0;34m.\u001b[0m\u001b[0msize\u001b[0m \u001b[0;34m>\u001b[0m \u001b[0;36m1\u001b[0m\u001b[0;34m:\u001b[0m\u001b[0;34m\u001b[0m\u001b[0;34m\u001b[0m\u001b[0m\n",
      "\u001b[0;32mpandas/_libs/index.pyx\u001b[0m in \u001b[0;36mpandas._libs.index.IndexEngine.get_loc\u001b[0;34m()\u001b[0m\n",
      "\u001b[0;32mpandas/_libs/index.pyx\u001b[0m in \u001b[0;36mpandas._libs.index.IndexEngine.get_loc\u001b[0;34m()\u001b[0m\n",
      "\u001b[0;32mpandas/_libs/hashtable_class_helper.pxi\u001b[0m in \u001b[0;36mpandas._libs.hashtable.PyObjectHashTable.get_item\u001b[0;34m()\u001b[0m\n",
      "\u001b[0;32mpandas/_libs/hashtable_class_helper.pxi\u001b[0m in \u001b[0;36mpandas._libs.hashtable.PyObjectHashTable.get_item\u001b[0;34m()\u001b[0m\n",
      "\u001b[0;31mKeyError\u001b[0m: 'page_auth'"
     ]
    }
   ],
   "source": [
    "for column in ['header_len', 'meta_len', 'bytes', 'word_count', 'total_links', 'inbound_domains', 'outbound_domains', 'ext_links', 'unique_ext', 'inlinks', 'unique_in', 'outlinks',\n",
    "       'unique_out', 'pub_date']:\n",
    "    model = LinearRegression().fit(data[[column]], data[\"page_auth\"])\n",
    "    print(\"%s coefficient: %.5f\" % (column, model.coef_))"
   ]
  },
  {
   "cell_type": "code",
   "execution_count": null,
   "metadata": {},
   "outputs": [],
   "source": []
  }
 ],
 "metadata": {
  "kernelspec": {
   "display_name": "Python 3",
   "language": "python",
   "name": "python3"
  },
  "language_info": {
   "codemirror_mode": {
    "name": "ipython",
    "version": 3
   },
   "file_extension": ".py",
   "mimetype": "text/x-python",
   "name": "python",
   "nbconvert_exporter": "python",
   "pygments_lexer": "ipython3",
   "version": "3.7.6"
  }
 },
 "nbformat": 4,
 "nbformat_minor": 2
}
