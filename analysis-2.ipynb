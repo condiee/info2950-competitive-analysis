{
 "cells": [
  {
   "cell_type": "markdown",
   "metadata": {},
   "source": [
    "# Data Analysis and Evaluation:\n",
    "*Clearly detail your methods used in each part. Qualitative claims made in the exposition should have numerical backing here (instead of “X is larger than Y” write “X is 3.65 times larger than Y”). This should read like a scientific paper, but does not need to be \"stuffy\" or overly indirect. A reader should be able to replicate your experiments and findings via their own code after reading this.*"
   ]
  },
  {
   "cell_type": "code",
   "execution_count": 1,
   "metadata": {},
   "outputs": [],
   "source": [
    "import pandas as pd\n",
    "import matplotlib.pyplot as plt\n",
    "import numpy as np\n",
    "from sklearn.linear_model import LinearRegression"
   ]
  },
  {
   "cell_type": "code",
   "execution_count": 44,
   "metadata": {},
   "outputs": [
    {
     "data": {
      "text/html": [
       "<div>\n",
       "<style scoped>\n",
       "    .dataframe tbody tr th:only-of-type {\n",
       "        vertical-align: middle;\n",
       "    }\n",
       "\n",
       "    .dataframe tbody tr th {\n",
       "        vertical-align: top;\n",
       "    }\n",
       "\n",
       "    .dataframe thead th {\n",
       "        text-align: right;\n",
       "    }\n",
       "</style>\n",
       "<table border=\"1\" class=\"dataframe\">\n",
       "  <thead>\n",
       "    <tr style=\"text-align: right;\">\n",
       "      <th></th>\n",
       "      <th>url</th>\n",
       "      <th>header</th>\n",
       "      <th>header_len</th>\n",
       "      <th>meta</th>\n",
       "      <th>meta_len</th>\n",
       "      <th>bytes</th>\n",
       "      <th>word_count</th>\n",
       "      <th>inlinks</th>\n",
       "      <th>unique_inlinks</th>\n",
       "      <th>outlinks</th>\n",
       "      <th>unique_outlinks</th>\n",
       "      <th>external_outlinks</th>\n",
       "      <th>unique_external_outlinks</th>\n",
       "      <th>total_links</th>\n",
       "      <th>page_auth</th>\n",
       "      <th>linking_domains_to_page</th>\n",
       "      <th>outbound_domains_from_page</th>\n",
       "      <th>outbound_links_from_page</th>\n",
       "      <th>pub_date</th>\n",
       "    </tr>\n",
       "  </thead>\n",
       "  <tbody>\n",
       "    <tr>\n",
       "      <th>0</th>\n",
       "      <td>https://www.mayoclinic.org/diseases-conditions...</td>\n",
       "      <td>atrial fibrillation</td>\n",
       "      <td>19</td>\n",
       "      <td>Find out about atrial fibrillation, a heart co...</td>\n",
       "      <td>152</td>\n",
       "      <td>68770</td>\n",
       "      <td>2732</td>\n",
       "      <td>31</td>\n",
       "      <td>19</td>\n",
       "      <td>100</td>\n",
       "      <td>71</td>\n",
       "      <td>75</td>\n",
       "      <td>52</td>\n",
       "      <td>5801</td>\n",
       "      <td>62</td>\n",
       "      <td>882</td>\n",
       "      <td>10</td>\n",
       "      <td>34</td>\n",
       "      <td>2019-06-20</td>\n",
       "    </tr>\n",
       "    <tr>\n",
       "      <th>1</th>\n",
       "      <td>https://www.mayoclinic.org/diseases-conditions...</td>\n",
       "      <td>achilles tendinitis</td>\n",
       "      <td>19</td>\n",
       "      <td>Achilles tendinitis — Comprehensive overview c...</td>\n",
       "      <td>103</td>\n",
       "      <td>45417</td>\n",
       "      <td>1438</td>\n",
       "      <td>9</td>\n",
       "      <td>4</td>\n",
       "      <td>70</td>\n",
       "      <td>43</td>\n",
       "      <td>69</td>\n",
       "      <td>46</td>\n",
       "      <td>1242</td>\n",
       "      <td>60</td>\n",
       "      <td>397</td>\n",
       "      <td>10</td>\n",
       "      <td>32</td>\n",
       "      <td>2019-09-17</td>\n",
       "    </tr>\n",
       "    <tr>\n",
       "      <th>2</th>\n",
       "      <td>https://www.mayoclinic.org/diseases-conditions...</td>\n",
       "      <td>gastroesophageal reflux disease (gerd)</td>\n",
       "      <td>38</td>\n",
       "      <td>GERD, in which stomach acid moves into the eso...</td>\n",
       "      <td>140</td>\n",
       "      <td>52830</td>\n",
       "      <td>1555</td>\n",
       "      <td>16</td>\n",
       "      <td>8</td>\n",
       "      <td>85</td>\n",
       "      <td>52</td>\n",
       "      <td>71</td>\n",
       "      <td>47</td>\n",
       "      <td>6148</td>\n",
       "      <td>62</td>\n",
       "      <td>1091</td>\n",
       "      <td>10</td>\n",
       "      <td>35</td>\n",
       "      <td>2020-04-03</td>\n",
       "    </tr>\n",
       "    <tr>\n",
       "      <th>3</th>\n",
       "      <td>https://www.mayoclinic.org/diseases-conditions...</td>\n",
       "      <td>acne</td>\n",
       "      <td>4</td>\n",
       "      <td>Learn more about this common skin condition, i...</td>\n",
       "      <td>144</td>\n",
       "      <td>59112</td>\n",
       "      <td>2067</td>\n",
       "      <td>11</td>\n",
       "      <td>6</td>\n",
       "      <td>85</td>\n",
       "      <td>57</td>\n",
       "      <td>71</td>\n",
       "      <td>48</td>\n",
       "      <td>4497</td>\n",
       "      <td>63</td>\n",
       "      <td>1290</td>\n",
       "      <td>10</td>\n",
       "      <td>34</td>\n",
       "      <td>2020-02-18</td>\n",
       "    </tr>\n",
       "    <tr>\n",
       "      <th>4</th>\n",
       "      <td>https://www.mayoclinic.org/diseases-conditions...</td>\n",
       "      <td>hiv/aids</td>\n",
       "      <td>8</td>\n",
       "      <td>Learn more about this potentially life-threate...</td>\n",
       "      <td>142</td>\n",
       "      <td>61851</td>\n",
       "      <td>2856</td>\n",
       "      <td>14</td>\n",
       "      <td>5</td>\n",
       "      <td>76</td>\n",
       "      <td>47</td>\n",
       "      <td>68</td>\n",
       "      <td>46</td>\n",
       "      <td>2793</td>\n",
       "      <td>60</td>\n",
       "      <td>575</td>\n",
       "      <td>10</td>\n",
       "      <td>33</td>\n",
       "      <td>2020-02-13</td>\n",
       "    </tr>\n",
       "  </tbody>\n",
       "</table>\n",
       "</div>"
      ],
      "text/plain": [
       "                                                 url  \\\n",
       "0  https://www.mayoclinic.org/diseases-conditions...   \n",
       "1  https://www.mayoclinic.org/diseases-conditions...   \n",
       "2  https://www.mayoclinic.org/diseases-conditions...   \n",
       "3  https://www.mayoclinic.org/diseases-conditions...   \n",
       "4  https://www.mayoclinic.org/diseases-conditions...   \n",
       "\n",
       "                                   header  header_len  \\\n",
       "0                     atrial fibrillation          19   \n",
       "1                     achilles tendinitis          19   \n",
       "2  gastroesophageal reflux disease (gerd)          38   \n",
       "3                                    acne           4   \n",
       "4                                hiv/aids           8   \n",
       "\n",
       "                                                meta  meta_len  bytes  \\\n",
       "0  Find out about atrial fibrillation, a heart co...       152  68770   \n",
       "1  Achilles tendinitis — Comprehensive overview c...       103  45417   \n",
       "2  GERD, in which stomach acid moves into the eso...       140  52830   \n",
       "3  Learn more about this common skin condition, i...       144  59112   \n",
       "4  Learn more about this potentially life-threate...       142  61851   \n",
       "\n",
       "   word_count  inlinks  unique_inlinks  outlinks  unique_outlinks  \\\n",
       "0        2732       31              19       100               71   \n",
       "1        1438        9               4        70               43   \n",
       "2        1555       16               8        85               52   \n",
       "3        2067       11               6        85               57   \n",
       "4        2856       14               5        76               47   \n",
       "\n",
       "   external_outlinks  unique_external_outlinks  total_links  page_auth  \\\n",
       "0                 75                        52         5801         62   \n",
       "1                 69                        46         1242         60   \n",
       "2                 71                        47         6148         62   \n",
       "3                 71                        48         4497         63   \n",
       "4                 68                        46         2793         60   \n",
       "\n",
       "   linking_domains_to_page  outbound_domains_from_page  \\\n",
       "0                      882                          10   \n",
       "1                      397                          10   \n",
       "2                     1091                          10   \n",
       "3                     1290                          10   \n",
       "4                      575                          10   \n",
       "\n",
       "   outbound_links_from_page    pub_date  \n",
       "0                        34  2019-06-20  \n",
       "1                        32  2019-09-17  \n",
       "2                        35  2020-04-03  \n",
       "3                        34  2020-02-18  \n",
       "4                        33  2020-02-13  "
      ]
     },
     "execution_count": 44,
     "metadata": {},
     "output_type": "execute_result"
    }
   ],
   "source": [
    "data = pd.read_csv(\"data.csv\", index_col=0)\n",
    "data.head()"
   ]
  },
  {
   "cell_type": "code",
   "execution_count": 45,
   "metadata": {},
   "outputs": [
    {
     "data": {
      "text/plain": [
       "(216, 19)"
      ]
     },
     "execution_count": 45,
     "metadata": {},
     "output_type": "execute_result"
    }
   ],
   "source": [
    "data.shape"
   ]
  },
  {
   "cell_type": "code",
   "execution_count": 46,
   "metadata": {},
   "outputs": [
    {
     "name": "stdout",
     "output_type": "stream",
     "text": [
      "Means:\n",
      "header_len                       16.620370\n",
      "meta_len                        132.916667\n",
      "bytes                         55134.175926\n",
      "word_count                     2050.333333\n",
      "inlinks                          12.995370\n",
      "unique_inlinks                    6.125000\n",
      "outlinks                         79.574074\n",
      "unique_outlinks                  50.967593\n",
      "external_outlinks                71.662037\n",
      "unique_external_outlinks         48.976852\n",
      "total_links                    4146.416667\n",
      "page_auth                        61.495370\n",
      "linking_domains_to_page         861.532407\n",
      "outbound_domains_from_page        9.597222\n",
      "outbound_links_from_page         30.712963\n",
      "dtype: float64\n",
      "\n",
      "Standard Deviations:\n",
      "header_len                        8.486616\n",
      "meta_len                         20.897813\n",
      "bytes                         11749.217542\n",
      "word_count                      589.314833\n",
      "inlinks                           8.291491\n",
      "unique_inlinks                    5.437863\n",
      "outlinks                         12.738664\n",
      "unique_outlinks                  10.426882\n",
      "external_outlinks                14.091450\n",
      "unique_external_outlinks         13.919183\n",
      "total_links                    4461.990991\n",
      "page_auth                         1.336422\n",
      "linking_domains_to_page         456.849941\n",
      "outbound_domains_from_page        2.011546\n",
      "outbound_links_from_page          7.020304\n",
      "dtype: float64\n"
     ]
    }
   ],
   "source": [
    "print(\"Means:\")\n",
    "print(data.mean())\n",
    "print()\n",
    "print(\"Standard Deviations:\")\n",
    "print(data.std())"
   ]
  },
  {
   "cell_type": "code",
   "execution_count": 4,
   "metadata": {
    "scrolled": true
   },
   "outputs": [
    {
     "data": {
      "text/plain": [
       "Index(['url', 'header', 'header_len', 'meta', 'meta_len', 'bytes',\n",
       "       'word_count', 'inlinks', 'unique_inlinks', '%unique_in', 'outlinks',\n",
       "       'unique_outlinks', 'external_outlinks', 'unique_external_outlinks',\n",
       "       'total_links', 'page_auth', 'linking_domains_to_page',\n",
       "       'outbound_domains_from_page', 'outbound_links_from_page', 'pub_date'],\n",
       "      dtype='object')"
      ]
     },
     "execution_count": 4,
     "metadata": {},
     "output_type": "execute_result"
    }
   ],
   "source": [
    "data.columns"
   ]
  },
  {
   "cell_type": "markdown",
   "metadata": {},
   "source": [
    "Now that I have the dataset I'll be working with, I examine all of the columns to determine useful ways I could analyze the data.\n",
    "\n",
    "'Url','header', 'meta’, and 'pub_date' aren't quantitative; url and header are indicative of the page and its content, and meta is the description provided by the page for search engines to display in search (though sometimes search engines choose different text from the page). It is an important SEO tactic to include the meta description so that the search engine has an easier time analyzing the quality of the page. It would be interesting to see if the length of the meta description has any influence on page authority. I also want to look at which pages have the header included in the meta description. As for the publication dates, I will convert those to a new format so that I can compare them more easily.\n",
    "\n",
    "The other data I have to look through is word count, page size in bytes, page authority, and link data (for which I have many columns).\n",
    "\n",
    "**Notes from Moz on how they calculate page authority:**\n",
    "\n",
    "*Page Authority is based on data from our web index and takes into account dozens of factors. ... uses a machine learning model to identify the algorithm that best correlates with rankings across the thousands of SERPs that we predict against, then produces Page Authority scores using that specific calculation. ... We score Page Authority on a 100-point logarithmic scale. Thus, it's significantly easier to grow your score from 20 to 30 than it is to grow from 70 to 80. ... Page Authority is based off data from the Mozscape web index and includes link counts and dozens of other factors (more than 40 in total). Importantly, it does not take into consideration specific on-page elements like keyword use or content optimization.*\n",
    "\n",
    "I'll start by reformatting columns that still need it. Then, I'll tackle the data analysis group by group, organizing in **\"bites-at-the-apple\"** format: looking for trends or relationships between meta description, word count, page size, page authority, quantity of different kinds of links, and publication date."
   ]
  },
  {
   "cell_type": "markdown",
   "metadata": {},
   "source": [
    "### meta description"
   ]
  },
  {
   "cell_type": "code",
   "execution_count": 5,
   "metadata": {
    "scrolled": true
   },
   "outputs": [
    {
     "data": {
      "text/plain": [
       "70"
      ]
     },
     "execution_count": 5,
     "metadata": {},
     "output_type": "execute_result"
    }
   ],
   "source": [
    "data[\"meta_len\"].min()"
   ]
  },
  {
   "cell_type": "code",
   "execution_count": 6,
   "metadata": {
    "scrolled": true
   },
   "outputs": [
    {
     "data": {
      "text/plain": [
       "161"
      ]
     },
     "execution_count": 6,
     "metadata": {},
     "output_type": "execute_result"
    }
   ],
   "source": [
    "data[\"meta_len\"].max()"
   ]
  },
  {
   "cell_type": "code",
   "execution_count": 7,
   "metadata": {},
   "outputs": [
    {
     "data": {
      "image/png": "[encoded data removed]",
      "text/plain": [
       "<Figure size 432x288 with 1 Axes>"
      ]
     },
     "metadata": {
      "needs_background": "light"
     },
     "output_type": "display_data"
    }
   ],
   "source": [
    "plt.hist(data[\"meta_len\"])\n",
    "plt.show()"
   ]
  },
  {
   "cell_type": "markdown",
   "metadata": {},
   "source": [
    "### word count"
   ]
  },
  {
   "cell_type": "code",
   "execution_count": 8,
   "metadata": {},
   "outputs": [
    {
     "data": {
      "text/plain": [
       "1055"
      ]
     },
     "execution_count": 8,
     "metadata": {},
     "output_type": "execute_result"
    }
   ],
   "source": [
    "# examine range of word count\n",
    "data[\"word_count\"].min()"
   ]
  },
  {
   "cell_type": "code",
   "execution_count": 9,
   "metadata": {},
   "outputs": [
    {
     "data": {
      "text/plain": [
       "5194"
      ]
     },
     "execution_count": 9,
     "metadata": {},
     "output_type": "execute_result"
    }
   ],
   "source": [
    "data[\"word_count\"].max()"
   ]
  },
  {
   "cell_type": "code",
   "execution_count": 10,
   "metadata": {
    "scrolled": false
   },
   "outputs": [
    {
     "data": {
      "image/png": "[encoded data removed]",
      "text/plain": [
       "<Figure size 432x288 with 1 Axes>"
      ]
     },
     "metadata": {
      "needs_background": "light"
     },
     "output_type": "display_data"
    }
   ],
   "source": [
    "plt.hist(data.word_count)\n",
    "plt.show()"
   ]
  },
  {
   "cell_type": "code",
   "execution_count": 11,
   "metadata": {
    "scrolled": true
   },
   "outputs": [
    {
     "data": {
      "text/plain": [
       "2050.0"
      ]
     },
     "execution_count": 11,
     "metadata": {},
     "output_type": "execute_result"
    }
   ],
   "source": [
    "data[\"word_count\"].mean().round(0)"
   ]
  },
  {
   "cell_type": "code",
   "execution_count": 12,
   "metadata": {},
   "outputs": [
    {
     "data": {
      "text/plain": [
       "589.314832744793"
      ]
     },
     "execution_count": 12,
     "metadata": {},
     "output_type": "execute_result"
    }
   ],
   "source": [
    "data.word_count.std()"
   ]
  },
  {
   "cell_type": "markdown",
   "metadata": {},
   "source": [
    "### page size"
   ]
  },
  {
   "cell_type": "code",
   "execution_count": 13,
   "metadata": {},
   "outputs": [
    {
     "data": {
      "text/plain": [
       "41133"
      ]
     },
     "execution_count": 13,
     "metadata": {},
     "output_type": "execute_result"
    }
   ],
   "source": [
    "#range of page size\n",
    "data[\"bytes\"].min()"
   ]
  },
  {
   "cell_type": "code",
   "execution_count": 14,
   "metadata": {},
   "outputs": [
    {
     "data": {
      "text/plain": [
       "164386"
      ]
     },
     "execution_count": 14,
     "metadata": {},
     "output_type": "execute_result"
    }
   ],
   "source": [
    "data[\"bytes\"].max()"
   ]
  },
  {
   "cell_type": "code",
   "execution_count": 15,
   "metadata": {
    "scrolled": true
   },
   "outputs": [
    {
     "data": {
      "image/png": "[encoded data removed]",
      "text/plain": [
       "<Figure size 432x288 with 1 Axes>"
      ]
     },
     "metadata": {
      "needs_background": "light"
     },
     "output_type": "display_data"
    }
   ],
   "source": [
    "plt.hist(data.bytes)\n",
    "plt.show()"
   ]
  },
  {
   "cell_type": "code",
   "execution_count": 16,
   "metadata": {
    "scrolled": false
   },
   "outputs": [
    {
     "data": {
      "text/html": [
       "<div>\n",
       "<style scoped>\n",
       "    .dataframe tbody tr th:only-of-type {\n",
       "        vertical-align: middle;\n",
       "    }\n",
       "\n",
       "    .dataframe tbody tr th {\n",
       "        vertical-align: top;\n",
       "    }\n",
       "\n",
       "    .dataframe thead th {\n",
       "        text-align: right;\n",
       "    }\n",
       "</style>\n",
       "<table border=\"1\" class=\"dataframe\">\n",
       "  <thead>\n",
       "    <tr style=\"text-align: right;\">\n",
       "      <th></th>\n",
       "      <th>url</th>\n",
       "      <th>header</th>\n",
       "      <th>header_len</th>\n",
       "      <th>meta</th>\n",
       "      <th>meta_len</th>\n",
       "      <th>bytes</th>\n",
       "      <th>word_count</th>\n",
       "      <th>inlinks</th>\n",
       "      <th>unique_inlinks</th>\n",
       "      <th>%unique_in</th>\n",
       "      <th>outlinks</th>\n",
       "      <th>unique_outlinks</th>\n",
       "      <th>external_outlinks</th>\n",
       "      <th>unique_external_outlinks</th>\n",
       "      <th>total_links</th>\n",
       "      <th>page_auth</th>\n",
       "      <th>linking_domains_to_page</th>\n",
       "      <th>outbound_domains_from_page</th>\n",
       "      <th>outbound_links_from_page</th>\n",
       "      <th>pub_date</th>\n",
       "    </tr>\n",
       "  </thead>\n",
       "  <tbody>\n",
       "    <tr>\n",
       "      <th>85</th>\n",
       "      <td>https://www.mayoclinic.org/diseases-conditions...</td>\n",
       "      <td>coronavirus disease 2019 (covid-19)</td>\n",
       "      <td>35</td>\n",
       "      <td>Find out about coronavirus disease 2019 (COVID...</td>\n",
       "      <td>157</td>\n",
       "      <td>164386</td>\n",
       "      <td>5194</td>\n",
       "      <td>15</td>\n",
       "      <td>7</td>\n",
       "      <td>0.31</td>\n",
       "      <td>97</td>\n",
       "      <td>62</td>\n",
       "      <td>263</td>\n",
       "      <td>240</td>\n",
       "      <td>14924</td>\n",
       "      <td>62</td>\n",
       "      <td>554</td>\n",
       "      <td>0</td>\n",
       "      <td>0</td>\n",
       "      <td>May 12, 2020</td>\n",
       "    </tr>\n",
       "  </tbody>\n",
       "</table>\n",
       "</div>"
      ],
      "text/plain": [
       "                                                  url  \\\n",
       "85  https://www.mayoclinic.org/diseases-conditions...   \n",
       "\n",
       "                                 header  header_len  \\\n",
       "85  coronavirus disease 2019 (covid-19)          35   \n",
       "\n",
       "                                                 meta  meta_len   bytes  \\\n",
       "85  Find out about coronavirus disease 2019 (COVID...       157  164386   \n",
       "\n",
       "    word_count  inlinks  unique_inlinks  %unique_in  outlinks  \\\n",
       "85        5194       15               7        0.31        97   \n",
       "\n",
       "    unique_outlinks  external_outlinks  unique_external_outlinks  total_links  \\\n",
       "85               62                263                       240        14924   \n",
       "\n",
       "    page_auth  linking_domains_to_page  outbound_domains_from_page  \\\n",
       "85         62                      554                           0   \n",
       "\n",
       "    outbound_links_from_page      pub_date  \n",
       "85                         0  May 12, 2020  "
      ]
     },
     "execution_count": 16,
     "metadata": {},
     "output_type": "execute_result"
    }
   ],
   "source": [
    "# outlier max value\n",
    "data.loc[data[\"bytes\"]==164386]"
   ]
  },
  {
   "cell_type": "code",
   "execution_count": 17,
   "metadata": {},
   "outputs": [
    {
     "data": {
      "text/html": [
       "<div>\n",
       "<style scoped>\n",
       "    .dataframe tbody tr th:only-of-type {\n",
       "        vertical-align: middle;\n",
       "    }\n",
       "\n",
       "    .dataframe tbody tr th {\n",
       "        vertical-align: top;\n",
       "    }\n",
       "\n",
       "    .dataframe thead th {\n",
       "        text-align: right;\n",
       "    }\n",
       "</style>\n",
       "<table border=\"1\" class=\"dataframe\">\n",
       "  <thead>\n",
       "    <tr style=\"text-align: right;\">\n",
       "      <th></th>\n",
       "      <th>url</th>\n",
       "      <th>header</th>\n",
       "      <th>header_len</th>\n",
       "      <th>meta</th>\n",
       "      <th>meta_len</th>\n",
       "      <th>bytes</th>\n",
       "      <th>word_count</th>\n",
       "      <th>inlinks</th>\n",
       "      <th>unique_inlinks</th>\n",
       "      <th>%unique_in</th>\n",
       "      <th>outlinks</th>\n",
       "      <th>unique_outlinks</th>\n",
       "      <th>external_outlinks</th>\n",
       "      <th>unique_external_outlinks</th>\n",
       "      <th>total_links</th>\n",
       "      <th>page_auth</th>\n",
       "      <th>linking_domains_to_page</th>\n",
       "      <th>outbound_domains_from_page</th>\n",
       "      <th>outbound_links_from_page</th>\n",
       "      <th>pub_date</th>\n",
       "    </tr>\n",
       "  </thead>\n",
       "  <tbody>\n",
       "    <tr>\n",
       "      <th>85</th>\n",
       "      <td>https://www.mayoclinic.org/diseases-conditions...</td>\n",
       "      <td>coronavirus disease 2019 (covid-19)</td>\n",
       "      <td>35</td>\n",
       "      <td>Find out about coronavirus disease 2019 (COVID...</td>\n",
       "      <td>157</td>\n",
       "      <td>164386</td>\n",
       "      <td>5194</td>\n",
       "      <td>15</td>\n",
       "      <td>7</td>\n",
       "      <td>0.31</td>\n",
       "      <td>97</td>\n",
       "      <td>62</td>\n",
       "      <td>263</td>\n",
       "      <td>240</td>\n",
       "      <td>14924</td>\n",
       "      <td>62</td>\n",
       "      <td>554</td>\n",
       "      <td>0</td>\n",
       "      <td>0</td>\n",
       "      <td>May 12, 2020</td>\n",
       "    </tr>\n",
       "  </tbody>\n",
       "</table>\n",
       "</div>"
      ],
      "text/plain": [
       "                                                  url  \\\n",
       "85  https://www.mayoclinic.org/diseases-conditions...   \n",
       "\n",
       "                                 header  header_len  \\\n",
       "85  coronavirus disease 2019 (covid-19)          35   \n",
       "\n",
       "                                                 meta  meta_len   bytes  \\\n",
       "85  Find out about coronavirus disease 2019 (COVID...       157  164386   \n",
       "\n",
       "    word_count  inlinks  unique_inlinks  %unique_in  outlinks  \\\n",
       "85        5194       15               7        0.31        97   \n",
       "\n",
       "    unique_outlinks  external_outlinks  unique_external_outlinks  total_links  \\\n",
       "85               62                263                       240        14924   \n",
       "\n",
       "    page_auth  linking_domains_to_page  outbound_domains_from_page  \\\n",
       "85         62                      554                           0   \n",
       "\n",
       "    outbound_links_from_page      pub_date  \n",
       "85                         0  May 12, 2020  "
      ]
     },
     "execution_count": 17,
     "metadata": {},
     "output_type": "execute_result"
    }
   ],
   "source": [
    "# this makes sense–they made a big page about coronavirus!\n",
    "data[data.bytes>120000]"
   ]
  },
  {
   "cell_type": "code",
   "execution_count": 18,
   "metadata": {},
   "outputs": [
    {
     "data": {
      "text/plain": [
       "(215, 20)"
      ]
     },
     "execution_count": 18,
     "metadata": {},
     "output_type": "execute_result"
    }
   ],
   "source": [
    "# look at the data without the outlier\n",
    "mod = data.loc[data[\"header\"]!=\"coronavirus disease 2019 (covid-19)\"]\n",
    "mod.shape"
   ]
  },
  {
   "cell_type": "code",
   "execution_count": 19,
   "metadata": {},
   "outputs": [
    {
     "data": {
      "image/png": "[encoded data removed]",
      "text/plain": [
       "<Figure size 432x288 with 1 Axes>"
      ]
     },
     "metadata": {
      "needs_background": "light"
     },
     "output_type": "display_data"
    }
   ],
   "source": [
    "plt.hist(mod.bytes)\n",
    "plt.show()"
   ]
  },
  {
   "cell_type": "code",
   "execution_count": 20,
   "metadata": {},
   "outputs": [
    {
     "data": {
      "text/plain": [
       "55134.176"
      ]
     },
     "execution_count": 20,
     "metadata": {},
     "output_type": "execute_result"
    }
   ],
   "source": [
    "round(data.bytes.mean(), 3)"
   ]
  },
  {
   "cell_type": "code",
   "execution_count": 21,
   "metadata": {},
   "outputs": [
    {
     "data": {
      "text/plain": [
       "11749.218"
      ]
     },
     "execution_count": 21,
     "metadata": {},
     "output_type": "execute_result"
    }
   ],
   "source": [
    "round(data.bytes.std(),3)"
   ]
  },
  {
   "cell_type": "markdown",
   "metadata": {},
   "source": [
    "### page authority"
   ]
  },
  {
   "cell_type": "code",
   "execution_count": 22,
   "metadata": {},
   "outputs": [
    {
     "data": {
      "text/plain": [
       "60"
      ]
     },
     "execution_count": 22,
     "metadata": {},
     "output_type": "execute_result"
    }
   ],
   "source": [
    "data.page_auth.min()"
   ]
  },
  {
   "cell_type": "code",
   "execution_count": 23,
   "metadata": {},
   "outputs": [
    {
     "data": {
      "text/plain": [
       "67"
      ]
     },
     "execution_count": 23,
     "metadata": {},
     "output_type": "execute_result"
    }
   ],
   "source": [
    "data.page_auth.max()"
   ]
  },
  {
   "cell_type": "markdown",
   "metadata": {},
   "source": [
    "### links"
   ]
  },
  {
   "cell_type": "code",
   "execution_count": 24,
   "metadata": {},
   "outputs": [
    {
     "data": {
      "text/plain": [
       "0.26999999999999996"
      ]
     },
     "execution_count": 24,
     "metadata": {},
     "output_type": "execute_result"
    }
   ],
   "source": [
    "#'inlinks', 'unique_inlinks', '%unique_in'\n",
    "\n",
    "data['%unique_in'].mean()"
   ]
  },
  {
   "cell_type": "code",
   "execution_count": 25,
   "metadata": {},
   "outputs": [
    {
     "data": {
      "text/plain": [
       "0.4713216957605985"
      ]
     },
     "execution_count": 25,
     "metadata": {},
     "output_type": "execute_result"
    }
   ],
   "source": [
    "inl = data[\"inlinks\"].mean()\n",
    "uni = data['unique_inlinks'].mean()\n",
    "\n",
    "uni/inl"
   ]
  },
  {
   "cell_type": "code",
   "execution_count": 26,
   "metadata": {},
   "outputs": [
    {
     "data": {
      "image/png": "[encoded data removed]",
      "text/plain": [
       "<Figure size 432x288 with 1 Axes>"
      ]
     },
     "metadata": {
      "needs_background": "light"
     },
     "output_type": "display_data"
    }
   ],
   "source": [
    "plt.hist(data['%unique_in'])\n",
    "plt.show()"
   ]
  },
  {
   "cell_type": "code",
   "execution_count": 27,
   "metadata": {},
   "outputs": [
    {
     "data": {
      "text/plain": [
       "31"
      ]
     },
     "execution_count": 27,
     "metadata": {},
     "output_type": "execute_result"
    }
   ],
   "source": [
    "data[\"inlinks\"][0]"
   ]
  },
  {
   "cell_type": "code",
   "execution_count": 28,
   "metadata": {},
   "outputs": [
    {
     "data": {
      "text/plain": [
       "19"
      ]
     },
     "execution_count": 28,
     "metadata": {},
     "output_type": "execute_result"
    }
   ],
   "source": [
    "data[\"unique_inlinks\"][0]"
   ]
  },
  {
   "cell_type": "code",
   "execution_count": 29,
   "metadata": {},
   "outputs": [
    {
     "data": {
      "text/plain": [
       "0.84"
      ]
     },
     "execution_count": 29,
     "metadata": {},
     "output_type": "execute_result"
    }
   ],
   "source": [
    "data['%unique_in'][0]"
   ]
  },
  {
   "cell_type": "code",
   "execution_count": 30,
   "metadata": {},
   "outputs": [
    {
     "data": {
      "text/plain": [
       "0.6129032258064516"
      ]
     },
     "execution_count": 30,
     "metadata": {},
     "output_type": "execute_result"
    }
   ],
   "source": [
    "19/31"
   ]
  },
  {
   "cell_type": "code",
   "execution_count": 31,
   "metadata": {},
   "outputs": [],
   "source": [
    "#'outlinks', 'unique_outlinks'\n",
    "\n"
   ]
  },
  {
   "cell_type": "code",
   "execution_count": 32,
   "metadata": {},
   "outputs": [],
   "source": [
    "#'external_outlinks', 'unique_external_outlinks'\n",
    "\n"
   ]
  },
  {
   "cell_type": "code",
   "execution_count": 33,
   "metadata": {},
   "outputs": [],
   "source": [
    "#'total_links'\n",
    "\n"
   ]
  },
  {
   "cell_type": "code",
   "execution_count": 34,
   "metadata": {},
   "outputs": [],
   "source": [
    "#'linking_domains_to_page'\n",
    "\n"
   ]
  },
  {
   "cell_type": "code",
   "execution_count": 35,
   "metadata": {},
   "outputs": [],
   "source": [
    "#'outbound_domains_from_page', 'outbound_links_from_page'\n"
   ]
  },
  {
   "cell_type": "markdown",
   "metadata": {},
   "source": [
    "### publication date"
   ]
  },
  {
   "cell_type": "markdown",
   "metadata": {},
   "source": [
    "### correlation: page authority and linking domains to page"
   ]
  },
  {
   "cell_type": "code",
   "execution_count": 36,
   "metadata": {},
   "outputs": [
    {
     "data": {
      "image/png": "[encoded data removed]",
      "text/plain": [
       "<Figure size 432x288 with 1 Axes>"
      ]
     },
     "metadata": {
      "needs_background": "light"
     },
     "output_type": "display_data"
    }
   ],
   "source": [
    "plt.scatter(data['page_auth'], data['linking_domains_to_page'], alpha=0.5)\n",
    "#plt.axis([0, 70, 0, 6000])\n",
    "plt.xlabel(\"Page Authority\")\n",
    "plt.ylabel(\"Linking Domains### meta description\")\n",
    "plt.show()"
   ]
  },
  {
   "cell_type": "code",
   "execution_count": 37,
   "metadata": {
    "scrolled": true
   },
   "outputs": [
    {
     "data": {
      "text/plain": [
       "array([[1.        , 0.88650589],\n",
       "       [0.88650589, 1.        ]])"
      ]
     },
     "execution_count": 37,
     "metadata": {},
     "output_type": "execute_result"
    }
   ],
   "source": [
    "np.corrcoef(data['page_auth'], data['linking_domains_to_page'])"
   ]
  },
  {
   "cell_type": "markdown",
   "metadata": {},
   "source": [
    "### correlation: page authority and total links"
   ]
  },
  {
   "cell_type": "code",
   "execution_count": 38,
   "metadata": {},
   "outputs": [
    {
     "data": {
      "text/plain": [
       "array([[1.        , 0.51072614],\n",
       "       [0.51072614, 1.        ]])"
      ]
     },
     "execution_count": 38,
     "metadata": {},
     "output_type": "execute_result"
    }
   ],
   "source": [
    "np.corrcoef(data['page_auth'], data['total_links'])"
   ]
  },
  {
   "cell_type": "markdown",
   "metadata": {},
   "source": [
    "## Evaluation of significance.\n",
    "*Use hypothesis tests, simulation, randomization, or any other techniques we have learned to compare the patterns you observe in the dataset to simple randomness.*\n",
    "\n",
    "*Advanced analyses will be clear, logical, and methodical. Mathematical modeling will have clear purpose that answers relevant questions and contributes to an overall perspective. Results will be contextualized with significance tests or comparisons to alternative simpler explanations. Reasonable \"next questions\" should be followed or acknowledged, though you don't have to follow every lead.*\n",
    "\n",
    "*Advanced code will be succinct and well-organized, with comments that indicate expected uses and assumptions for inputs and outputs. Repeated tasks will be broken into functions. Variable names will be informative. Points of failure are anticipated and checked for.*"
   ]
  },
  {
   "cell_type": "markdown",
   "metadata": {},
   "source": [
    "## acknowledgements\n",
    "\n",
    "https://moz.com/learn/seo/page-authority\n",
    "\n",
    "Matplotlib documentation\n",
    "\n",
    "seo spider user guide https://www.screamingfrog.co.uk/seo-spider/user-guide/tabs/\n",
    "\n",
    "stack overflow\n",
    "\n",
    "https://regex101.com/\n",
    "\n",
    "https://stackoverflow.com/questions/1687620/regex-match-everything-but-specific-pattern"
   ]
  },
  {
   "cell_type": "code",
   "execution_count": null,
   "metadata": {},
   "outputs": [],
   "source": []
  }
 ],
 "metadata": {
  "kernelspec": {
   "display_name": "Python 3",
   "language": "python",
   "name": "python3"
  },
  "language_info": {
   "codemirror_mode": {
    "name": "ipython",
    "version": 3
   },
   "file_extension": ".py",
   "mimetype": "text/x-python",
   "name": "python",
   "nbconvert_exporter": "python",
   "pygments_lexer": "ipython3",
   "version": "3.7.6"
  }
 },
 "nbformat": 4,
 "nbformat_minor": 2
}
