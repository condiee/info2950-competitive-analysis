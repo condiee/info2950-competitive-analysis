{
 "cells": [
  {
   "cell_type": "markdown",
   "metadata": {},
   "source": [
    "# Data Collection"
   ]
  },
  {
   "cell_type": "markdown",
   "metadata": {},
   "source": [
    "## Part 1: Web Scraping"
   ]
  },
  {
   "cell_type": "markdown",
   "metadata": {},
   "source": [
    "In the following section, I scrape the Mayo Clinic's Symptoms and Causes pages under all of their indexed diseases and conditions."
   ]
  },
  {
   "cell_type": "code",
   "execution_count": 1,
   "metadata": {},
   "outputs": [],
   "source": [
    "# import the necessary libraries\n",
    "import sys\n",
    "import requests\n",
    "from bs4 import BeautifulSoup\n",
    "from string import ascii_uppercase as upp\n",
    "import re\n",
    "import pandas as pd\n",
    "import matplotlib.pyplot as plt\n",
    "import numpy as np"
   ]
  },
  {
   "cell_type": "markdown",
   "metadata": {},
   "source": [
    "The first step is to get the long list of symptoms-causes URLs that are linked from the Mayo Clinic's indexed Diseases and Conditions lookup. I begin by saving the url up to and including the query for the letter, but not the letter itself. I also save the root of the URL for use later."
   ]
  },
  {
   "cell_type": "code",
   "execution_count": 2,
   "metadata": {},
   "outputs": [],
   "source": [
    "# get URLs: diseases-conditions pages organized in an alphabetical index, with one # entry\n",
    "url = 'https://www.mayoclinic.org/diseases-conditions/index?letter='\n",
    "root = 'https://www.mayoclinic.org'"
   ]
  },
  {
   "cell_type": "markdown",
   "metadata": {},
   "source": [
    "Next, I write a function to extract the URLs of the pages I want from the letter index pages."
   ]
  },
  {
   "cell_type": "code",
   "execution_count": 3,
   "metadata": {},
   "outputs": [],
   "source": [
    "def extract(letter, addresses):\n",
    "    index = url + letter # url of index page for this letter\n",
    "    get = requests.get(index).content\n",
    "    soup = BeautifulSoup(get, \"lxml\")\n",
    "    # get list of articles on index page\n",
    "    within = soup.find_all(class_ = \"index content-within\")\n",
    "    for elm in within:\n",
    "        # gets letter's articles as strings in a list\n",
    "        links = re.findall(\"(?<=a\\shref=\\\").*?(?=\\\">)\", str(elm))\n",
    "        # for each of the links\n",
    "        for page in range(len(links)): \n",
    "            full = root + links[page] # symptoms-causes URL\n",
    "            if addresses.count(full)<1:\n",
    "                addresses.append(full)"
   ]
  },
  {
   "cell_type": "markdown",
   "metadata": {},
   "source": [
    "I use the function to extract the URL from the # index page, the only index item that isn't listed under a capital letter of the alphabet. This helps me to ensure the function is behaving correctly without scraping too much."
   ]
  },
  {
   "cell_type": "code",
   "execution_count": 4,
   "metadata": {},
   "outputs": [
    {
     "data": {
      "text/plain": [
       "['https://www.mayoclinic.org/diseases-conditions/digeorge-syndrome/symptoms-causes/syc-20353543']"
      ]
     },
     "execution_count": 4,
     "metadata": {},
     "output_type": "execute_result"
    }
   ],
   "source": [
    "addresses = []\n",
    "extract(\"0\", addresses)\n",
    "addresses"
   ]
  },
  {
   "cell_type": "markdown",
   "metadata": {},
   "source": [
    "Now that I know it works, I can extract the other URLs:"
   ]
  },
  {
   "cell_type": "code",
   "execution_count": 5,
   "metadata": {},
   "outputs": [],
   "source": [
    "for letter in upp:\n",
    "    extract(letter, addresses)"
   ]
  },
  {
   "cell_type": "markdown",
   "metadata": {},
   "source": [
    "Now it's time to put these URLs into an initial dataframe that I will merge with the relevant Spider and Moz data."
   ]
  },
  {
   "cell_type": "code",
   "execution_count": 6,
   "metadata": {
    "scrolled": true
   },
   "outputs": [
    {
     "data": {
      "text/html": [
       "<div>\n",
       "<style scoped>\n",
       "    .dataframe tbody tr th:only-of-type {\n",
       "        vertical-align: middle;\n",
       "    }\n",
       "\n",
       "    .dataframe tbody tr th {\n",
       "        vertical-align: top;\n",
       "    }\n",
       "\n",
       "    .dataframe thead th {\n",
       "        text-align: right;\n",
       "    }\n",
       "</style>\n",
       "<table border=\"1\" class=\"dataframe\">\n",
       "  <thead>\n",
       "    <tr style=\"text-align: right;\">\n",
       "      <th></th>\n",
       "      <th>url</th>\n",
       "    </tr>\n",
       "  </thead>\n",
       "  <tbody>\n",
       "    <tr>\n",
       "      <th>0</th>\n",
       "      <td>https://www.mayoclinic.org/diseases-conditions...</td>\n",
       "    </tr>\n",
       "    <tr>\n",
       "      <th>1</th>\n",
       "      <td>https://www.mayoclinic.org/diseases-conditions...</td>\n",
       "    </tr>\n",
       "    <tr>\n",
       "      <th>2</th>\n",
       "      <td>https://www.mayoclinic.org/diseases-conditions...</td>\n",
       "    </tr>\n",
       "    <tr>\n",
       "      <th>3</th>\n",
       "      <td>https://www.mayoclinic.org/diseases-conditions...</td>\n",
       "    </tr>\n",
       "    <tr>\n",
       "      <th>4</th>\n",
       "      <td>https://www.mayoclinic.org/diseases-conditions...</td>\n",
       "    </tr>\n",
       "  </tbody>\n",
       "</table>\n",
       "</div>"
      ],
      "text/plain": [
       "                                                 url\n",
       "0  https://www.mayoclinic.org/diseases-conditions...\n",
       "1  https://www.mayoclinic.org/diseases-conditions...\n",
       "2  https://www.mayoclinic.org/diseases-conditions...\n",
       "3  https://www.mayoclinic.org/diseases-conditions...\n",
       "4  https://www.mayoclinic.org/diseases-conditions..."
      ]
     },
     "execution_count": 6,
     "metadata": {},
     "output_type": "execute_result"
    }
   ],
   "source": [
    "mayo_data = pd.DataFrame(addresses, columns=[\"url\"])\n",
    "mayo_data.head()"
   ]
  },
  {
   "cell_type": "code",
   "execution_count": 7,
   "metadata": {
    "scrolled": true
   },
   "outputs": [
    {
     "data": {
      "text/plain": [
       "(1181, 1)"
      ]
     },
     "execution_count": 7,
     "metadata": {},
     "output_type": "execute_result"
    }
   ],
   "source": [
    "mayo_data.shape"
   ]
  },
  {
   "cell_type": "markdown",
   "metadata": {},
   "source": [
    "## Part 2: SEO Spider Data"
   ]
  },
  {
   "cell_type": "markdown",
   "metadata": {},
   "source": [
    "#### Raw Source Data: https://drive.google.com/open?id=1vlTTVOf3L2TnJxRma4TyJPCsgKpVvM19"
   ]
  },
  {
   "cell_type": "markdown",
   "metadata": {},
   "source": [
    "Below are all of the columns provided by SEO Spider, not all of which will be useful for my purposes."
   ]
  },
  {
   "cell_type": "code",
   "execution_count": 8,
   "metadata": {
    "scrolled": true
   },
   "outputs": [
    {
     "data": {
      "text/html": [
       "<div>\n",
       "<style scoped>\n",
       "    .dataframe tbody tr th:only-of-type {\n",
       "        vertical-align: middle;\n",
       "    }\n",
       "\n",
       "    .dataframe tbody tr th {\n",
       "        vertical-align: top;\n",
       "    }\n",
       "\n",
       "    .dataframe thead th {\n",
       "        text-align: right;\n",
       "    }\n",
       "</style>\n",
       "<table border=\"1\" class=\"dataframe\">\n",
       "  <thead>\n",
       "    <tr style=\"text-align: right;\">\n",
       "      <th></th>\n",
       "      <th>Address</th>\n",
       "      <th>Content</th>\n",
       "      <th>Status Code</th>\n",
       "      <th>Status</th>\n",
       "      <th>Indexability</th>\n",
       "      <th>Indexability Status</th>\n",
       "      <th>Title 1</th>\n",
       "      <th>Title 1 Length</th>\n",
       "      <th>Title 1 Pixel Width</th>\n",
       "      <th>Meta Description 1</th>\n",
       "      <th>...</th>\n",
       "      <th>Outlinks</th>\n",
       "      <th>Unique Outlinks</th>\n",
       "      <th>External Outlinks</th>\n",
       "      <th>Unique External Outlinks</th>\n",
       "      <th>Hash</th>\n",
       "      <th>Response Time</th>\n",
       "      <th>Last Modified</th>\n",
       "      <th>Redirect URL</th>\n",
       "      <th>Redirect Type</th>\n",
       "      <th>URL Encoded Address</th>\n",
       "    </tr>\n",
       "  </thead>\n",
       "  <tbody>\n",
       "    <tr>\n",
       "      <th>0</th>\n",
       "      <td>https://www.mayoclinic.org/diseases-conditions...</td>\n",
       "      <td>text/html; charset=utf-8</td>\n",
       "      <td>200</td>\n",
       "      <td>OK</td>\n",
       "      <td>NaN</td>\n",
       "      <td>NaN</td>\n",
       "      <td>Congenital heart disease in adults - Symptoms ...</td>\n",
       "      <td>70</td>\n",
       "      <td>643</td>\n",
       "      <td>Learn about treatments and complications of he...</td>\n",
       "      <td>...</td>\n",
       "      <td>112</td>\n",
       "      <td>83</td>\n",
       "      <td>70</td>\n",
       "      <td>48</td>\n",
       "      <td>NaN</td>\n",
       "      <td>NaN</td>\n",
       "      <td>NaN</td>\n",
       "      <td>NaN</td>\n",
       "      <td>NaN</td>\n",
       "      <td>https://www.mayoclinic.org/diseases-conditions...</td>\n",
       "    </tr>\n",
       "  </tbody>\n",
       "</table>\n",
       "<p>1 rows × 48 columns</p>\n",
       "</div>"
      ],
      "text/plain": [
       "                                             Address  \\\n",
       "0  https://www.mayoclinic.org/diseases-conditions...   \n",
       "\n",
       "                    Content  Status Code Status  Indexability  \\\n",
       "0  text/html; charset=utf-8          200     OK           NaN   \n",
       "\n",
       "   Indexability Status                                            Title 1  \\\n",
       "0                  NaN  Congenital heart disease in adults - Symptoms ...   \n",
       "\n",
       "   Title 1 Length  Title 1 Pixel Width  \\\n",
       "0              70                  643   \n",
       "\n",
       "                                  Meta Description 1  ...  Outlinks  \\\n",
       "0  Learn about treatments and complications of he...  ...       112   \n",
       "\n",
       "   Unique Outlinks  External Outlinks  Unique External Outlinks Hash  \\\n",
       "0               83                 70                        48  NaN   \n",
       "\n",
       "   Response Time  Last Modified  Redirect URL Redirect Type  \\\n",
       "0            NaN            NaN           NaN           NaN   \n",
       "\n",
       "                                 URL Encoded Address  \n",
       "0  https://www.mayoclinic.org/diseases-conditions...  \n",
       "\n",
       "[1 rows x 48 columns]"
      ]
     },
     "execution_count": 8,
     "metadata": {},
     "output_type": "execute_result"
    }
   ],
   "source": [
    "raw = pd.read_csv(\"symptoms-causes.csv\")\n",
    "raw.head(1)"
   ]
  },
  {
   "cell_type": "code",
   "execution_count": 9,
   "metadata": {},
   "outputs": [
    {
     "data": {
      "text/plain": [
       "Index(['Address', 'Content', 'Status Code', 'Status', 'Indexability',\n",
       "       'Indexability Status', 'Title 1', 'Title 1 Length',\n",
       "       'Title 1 Pixel Width', 'Meta Description 1',\n",
       "       'Meta Description 1 Length', 'Meta Description 1 Pixel Width',\n",
       "       'Meta Keyword 1', 'Meta Keywords 1 Length', 'H1-1', 'H1-1 length',\n",
       "       'H1-2', 'H1-2 length', 'H2-1', 'H2-1 length', 'H2-2', 'H2-2 length',\n",
       "       'Meta Robots 1', 'X-Robots-Tag 1', 'Meta Refresh 1',\n",
       "       'Canonical Link Element 1', 'rel=\"next\" 1', 'rel=\"prev\" 1',\n",
       "       'HTTP rel=\"next\" 1', 'HTTP rel=\"prev\" 1', 'Size (bytes)', 'Word Count',\n",
       "       'Text Ratio', 'Crawl Depth', 'Link Score', 'Inlinks', 'Unique Inlinks',\n",
       "       '% of Total', 'Outlinks', 'Unique Outlinks', 'External Outlinks',\n",
       "       'Unique External Outlinks', 'Hash', 'Response Time', 'Last Modified',\n",
       "       'Redirect URL', 'Redirect Type', 'URL Encoded Address'],\n",
       "      dtype='object')"
      ]
     },
     "execution_count": 9,
     "metadata": {},
     "output_type": "execute_result"
    }
   ],
   "source": [
    "raw.columns"
   ]
  },
  {
   "cell_type": "markdown",
   "metadata": {},
   "source": [
    "I select which columns I want to keep:"
   ]
  },
  {
   "cell_type": "code",
   "execution_count": 10,
   "metadata": {},
   "outputs": [
    {
     "data": {
      "text/html": [
       "<div>\n",
       "<style scoped>\n",
       "    .dataframe tbody tr th:only-of-type {\n",
       "        vertical-align: middle;\n",
       "    }\n",
       "\n",
       "    .dataframe tbody tr th {\n",
       "        vertical-align: top;\n",
       "    }\n",
       "\n",
       "    .dataframe thead th {\n",
       "        text-align: right;\n",
       "    }\n",
       "</style>\n",
       "<table border=\"1\" class=\"dataframe\">\n",
       "  <thead>\n",
       "    <tr style=\"text-align: right;\">\n",
       "      <th></th>\n",
       "      <th>URL Encoded Address</th>\n",
       "      <th>H1-1</th>\n",
       "      <th>H1-1 length</th>\n",
       "      <th>Meta Description 1</th>\n",
       "      <th>Meta Description 1 Length</th>\n",
       "      <th>Size (bytes)</th>\n",
       "      <th>Word Count</th>\n",
       "      <th>Inlinks</th>\n",
       "      <th>Unique Inlinks</th>\n",
       "      <th>Outlinks</th>\n",
       "      <th>Unique Outlinks</th>\n",
       "      <th>External Outlinks</th>\n",
       "      <th>Unique External Outlinks</th>\n",
       "    </tr>\n",
       "  </thead>\n",
       "  <tbody>\n",
       "    <tr>\n",
       "      <th>0</th>\n",
       "      <td>https://www.mayoclinic.org/diseases-conditions...</td>\n",
       "      <td>Congenital heart disease in adults</td>\n",
       "      <td>34</td>\n",
       "      <td>Learn about treatments and complications of he...</td>\n",
       "      <td>114</td>\n",
       "      <td>60740</td>\n",
       "      <td>2005</td>\n",
       "      <td>53</td>\n",
       "      <td>29</td>\n",
       "      <td>112</td>\n",
       "      <td>83</td>\n",
       "      <td>70</td>\n",
       "      <td>48</td>\n",
       "    </tr>\n",
       "    <tr>\n",
       "      <th>1</th>\n",
       "      <td>https://www.mayoclinic.org/diseases-conditions...</td>\n",
       "      <td>Pulmonary fibrosis</td>\n",
       "      <td>18</td>\n",
       "      <td>Pulmonary fibrosis — Learn about the symptoms,...</td>\n",
       "      <td>154</td>\n",
       "      <td>54587</td>\n",
       "      <td>2083</td>\n",
       "      <td>36</td>\n",
       "      <td>18</td>\n",
       "      <td>83</td>\n",
       "      <td>53</td>\n",
       "      <td>67</td>\n",
       "      <td>45</td>\n",
       "    </tr>\n",
       "    <tr>\n",
       "      <th>2</th>\n",
       "      <td>https://www.mayoclinic.org/diseases-conditions...</td>\n",
       "      <td>Epilepsy</td>\n",
       "      <td>8</td>\n",
       "      <td>Learn about epilepsy symptoms, possible causes...</td>\n",
       "      <td>125</td>\n",
       "      <td>63278</td>\n",
       "      <td>2749</td>\n",
       "      <td>40</td>\n",
       "      <td>21</td>\n",
       "      <td>90</td>\n",
       "      <td>60</td>\n",
       "      <td>73</td>\n",
       "      <td>51</td>\n",
       "    </tr>\n",
       "    <tr>\n",
       "      <th>3</th>\n",
       "      <td>https://www.mayoclinic.org/diseases-conditions...</td>\n",
       "      <td>Cirrhosis</td>\n",
       "      <td>9</td>\n",
       "      <td>Cirrhosis is an advanced stage of scarring and...</td>\n",
       "      <td>147</td>\n",
       "      <td>55146</td>\n",
       "      <td>2008</td>\n",
       "      <td>35</td>\n",
       "      <td>17</td>\n",
       "      <td>82</td>\n",
       "      <td>53</td>\n",
       "      <td>67</td>\n",
       "      <td>45</td>\n",
       "    </tr>\n",
       "    <tr>\n",
       "      <th>4</th>\n",
       "      <td>https://www.mayoclinic.org/diseases-conditions...</td>\n",
       "      <td>Heart arrhythmia</td>\n",
       "      <td>16</td>\n",
       "      <td>Learn about common heart disorders that can ca...</td>\n",
       "      <td>103</td>\n",
       "      <td>68502</td>\n",
       "      <td>3397</td>\n",
       "      <td>54</td>\n",
       "      <td>34</td>\n",
       "      <td>94</td>\n",
       "      <td>65</td>\n",
       "      <td>67</td>\n",
       "      <td>45</td>\n",
       "    </tr>\n",
       "  </tbody>\n",
       "</table>\n",
       "</div>"
      ],
      "text/plain": [
       "                                 URL Encoded Address  \\\n",
       "0  https://www.mayoclinic.org/diseases-conditions...   \n",
       "1  https://www.mayoclinic.org/diseases-conditions...   \n",
       "2  https://www.mayoclinic.org/diseases-conditions...   \n",
       "3  https://www.mayoclinic.org/diseases-conditions...   \n",
       "4  https://www.mayoclinic.org/diseases-conditions...   \n",
       "\n",
       "                                 H1-1  H1-1 length  \\\n",
       "0  Congenital heart disease in adults           34   \n",
       "1                  Pulmonary fibrosis           18   \n",
       "2                            Epilepsy            8   \n",
       "3                           Cirrhosis            9   \n",
       "4                    Heart arrhythmia           16   \n",
       "\n",
       "                                  Meta Description 1  \\\n",
       "0  Learn about treatments and complications of he...   \n",
       "1  Pulmonary fibrosis — Learn about the symptoms,...   \n",
       "2  Learn about epilepsy symptoms, possible causes...   \n",
       "3  Cirrhosis is an advanced stage of scarring and...   \n",
       "4  Learn about common heart disorders that can ca...   \n",
       "\n",
       "   Meta Description 1 Length  Size (bytes)  Word Count  Inlinks  \\\n",
       "0                        114         60740        2005       53   \n",
       "1                        154         54587        2083       36   \n",
       "2                        125         63278        2749       40   \n",
       "3                        147         55146        2008       35   \n",
       "4                        103         68502        3397       54   \n",
       "\n",
       "   Unique Inlinks  Outlinks  Unique Outlinks  External Outlinks  \\\n",
       "0              29       112               83                 70   \n",
       "1              18        83               53                 67   \n",
       "2              21        90               60                 73   \n",
       "3              17        82               53                 67   \n",
       "4              34        94               65                 67   \n",
       "\n",
       "   Unique External Outlinks  \n",
       "0                        48  \n",
       "1                        45  \n",
       "2                        51  \n",
       "3                        45  \n",
       "4                        45  "
      ]
     },
     "execution_count": 10,
     "metadata": {},
     "output_type": "execute_result"
    }
   ],
   "source": [
    "trimmed = raw[[\"URL Encoded Address\", 'H1-1', 'H1-1 length', \"Meta Description 1\", 'Meta Description 1 Length', 'Size (bytes)', \"Word Count\", \"Inlinks\", \"Unique Inlinks\", 'Outlinks', 'Unique Outlinks', 'External Outlinks',\n",
    "       'Unique External Outlinks']]\n",
    "trimmed.head()"
   ]
  },
  {
   "cell_type": "markdown",
   "metadata": {},
   "source": [
    "...and convert them into more coding-friendly formats:"
   ]
  },
  {
   "cell_type": "code",
   "execution_count": 11,
   "metadata": {
    "scrolled": true
   },
   "outputs": [
    {
     "data": {
      "text/html": [
       "<div>\n",
       "<style scoped>\n",
       "    .dataframe tbody tr th:only-of-type {\n",
       "        vertical-align: middle;\n",
       "    }\n",
       "\n",
       "    .dataframe tbody tr th {\n",
       "        vertical-align: top;\n",
       "    }\n",
       "\n",
       "    .dataframe thead th {\n",
       "        text-align: right;\n",
       "    }\n",
       "</style>\n",
       "<table border=\"1\" class=\"dataframe\">\n",
       "  <thead>\n",
       "    <tr style=\"text-align: right;\">\n",
       "      <th></th>\n",
       "      <th>url</th>\n",
       "      <th>header</th>\n",
       "      <th>header_len</th>\n",
       "      <th>meta</th>\n",
       "      <th>meta_len</th>\n",
       "      <th>bytes</th>\n",
       "      <th>word_count</th>\n",
       "      <th>inlinks</th>\n",
       "      <th>unique_in</th>\n",
       "      <th>outlinks</th>\n",
       "      <th>unique_out</th>\n",
       "      <th>ext_links</th>\n",
       "      <th>unique_ext</th>\n",
       "    </tr>\n",
       "  </thead>\n",
       "  <tbody>\n",
       "    <tr>\n",
       "      <th>0</th>\n",
       "      <td>https://www.mayoclinic.org/diseases-conditions...</td>\n",
       "      <td>congenital heart disease in adults</td>\n",
       "      <td>34</td>\n",
       "      <td>Learn about treatments and complications of he...</td>\n",
       "      <td>114</td>\n",
       "      <td>60740</td>\n",
       "      <td>2005</td>\n",
       "      <td>53</td>\n",
       "      <td>29</td>\n",
       "      <td>112</td>\n",
       "      <td>83</td>\n",
       "      <td>70</td>\n",
       "      <td>48</td>\n",
       "    </tr>\n",
       "    <tr>\n",
       "      <th>1</th>\n",
       "      <td>https://www.mayoclinic.org/diseases-conditions...</td>\n",
       "      <td>pulmonary fibrosis</td>\n",
       "      <td>18</td>\n",
       "      <td>Pulmonary fibrosis — Learn about the symptoms,...</td>\n",
       "      <td>154</td>\n",
       "      <td>54587</td>\n",
       "      <td>2083</td>\n",
       "      <td>36</td>\n",
       "      <td>18</td>\n",
       "      <td>83</td>\n",
       "      <td>53</td>\n",
       "      <td>67</td>\n",
       "      <td>45</td>\n",
       "    </tr>\n",
       "    <tr>\n",
       "      <th>2</th>\n",
       "      <td>https://www.mayoclinic.org/diseases-conditions...</td>\n",
       "      <td>epilepsy</td>\n",
       "      <td>8</td>\n",
       "      <td>Learn about epilepsy symptoms, possible causes...</td>\n",
       "      <td>125</td>\n",
       "      <td>63278</td>\n",
       "      <td>2749</td>\n",
       "      <td>40</td>\n",
       "      <td>21</td>\n",
       "      <td>90</td>\n",
       "      <td>60</td>\n",
       "      <td>73</td>\n",
       "      <td>51</td>\n",
       "    </tr>\n",
       "  </tbody>\n",
       "</table>\n",
       "</div>"
      ],
      "text/plain": [
       "                                                 url  \\\n",
       "0  https://www.mayoclinic.org/diseases-conditions...   \n",
       "1  https://www.mayoclinic.org/diseases-conditions...   \n",
       "2  https://www.mayoclinic.org/diseases-conditions...   \n",
       "\n",
       "                               header  header_len  \\\n",
       "0  congenital heart disease in adults          34   \n",
       "1                  pulmonary fibrosis          18   \n",
       "2                            epilepsy           8   \n",
       "\n",
       "                                                meta  meta_len  bytes  \\\n",
       "0  Learn about treatments and complications of he...       114  60740   \n",
       "1  Pulmonary fibrosis — Learn about the symptoms,...       154  54587   \n",
       "2  Learn about epilepsy symptoms, possible causes...       125  63278   \n",
       "\n",
       "   word_count  inlinks  unique_in  outlinks  unique_out  ext_links  unique_ext  \n",
       "0        2005       53         29       112          83         70          48  \n",
       "1        2083       36         18        83          53         67          45  \n",
       "2        2749       40         21        90          60         73          51  "
      ]
     },
     "execution_count": 11,
     "metadata": {},
     "output_type": "execute_result"
    }
   ],
   "source": [
    "# lowercase, spaces to underscores\n",
    "new_colnames = [x.lower() for x in trimmed.columns]\n",
    "new_colnames = [x.replace(' ', '_') for x in new_colnames]\n",
    "\n",
    "# replace in original dataframe\n",
    "cleaned = trimmed\n",
    "cleaned.columns = new_colnames\n",
    "\n",
    "# replace individual column names that need modifying\n",
    "cleaned = cleaned.rename(columns = {'url_encoded_address' : 'url'})\n",
    "cleaned = cleaned.rename(columns = {'h1-1': 'header'})\n",
    "cleaned = cleaned.rename(columns = {'h1-1_length': 'header_len'})\n",
    "cleaned = cleaned.rename(columns = {'meta_description_1' : 'meta'})\n",
    "cleaned = cleaned.rename(columns = {'meta_description_1_length' : 'meta_len'})\n",
    "cleaned = cleaned.rename(columns = {'size_(bytes)' : 'bytes'})\n",
    "cleaned = cleaned.rename(columns = {'unique_inlinks' : 'unique_in'})\n",
    "cleaned = cleaned.rename(columns = {'unique_outlinks' : 'unique_out'})\n",
    "cleaned = cleaned.rename(columns = {'external_outlinks' : 'ext_links'})\n",
    "cleaned = cleaned.rename(columns = {'unique_external_outlinks' : 'unique_ext'})\n",
    "\n",
    "# reformat headers\n",
    "lower = [x.lower() for x in cleaned[\"header\"]]\n",
    "cleaned[\"header\"] = lower\n",
    "\n",
    "cleaned.head(3)"
   ]
  },
  {
   "cell_type": "code",
   "execution_count": 12,
   "metadata": {},
   "outputs": [
    {
     "data": {
      "text/plain": [
       "(1199, 13)"
      ]
     },
     "execution_count": 12,
     "metadata": {},
     "output_type": "execute_result"
    }
   ],
   "source": [
    "cleaned.shape"
   ]
  },
  {
   "cell_type": "markdown",
   "metadata": {},
   "source": [
    "## Part 3: Merge Datasets"
   ]
  },
  {
   "cell_type": "code",
   "execution_count": 13,
   "metadata": {
    "scrolled": false
   },
   "outputs": [
    {
     "data": {
      "text/html": [
       "<div>\n",
       "<style scoped>\n",
       "    .dataframe tbody tr th:only-of-type {\n",
       "        vertical-align: middle;\n",
       "    }\n",
       "\n",
       "    .dataframe tbody tr th {\n",
       "        vertical-align: top;\n",
       "    }\n",
       "\n",
       "    .dataframe thead th {\n",
       "        text-align: right;\n",
       "    }\n",
       "</style>\n",
       "<table border=\"1\" class=\"dataframe\">\n",
       "  <thead>\n",
       "    <tr style=\"text-align: right;\">\n",
       "      <th></th>\n",
       "      <th>url</th>\n",
       "      <th>header</th>\n",
       "      <th>header_len</th>\n",
       "      <th>meta</th>\n",
       "      <th>meta_len</th>\n",
       "      <th>bytes</th>\n",
       "      <th>word_count</th>\n",
       "      <th>inlinks</th>\n",
       "      <th>unique_in</th>\n",
       "      <th>outlinks</th>\n",
       "      <th>unique_out</th>\n",
       "      <th>ext_links</th>\n",
       "      <th>unique_ext</th>\n",
       "    </tr>\n",
       "  </thead>\n",
       "  <tbody>\n",
       "    <tr>\n",
       "      <th>0</th>\n",
       "      <td>https://www.mayoclinic.org/diseases-conditions...</td>\n",
       "      <td>digeorge syndrome (22q11.2 deletion syndrome)</td>\n",
       "      <td>45</td>\n",
       "      <td>DiGeorge syndrome (22q11.2 deletion syndrome) ...</td>\n",
       "      <td>151</td>\n",
       "      <td>57561</td>\n",
       "      <td>2212</td>\n",
       "      <td>13</td>\n",
       "      <td>7</td>\n",
       "      <td>70</td>\n",
       "      <td>44</td>\n",
       "      <td>67</td>\n",
       "      <td>45</td>\n",
       "    </tr>\n",
       "    <tr>\n",
       "      <th>1</th>\n",
       "      <td>https://www.mayoclinic.org/diseases-conditions...</td>\n",
       "      <td>atrial fibrillation</td>\n",
       "      <td>19</td>\n",
       "      <td>Find out about atrial fibrillation, a heart co...</td>\n",
       "      <td>152</td>\n",
       "      <td>68770</td>\n",
       "      <td>2732</td>\n",
       "      <td>31</td>\n",
       "      <td>19</td>\n",
       "      <td>100</td>\n",
       "      <td>71</td>\n",
       "      <td>75</td>\n",
       "      <td>52</td>\n",
       "    </tr>\n",
       "    <tr>\n",
       "      <th>2</th>\n",
       "      <td>https://www.mayoclinic.org/diseases-conditions...</td>\n",
       "      <td>abdominal aortic aneurysm</td>\n",
       "      <td>25</td>\n",
       "      <td>An abdominal aortic aneurysm can grow slowly a...</td>\n",
       "      <td>128</td>\n",
       "      <td>48752</td>\n",
       "      <td>1530</td>\n",
       "      <td>26</td>\n",
       "      <td>15</td>\n",
       "      <td>78</td>\n",
       "      <td>49</td>\n",
       "      <td>67</td>\n",
       "      <td>45</td>\n",
       "    </tr>\n",
       "  </tbody>\n",
       "</table>\n",
       "</div>"
      ],
      "text/plain": [
       "                                                 url  \\\n",
       "0  https://www.mayoclinic.org/diseases-conditions...   \n",
       "1  https://www.mayoclinic.org/diseases-conditions...   \n",
       "2  https://www.mayoclinic.org/diseases-conditions...   \n",
       "\n",
       "                                          header  header_len  \\\n",
       "0  digeorge syndrome (22q11.2 deletion syndrome)          45   \n",
       "1                            atrial fibrillation          19   \n",
       "2                      abdominal aortic aneurysm          25   \n",
       "\n",
       "                                                meta  meta_len  bytes  \\\n",
       "0  DiGeorge syndrome (22q11.2 deletion syndrome) ...       151  57561   \n",
       "1  Find out about atrial fibrillation, a heart co...       152  68770   \n",
       "2  An abdominal aortic aneurysm can grow slowly a...       128  48752   \n",
       "\n",
       "   word_count  inlinks  unique_in  outlinks  unique_out  ext_links  unique_ext  \n",
       "0        2212       13          7        70          44         67          45  \n",
       "1        2732       31         19       100          71         75          52  \n",
       "2        1530       26         15        78          49         67          45  "
      ]
     },
     "execution_count": 13,
     "metadata": {},
     "output_type": "execute_result"
    }
   ],
   "source": [
    "# inner merge to get all URLs scraped from Mayo Clinic site that were included in the SEO Spider crawl\n",
    "combo = pd.merge(mayo_data, cleaned, on='url', how='inner')\n",
    "combo.head(3)"
   ]
  },
  {
   "cell_type": "code",
   "execution_count": 14,
   "metadata": {},
   "outputs": [
    {
     "data": {
      "text/plain": [
       "(1143, 13)"
      ]
     },
     "execution_count": 14,
     "metadata": {},
     "output_type": "execute_result"
    }
   ],
   "source": [
    "# lost 18 URLs that were accessed in the crawl but weren't scraped from the Mayo Clinic site\n",
    "# and lost a further 38 that were scraped but we're included in the crawl\n",
    "combo.shape"
   ]
  },
  {
   "cell_type": "code",
   "execution_count": 15,
   "metadata": {},
   "outputs": [],
   "source": [
    "# check for any duplicate URLs\n",
    "combo = combo[combo[\"url\"].duplicated() == False]"
   ]
  },
  {
   "cell_type": "code",
   "execution_count": 16,
   "metadata": {},
   "outputs": [
    {
     "data": {
      "text/plain": [
       "(1143, 13)"
      ]
     },
     "execution_count": 16,
     "metadata": {},
     "output_type": "execute_result"
    }
   ],
   "source": [
    "# no duplicates\n",
    "combo.shape"
   ]
  },
  {
   "cell_type": "code",
   "execution_count": 17,
   "metadata": {
    "scrolled": true
   },
   "outputs": [
    {
     "data": {
      "text/plain": [
       "True"
      ]
     },
     "execution_count": 17,
     "metadata": {},
     "output_type": "execute_result"
    }
   ],
   "source": [
    "#check for any NaNs in the dataset\n",
    "combo.isnull().values.any()"
   ]
  },
  {
   "cell_type": "code",
   "execution_count": 18,
   "metadata": {
    "scrolled": true
   },
   "outputs": [
    {
     "data": {
      "text/plain": [
       "url           False\n",
       "header        False\n",
       "header_len    False\n",
       "meta           True\n",
       "meta_len      False\n",
       "bytes         False\n",
       "word_count    False\n",
       "inlinks       False\n",
       "unique_in     False\n",
       "outlinks      False\n",
       "unique_out    False\n",
       "ext_links     False\n",
       "unique_ext    False\n",
       "dtype: bool"
      ]
     },
     "execution_count": 18,
     "metadata": {},
     "output_type": "execute_result"
    }
   ],
   "source": [
    "#check where\n",
    "combo.isnull().any()"
   ]
  },
  {
   "cell_type": "code",
   "execution_count": 19,
   "metadata": {},
   "outputs": [
    {
     "data": {
      "text/html": [
       "<div>\n",
       "<style scoped>\n",
       "    .dataframe tbody tr th:only-of-type {\n",
       "        vertical-align: middle;\n",
       "    }\n",
       "\n",
       "    .dataframe tbody tr th {\n",
       "        vertical-align: top;\n",
       "    }\n",
       "\n",
       "    .dataframe thead th {\n",
       "        text-align: right;\n",
       "    }\n",
       "</style>\n",
       "<table border=\"1\" class=\"dataframe\">\n",
       "  <thead>\n",
       "    <tr style=\"text-align: right;\">\n",
       "      <th></th>\n",
       "      <th>url</th>\n",
       "      <th>header</th>\n",
       "      <th>header_len</th>\n",
       "      <th>meta</th>\n",
       "      <th>meta_len</th>\n",
       "      <th>bytes</th>\n",
       "      <th>word_count</th>\n",
       "      <th>inlinks</th>\n",
       "      <th>unique_in</th>\n",
       "      <th>outlinks</th>\n",
       "      <th>unique_out</th>\n",
       "      <th>ext_links</th>\n",
       "      <th>unique_ext</th>\n",
       "    </tr>\n",
       "  </thead>\n",
       "  <tbody>\n",
       "    <tr>\n",
       "      <th>1084</th>\n",
       "      <td>https://www.mayoclinic.org/diseases-conditions...</td>\n",
       "      <td>tapeworm infection</td>\n",
       "      <td>18</td>\n",
       "      <td>NaN</td>\n",
       "      <td>0</td>\n",
       "      <td>47202</td>\n",
       "      <td>1731</td>\n",
       "      <td>15</td>\n",
       "      <td>6</td>\n",
       "      <td>71</td>\n",
       "      <td>45</td>\n",
       "      <td>67</td>\n",
       "      <td>45</td>\n",
       "    </tr>\n",
       "  </tbody>\n",
       "</table>\n",
       "</div>"
      ],
      "text/plain": [
       "                                                    url              header  \\\n",
       "1084  https://www.mayoclinic.org/diseases-conditions...  tapeworm infection   \n",
       "\n",
       "      header_len meta  meta_len  bytes  word_count  inlinks  unique_in  \\\n",
       "1084          18  NaN         0  47202        1731       15          6   \n",
       "\n",
       "      outlinks  unique_out  ext_links  unique_ext  \n",
       "1084        71          45         67          45  "
      ]
     },
     "execution_count": 19,
     "metadata": {},
     "output_type": "execute_result"
    }
   ],
   "source": [
    "# check which it is\n",
    "combo[combo[\"meta\"].isnull()]"
   ]
  },
  {
   "cell_type": "code",
   "execution_count": 20,
   "metadata": {
    "scrolled": false
   },
   "outputs": [],
   "source": [
    "# set null meta description to empty instead of null (without making a copy)\n",
    "combo.loc[combo['meta'].isnull(), 'meta'] = \" \""
   ]
  },
  {
   "cell_type": "code",
   "execution_count": 21,
   "metadata": {},
   "outputs": [
    {
     "data": {
      "text/html": [
       "<div>\n",
       "<style scoped>\n",
       "    .dataframe tbody tr th:only-of-type {\n",
       "        vertical-align: middle;\n",
       "    }\n",
       "\n",
       "    .dataframe tbody tr th {\n",
       "        vertical-align: top;\n",
       "    }\n",
       "\n",
       "    .dataframe thead th {\n",
       "        text-align: right;\n",
       "    }\n",
       "</style>\n",
       "<table border=\"1\" class=\"dataframe\">\n",
       "  <thead>\n",
       "    <tr style=\"text-align: right;\">\n",
       "      <th></th>\n",
       "      <th>url</th>\n",
       "      <th>header</th>\n",
       "      <th>header_len</th>\n",
       "      <th>meta</th>\n",
       "      <th>meta_len</th>\n",
       "      <th>bytes</th>\n",
       "      <th>word_count</th>\n",
       "      <th>inlinks</th>\n",
       "      <th>unique_in</th>\n",
       "      <th>outlinks</th>\n",
       "      <th>unique_out</th>\n",
       "      <th>ext_links</th>\n",
       "      <th>unique_ext</th>\n",
       "    </tr>\n",
       "  </thead>\n",
       "  <tbody>\n",
       "    <tr>\n",
       "      <th>1084</th>\n",
       "      <td>https://www.mayoclinic.org/diseases-conditions...</td>\n",
       "      <td>tapeworm infection</td>\n",
       "      <td>18</td>\n",
       "      <td></td>\n",
       "      <td>0</td>\n",
       "      <td>47202</td>\n",
       "      <td>1731</td>\n",
       "      <td>15</td>\n",
       "      <td>6</td>\n",
       "      <td>71</td>\n",
       "      <td>45</td>\n",
       "      <td>67</td>\n",
       "      <td>45</td>\n",
       "    </tr>\n",
       "  </tbody>\n",
       "</table>\n",
       "</div>"
      ],
      "text/plain": [
       "                                                    url              header  \\\n",
       "1084  https://www.mayoclinic.org/diseases-conditions...  tapeworm infection   \n",
       "\n",
       "      header_len meta  meta_len  bytes  word_count  inlinks  unique_in  \\\n",
       "1084          18              0  47202        1731       15          6   \n",
       "\n",
       "      outlinks  unique_out  ext_links  unique_ext  \n",
       "1084        71          45         67          45  "
      ]
     },
     "execution_count": 21,
     "metadata": {},
     "output_type": "execute_result"
    }
   ],
   "source": [
    "combo[combo[\"header\"]==\"tapeworm infection\"]"
   ]
  },
  {
   "cell_type": "code",
   "execution_count": 22,
   "metadata": {},
   "outputs": [
    {
     "data": {
      "text/plain": [
       "False"
      ]
     },
     "execution_count": 22,
     "metadata": {},
     "output_type": "execute_result"
    }
   ],
   "source": [
    "# make sure that was it\n",
    "combo.isnull().values.any()"
   ]
  },
  {
   "cell_type": "markdown",
   "metadata": {},
   "source": [
    "## Part 4: Moz Data\n",
    "### Top 500 ranking pages on the Mayo Clinic Domain"
   ]
  },
  {
   "cell_type": "code",
   "execution_count": 230,
   "metadata": {},
   "outputs": [
    {
     "data": {
      "text/html": [
       "<div>\n",
       "<style scoped>\n",
       "    .dataframe tbody tr th:only-of-type {\n",
       "        vertical-align: middle;\n",
       "    }\n",
       "\n",
       "    .dataframe tbody tr th {\n",
       "        vertical-align: top;\n",
       "    }\n",
       "\n",
       "    .dataframe thead th {\n",
       "        text-align: right;\n",
       "    }\n",
       "</style>\n",
       "<table border=\"1\" class=\"dataframe\">\n",
       "  <thead>\n",
       "    <tr style=\"text-align: right;\">\n",
       "      <th></th>\n",
       "      <th>URL</th>\n",
       "      <th>Title</th>\n",
       "      <th>Total Links</th>\n",
       "      <th>PA</th>\n",
       "      <th>Linking Domains to Page</th>\n",
       "      <th>HTTP Status Code</th>\n",
       "      <th>Outbound Domains from Page</th>\n",
       "      <th>Outbound Links from Page</th>\n",
       "    </tr>\n",
       "  </thead>\n",
       "  <tbody>\n",
       "    <tr>\n",
       "      <th>0</th>\n",
       "      <td>www.mayoclinic.org/</td>\n",
       "      <td>\\r\\n        Mayo Clinic - Mayo Clinic</td>\n",
       "      <td>1008399</td>\n",
       "      <td>74</td>\n",
       "      <td>34849</td>\n",
       "      <td>200.0</td>\n",
       "      <td>10</td>\n",
       "      <td>31</td>\n",
       "    </tr>\n",
       "    <tr>\n",
       "      <th>1</th>\n",
       "      <td>www.mayoclinic.org/healthy-lifestyle/nutrition...</td>\n",
       "      <td>\\r\\n\\tWater: How much should you drink every d...</td>\n",
       "      <td>11319</td>\n",
       "      <td>68</td>\n",
       "      <td>3523</td>\n",
       "      <td>200.0</td>\n",
       "      <td>10</td>\n",
       "      <td>37</td>\n",
       "    </tr>\n",
       "    <tr>\n",
       "      <th>2</th>\n",
       "      <td>www.mayoclinic.org/healthy-lifestyle/fitness/i...</td>\n",
       "      <td>\\r\\n\\tExercise: 7 benefits of regular physical...</td>\n",
       "      <td>7961</td>\n",
       "      <td>67</td>\n",
       "      <td>2779</td>\n",
       "      <td>200.0</td>\n",
       "      <td>10</td>\n",
       "      <td>37</td>\n",
       "    </tr>\n",
       "    <tr>\n",
       "      <th>3</th>\n",
       "      <td>www.mayoclinic.org/healthy-lifestyle/nutrition...</td>\n",
       "      <td>\\r\\n\\tMediterranean diet for heart health - Ma...</td>\n",
       "      <td>8152</td>\n",
       "      <td>67</td>\n",
       "      <td>2675</td>\n",
       "      <td>200.0</td>\n",
       "      <td>10</td>\n",
       "      <td>37</td>\n",
       "    </tr>\n",
       "    <tr>\n",
       "      <th>4</th>\n",
       "      <td>www.mayoclinic.org/healthy-lifestyle/stress-ma...</td>\n",
       "      <td>\\r\\n\\tStress symptoms: Effects on your body an...</td>\n",
       "      <td>5819</td>\n",
       "      <td>67</td>\n",
       "      <td>2365</td>\n",
       "      <td>200.0</td>\n",
       "      <td>10</td>\n",
       "      <td>36</td>\n",
       "    </tr>\n",
       "  </tbody>\n",
       "</table>\n",
       "</div>"
      ],
      "text/plain": [
       "                                                 URL  \\\n",
       "0                                www.mayoclinic.org/   \n",
       "1  www.mayoclinic.org/healthy-lifestyle/nutrition...   \n",
       "2  www.mayoclinic.org/healthy-lifestyle/fitness/i...   \n",
       "3  www.mayoclinic.org/healthy-lifestyle/nutrition...   \n",
       "4  www.mayoclinic.org/healthy-lifestyle/stress-ma...   \n",
       "\n",
       "                                               Title  Total Links  PA  \\\n",
       "0              \\r\\n        Mayo Clinic - Mayo Clinic      1008399  74   \n",
       "1  \\r\\n\\tWater: How much should you drink every d...        11319  68   \n",
       "2  \\r\\n\\tExercise: 7 benefits of regular physical...         7961  67   \n",
       "3  \\r\\n\\tMediterranean diet for heart health - Ma...         8152  67   \n",
       "4  \\r\\n\\tStress symptoms: Effects on your body an...         5819  67   \n",
       "\n",
       "   Linking Domains to Page  HTTP Status Code  Outbound Domains from Page  \\\n",
       "0                    34849             200.0                          10   \n",
       "1                     3523             200.0                          10   \n",
       "2                     2779             200.0                          10   \n",
       "3                     2675             200.0                          10   \n",
       "4                     2365             200.0                          10   \n",
       "\n",
       "   Outbound Links from Page  \n",
       "0                        31  \n",
       "1                        37  \n",
       "2                        37  \n",
       "3                        37  \n",
       "4                        36  "
      ]
     },
     "execution_count": 230,
     "metadata": {},
     "output_type": "execute_result"
    }
   ],
   "source": [
    "moz = pd.read_csv(\"moz-top-pages.csv\")\n",
    "moz.head()"
   ]
  },
  {
   "cell_type": "code",
   "execution_count": 231,
   "metadata": {},
   "outputs": [],
   "source": [
    "# lowercase, spaces to underscores\n",
    "colnames = [x.lower() for x in moz.columns]\n",
    "colnames = [x.replace(' ', '_') for x in colnames]\n",
    "\n",
    "# replace in original dataframe\n",
    "moz.columns = colnames"
   ]
  },
  {
   "cell_type": "code",
   "execution_count": 232,
   "metadata": {},
   "outputs": [
    {
     "data": {
      "text/html": [
       "<div>\n",
       "<style scoped>\n",
       "    .dataframe tbody tr th:only-of-type {\n",
       "        vertical-align: middle;\n",
       "    }\n",
       "\n",
       "    .dataframe tbody tr th {\n",
       "        vertical-align: top;\n",
       "    }\n",
       "\n",
       "    .dataframe thead th {\n",
       "        text-align: right;\n",
       "    }\n",
       "</style>\n",
       "<table border=\"1\" class=\"dataframe\">\n",
       "  <thead>\n",
       "    <tr style=\"text-align: right;\">\n",
       "      <th></th>\n",
       "      <th>url</th>\n",
       "      <th>title</th>\n",
       "      <th>total_links</th>\n",
       "      <th>pa</th>\n",
       "      <th>linking_domains_to_page</th>\n",
       "      <th>http_status_code</th>\n",
       "      <th>outbound_domains_from_page</th>\n",
       "      <th>outbound_links_from_page</th>\n",
       "    </tr>\n",
       "  </thead>\n",
       "  <tbody>\n",
       "    <tr>\n",
       "      <th>0</th>\n",
       "      <td>www.mayoclinic.org/</td>\n",
       "      <td>\\r\\n        Mayo Clinic - Mayo Clinic</td>\n",
       "      <td>1008399</td>\n",
       "      <td>74</td>\n",
       "      <td>34849</td>\n",
       "      <td>200.0</td>\n",
       "      <td>10</td>\n",
       "      <td>31</td>\n",
       "    </tr>\n",
       "    <tr>\n",
       "      <th>1</th>\n",
       "      <td>www.mayoclinic.org/healthy-lifestyle/nutrition...</td>\n",
       "      <td>\\r\\n\\tWater: How much should you drink every d...</td>\n",
       "      <td>11319</td>\n",
       "      <td>68</td>\n",
       "      <td>3523</td>\n",
       "      <td>200.0</td>\n",
       "      <td>10</td>\n",
       "      <td>37</td>\n",
       "    </tr>\n",
       "    <tr>\n",
       "      <th>2</th>\n",
       "      <td>www.mayoclinic.org/healthy-lifestyle/fitness/i...</td>\n",
       "      <td>\\r\\n\\tExercise: 7 benefits of regular physical...</td>\n",
       "      <td>7961</td>\n",
       "      <td>67</td>\n",
       "      <td>2779</td>\n",
       "      <td>200.0</td>\n",
       "      <td>10</td>\n",
       "      <td>37</td>\n",
       "    </tr>\n",
       "    <tr>\n",
       "      <th>3</th>\n",
       "      <td>www.mayoclinic.org/healthy-lifestyle/nutrition...</td>\n",
       "      <td>\\r\\n\\tMediterranean diet for heart health - Ma...</td>\n",
       "      <td>8152</td>\n",
       "      <td>67</td>\n",
       "      <td>2675</td>\n",
       "      <td>200.0</td>\n",
       "      <td>10</td>\n",
       "      <td>37</td>\n",
       "    </tr>\n",
       "    <tr>\n",
       "      <th>4</th>\n",
       "      <td>www.mayoclinic.org/healthy-lifestyle/stress-ma...</td>\n",
       "      <td>\\r\\n\\tStress symptoms: Effects on your body an...</td>\n",
       "      <td>5819</td>\n",
       "      <td>67</td>\n",
       "      <td>2365</td>\n",
       "      <td>200.0</td>\n",
       "      <td>10</td>\n",
       "      <td>36</td>\n",
       "    </tr>\n",
       "  </tbody>\n",
       "</table>\n",
       "</div>"
      ],
      "text/plain": [
       "                                                 url  \\\n",
       "0                                www.mayoclinic.org/   \n",
       "1  www.mayoclinic.org/healthy-lifestyle/nutrition...   \n",
       "2  www.mayoclinic.org/healthy-lifestyle/fitness/i...   \n",
       "3  www.mayoclinic.org/healthy-lifestyle/nutrition...   \n",
       "4  www.mayoclinic.org/healthy-lifestyle/stress-ma...   \n",
       "\n",
       "                                               title  total_links  pa  \\\n",
       "0              \\r\\n        Mayo Clinic - Mayo Clinic      1008399  74   \n",
       "1  \\r\\n\\tWater: How much should you drink every d...        11319  68   \n",
       "2  \\r\\n\\tExercise: 7 benefits of regular physical...         7961  67   \n",
       "3  \\r\\n\\tMediterranean diet for heart health - Ma...         8152  67   \n",
       "4  \\r\\n\\tStress symptoms: Effects on your body an...         5819  67   \n",
       "\n",
       "   linking_domains_to_page  http_status_code  outbound_domains_from_page  \\\n",
       "0                    34849             200.0                          10   \n",
       "1                     3523             200.0                          10   \n",
       "2                     2779             200.0                          10   \n",
       "3                     2675             200.0                          10   \n",
       "4                     2365             200.0                          10   \n",
       "\n",
       "   outbound_links_from_page  \n",
       "0                        31  \n",
       "1                        37  \n",
       "2                        37  \n",
       "3                        37  \n",
       "4                        36  "
      ]
     },
     "execution_count": 232,
     "metadata": {},
     "output_type": "execute_result"
    }
   ],
   "source": [
    "moz.head()"
   ]
  },
  {
   "cell_type": "code",
   "execution_count": 233,
   "metadata": {},
   "outputs": [
    {
     "data": {
      "text/html": [
       "<div>\n",
       "<style scoped>\n",
       "    .dataframe tbody tr th:only-of-type {\n",
       "        vertical-align: middle;\n",
       "    }\n",
       "\n",
       "    .dataframe tbody tr th {\n",
       "        vertical-align: top;\n",
       "    }\n",
       "\n",
       "    .dataframe thead th {\n",
       "        text-align: right;\n",
       "    }\n",
       "</style>\n",
       "<table border=\"1\" class=\"dataframe\">\n",
       "  <thead>\n",
       "    <tr style=\"text-align: right;\">\n",
       "      <th></th>\n",
       "      <th>url</th>\n",
       "      <th>title</th>\n",
       "      <th>total_links</th>\n",
       "      <th>pa</th>\n",
       "      <th>linking_domains_to_page</th>\n",
       "      <th>http_status_code</th>\n",
       "      <th>outbound_domains_from_page</th>\n",
       "      <th>outbound_links_from_page</th>\n",
       "    </tr>\n",
       "  </thead>\n",
       "  <tbody>\n",
       "    <tr>\n",
       "      <th>0</th>\n",
       "      <td>https://www.mayoclinic.org/</td>\n",
       "      <td>\\r\\n        Mayo Clinic - Mayo Clinic</td>\n",
       "      <td>1008399</td>\n",
       "      <td>74</td>\n",
       "      <td>34849</td>\n",
       "      <td>200.0</td>\n",
       "      <td>10</td>\n",
       "      <td>31</td>\n",
       "    </tr>\n",
       "    <tr>\n",
       "      <th>1</th>\n",
       "      <td>https://www.mayoclinic.org/healthy-lifestyle/n...</td>\n",
       "      <td>\\r\\n\\tWater: How much should you drink every d...</td>\n",
       "      <td>11319</td>\n",
       "      <td>68</td>\n",
       "      <td>3523</td>\n",
       "      <td>200.0</td>\n",
       "      <td>10</td>\n",
       "      <td>37</td>\n",
       "    </tr>\n",
       "    <tr>\n",
       "      <th>2</th>\n",
       "      <td>https://www.mayoclinic.org/healthy-lifestyle/f...</td>\n",
       "      <td>\\r\\n\\tExercise: 7 benefits of regular physical...</td>\n",
       "      <td>7961</td>\n",
       "      <td>67</td>\n",
       "      <td>2779</td>\n",
       "      <td>200.0</td>\n",
       "      <td>10</td>\n",
       "      <td>37</td>\n",
       "    </tr>\n",
       "    <tr>\n",
       "      <th>3</th>\n",
       "      <td>https://www.mayoclinic.org/healthy-lifestyle/n...</td>\n",
       "      <td>\\r\\n\\tMediterranean diet for heart health - Ma...</td>\n",
       "      <td>8152</td>\n",
       "      <td>67</td>\n",
       "      <td>2675</td>\n",
       "      <td>200.0</td>\n",
       "      <td>10</td>\n",
       "      <td>37</td>\n",
       "    </tr>\n",
       "    <tr>\n",
       "      <th>4</th>\n",
       "      <td>https://www.mayoclinic.org/healthy-lifestyle/s...</td>\n",
       "      <td>\\r\\n\\tStress symptoms: Effects on your body an...</td>\n",
       "      <td>5819</td>\n",
       "      <td>67</td>\n",
       "      <td>2365</td>\n",
       "      <td>200.0</td>\n",
       "      <td>10</td>\n",
       "      <td>36</td>\n",
       "    </tr>\n",
       "  </tbody>\n",
       "</table>\n",
       "</div>"
      ],
      "text/plain": [
       "                                                 url  \\\n",
       "0                        https://www.mayoclinic.org/   \n",
       "1  https://www.mayoclinic.org/healthy-lifestyle/n...   \n",
       "2  https://www.mayoclinic.org/healthy-lifestyle/f...   \n",
       "3  https://www.mayoclinic.org/healthy-lifestyle/n...   \n",
       "4  https://www.mayoclinic.org/healthy-lifestyle/s...   \n",
       "\n",
       "                                               title  total_links  pa  \\\n",
       "0              \\r\\n        Mayo Clinic - Mayo Clinic      1008399  74   \n",
       "1  \\r\\n\\tWater: How much should you drink every d...        11319  68   \n",
       "2  \\r\\n\\tExercise: 7 benefits of regular physical...         7961  67   \n",
       "3  \\r\\n\\tMediterranean diet for heart health - Ma...         8152  67   \n",
       "4  \\r\\n\\tStress symptoms: Effects on your body an...         5819  67   \n",
       "\n",
       "   linking_domains_to_page  http_status_code  outbound_domains_from_page  \\\n",
       "0                    34849             200.0                          10   \n",
       "1                     3523             200.0                          10   \n",
       "2                     2779             200.0                          10   \n",
       "3                     2675             200.0                          10   \n",
       "4                     2365             200.0                          10   \n",
       "\n",
       "   outbound_links_from_page  \n",
       "0                        31  \n",
       "1                        37  \n",
       "2                        37  \n",
       "3                        37  \n",
       "4                        36  "
      ]
     },
     "execution_count": 233,
     "metadata": {},
     "output_type": "execute_result"
    }
   ],
   "source": [
    "# make sure url format matches\n",
    "urls = []\n",
    "for row in range(len(moz[\"url\"])):\t\n",
    "    urls.append(\"https://\"+moz[\"url\"][row])\n",
    "\n",
    "moz[\"url\"]=urls\n",
    "\n",
    "moz.head()"
   ]
  },
  {
   "cell_type": "code",
   "execution_count": 234,
   "metadata": {},
   "outputs": [],
   "source": [
    "# just want page authority from this dataset\n",
    "moz = moz[['url','pa']]"
   ]
  },
  {
   "cell_type": "code",
   "execution_count": 253,
   "metadata": {},
   "outputs": [
    {
     "data": {
      "text/plain": [
       "(1149, 14)"
      ]
     },
     "execution_count": 253,
     "metadata": {},
     "output_type": "execute_result"
    }
   ],
   "source": [
    "data = pd.merge(combo, moz, on='url', how='left')\n",
    "data.shape"
   ]
  },
  {
   "cell_type": "code",
   "execution_count": 254,
   "metadata": {},
   "outputs": [
    {
     "data": {
      "text/plain": [
       "(1143, 14)"
      ]
     },
     "execution_count": 254,
     "metadata": {},
     "output_type": "execute_result"
    }
   ],
   "source": [
    "# get rid of duplicate URLs\n",
    "data = data[data[\"url\"].duplicated() == False]\n",
    "data.shape"
   ]
  },
  {
   "cell_type": "code",
   "execution_count": 255,
   "metadata": {},
   "outputs": [
    {
     "data": {
      "text/plain": [
       "60.0"
      ]
     },
     "execution_count": 255,
     "metadata": {},
     "output_type": "execute_result"
    }
   ],
   "source": [
    "data.pa.min()"
   ]
  },
  {
   "cell_type": "code",
   "execution_count": 256,
   "metadata": {},
   "outputs": [
    {
     "data": {
      "text/plain": [
       "67.0"
      ]
     },
     "execution_count": 256,
     "metadata": {},
     "output_type": "execute_result"
    }
   ],
   "source": [
    "data.pa.max()"
   ]
  },
  {
   "cell_type": "code",
   "execution_count": 257,
   "metadata": {},
   "outputs": [
    {
     "data": {
      "text/plain": [
       "216"
      ]
     },
     "execution_count": 257,
     "metadata": {},
     "output_type": "execute_result"
    }
   ],
   "source": [
    "len(data[data.pa.notnull()])"
   ]
  },
  {
   "cell_type": "code",
   "execution_count": 258,
   "metadata": {},
   "outputs": [
    {
     "data": {
      "text/plain": [
       "1.7860249784668392"
      ]
     },
     "execution_count": 258,
     "metadata": {},
     "output_type": "execute_result"
    }
   ],
   "source": [
    "data.pa.var()"
   ]
  },
  {
   "cell_type": "markdown",
   "metadata": {},
   "source": [
    "Only 43% of the 500 top-ranking pages on the Mayo Clinic website are Symptoms and Causes pages. Of those pages, their Page Authority scores out of 100 range from 60-67, not very wide. This is a very small sample with not much variance, so I will use the data from Moz about Page Authority in a different way. What I want to know is which pages in my dataset are in the top 500, and since the Page Authority scores of those pages are fairly close together, I will mark them as top-ranking with a 1 (True), and the rest of the pages in the dataset with a 0 (False). This way I am not losing very much information, and I am keeping my sample size much closer to the population size.\n",
    "\n",
    "It would be most desirable if I had the page authority ranking from Moz for all of the Mayo Clinic pages I am interested in looking at, but unfortunately they only provide the top 500 for the domain."
   ]
  },
  {
   "cell_type": "code",
   "execution_count": 262,
   "metadata": {},
   "outputs": [],
   "source": [
    "# make page authority column into binary data\n",
    "data.pa.loc[data.pa.notnull()] = 1\n",
    "data.pa.loc[data.pa.isnull()] = 0"
   ]
  },
  {
   "cell_type": "code",
   "execution_count": 263,
   "metadata": {
    "scrolled": false
   },
   "outputs": [
    {
     "data": {
      "text/html": [
       "<div>\n",
       "<style scoped>\n",
       "    .dataframe tbody tr th:only-of-type {\n",
       "        vertical-align: middle;\n",
       "    }\n",
       "\n",
       "    .dataframe tbody tr th {\n",
       "        vertical-align: top;\n",
       "    }\n",
       "\n",
       "    .dataframe thead th {\n",
       "        text-align: right;\n",
       "    }\n",
       "</style>\n",
       "<table border=\"1\" class=\"dataframe\">\n",
       "  <thead>\n",
       "    <tr style=\"text-align: right;\">\n",
       "      <th></th>\n",
       "      <th>url</th>\n",
       "      <th>header</th>\n",
       "      <th>header_len</th>\n",
       "      <th>meta</th>\n",
       "      <th>meta_len</th>\n",
       "      <th>bytes</th>\n",
       "      <th>word_count</th>\n",
       "      <th>inlinks</th>\n",
       "      <th>unique_in</th>\n",
       "      <th>outlinks</th>\n",
       "      <th>unique_out</th>\n",
       "      <th>ext_links</th>\n",
       "      <th>unique_ext</th>\n",
       "      <th>pa</th>\n",
       "    </tr>\n",
       "  </thead>\n",
       "  <tbody>\n",
       "    <tr>\n",
       "      <th>0</th>\n",
       "      <td>https://www.mayoclinic.org/diseases-conditions...</td>\n",
       "      <td>digeorge syndrome (22q11.2 deletion syndrome)</td>\n",
       "      <td>45</td>\n",
       "      <td>DiGeorge syndrome (22q11.2 deletion syndrome) ...</td>\n",
       "      <td>151</td>\n",
       "      <td>57561</td>\n",
       "      <td>2212</td>\n",
       "      <td>13</td>\n",
       "      <td>7</td>\n",
       "      <td>70</td>\n",
       "      <td>44</td>\n",
       "      <td>67</td>\n",
       "      <td>45</td>\n",
       "      <td>0.0</td>\n",
       "    </tr>\n",
       "    <tr>\n",
       "      <th>1</th>\n",
       "      <td>https://www.mayoclinic.org/diseases-conditions...</td>\n",
       "      <td>atrial fibrillation</td>\n",
       "      <td>19</td>\n",
       "      <td>Find out about atrial fibrillation, a heart co...</td>\n",
       "      <td>152</td>\n",
       "      <td>68770</td>\n",
       "      <td>2732</td>\n",
       "      <td>31</td>\n",
       "      <td>19</td>\n",
       "      <td>100</td>\n",
       "      <td>71</td>\n",
       "      <td>75</td>\n",
       "      <td>52</td>\n",
       "      <td>1.0</td>\n",
       "    </tr>\n",
       "    <tr>\n",
       "      <th>2</th>\n",
       "      <td>https://www.mayoclinic.org/diseases-conditions...</td>\n",
       "      <td>abdominal aortic aneurysm</td>\n",
       "      <td>25</td>\n",
       "      <td>An abdominal aortic aneurysm can grow slowly a...</td>\n",
       "      <td>128</td>\n",
       "      <td>48752</td>\n",
       "      <td>1530</td>\n",
       "      <td>26</td>\n",
       "      <td>15</td>\n",
       "      <td>78</td>\n",
       "      <td>49</td>\n",
       "      <td>67</td>\n",
       "      <td>45</td>\n",
       "      <td>0.0</td>\n",
       "    </tr>\n",
       "    <tr>\n",
       "      <th>3</th>\n",
       "      <td>https://www.mayoclinic.org/diseases-conditions...</td>\n",
       "      <td>hyperhidrosis</td>\n",
       "      <td>13</td>\n",
       "      <td>Learn more about causes, symptoms, treatment a...</td>\n",
       "      <td>153</td>\n",
       "      <td>45026</td>\n",
       "      <td>1385</td>\n",
       "      <td>16</td>\n",
       "      <td>11</td>\n",
       "      <td>75</td>\n",
       "      <td>46</td>\n",
       "      <td>67</td>\n",
       "      <td>45</td>\n",
       "      <td>0.0</td>\n",
       "    </tr>\n",
       "    <tr>\n",
       "      <th>4</th>\n",
       "      <td>https://www.mayoclinic.org/diseases-conditions...</td>\n",
       "      <td>bartholin's cyst</td>\n",
       "      <td>16</td>\n",
       "      <td>A Bartholin's cyst is a fluid-filled lump near...</td>\n",
       "      <td>126</td>\n",
       "      <td>43037</td>\n",
       "      <td>1202</td>\n",
       "      <td>12</td>\n",
       "      <td>6</td>\n",
       "      <td>70</td>\n",
       "      <td>44</td>\n",
       "      <td>67</td>\n",
       "      <td>45</td>\n",
       "      <td>0.0</td>\n",
       "    </tr>\n",
       "  </tbody>\n",
       "</table>\n",
       "</div>"
      ],
      "text/plain": [
       "                                                 url  \\\n",
       "0  https://www.mayoclinic.org/diseases-conditions...   \n",
       "1  https://www.mayoclinic.org/diseases-conditions...   \n",
       "2  https://www.mayoclinic.org/diseases-conditions...   \n",
       "3  https://www.mayoclinic.org/diseases-conditions...   \n",
       "4  https://www.mayoclinic.org/diseases-conditions...   \n",
       "\n",
       "                                          header  header_len  \\\n",
       "0  digeorge syndrome (22q11.2 deletion syndrome)          45   \n",
       "1                            atrial fibrillation          19   \n",
       "2                      abdominal aortic aneurysm          25   \n",
       "3                                  hyperhidrosis          13   \n",
       "4                               bartholin's cyst          16   \n",
       "\n",
       "                                                meta  meta_len  bytes  \\\n",
       "0  DiGeorge syndrome (22q11.2 deletion syndrome) ...       151  57561   \n",
       "1  Find out about atrial fibrillation, a heart co...       152  68770   \n",
       "2  An abdominal aortic aneurysm can grow slowly a...       128  48752   \n",
       "3  Learn more about causes, symptoms, treatment a...       153  45026   \n",
       "4  A Bartholin's cyst is a fluid-filled lump near...       126  43037   \n",
       "\n",
       "   word_count  inlinks  unique_in  outlinks  unique_out  ext_links  \\\n",
       "0        2212       13          7        70          44         67   \n",
       "1        2732       31         19       100          71         75   \n",
       "2        1530       26         15        78          49         67   \n",
       "3        1385       16         11        75          46         67   \n",
       "4        1202       12          6        70          44         67   \n",
       "\n",
       "   unique_ext   pa  \n",
       "0          45  0.0  \n",
       "1          52  1.0  \n",
       "2          45  0.0  \n",
       "3          45  0.0  \n",
       "4          45  0.0  "
      ]
     },
     "execution_count": 263,
     "metadata": {},
     "output_type": "execute_result"
    }
   ],
   "source": [
    "data.head()"
   ]
  },
  {
   "cell_type": "code",
   "execution_count": 265,
   "metadata": {
    "scrolled": true
   },
   "outputs": [
    {
     "data": {
      "text/plain": [
       "Index(['url', 'header', 'header_len', 'meta', 'meta_len', 'bytes',\n",
       "       'word_count', 'inlinks', 'unique_in', 'outlinks', 'unique_out',\n",
       "       'ext_links', 'unique_ext', 'pa'],\n",
       "      dtype='object')"
      ]
     },
     "execution_count": 265,
     "metadata": {},
     "output_type": "execute_result"
    }
   ],
   "source": [
    "data.columns"
   ]
  },
  {
   "cell_type": "markdown",
   "metadata": {},
   "source": [
    "## Part 5: More Web Scraping (publication date)"
   ]
  },
  {
   "cell_type": "code",
   "execution_count": 267,
   "metadata": {
    "scrolled": false
   },
   "outputs": [
    {
     "data": {
      "text/html": [
       "<div>\n",
       "<style scoped>\n",
       "    .dataframe tbody tr th:only-of-type {\n",
       "        vertical-align: middle;\n",
       "    }\n",
       "\n",
       "    .dataframe tbody tr th {\n",
       "        vertical-align: top;\n",
       "    }\n",
       "\n",
       "    .dataframe thead th {\n",
       "        text-align: right;\n",
       "    }\n",
       "</style>\n",
       "<table border=\"1\" class=\"dataframe\">\n",
       "  <thead>\n",
       "    <tr style=\"text-align: right;\">\n",
       "      <th></th>\n",
       "      <th>url</th>\n",
       "      <th>header</th>\n",
       "      <th>header_len</th>\n",
       "      <th>meta</th>\n",
       "      <th>meta_len</th>\n",
       "      <th>bytes</th>\n",
       "      <th>word_count</th>\n",
       "      <th>inlinks</th>\n",
       "      <th>unique_in</th>\n",
       "      <th>outlinks</th>\n",
       "      <th>unique_out</th>\n",
       "      <th>ext_links</th>\n",
       "      <th>unique_ext</th>\n",
       "      <th>pa</th>\n",
       "      <th>pub_date</th>\n",
       "    </tr>\n",
       "  </thead>\n",
       "  <tbody>\n",
       "    <tr>\n",
       "      <th>0</th>\n",
       "      <td>https://www.mayoclinic.org/diseases-conditions...</td>\n",
       "      <td>digeorge syndrome (22q11.2 deletion syndrome)</td>\n",
       "      <td>45</td>\n",
       "      <td>DiGeorge syndrome (22q11.2 deletion syndrome) ...</td>\n",
       "      <td>151</td>\n",
       "      <td>57561</td>\n",
       "      <td>2212</td>\n",
       "      <td>13</td>\n",
       "      <td>7</td>\n",
       "      <td>70</td>\n",
       "      <td>44</td>\n",
       "      <td>67</td>\n",
       "      <td>45</td>\n",
       "      <td>0.0</td>\n",
       "      <td>July 18, 2017</td>\n",
       "    </tr>\n",
       "    <tr>\n",
       "      <th>1</th>\n",
       "      <td>https://www.mayoclinic.org/diseases-conditions...</td>\n",
       "      <td>atrial fibrillation</td>\n",
       "      <td>19</td>\n",
       "      <td>Find out about atrial fibrillation, a heart co...</td>\n",
       "      <td>152</td>\n",
       "      <td>68770</td>\n",
       "      <td>2732</td>\n",
       "      <td>31</td>\n",
       "      <td>19</td>\n",
       "      <td>100</td>\n",
       "      <td>71</td>\n",
       "      <td>75</td>\n",
       "      <td>52</td>\n",
       "      <td>1.0</td>\n",
       "      <td>June 20, 2019</td>\n",
       "    </tr>\n",
       "    <tr>\n",
       "      <th>2</th>\n",
       "      <td>https://www.mayoclinic.org/diseases-conditions...</td>\n",
       "      <td>abdominal aortic aneurysm</td>\n",
       "      <td>25</td>\n",
       "      <td>An abdominal aortic aneurysm can grow slowly a...</td>\n",
       "      <td>128</td>\n",
       "      <td>48752</td>\n",
       "      <td>1530</td>\n",
       "      <td>26</td>\n",
       "      <td>15</td>\n",
       "      <td>78</td>\n",
       "      <td>49</td>\n",
       "      <td>67</td>\n",
       "      <td>45</td>\n",
       "      <td>0.0</td>\n",
       "      <td>March 15, 2019</td>\n",
       "    </tr>\n",
       "    <tr>\n",
       "      <th>3</th>\n",
       "      <td>https://www.mayoclinic.org/diseases-conditions...</td>\n",
       "      <td>hyperhidrosis</td>\n",
       "      <td>13</td>\n",
       "      <td>Learn more about causes, symptoms, treatment a...</td>\n",
       "      <td>153</td>\n",
       "      <td>45026</td>\n",
       "      <td>1385</td>\n",
       "      <td>16</td>\n",
       "      <td>11</td>\n",
       "      <td>75</td>\n",
       "      <td>46</td>\n",
       "      <td>67</td>\n",
       "      <td>45</td>\n",
       "      <td>0.0</td>\n",
       "      <td>Oct. 27, 2017</td>\n",
       "    </tr>\n",
       "    <tr>\n",
       "      <th>4</th>\n",
       "      <td>https://www.mayoclinic.org/diseases-conditions...</td>\n",
       "      <td>bartholin's cyst</td>\n",
       "      <td>16</td>\n",
       "      <td>A Bartholin's cyst is a fluid-filled lump near...</td>\n",
       "      <td>126</td>\n",
       "      <td>43037</td>\n",
       "      <td>1202</td>\n",
       "      <td>12</td>\n",
       "      <td>6</td>\n",
       "      <td>70</td>\n",
       "      <td>44</td>\n",
       "      <td>67</td>\n",
       "      <td>45</td>\n",
       "      <td>0.0</td>\n",
       "      <td>April 24, 2020</td>\n",
       "    </tr>\n",
       "  </tbody>\n",
       "</table>\n",
       "</div>"
      ],
      "text/plain": [
       "                                                 url  \\\n",
       "0  https://www.mayoclinic.org/diseases-conditions...   \n",
       "1  https://www.mayoclinic.org/diseases-conditions...   \n",
       "2  https://www.mayoclinic.org/diseases-conditions...   \n",
       "3  https://www.mayoclinic.org/diseases-conditions...   \n",
       "4  https://www.mayoclinic.org/diseases-conditions...   \n",
       "\n",
       "                                          header  header_len  \\\n",
       "0  digeorge syndrome (22q11.2 deletion syndrome)          45   \n",
       "1                            atrial fibrillation          19   \n",
       "2                      abdominal aortic aneurysm          25   \n",
       "3                                  hyperhidrosis          13   \n",
       "4                               bartholin's cyst          16   \n",
       "\n",
       "                                                meta  meta_len  bytes  \\\n",
       "0  DiGeorge syndrome (22q11.2 deletion syndrome) ...       151  57561   \n",
       "1  Find out about atrial fibrillation, a heart co...       152  68770   \n",
       "2  An abdominal aortic aneurysm can grow slowly a...       128  48752   \n",
       "3  Learn more about causes, symptoms, treatment a...       153  45026   \n",
       "4  A Bartholin's cyst is a fluid-filled lump near...       126  43037   \n",
       "\n",
       "   word_count  inlinks  unique_in  outlinks  unique_out  ext_links  \\\n",
       "0        2212       13          7        70          44         67   \n",
       "1        2732       31         19       100          71         75   \n",
       "2        1530       26         15        78          49         67   \n",
       "3        1385       16         11        75          46         67   \n",
       "4        1202       12          6        70          44         67   \n",
       "\n",
       "   unique_ext   pa        pub_date  \n",
       "0          45  0.0   July 18, 2017  \n",
       "1          52  1.0   June 20, 2019  \n",
       "2          45  0.0  March 15, 2019  \n",
       "3          45  0.0   Oct. 27, 2017  \n",
       "4          45  0.0  April 24, 2020  "
      ]
     },
     "execution_count": 267,
     "metadata": {},
     "output_type": "execute_result"
    }
   ],
   "source": [
    "dates = []\n",
    "\n",
    "for page in data[\"url\"]:\n",
    "    content = requests.get(page).content # page content\n",
    "    file = BeautifulSoup(content, \"lxml\") # in lxml\n",
    "    date = file.find(\"div\", class_='pubdate')\n",
    "    if(date!=None):\n",
    "        match = re.findall(\"(?<=\\\\r\\\\n).*?(?=\\\\r\\\\n)\", str(date.get_text()))[0].strip() # get rid of \\r\\n and spaces\n",
    "        dates.append(match) # add to column list\n",
    "    else:\n",
    "        dates.append(None)\n",
    "\n",
    "# add new column to dataframe\n",
    "data['pub_date'] = dates\n",
    "data.head()"
   ]
  },
  {
   "cell_type": "code",
   "execution_count": 268,
   "metadata": {},
   "outputs": [
    {
     "data": {
      "text/plain": [
       "url           False\n",
       "header        False\n",
       "header_len    False\n",
       "meta          False\n",
       "meta_len      False\n",
       "bytes         False\n",
       "word_count    False\n",
       "inlinks       False\n",
       "unique_in     False\n",
       "outlinks      False\n",
       "unique_out    False\n",
       "ext_links     False\n",
       "unique_ext    False\n",
       "pa            False\n",
       "pub_date       True\n",
       "dtype: bool"
      ]
     },
     "execution_count": 268,
     "metadata": {},
     "output_type": "execute_result"
    }
   ],
   "source": [
    "# check if any didn't get scraped\n",
    "data.isnull().values.any()\n",
    "data.isnull().any()"
   ]
  },
  {
   "cell_type": "code",
   "execution_count": 269,
   "metadata": {},
   "outputs": [
    {
     "data": {
      "text/plain": [
       "66"
      ]
     },
     "execution_count": 269,
     "metadata": {},
     "output_type": "execute_result"
    }
   ],
   "source": [
    "# check how many\n",
    "len(data.loc[data.pub_date.isnull()])"
   ]
  },
  {
   "cell_type": "code",
   "execution_count": 276,
   "metadata": {},
   "outputs": [
    {
     "data": {
      "text/plain": [
       "0"
      ]
     },
     "execution_count": 276,
     "metadata": {},
     "output_type": "execute_result"
    }
   ],
   "source": [
    "# get url(s) that don't have a publication date\n",
    "nulls = data[data.pub_date.isnull()]\n",
    "\n",
    "# request them again\n",
    "for url in nulls[\"url\"]:\n",
    "    content = requests.get(url).content # page content\n",
    "    file = BeautifulSoup(content, \"lxml\") # in lxml\n",
    "    date = file.find(\"div\", class_='pubdate')\n",
    "    if date!=None:\n",
    "        match = re.findall(\"(?<=\\\\r\\\\n).*?(?=\\\\r\\\\n)\", str(date.get_text()))[0].strip() # get rid of \\r\\n and spaces\n",
    "        data.loc[data['url']==url, 'pub_date'] = match\n",
    "        \n",
    "# check again...\n",
    "len(data.loc[data.pub_date.isnull()])"
   ]
  },
  {
   "cell_type": "code",
   "execution_count": 271,
   "metadata": {},
   "outputs": [],
   "source": [
    "# convert strings to comparable datetime objects\n",
    "import datetime\n",
    "# jan, feb, aug, sept, oct, nov, dec\n",
    "dat = []\n",
    "for date in data[\"pub_date\"]:\n",
    "    if type(date)==str: # if it isn't null\n",
    "        if \".\" in date:\n",
    "            if \"Sept\" in date: #special case: datetime recognizes \"Sep\" not \"Sept\"\n",
    "                date = re.sub('t', '', date)\n",
    "            datetime_ob = datetime.datetime.strptime(date, '%b. %d, %Y')\n",
    "        else:\n",
    "            datetime_ob = datetime.datetime.strptime(date, '%B %d, %Y')\n",
    "        dat.append(datetime_ob)\n",
    "    else:\n",
    "        dat.append(None)\n",
    "\n",
    "data.pub_date = dat"
   ]
  },
  {
   "cell_type": "code",
   "execution_count": 272,
   "metadata": {},
   "outputs": [
    {
     "data": {
      "text/html": [
       "<div>\n",
       "<style scoped>\n",
       "    .dataframe tbody tr th:only-of-type {\n",
       "        vertical-align: middle;\n",
       "    }\n",
       "\n",
       "    .dataframe tbody tr th {\n",
       "        vertical-align: top;\n",
       "    }\n",
       "\n",
       "    .dataframe thead th {\n",
       "        text-align: right;\n",
       "    }\n",
       "</style>\n",
       "<table border=\"1\" class=\"dataframe\">\n",
       "  <thead>\n",
       "    <tr style=\"text-align: right;\">\n",
       "      <th></th>\n",
       "      <th>url</th>\n",
       "      <th>header</th>\n",
       "      <th>header_len</th>\n",
       "      <th>meta</th>\n",
       "      <th>meta_len</th>\n",
       "      <th>bytes</th>\n",
       "      <th>word_count</th>\n",
       "      <th>inlinks</th>\n",
       "      <th>unique_in</th>\n",
       "      <th>outlinks</th>\n",
       "      <th>unique_out</th>\n",
       "      <th>ext_links</th>\n",
       "      <th>unique_ext</th>\n",
       "      <th>pa</th>\n",
       "      <th>pub_date</th>\n",
       "    </tr>\n",
       "  </thead>\n",
       "  <tbody>\n",
       "    <tr>\n",
       "      <th>0</th>\n",
       "      <td>https://www.mayoclinic.org/diseases-conditions...</td>\n",
       "      <td>digeorge syndrome (22q11.2 deletion syndrome)</td>\n",
       "      <td>45</td>\n",
       "      <td>DiGeorge syndrome (22q11.2 deletion syndrome) ...</td>\n",
       "      <td>151</td>\n",
       "      <td>57561</td>\n",
       "      <td>2212</td>\n",
       "      <td>13</td>\n",
       "      <td>7</td>\n",
       "      <td>70</td>\n",
       "      <td>44</td>\n",
       "      <td>67</td>\n",
       "      <td>45</td>\n",
       "      <td>0.0</td>\n",
       "      <td>2017-07-18</td>\n",
       "    </tr>\n",
       "    <tr>\n",
       "      <th>1</th>\n",
       "      <td>https://www.mayoclinic.org/diseases-conditions...</td>\n",
       "      <td>atrial fibrillation</td>\n",
       "      <td>19</td>\n",
       "      <td>Find out about atrial fibrillation, a heart co...</td>\n",
       "      <td>152</td>\n",
       "      <td>68770</td>\n",
       "      <td>2732</td>\n",
       "      <td>31</td>\n",
       "      <td>19</td>\n",
       "      <td>100</td>\n",
       "      <td>71</td>\n",
       "      <td>75</td>\n",
       "      <td>52</td>\n",
       "      <td>1.0</td>\n",
       "      <td>2019-06-20</td>\n",
       "    </tr>\n",
       "    <tr>\n",
       "      <th>2</th>\n",
       "      <td>https://www.mayoclinic.org/diseases-conditions...</td>\n",
       "      <td>abdominal aortic aneurysm</td>\n",
       "      <td>25</td>\n",
       "      <td>An abdominal aortic aneurysm can grow slowly a...</td>\n",
       "      <td>128</td>\n",
       "      <td>48752</td>\n",
       "      <td>1530</td>\n",
       "      <td>26</td>\n",
       "      <td>15</td>\n",
       "      <td>78</td>\n",
       "      <td>49</td>\n",
       "      <td>67</td>\n",
       "      <td>45</td>\n",
       "      <td>0.0</td>\n",
       "      <td>2019-03-15</td>\n",
       "    </tr>\n",
       "  </tbody>\n",
       "</table>\n",
       "</div>"
      ],
      "text/plain": [
       "                                                 url  \\\n",
       "0  https://www.mayoclinic.org/diseases-conditions...   \n",
       "1  https://www.mayoclinic.org/diseases-conditions...   \n",
       "2  https://www.mayoclinic.org/diseases-conditions...   \n",
       "\n",
       "                                          header  header_len  \\\n",
       "0  digeorge syndrome (22q11.2 deletion syndrome)          45   \n",
       "1                            atrial fibrillation          19   \n",
       "2                      abdominal aortic aneurysm          25   \n",
       "\n",
       "                                                meta  meta_len  bytes  \\\n",
       "0  DiGeorge syndrome (22q11.2 deletion syndrome) ...       151  57561   \n",
       "1  Find out about atrial fibrillation, a heart co...       152  68770   \n",
       "2  An abdominal aortic aneurysm can grow slowly a...       128  48752   \n",
       "\n",
       "   word_count  inlinks  unique_in  outlinks  unique_out  ext_links  \\\n",
       "0        2212       13          7        70          44         67   \n",
       "1        2732       31         19       100          71         75   \n",
       "2        1530       26         15        78          49         67   \n",
       "\n",
       "   unique_ext   pa   pub_date  \n",
       "0          45  0.0 2017-07-18  \n",
       "1          52  1.0 2019-06-20  \n",
       "2          45  0.0 2019-03-15  "
      ]
     },
     "execution_count": 272,
     "metadata": {},
     "output_type": "execute_result"
    }
   ],
   "source": [
    "data.head(3)"
   ]
  },
  {
   "cell_type": "code",
   "execution_count": 273,
   "metadata": {},
   "outputs": [],
   "source": [
    "data = data[data.pub_date.notnull()]"
   ]
  },
  {
   "cell_type": "code",
   "execution_count": 274,
   "metadata": {},
   "outputs": [
    {
     "data": {
      "text/plain": [
       "(1082, 15)"
      ]
     },
     "execution_count": 274,
     "metadata": {},
     "output_type": "execute_result"
    }
   ],
   "source": [
    "data.shape"
   ]
  },
  {
   "cell_type": "markdown",
   "metadata": {},
   "source": [
    "## Part 6: Save dataset"
   ]
  },
  {
   "cell_type": "code",
   "execution_count": 275,
   "metadata": {},
   "outputs": [],
   "source": [
    "data.to_csv('data.csv')"
   ]
  },
  {
   "cell_type": "code",
   "execution_count": null,
   "metadata": {},
   "outputs": [],
   "source": []
  }
 ],
 "metadata": {
  "kernelspec": {
   "display_name": "Python 3",
   "language": "python",
   "name": "python3"
  },
  "language_info": {
   "codemirror_mode": {
    "name": "ipython",
    "version": 3
   },
   "file_extension": ".py",
   "mimetype": "text/x-python",
   "name": "python",
   "nbconvert_exporter": "python",
   "pygments_lexer": "ipython3",
   "version": "3.7.6"
  }
 },
 "nbformat": 4,
 "nbformat_minor": 2
}
