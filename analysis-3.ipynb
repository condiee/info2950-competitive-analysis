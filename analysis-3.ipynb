{
 "cells": [
  {
   "cell_type": "markdown",
   "metadata": {},
   "source": [
    "# Data Analysis and Evaluation:"
   ]
  },
  {
   "cell_type": "code",
   "execution_count": 1,
   "metadata": {},
   "outputs": [],
   "source": [
    "import pandas as pd\n",
    "import matplotlib.pyplot as plt\n",
    "import numpy as np\n",
    "from sklearn.linear_model import LinearRegression, LogisticRegression\n",
    "from datetime import datetime\n",
    "import matplotlib.dates as dt\n",
    "from bs4 import BeautifulSoup\n",
    "import requests\n",
    "import re"
   ]
  },
  {
   "cell_type": "code",
   "execution_count": 2,
   "metadata": {},
   "outputs": [
    {
     "data": {
      "text/html": [
       "<div>\n",
       "<style scoped>\n",
       "    .dataframe tbody tr th:only-of-type {\n",
       "        vertical-align: middle;\n",
       "    }\n",
       "\n",
       "    .dataframe tbody tr th {\n",
       "        vertical-align: top;\n",
       "    }\n",
       "\n",
       "    .dataframe thead th {\n",
       "        text-align: right;\n",
       "    }\n",
       "</style>\n",
       "<table border=\"1\" class=\"dataframe\">\n",
       "  <thead>\n",
       "    <tr style=\"text-align: right;\">\n",
       "      <th></th>\n",
       "      <th>url</th>\n",
       "      <th>pa</th>\n",
       "      <th>header</th>\n",
       "      <th>header_len</th>\n",
       "      <th>meta</th>\n",
       "      <th>meta_len</th>\n",
       "      <th>bytes</th>\n",
       "      <th>word_count</th>\n",
       "      <th>total_links</th>\n",
       "      <th>inbound_domains</th>\n",
       "      <th>outbound_domains</th>\n",
       "      <th>ext_links</th>\n",
       "      <th>unique_ext</th>\n",
       "      <th>inlinks</th>\n",
       "      <th>unique_in</th>\n",
       "      <th>outlinks</th>\n",
       "      <th>unique_out</th>\n",
       "      <th>pub_date</th>\n",
       "    </tr>\n",
       "  </thead>\n",
       "  <tbody>\n",
       "    <tr>\n",
       "      <th>0</th>\n",
       "      <td>https://www.mayoclinic.org/diseases-conditions...</td>\n",
       "      <td>62</td>\n",
       "      <td>atrial fibrillation</td>\n",
       "      <td>19</td>\n",
       "      <td>Find out about atrial fibrillation, a heart co...</td>\n",
       "      <td>152</td>\n",
       "      <td>68770</td>\n",
       "      <td>2732</td>\n",
       "      <td>5801</td>\n",
       "      <td>882</td>\n",
       "      <td>10</td>\n",
       "      <td>75</td>\n",
       "      <td>52</td>\n",
       "      <td>31</td>\n",
       "      <td>19</td>\n",
       "      <td>100</td>\n",
       "      <td>71</td>\n",
       "      <td>2019-06-20</td>\n",
       "    </tr>\n",
       "    <tr>\n",
       "      <th>1</th>\n",
       "      <td>https://www.mayoclinic.org/diseases-conditions...</td>\n",
       "      <td>60</td>\n",
       "      <td>achilles tendinitis</td>\n",
       "      <td>19</td>\n",
       "      <td>Achilles tendinitis — Comprehensive overview c...</td>\n",
       "      <td>103</td>\n",
       "      <td>45417</td>\n",
       "      <td>1438</td>\n",
       "      <td>1242</td>\n",
       "      <td>397</td>\n",
       "      <td>10</td>\n",
       "      <td>69</td>\n",
       "      <td>46</td>\n",
       "      <td>9</td>\n",
       "      <td>4</td>\n",
       "      <td>70</td>\n",
       "      <td>43</td>\n",
       "      <td>2019-09-17</td>\n",
       "    </tr>\n",
       "    <tr>\n",
       "      <th>2</th>\n",
       "      <td>https://www.mayoclinic.org/diseases-conditions...</td>\n",
       "      <td>62</td>\n",
       "      <td>gastroesophageal reflux disease (gerd)</td>\n",
       "      <td>38</td>\n",
       "      <td>GERD, in which stomach acid moves into the eso...</td>\n",
       "      <td>140</td>\n",
       "      <td>52830</td>\n",
       "      <td>1555</td>\n",
       "      <td>6148</td>\n",
       "      <td>1091</td>\n",
       "      <td>10</td>\n",
       "      <td>71</td>\n",
       "      <td>47</td>\n",
       "      <td>16</td>\n",
       "      <td>8</td>\n",
       "      <td>85</td>\n",
       "      <td>52</td>\n",
       "      <td>2020-04-03</td>\n",
       "    </tr>\n",
       "    <tr>\n",
       "      <th>3</th>\n",
       "      <td>https://www.mayoclinic.org/diseases-conditions...</td>\n",
       "      <td>63</td>\n",
       "      <td>acne</td>\n",
       "      <td>4</td>\n",
       "      <td>Learn more about this common skin condition, i...</td>\n",
       "      <td>144</td>\n",
       "      <td>59112</td>\n",
       "      <td>2067</td>\n",
       "      <td>4497</td>\n",
       "      <td>1290</td>\n",
       "      <td>10</td>\n",
       "      <td>71</td>\n",
       "      <td>48</td>\n",
       "      <td>11</td>\n",
       "      <td>6</td>\n",
       "      <td>85</td>\n",
       "      <td>57</td>\n",
       "      <td>2020-02-18</td>\n",
       "    </tr>\n",
       "    <tr>\n",
       "      <th>4</th>\n",
       "      <td>https://www.mayoclinic.org/diseases-conditions...</td>\n",
       "      <td>60</td>\n",
       "      <td>hiv/aids</td>\n",
       "      <td>8</td>\n",
       "      <td>Learn more about this potentially life-threate...</td>\n",
       "      <td>142</td>\n",
       "      <td>61851</td>\n",
       "      <td>2856</td>\n",
       "      <td>2793</td>\n",
       "      <td>575</td>\n",
       "      <td>10</td>\n",
       "      <td>68</td>\n",
       "      <td>46</td>\n",
       "      <td>14</td>\n",
       "      <td>5</td>\n",
       "      <td>76</td>\n",
       "      <td>47</td>\n",
       "      <td>2020-02-13</td>\n",
       "    </tr>\n",
       "  </tbody>\n",
       "</table>\n",
       "</div>"
      ],
      "text/plain": [
       "                                                 url  pa  \\\n",
       "0  https://www.mayoclinic.org/diseases-conditions...  62   \n",
       "1  https://www.mayoclinic.org/diseases-conditions...  60   \n",
       "2  https://www.mayoclinic.org/diseases-conditions...  62   \n",
       "3  https://www.mayoclinic.org/diseases-conditions...  63   \n",
       "4  https://www.mayoclinic.org/diseases-conditions...  60   \n",
       "\n",
       "                                   header  header_len  \\\n",
       "0                     atrial fibrillation          19   \n",
       "1                     achilles tendinitis          19   \n",
       "2  gastroesophageal reflux disease (gerd)          38   \n",
       "3                                    acne           4   \n",
       "4                                hiv/aids           8   \n",
       "\n",
       "                                                meta  meta_len  bytes  \\\n",
       "0  Find out about atrial fibrillation, a heart co...       152  68770   \n",
       "1  Achilles tendinitis — Comprehensive overview c...       103  45417   \n",
       "2  GERD, in which stomach acid moves into the eso...       140  52830   \n",
       "3  Learn more about this common skin condition, i...       144  59112   \n",
       "4  Learn more about this potentially life-threate...       142  61851   \n",
       "\n",
       "   word_count  total_links  inbound_domains  outbound_domains  ext_links  \\\n",
       "0        2732         5801              882                10         75   \n",
       "1        1438         1242              397                10         69   \n",
       "2        1555         6148             1091                10         71   \n",
       "3        2067         4497             1290                10         71   \n",
       "4        2856         2793              575                10         68   \n",
       "\n",
       "   unique_ext  inlinks  unique_in  outlinks  unique_out    pub_date  \n",
       "0          52       31         19       100          71  2019-06-20  \n",
       "1          46        9          4        70          43  2019-09-17  \n",
       "2          47       16          8        85          52  2020-04-03  \n",
       "3          48       11          6        85          57  2020-02-18  \n",
       "4          46       14          5        76          47  2020-02-13  "
      ]
     },
     "execution_count": 2,
     "metadata": {},
     "output_type": "execute_result"
    }
   ],
   "source": [
    "# read in polished dataset from collection-final.ipynb\n",
    "data = pd.read_csv(\"ranked.csv\", index_col=0)\n",
    "data.head()"
   ]
  },
  {
   "cell_type": "code",
   "execution_count": 3,
   "metadata": {},
   "outputs": [
    {
     "data": {
      "text/plain": [
       "False"
      ]
     },
     "execution_count": 3,
     "metadata": {},
     "output_type": "execute_result"
    }
   ],
   "source": [
    "# triple check for null values\n",
    "data.isnull().values.any()"
   ]
  },
  {
   "cell_type": "code",
   "execution_count": 4,
   "metadata": {},
   "outputs": [
    {
     "data": {
      "text/plain": [
       "(216, 18)"
      ]
     },
     "execution_count": 4,
     "metadata": {},
     "output_type": "execute_result"
    }
   ],
   "source": [
    "# final dataset counts\n",
    "data.shape"
   ]
  },
  {
   "cell_type": "code",
   "execution_count": 120,
   "metadata": {},
   "outputs": [
    {
     "data": {
      "text/plain": [
       "array(['https://www.mayoclinic.org/diseases-conditions/atrial-fibrillation/symptoms-causes/syc-20350624',\n",
       "       'https://www.mayoclinic.org/diseases-conditions/achilles-tendinitis/symptoms-causes/syc-20369020',\n",
       "       'https://www.mayoclinic.org/diseases-conditions/gerd/symptoms-causes/syc-20361940',\n",
       "       'https://www.mayoclinic.org/diseases-conditions/acne/symptoms-causes/syc-20368047',\n",
       "       'https://www.mayoclinic.org/diseases-conditions/hiv-aids/symptoms-causes/syc-20373524',\n",
       "       'https://www.mayoclinic.org/diseases-conditions/guillain-barre-syndrome/symptoms-causes/syc-20362793',\n",
       "       'https://www.mayoclinic.org/diseases-conditions/alcohol-use-disorder/symptoms-causes/syc-20369243',\n",
       "       'https://www.mayoclinic.org/diseases-conditions/drug-addiction/symptoms-causes/syc-20365112',\n",
       "       'https://www.mayoclinic.org/diseases-conditions/allergies/symptoms-causes/syc-20351497',\n",
       "       'https://www.mayoclinic.org/diseases-conditions/dust-mites/symptoms-causes/syc-20352173',\n",
       "       'https://www.mayoclinic.org/diseases-conditions/food-allergy/symptoms-causes/syc-20355095',\n",
       "       'https://www.mayoclinic.org/diseases-conditions/mold-allergy/symptoms-causes/syc-20351519',\n",
       "       'https://www.mayoclinic.org/diseases-conditions/hair-loss/symptoms-causes/syc-20372926',\n",
       "       'https://www.mayoclinic.org/diseases-conditions/amyotrophic-lateral-sclerosis/symptoms-causes/syc-20354022',\n",
       "       'https://www.mayoclinic.org/diseases-conditions/alzheimers-disease/symptoms-causes/syc-20350447',\n",
       "       'https://www.mayoclinic.org/diseases-conditions/anaphylaxis/symptoms-causes/syc-20351468',\n",
       "       'https://www.mayoclinic.org/diseases-conditions/anemia/symptoms-causes/syc-20351360',\n",
       "       'https://www.mayoclinic.org/diseases-conditions/iron-deficiency-anemia/symptoms-causes/syc-20355034',\n",
       "       'https://www.mayoclinic.org/diseases-conditions/sickle-cell-anemia/symptoms-causes/syc-20355876',\n",
       "       'https://www.mayoclinic.org/diseases-conditions/antisocial-personality-disorder/symptoms-causes/syc-20353928',\n",
       "       'https://www.mayoclinic.org/diseases-conditions/anxiety/symptoms-causes/syc-20350961',\n",
       "       'https://www.mayoclinic.org/diseases-conditions/broken-heart-syndrome/symptoms-causes/syc-20354617',\n",
       "       'https://www.mayoclinic.org/diseases-conditions/appendicitis/symptoms-causes/syc-20369543',\n",
       "       'https://www.mayoclinic.org/diseases-conditions/heart-arrhythmia/symptoms-causes/syc-20350668',\n",
       "       'https://www.mayoclinic.org/diseases-conditions/arteriosclerosis-atherosclerosis/symptoms-causes/syc-20350569',\n",
       "       'https://www.mayoclinic.org/diseases-conditions/arthritis/symptoms-causes/syc-20350772',\n",
       "       'https://www.mayoclinic.org/diseases-conditions/osteoarthritis/symptoms-causes/syc-20351925',\n",
       "       'https://www.mayoclinic.org/diseases-conditions/gout/symptoms-causes/syc-20372897',\n",
       "       'https://www.mayoclinic.org/diseases-conditions/rheumatoid-arthritis/symptoms-causes/syc-20353648',\n",
       "       'https://www.mayoclinic.org/diseases-conditions/asthma/symptoms-causes/syc-20369653',\n",
       "       'https://www.mayoclinic.org/diseases-conditions/athletes-foot/symptoms-causes/syc-20353841',\n",
       "       'https://www.mayoclinic.org/diseases-conditions/atopic-dermatitis-eczema/symptoms-causes/syc-20353273',\n",
       "       'https://www.mayoclinic.org/diseases-conditions/autism-spectrum-disorder/symptoms-causes/syc-20352928',\n",
       "       'https://www.mayoclinic.org/diseases-conditions/back-pain/symptoms-causes/syc-20369906',\n",
       "       'https://www.mayoclinic.org/diseases-conditions/body-dysmorphic-disorder/symptoms-causes/syc-20353938',\n",
       "       'https://www.mayoclinic.org/diseases-conditions/vertigo/symptoms-causes/syc-20370055',\n",
       "       'https://www.mayoclinic.org/diseases-conditions/benign-prostatic-hyperplasia/symptoms-causes/syc-20370087',\n",
       "       'https://www.mayoclinic.org/diseases-conditions/bipolar-disorder/symptoms-causes/syc-20355955',\n",
       "       'https://www.mayoclinic.org/diseases-conditions/urinary-incontinence/symptoms-causes/syc-20352808',\n",
       "       'https://www.mayoclinic.org/diseases-conditions/high-blood-pressure/symptoms-causes/syc-20373410',\n",
       "       'https://www.mayoclinic.org/diseases-conditions/low-blood-pressure/symptoms-causes/syc-20355465',\n",
       "       'https://www.mayoclinic.org/diseases-conditions/borderline-personality-disorder/symptoms-causes/syc-20370237',\n",
       "       'https://www.mayoclinic.org/diseases-conditions/stroke/symptoms-causes/syc-20350113',\n",
       "       'https://www.mayoclinic.org/diseases-conditions/breast-cancer/symptoms-causes/syc-20352470',\n",
       "       'https://www.mayoclinic.org/diseases-conditions/bronchitis/symptoms-causes/syc-20355566',\n",
       "       'https://www.mayoclinic.org/diseases-conditions/bruxism/symptoms-causes/syc-20356095',\n",
       "       'https://www.mayoclinic.org/diseases-conditions/c-difficile/symptoms-causes/syc-20351691',\n",
       "       'https://www.mayoclinic.org/diseases-conditions/cancer/symptoms-causes/syc-20370588',\n",
       "       'https://www.mayoclinic.org/diseases-conditions/colon-cancer/symptoms-causes/syc-20353669',\n",
       "       'https://www.mayoclinic.org/diseases-conditions/esophageal-cancer/symptoms-causes/syc-20356084',\n",
       "       'https://www.mayoclinic.org/diseases-conditions/hodgkins-lymphoma/symptoms-causes/syc-20352646',\n",
       "       'https://www.mayoclinic.org/diseases-conditions/lung-cancer/symptoms-causes/syc-20374620',\n",
       "       'https://www.mayoclinic.org/diseases-conditions/mesothelioma/symptoms-causes/syc-20375022',\n",
       "       'https://www.mayoclinic.org/diseases-conditions/multiple-myeloma/symptoms-causes/syc-20353378',\n",
       "       'https://www.mayoclinic.org/diseases-conditions/ovarian-cancer/symptoms-causes/syc-20375941',\n",
       "       'https://www.mayoclinic.org/diseases-conditions/pancreatic-cancer/symptoms-causes/syc-20355421',\n",
       "       'https://www.mayoclinic.org/diseases-conditions/prostate-cancer/symptoms-causes/syc-20353087',\n",
       "       'https://www.mayoclinic.org/diseases-conditions/oral-thrush/symptoms-causes/syc-20353533',\n",
       "       'https://www.mayoclinic.org/diseases-conditions/yeast-infection/symptoms-causes/syc-20378999',\n",
       "       'https://www.mayoclinic.org/diseases-conditions/carbon-monoxide/symptoms-causes/syc-20370642',\n",
       "       'https://www.mayoclinic.org/diseases-conditions/heart-disease/symptoms-causes/syc-20353118',\n",
       "       'https://www.mayoclinic.org/diseases-conditions/carpal-tunnel-syndrome/symptoms-causes/syc-20355603',\n",
       "       'https://www.mayoclinic.org/diseases-conditions/cataracts/symptoms-causes/syc-20353790',\n",
       "       'https://www.mayoclinic.org/diseases-conditions/cavities/symptoms-causes/syc-20352892',\n",
       "       'https://www.mayoclinic.org/diseases-conditions/celiac-disease/symptoms-causes/syc-20352220',\n",
       "       'https://www.mayoclinic.org/diseases-conditions/cellulitis/symptoms-causes/syc-20370762',\n",
       "       'https://www.mayoclinic.org/diseases-conditions/cerebral-palsy/symptoms-causes/syc-20353999',\n",
       "       'https://www.mayoclinic.org/diseases-conditions/cervical-spondylosis/symptoms-causes/syc-20370787',\n",
       "       'https://www.mayoclinic.org/diseases-conditions/high-blood-cholesterol/symptoms-causes/syc-20350800',\n",
       "       'https://www.mayoclinic.org/diseases-conditions/huntingtons-disease/symptoms-causes/syc-20356117',\n",
       "       'https://www.mayoclinic.org/diseases-conditions/chronic-fatigue-syndrome/symptoms-causes/syc-20360490',\n",
       "       'https://www.mayoclinic.org/diseases-conditions/chronic-kidney-disease/symptoms-causes/syc-20354521',\n",
       "       'https://www.mayoclinic.org/diseases-conditions/hashimotos-disease/symptoms-causes/syc-20351855',\n",
       "       'https://www.mayoclinic.org/diseases-conditions/copd/symptoms-causes/syc-20353679',\n",
       "       'https://www.mayoclinic.org/diseases-conditions/cirrhosis/symptoms-causes/syc-20351487',\n",
       "       'https://www.mayoclinic.org/diseases-conditions/depression/symptoms-causes/syc-20356007',\n",
       "       'https://www.mayoclinic.org/diseases-conditions/hypothermia/symptoms-causes/syc-20352682',\n",
       "       'https://www.mayoclinic.org/diseases-conditions/common-cold/symptoms-causes/syc-20351605',\n",
       "       'https://www.mayoclinic.org/diseases-conditions/ulcerative-colitis/symptoms-causes/syc-20353326',\n",
       "       'https://www.mayoclinic.org/diseases-conditions/hoarding-disorder/symptoms-causes/syc-20356056',\n",
       "       'https://www.mayoclinic.org/diseases-conditions/concussion/symptoms-causes/syc-20355594',\n",
       "       'https://www.mayoclinic.org/diseases-conditions/heart-failure/symptoms-causes/syc-20373142',\n",
       "       'https://www.mayoclinic.org/diseases-conditions/constipation/symptoms-causes/syc-20354253',\n",
       "       'https://www.mayoclinic.org/diseases-conditions/coronavirus/symptoms-causes/syc-20479963',\n",
       "       'https://www.mayoclinic.org/diseases-conditions/coronary-artery-disease/symptoms-causes/syc-20350613',\n",
       "       'https://www.mayoclinic.org/diseases-conditions/muscle-cramp/symptoms-causes/syc-20350820',\n",
       "       'https://www.mayoclinic.org/diseases-conditions/menstrual-cramps/symptoms-causes/syc-20374938',\n",
       "       'https://www.mayoclinic.org/diseases-conditions/sudden-infant-death-syndrome/symptoms-causes/syc-20352800',\n",
       "       'https://www.mayoclinic.org/diseases-conditions/crohns-disease/symptoms-causes/syc-20353304',\n",
       "       'https://www.mayoclinic.org/diseases-conditions/scoliosis/symptoms-causes/syc-20350716',\n",
       "       'https://www.mayoclinic.org/diseases-conditions/cushing-syndrome/symptoms-causes/syc-20351310',\n",
       "       'https://www.mayoclinic.org/diseases-conditions/ovarian-cysts/symptoms-causes/syc-20353405',\n",
       "       'https://www.mayoclinic.org/diseases-conditions/cystic-fibrosis/symptoms-causes/syc-20353700',\n",
       "       'https://www.mayoclinic.org/diseases-conditions/dandruff/symptoms-causes/syc-20353850',\n",
       "       'https://www.mayoclinic.org/diseases-conditions/dry-eyes/symptoms-causes/syc-20371863',\n",
       "       'https://www.mayoclinic.org/diseases-conditions/deep-vein-thrombosis/symptoms-causes/syc-20352557',\n",
       "       'https://www.mayoclinic.org/diseases-conditions/dehydration/symptoms-causes/syc-20354086',\n",
       "       'https://www.mayoclinic.org/diseases-conditions/dementia/symptoms-causes/syc-20352013',\n",
       "       'https://www.mayoclinic.org/diseases-conditions/personality-disorders/symptoms-causes/syc-20354463',\n",
       "       'https://www.mayoclinic.org/diseases-conditions/teen-depression/symptoms-causes/syc-20350985',\n",
       "       'https://www.mayoclinic.org/diseases-conditions/postpartum-depression/symptoms-causes/syc-20376617',\n",
       "       'https://www.mayoclinic.org/diseases-conditions/diabetes/symptoms-causes/syc-20371444',\n",
       "       'https://www.mayoclinic.org/diseases-conditions/gestational-diabetes/symptoms-causes/syc-20355339',\n",
       "       'https://www.mayoclinic.org/diseases-conditions/hypoglycemia/symptoms-causes/syc-20373685',\n",
       "       'https://www.mayoclinic.org/diseases-conditions/type-1-diabetes/symptoms-causes/syc-20353011',\n",
       "       'https://www.mayoclinic.org/diseases-conditions/type-2-diabetes/symptoms-causes/syc-20351193',\n",
       "       'https://www.mayoclinic.org/diseases-conditions/diabetic-ketoacidosis/symptoms-causes/syc-20371551',\n",
       "       'https://www.mayoclinic.org/diseases-conditions/diabetic-neuropathy/symptoms-causes/syc-20371580',\n",
       "       'https://www.mayoclinic.org/diseases-conditions/diabetic-retinopathy/symptoms-causes/syc-20371611',\n",
       "       'https://www.mayoclinic.org/diseases-conditions/dizziness/symptoms-causes/syc-20371787',\n",
       "       'https://www.mayoclinic.org/diseases-conditions/dry-mouth/symptoms-causes/syc-20356048',\n",
       "       'https://www.mayoclinic.org/diseases-conditions/dry-skin/symptoms-causes/syc-20353885',\n",
       "       'https://www.mayoclinic.org/diseases-conditions/e-coli/symptoms-causes/syc-20372058',\n",
       "       'https://www.mayoclinic.org/diseases-conditions/ectopic-pregnancy/symptoms-causes/syc-20372088',\n",
       "       'https://www.mayoclinic.org/diseases-conditions/erectile-dysfunction/symptoms-causes/syc-20355776',\n",
       "       'https://www.mayoclinic.org/diseases-conditions/edema/symptoms-causes/syc-20366493',\n",
       "       'https://www.mayoclinic.org/diseases-conditions/pulmonary-embolism/symptoms-causes/syc-20354647',\n",
       "       'https://www.mayoclinic.org/diseases-conditions/emphysema/symptoms-causes/syc-20355555',\n",
       "       'https://www.mayoclinic.org/diseases-conditions/encephalitis/symptoms-causes/syc-20356136',\n",
       "       'https://www.mayoclinic.org/diseases-conditions/endometriosis/symptoms-causes/syc-20354656',\n",
       "       'https://www.mayoclinic.org/diseases-conditions/gynecomastia/symptoms-causes/syc-20351793',\n",
       "       'https://www.mayoclinic.org/diseases-conditions/fever/symptoms-causes/syc-20352759',\n",
       "       'https://www.mayoclinic.org/diseases-conditions/uterine-fibroids/symptoms-causes/syc-20354288',\n",
       "       'https://www.mayoclinic.org/diseases-conditions/fibromyalgia/symptoms-causes/syc-20354780',\n",
       "       'https://www.mayoclinic.org/diseases-conditions/flu/symptoms-causes/syc-20351719',\n",
       "       'https://www.mayoclinic.org/diseases-conditions/food-poisoning/symptoms-causes/syc-20356230',\n",
       "       'https://www.mayoclinic.org/diseases-conditions/frostbite/symptoms-causes/syc-20372656',\n",
       "       'https://www.mayoclinic.org/diseases-conditions/gallstones/symptoms-causes/syc-20354214',\n",
       "       'https://www.mayoclinic.org/diseases-conditions/gingivitis/symptoms-causes/syc-20354453',\n",
       "       'https://www.mayoclinic.org/diseases-conditions/gonorrhea/symptoms-causes/syc-20351774',\n",
       "       'https://www.mayoclinic.org/diseases-conditions/graves-disease/symptoms-causes/syc-20356240',\n",
       "       'https://www.mayoclinic.org/diseases-conditions/periodontitis/symptoms-causes/syc-20354473',\n",
       "       'https://www.mayoclinic.org/diseases-conditions/hangovers/symptoms-causes/syc-20373012',\n",
       "       'https://www.mayoclinic.org/diseases-conditions/migraine-headache/symptoms-causes/syc-20360201',\n",
       "       'https://www.mayoclinic.org/diseases-conditions/heart-attack/symptoms-causes/syc-20373106',\n",
       "       'https://www.mayoclinic.org/diseases-conditions/heat-exhaustion/symptoms-causes/syc-20373250',\n",
       "       'https://www.mayoclinic.org/diseases-conditions/heat-stroke/symptoms-causes/syc-20353581',\n",
       "       'https://www.mayoclinic.org/diseases-conditions/plantar-fasciitis/symptoms-causes/syc-20354846',\n",
       "       'https://www.mayoclinic.org/diseases-conditions/h-pylori/symptoms-causes/syc-20356171',\n",
       "       'https://www.mayoclinic.org/diseases-conditions/hemorrhoids/symptoms-causes/syc-20360268',\n",
       "       'https://www.mayoclinic.org/diseases-conditions/hepatitis-a/symptoms-causes/syc-20367007',\n",
       "       'https://www.mayoclinic.org/diseases-conditions/hepatitis-c/symptoms-causes/syc-20354278',\n",
       "       'https://www.mayoclinic.org/diseases-conditions/inguinal-hernia/symptoms-causes/syc-20351547',\n",
       "       'https://www.mayoclinic.org/diseases-conditions/herniated-disk/symptoms-causes/syc-20354095',\n",
       "       'https://www.mayoclinic.org/diseases-conditions/shingles/symptoms-causes/syc-20353054',\n",
       "       'https://www.mayoclinic.org/diseases-conditions/preeclampsia/symptoms-causes/syc-20355745',\n",
       "       'https://www.mayoclinic.org/diseases-conditions/pulmonary-hypertension/symptoms-causes/syc-20350697',\n",
       "       'https://www.mayoclinic.org/diseases-conditions/low-sex-drive-in-women/symptoms-causes/syc-20374554',\n",
       "       'https://www.mayoclinic.org/diseases-conditions/hyponatremia/symptoms-causes/syc-20373711',\n",
       "       'https://www.mayoclinic.org/diseases-conditions/hypothyroidism/symptoms-causes/syc-20350284',\n",
       "       'https://www.mayoclinic.org/diseases-conditions/inflammatory-bowel-disease/symptoms-causes/syc-20353315',\n",
       "       'https://www.mayoclinic.org/diseases-conditions/irritable-bowel-syndrome/symptoms-causes/syc-20360016',\n",
       "       'https://www.mayoclinic.org/diseases-conditions/male-infertility/symptoms-causes/syc-20374773',\n",
       "       'https://www.mayoclinic.org/diseases-conditions/pancreatitis/symptoms-causes/syc-20360227',\n",
       "       'https://www.mayoclinic.org/diseases-conditions/insomnia/symptoms-causes/syc-20355167',\n",
       "       'https://www.mayoclinic.org/diseases-conditions/metabolic-syndrome/symptoms-causes/syc-20351916',\n",
       "       'https://www.mayoclinic.org/diseases-conditions/kidney-stones/symptoms-causes/syc-20355755',\n",
       "       'https://www.mayoclinic.org/diseases-conditions/lactose-intolerance/symptoms-causes/syc-20374232',\n",
       "       'https://www.mayoclinic.org/diseases-conditions/lead-poisoning/symptoms-causes/syc-20354717',\n",
       "       'https://www.mayoclinic.org/diseases-conditions/liver-problems/symptoms-causes/syc-20374502',\n",
       "       'https://www.mayoclinic.org/diseases-conditions/male-hypogonadism/symptoms-causes/syc-20354881',\n",
       "       'https://www.mayoclinic.org/diseases-conditions/lupus/symptoms-causes/syc-20365789',\n",
       "       'https://www.mayoclinic.org/diseases-conditions/lyme-disease/symptoms-causes/syc-20374651',\n",
       "       'https://www.mayoclinic.org/diseases-conditions/swollen-lymph-nodes/symptoms-causes/syc-20353902',\n",
       "       'https://www.mayoclinic.org/diseases-conditions/measles/symptoms-causes/syc-20374857',\n",
       "       'https://www.mayoclinic.org/diseases-conditions/menopause/symptoms-causes/syc-20353397',\n",
       "       'https://www.mayoclinic.org/diseases-conditions/mental-illness/symptoms-causes/syc-20374968',\n",
       "       'https://www.mayoclinic.org/diseases-conditions/mrsa/symptoms-causes/syc-20375336',\n",
       "       'https://www.mayoclinic.org/diseases-conditions/pregnancy-loss-miscarriage/symptoms-causes/syc-20354298',\n",
       "       'https://www.mayoclinic.org/diseases-conditions/multiple-sclerosis/symptoms-causes/syc-20350269',\n",
       "       'https://www.mayoclinic.org/diseases-conditions/narcissistic-personality-disorder/symptoms-causes/syc-20366662',\n",
       "       'https://www.mayoclinic.org/diseases-conditions/neck-pain/symptoms-causes/syc-20375581',\n",
       "       'https://www.mayoclinic.org/diseases-conditions/peripheral-neuropathy/symptoms-causes/syc-20352061',\n",
       "       'https://www.mayoclinic.org/diseases-conditions/nonalcoholic-fatty-liver-disease/symptoms-causes/syc-20354567',\n",
       "       'https://www.mayoclinic.org/diseases-conditions/obesity/symptoms-causes/syc-20375742',\n",
       "       'https://www.mayoclinic.org/diseases-conditions/osteoporosis/symptoms-causes/syc-20351968',\n",
       "       'https://www.mayoclinic.org/diseases-conditions/peripheral-artery-disease/symptoms-causes/syc-20350557',\n",
       "       'https://www.mayoclinic.org/diseases-conditions/panic-attacks/symptoms-causes/syc-20376021',\n",
       "       'https://www.mayoclinic.org/diseases-conditions/spinal-cord-injury/symptoms-causes/syc-20377890',\n",
       "       'https://www.mayoclinic.org/diseases-conditions/parkinsons-disease/symptoms-causes/syc-20376055',\n",
       "       'https://www.mayoclinic.org/diseases-conditions/pcos/symptoms-causes/syc-20353439',\n",
       "       'https://www.mayoclinic.org/diseases-conditions/peptic-ulcer/symptoms-causes/syc-20354223',\n",
       "       'https://www.mayoclinic.org/diseases-conditions/perimenopause/symptoms-causes/syc-20354666',\n",
       "       'https://www.mayoclinic.org/diseases-conditions/sore-throat/symptoms-causes/syc-20351635',\n",
       "       'https://www.mayoclinic.org/diseases-conditions/pinched-nerve/symptoms-causes/syc-20354746',\n",
       "       'https://www.mayoclinic.org/diseases-conditions/placental-abruption/symptoms-causes/syc-20376458',\n",
       "       'https://www.mayoclinic.org/diseases-conditions/pneumonia/symptoms-causes/syc-20354204',\n",
       "       'https://www.mayoclinic.org/diseases-conditions/post-traumatic-stress-disorder/symptoms-causes/syc-20355967',\n",
       "       'https://www.mayoclinic.org/diseases-conditions/premature-ejaculation/symptoms-causes/syc-20354900',\n",
       "       'https://www.mayoclinic.org/diseases-conditions/psoriasis/symptoms-causes/syc-20355840',\n",
       "       'https://www.mayoclinic.org/diseases-conditions/schizophrenia/symptoms-causes/syc-20354443',\n",
       "       'https://www.mayoclinic.org/diseases-conditions/raynauds-disease/symptoms-causes/syc-20363571',\n",
       "       'https://www.mayoclinic.org/diseases-conditions/tinnitus/symptoms-causes/syc-20350156',\n",
       "       'https://www.mayoclinic.org/diseases-conditions/rosacea/symptoms-causes/syc-20353815',\n",
       "       'https://www.mayoclinic.org/diseases-conditions/seasonal-affective-disorder/symptoms-causes/syc-20364651',\n",
       "       'https://www.mayoclinic.org/diseases-conditions/salmonella/symptoms-causes/syc-20355329',\n",
       "       'https://www.mayoclinic.org/diseases-conditions/sciatica/symptoms-causes/syc-20377435',\n",
       "       'https://www.mayoclinic.org/diseases-conditions/sepsis/symptoms-causes/syc-20351214',\n",
       "       'https://www.mayoclinic.org/diseases-conditions/sjogrens-syndrome/symptoms-causes/syc-20353216',\n",
       "       'https://www.mayoclinic.org/diseases-conditions/sleep-apnea/symptoms-causes/syc-20377631',\n",
       "       'https://www.mayoclinic.org/diseases-conditions/obstructive-sleep-apnea/symptoms-causes/syc-20352090',\n",
       "       'https://www.mayoclinic.org/diseases-conditions/snoring/symptoms-causes/syc-20377694',\n",
       "       'https://www.mayoclinic.org/diseases-conditions/spinal-stenosis/symptoms-causes/syc-20352961',\n",
       "       'https://www.mayoclinic.org/diseases-conditions/staph-infections/symptoms-causes/syc-20356221',\n",
       "       'https://www.mayoclinic.org/diseases-conditions/vasovagal-syncope/symptoms-causes/syc-20350527',\n",
       "       'https://www.mayoclinic.org/diseases-conditions/syphilis/symptoms-causes/syc-20351756',\n",
       "       'https://www.mayoclinic.org/diseases-conditions/tuberculosis/symptoms-causes/syc-20351250',\n",
       "       'https://www.mayoclinic.org/diseases-conditions/tmj/symptoms-causes/syc-20350941',\n",
       "       'https://www.mayoclinic.org/diseases-conditions/transient-ischemic-attack/symptoms-causes/syc-20355679',\n",
       "       'https://www.mayoclinic.org/diseases-conditions/toxic-shock-syndrome/symptoms-causes/syc-20355384',\n",
       "       'https://www.mayoclinic.org/diseases-conditions/traumatic-brain-injury/symptoms-causes/syc-20378557',\n",
       "       'https://www.mayoclinic.org/diseases-conditions/trichomoniasis/symptoms-causes/syc-20378609',\n",
       "       'https://www.mayoclinic.org/diseases-conditions/urinary-tract-infection/symptoms-causes/syc-20353447',\n",
       "       'https://www.mayoclinic.org/diseases-conditions/varicose-veins/symptoms-causes/syc-20350643',\n",
       "       'https://www.mayoclinic.org/diseases-conditions/vitiligo/symptoms-causes/syc-20355912',\n",
       "       'https://www.mayoclinic.org/diseases-conditions/whiplash/symptoms-causes/syc-20378921'],\n",
       "      dtype=object)"
      ]
     },
     "execution_count": 120,
     "metadata": {},
     "output_type": "execute_result"
    }
   ],
   "source": [
    "data.url.values"
   ]
  },
  {
   "cell_type": "markdown",
   "metadata": {},
   "source": [
    "## Define functions with which to analyze the data"
   ]
  },
  {
   "cell_type": "code",
   "execution_count": 5,
   "metadata": {},
   "outputs": [],
   "source": [
    "# function to examine a column of data with summary functions and visual displays\n",
    "def examine(df, column, bins):\n",
    "    plt.hist(df[column], bins=bins)\n",
    "    plt.title(column)\n",
    "    plt.show()\n",
    "    print(\"min:\", df[column].min())\n",
    "    print(\"max:\", df[column].max())\n",
    "    print(\"mean:\", df[column].mean())\n",
    "    print(\"variance:\", df[column].var())\n",
    "    print(\"stan dev:\", df[column].std())"
   ]
  },
  {
   "cell_type": "code",
   "execution_count": 6,
   "metadata": {},
   "outputs": [],
   "source": [
    "# function to look at the data in a specific range (excluding outliers)\n",
    "def exclude(df, column, start, end, bins):\n",
    "    plt.hist(df[column], range = (start, end), bins=bins)\n",
    "    plt.title(column + \": range \" + str(start) + \" - \" + str(end))\n",
    "    plt.show()"
   ]
  },
  {
   "cell_type": "code",
   "execution_count": 84,
   "metadata": {},
   "outputs": [],
   "source": [
    "# function to model patterns or relationships between variables\n",
    "def relate(x, y):\n",
    "    plt.scatter(x,y)\n",
    "    plt.xlabel(x.name)\n",
    "    plt.ylabel(y.name)\n",
    "    plt.show()\n",
    "    print(\"Covariance:\", round(np.cov(x, y)[0,1],5))\n",
    "    print(\"Correlation:\", round(np.corrcoef(x,y)[0,1],5))\n",
    "    xdata = x.values.reshape(-1,1)\n",
    "    ydata = y.values.reshape(-1,1)\n",
    "    mod = LinearRegression().fit(xdata, ydata)\n",
    "    print(\"R squared:\", round(mod.score(xdata, ydata),5))\n",
    "    print(\"Linear Regression Slope:\", mod.coef_[0][0])"
   ]
  },
  {
   "cell_type": "code",
   "execution_count": 85,
   "metadata": {
    "scrolled": false
   },
   "outputs": [],
   "source": [
    "# function to compute and display logistic regression\n",
    "def log_reg(column1, column2):\n",
    "    model = LogisticRegression(solver=\"liblinear\").fit(column1.values.reshape(-1, 1), column2)\n",
    "    model.coef_, model.intercept_\n",
    "\n",
    "    x_values = np.linspace(0, 25, 100)\n",
    "    y_values = (np.exp(x_values * model.coef_[0,0] + model.intercept_[0])) / (1 + (np.exp(x_values * model.coef_[0,0] + model.intercept_[0])))\n",
    "    \n",
    "    plt.scatter(column1, column2 + np.random.normal(0, 0.05, size=len(column1)), alpha=0.1)\n",
    "    plt.plot(x_values, y_values)\n",
    "    plt.xlabel(column1.name)\n",
    "    plt.ylabel(column2.name)\n",
    "    plt.show()"
   ]
  },
  {
   "cell_type": "markdown",
   "metadata": {},
   "source": [
    "## Page Authority Score"
   ]
  },
  {
   "cell_type": "code",
   "execution_count": 9,
   "metadata": {
    "scrolled": false
   },
   "outputs": [
    {
     "data": {
      "image/png": "[encoded data removed]",
      "text/plain": [
       "<Figure size 432x288 with 1 Axes>"
      ]
     },
     "metadata": {
      "needs_background": "light"
     },
     "output_type": "display_data"
    },
    {
     "name": "stdout",
     "output_type": "stream",
     "text": [
      "min: 60\n",
      "max: 67\n",
      "mean: 61.495370370370374\n",
      "variance: 1.786024978466839\n",
      "stan dev: 1.3364224550892727\n"
     ]
    }
   ],
   "source": [
    "examine(data, \"pa\", 7)"
   ]
  },
  {
   "cell_type": "code",
   "execution_count": 107,
   "metadata": {},
   "outputs": [
    {
     "data": {
      "text/html": [
       "<div>\n",
       "<style scoped>\n",
       "    .dataframe tbody tr th:only-of-type {\n",
       "        vertical-align: middle;\n",
       "    }\n",
       "\n",
       "    .dataframe tbody tr th {\n",
       "        vertical-align: top;\n",
       "    }\n",
       "\n",
       "    .dataframe thead th {\n",
       "        text-align: right;\n",
       "    }\n",
       "</style>\n",
       "<table border=\"1\" class=\"dataframe\">\n",
       "  <thead>\n",
       "    <tr style=\"text-align: right;\">\n",
       "      <th></th>\n",
       "      <th>url</th>\n",
       "      <th>pa</th>\n",
       "      <th>header</th>\n",
       "      <th>header_len</th>\n",
       "      <th>meta</th>\n",
       "      <th>meta_len</th>\n",
       "      <th>bytes</th>\n",
       "      <th>word_count</th>\n",
       "      <th>total_links</th>\n",
       "      <th>inbound_domains</th>\n",
       "      <th>outbound_domains</th>\n",
       "      <th>ext_links</th>\n",
       "      <th>unique_ext</th>\n",
       "      <th>inlinks</th>\n",
       "      <th>unique_in</th>\n",
       "      <th>outlinks</th>\n",
       "      <th>unique_out</th>\n",
       "      <th>pub_date</th>\n",
       "    </tr>\n",
       "  </thead>\n",
       "  <tbody>\n",
       "    <tr>\n",
       "      <th>200</th>\n",
       "      <td>https://www.mayoclinic.org/diseases-conditions...</td>\n",
       "      <td>67</td>\n",
       "      <td>seasonal affective disorder (sad)</td>\n",
       "      <td>33</td>\n",
       "      <td>Seasonal affective disorder (SAD) is a type of...</td>\n",
       "      <td>150</td>\n",
       "      <td>47380</td>\n",
       "      <td>1625</td>\n",
       "      <td>9835</td>\n",
       "      <td>4191</td>\n",
       "      <td>0</td>\n",
       "      <td>67</td>\n",
       "      <td>45</td>\n",
       "      <td>8</td>\n",
       "      <td>2</td>\n",
       "      <td>71</td>\n",
       "      <td>45</td>\n",
       "      <td>736627.0</td>\n",
       "    </tr>\n",
       "  </tbody>\n",
       "</table>\n",
       "</div>"
      ],
      "text/plain": [
       "                                                   url  pa  \\\n",
       "200  https://www.mayoclinic.org/diseases-conditions...  67   \n",
       "\n",
       "                                header  header_len  \\\n",
       "200  seasonal affective disorder (sad)          33   \n",
       "\n",
       "                                                  meta  meta_len  bytes  \\\n",
       "200  Seasonal affective disorder (SAD) is a type of...       150  47380   \n",
       "\n",
       "     word_count  total_links  inbound_domains  outbound_domains  ext_links  \\\n",
       "200        1625         9835             4191                 0         67   \n",
       "\n",
       "     unique_ext  inlinks  unique_in  outlinks  unique_out  pub_date  \n",
       "200          45        8          2        71          45  736627.0  "
      ]
     },
     "execution_count": 107,
     "metadata": {},
     "output_type": "execute_result"
    }
   ],
   "source": [
    "data[data.pa==67]"
   ]
  },
  {
   "cell_type": "code",
   "execution_count": 113,
   "metadata": {
    "scrolled": false
   },
   "outputs": [
    {
     "data": {
      "image/png": "[encoded data removed]",
      "text/plain": [
       "<Figure size 432x288 with 1 Axes>"
      ]
     },
     "metadata": {
      "needs_background": "light"
     },
     "output_type": "display_data"
    },
    {
     "name": "stdout",
     "output_type": "stream",
     "text": [
      "Covariance: 3045.51357\n",
      "Correlation: 0.51073\n",
      "R squared: 0.26084\n",
      "Linear Regression Slope: 1705.1909142423108\n"
     ]
    }
   ],
   "source": [
    "relate(data.pa, data.total_links)"
   ]
  },
  {
   "cell_type": "markdown",
   "metadata": {},
   "source": [
    "## Header Length (H1-1)"
   ]
  },
  {
   "cell_type": "code",
   "execution_count": 10,
   "metadata": {},
   "outputs": [
    {
     "data": {
      "image/png": "[encoded data removed]",
      "text/plain": [
       "<Figure size 432x288 with 1 Axes>"
      ]
     },
     "metadata": {
      "needs_background": "light"
     },
     "output_type": "display_data"
    },
    {
     "name": "stdout",
     "output_type": "stream",
     "text": [
      "min: 4\n",
      "max: 43\n",
      "mean: 16.62037037037037\n",
      "variance: 72.02265288544359\n",
      "stan dev: 8.486616103338456\n"
     ]
    }
   ],
   "source": [
    "examine(data, \"header_len\", 20)"
   ]
  },
  {
   "cell_type": "markdown",
   "metadata": {},
   "source": [
    "SEO strategy recommends short, descriptive h1 headers that contains a page keyword; here, that means the name of the condition. It thus is unsurprising that the data peaks between 10 and 20 characters. It is not a normal distribution, since headers are more likely to have more characters than fewer; those that have more are likely conditions with long names or two different names (one more scientific, one translated from medical terminology into a name more evident), where one is listed after the other in parentheses. "
   ]
  },
  {
   "cell_type": "code",
   "execution_count": 11,
   "metadata": {},
   "outputs": [
    {
     "data": {
      "text/plain": [
       "['gastroesophageal reflux disease (gerd)',\n",
       " 'drug addiction (substance use disorder)',\n",
       " 'amyotrophic lateral sclerosis (als)',\n",
       " 'antisocial personality disorder',\n",
       " 'arteriosclerosis / atherosclerosis',\n",
       " 'benign paroxysmal positional vertigo (bppv)',\n",
       " 'benign prostatic hyperplasia (bph)',\n",
       " 'high blood pressure (hypertension)',\n",
       " 'low blood pressure (hypotension)',\n",
       " 'borderline personality disorder',\n",
       " \"hodgkin's lymphoma (hodgkin's disease)\",\n",
       " 'depression (major depressive disorder)',\n",
       " 'coronavirus disease 2019 (covid-19)',\n",
       " 'sudden infant death syndrome (sids)',\n",
       " 'enlarged breasts in men (gynecomastia)',\n",
       " 'helicobacter pylori (h. pylori) infection',\n",
       " 'hypothyroidism (underactive thyroid)',\n",
       " 'inflammatory bowel disease (ibd)',\n",
       " 'narcissistic personality disorder',\n",
       " 'nonalcoholic fatty liver disease',\n",
       " 'peripheral artery disease (pad)',\n",
       " 'panic attacks and panic disorder',\n",
       " 'polycystic ovary syndrome (pcos)',\n",
       " 'post-traumatic stress disorder (ptsd)',\n",
       " 'seasonal affective disorder (sad)',\n",
       " 'transient ischemic attack (tia)']"
      ]
     },
     "execution_count": 11,
     "metadata": {},
     "output_type": "execute_result"
    }
   ],
   "source": [
    "# like these\n",
    "data[data[\"header_len\"]>30]['header'].values.tolist()"
   ]
  },
  {
   "cell_type": "markdown",
   "metadata": {},
   "source": [
    "## Meta Description Length"
   ]
  },
  {
   "cell_type": "code",
   "execution_count": 12,
   "metadata": {
    "scrolled": false
   },
   "outputs": [
    {
     "data": {
      "image/png": "[encoded data removed]",
      "text/plain": [
       "<Figure size 432x288 with 1 Axes>"
      ]
     },
     "metadata": {
      "needs_background": "light"
     },
     "output_type": "display_data"
    },
    {
     "name": "stdout",
     "output_type": "stream",
     "text": [
      "min: 70\n",
      "max: 161\n",
      "mean: 132.91666666666666\n",
      "variance: 436.71860465116276\n",
      "stan dev: 20.897813394017152\n"
     ]
    }
   ],
   "source": [
    "examine(data, \"meta_len\", 30)"
   ]
  },
  {
   "cell_type": "code",
   "execution_count": 13,
   "metadata": {},
   "outputs": [
    {
     "data": {
      "text/html": [
       "<div>\n",
       "<style scoped>\n",
       "    .dataframe tbody tr th:only-of-type {\n",
       "        vertical-align: middle;\n",
       "    }\n",
       "\n",
       "    .dataframe tbody tr th {\n",
       "        vertical-align: top;\n",
       "    }\n",
       "\n",
       "    .dataframe thead th {\n",
       "        text-align: right;\n",
       "    }\n",
       "</style>\n",
       "<table border=\"1\" class=\"dataframe\">\n",
       "  <thead>\n",
       "    <tr style=\"text-align: right;\">\n",
       "      <th></th>\n",
       "      <th>url</th>\n",
       "      <th>pa</th>\n",
       "      <th>header</th>\n",
       "      <th>header_len</th>\n",
       "      <th>meta</th>\n",
       "      <th>meta_len</th>\n",
       "      <th>bytes</th>\n",
       "      <th>word_count</th>\n",
       "      <th>total_links</th>\n",
       "      <th>inbound_domains</th>\n",
       "      <th>outbound_domains</th>\n",
       "      <th>ext_links</th>\n",
       "      <th>unique_ext</th>\n",
       "      <th>inlinks</th>\n",
       "      <th>unique_in</th>\n",
       "      <th>outlinks</th>\n",
       "      <th>unique_out</th>\n",
       "      <th>pub_date</th>\n",
       "    </tr>\n",
       "  </thead>\n",
       "  <tbody>\n",
       "    <tr>\n",
       "      <th>134</th>\n",
       "      <td>https://www.mayoclinic.org/diseases-conditions...</td>\n",
       "      <td>61</td>\n",
       "      <td>graves' disease</td>\n",
       "      <td>15</td>\n",
       "      <td>Learn about the signs and symptoms, causes and...</td>\n",
       "      <td>161</td>\n",
       "      <td>55802</td>\n",
       "      <td>1949</td>\n",
       "      <td>5364</td>\n",
       "      <td>693</td>\n",
       "      <td>10</td>\n",
       "      <td>67</td>\n",
       "      <td>45</td>\n",
       "      <td>12</td>\n",
       "      <td>5</td>\n",
       "      <td>81</td>\n",
       "      <td>49</td>\n",
       "      <td>2020-01-07</td>\n",
       "    </tr>\n",
       "  </tbody>\n",
       "</table>\n",
       "</div>"
      ],
      "text/plain": [
       "                                                   url  pa           header  \\\n",
       "134  https://www.mayoclinic.org/diseases-conditions...  61  graves' disease   \n",
       "\n",
       "     header_len                                               meta  meta_len  \\\n",
       "134          15  Learn about the signs and symptoms, causes and...       161   \n",
       "\n",
       "     bytes  word_count  total_links  inbound_domains  outbound_domains  \\\n",
       "134  55802        1949         5364              693                10   \n",
       "\n",
       "     ext_links  unique_ext  inlinks  unique_in  outlinks  unique_out  \\\n",
       "134         67          45       12          5        81          49   \n",
       "\n",
       "       pub_date  \n",
       "134  2020-01-07  "
      ]
     },
     "execution_count": 13,
     "metadata": {},
     "output_type": "execute_result"
    }
   ],
   "source": [
    "# check how many are longer than 160 characters\n",
    "data.loc[data[\"meta_len\"]>160]"
   ]
  },
  {
   "cell_type": "code",
   "execution_count": 14,
   "metadata": {},
   "outputs": [
    {
     "data": {
      "text/plain": [
       "134    161\n",
       "Name: meta_len, dtype: int64"
      ]
     },
     "execution_count": 14,
     "metadata": {},
     "output_type": "execute_result"
    }
   ],
   "source": [
    "data.loc[data[\"meta_len\"]>160]['meta_len']"
   ]
  },
  {
   "cell_type": "markdown",
   "metadata": {},
   "source": [
    "According to Moz (https://moz.com/learn/seo/meta-description), Google usually only shows meta descriptions up to 160 characters long. The Mayo Clinic has kept all but 1 of their top-ranking Symptoms and Causes meta descriptions within this limit, and that one page is only 1 character over the limit."
   ]
  },
  {
   "cell_type": "markdown",
   "metadata": {},
   "source": [
    "## Page Size (bytes)"
   ]
  },
  {
   "cell_type": "code",
   "execution_count": 15,
   "metadata": {},
   "outputs": [
    {
     "data": {
      "image/png": "[encoded data removed]",
      "text/plain": [
       "<Figure size 432x288 with 1 Axes>"
      ]
     },
     "metadata": {
      "needs_background": "light"
     },
     "output_type": "display_data"
    },
    {
     "name": "stdout",
     "output_type": "stream",
     "text": [
      "min: 41133\n",
      "max: 164386\n",
      "mean: 55134.17592592593\n",
      "variance: 138044112.84332475\n",
      "stan dev: 11749.217541748249\n"
     ]
    }
   ],
   "source": [
    "examine(data, \"bytes\", 40)"
   ]
  },
  {
   "cell_type": "code",
   "execution_count": 16,
   "metadata": {
    "scrolled": true
   },
   "outputs": [
    {
     "data": {
      "text/html": [
       "<div>\n",
       "<style scoped>\n",
       "    .dataframe tbody tr th:only-of-type {\n",
       "        vertical-align: middle;\n",
       "    }\n",
       "\n",
       "    .dataframe tbody tr th {\n",
       "        vertical-align: top;\n",
       "    }\n",
       "\n",
       "    .dataframe thead th {\n",
       "        text-align: right;\n",
       "    }\n",
       "</style>\n",
       "<table border=\"1\" class=\"dataframe\">\n",
       "  <thead>\n",
       "    <tr style=\"text-align: right;\">\n",
       "      <th></th>\n",
       "      <th>url</th>\n",
       "      <th>pa</th>\n",
       "      <th>header</th>\n",
       "      <th>header_len</th>\n",
       "      <th>meta</th>\n",
       "      <th>meta_len</th>\n",
       "      <th>bytes</th>\n",
       "      <th>word_count</th>\n",
       "      <th>total_links</th>\n",
       "      <th>inbound_domains</th>\n",
       "      <th>outbound_domains</th>\n",
       "      <th>ext_links</th>\n",
       "      <th>unique_ext</th>\n",
       "      <th>inlinks</th>\n",
       "      <th>unique_in</th>\n",
       "      <th>outlinks</th>\n",
       "      <th>unique_out</th>\n",
       "      <th>pub_date</th>\n",
       "    </tr>\n",
       "  </thead>\n",
       "  <tbody>\n",
       "    <tr>\n",
       "      <th>85</th>\n",
       "      <td>https://www.mayoclinic.org/diseases-conditions...</td>\n",
       "      <td>62</td>\n",
       "      <td>coronavirus disease 2019 (covid-19)</td>\n",
       "      <td>35</td>\n",
       "      <td>Find out about coronavirus disease 2019 (COVID...</td>\n",
       "      <td>157</td>\n",
       "      <td>164386</td>\n",
       "      <td>5194</td>\n",
       "      <td>14924</td>\n",
       "      <td>554</td>\n",
       "      <td>0</td>\n",
       "      <td>263</td>\n",
       "      <td>240</td>\n",
       "      <td>15</td>\n",
       "      <td>7</td>\n",
       "      <td>97</td>\n",
       "      <td>62</td>\n",
       "      <td>2020-05-21</td>\n",
       "    </tr>\n",
       "  </tbody>\n",
       "</table>\n",
       "</div>"
      ],
      "text/plain": [
       "                                                  url  pa  \\\n",
       "85  https://www.mayoclinic.org/diseases-conditions...  62   \n",
       "\n",
       "                                 header  header_len  \\\n",
       "85  coronavirus disease 2019 (covid-19)          35   \n",
       "\n",
       "                                                 meta  meta_len   bytes  \\\n",
       "85  Find out about coronavirus disease 2019 (COVID...       157  164386   \n",
       "\n",
       "    word_count  total_links  inbound_domains  outbound_domains  ext_links  \\\n",
       "85        5194        14924              554                 0        263   \n",
       "\n",
       "    unique_ext  inlinks  unique_in  outlinks  unique_out    pub_date  \n",
       "85         240       15          7        97          62  2020-05-21  "
      ]
     },
     "execution_count": 16,
     "metadata": {},
     "output_type": "execute_result"
    }
   ],
   "source": [
    "# the outlier is a page on COVID-19!\n",
    "data.loc[data[\"bytes\"]==164386]"
   ]
  },
  {
   "cell_type": "markdown",
   "metadata": {},
   "source": [
    "Unsurprisingly, the largest page is a page on COVID-19, to which the Mayo Clinic may well still be adding as the world continues to research the virus that has caused the current pandemic. The publication date is listed as May 12, 2020, within this month.\n",
    "\n",
    "Besides the page on coronavirus, there are still a number of larger pages far from the peak:"
   ]
  },
  {
   "cell_type": "code",
   "execution_count": 67,
   "metadata": {},
   "outputs": [
    {
     "data": {
      "image/png": "[encoded data removed]",
      "text/plain": [
       "<Figure size 432x288 with 1 Axes>"
      ]
     },
     "metadata": {
      "needs_background": "light"
     },
     "output_type": "display_data"
    }
   ],
   "source": [
    "exclude(data, 'bytes', 40000, 100000, 40)"
   ]
  },
  {
   "cell_type": "code",
   "execution_count": 68,
   "metadata": {
    "scrolled": true
   },
   "outputs": [
    {
     "data": {
      "text/html": [
       "<div>\n",
       "<style scoped>\n",
       "    .dataframe tbody tr th:only-of-type {\n",
       "        vertical-align: middle;\n",
       "    }\n",
       "\n",
       "    .dataframe tbody tr th {\n",
       "        vertical-align: top;\n",
       "    }\n",
       "\n",
       "    .dataframe thead th {\n",
       "        text-align: right;\n",
       "    }\n",
       "</style>\n",
       "<table border=\"1\" class=\"dataframe\">\n",
       "  <thead>\n",
       "    <tr style=\"text-align: right;\">\n",
       "      <th></th>\n",
       "      <th>url</th>\n",
       "      <th>pa</th>\n",
       "      <th>header</th>\n",
       "      <th>header_len</th>\n",
       "      <th>meta</th>\n",
       "      <th>meta_len</th>\n",
       "      <th>bytes</th>\n",
       "      <th>word_count</th>\n",
       "      <th>total_links</th>\n",
       "      <th>inbound_domains</th>\n",
       "      <th>outbound_domains</th>\n",
       "      <th>ext_links</th>\n",
       "      <th>unique_ext</th>\n",
       "      <th>inlinks</th>\n",
       "      <th>unique_in</th>\n",
       "      <th>outlinks</th>\n",
       "      <th>unique_out</th>\n",
       "      <th>pub_date</th>\n",
       "    </tr>\n",
       "  </thead>\n",
       "  <tbody>\n",
       "    <tr>\n",
       "      <th>14</th>\n",
       "      <td>https://www.mayoclinic.org/diseases-conditions...</td>\n",
       "      <td>63</td>\n",
       "      <td>alzheimer's disease</td>\n",
       "      <td>19</td>\n",
       "      <td>Alzheimer's disease causes a progressive loss ...</td>\n",
       "      <td>128</td>\n",
       "      <td>91009</td>\n",
       "      <td>3572</td>\n",
       "      <td>4124</td>\n",
       "      <td>1217</td>\n",
       "      <td>10</td>\n",
       "      <td>97</td>\n",
       "      <td>73</td>\n",
       "      <td>15</td>\n",
       "      <td>7</td>\n",
       "      <td>127</td>\n",
       "      <td>85</td>\n",
       "      <td>737036.0</td>\n",
       "    </tr>\n",
       "    <tr>\n",
       "      <th>39</th>\n",
       "      <td>https://www.mayoclinic.org/diseases-conditions...</td>\n",
       "      <td>63</td>\n",
       "      <td>high blood pressure (hypertension)</td>\n",
       "      <td>34</td>\n",
       "      <td>Learn about the symptoms, treatment and preven...</td>\n",
       "      <td>142</td>\n",
       "      <td>83830</td>\n",
       "      <td>3147</td>\n",
       "      <td>6494</td>\n",
       "      <td>1587</td>\n",
       "      <td>10</td>\n",
       "      <td>85</td>\n",
       "      <td>58</td>\n",
       "      <td>9</td>\n",
       "      <td>3</td>\n",
       "      <td>131</td>\n",
       "      <td>92</td>\n",
       "      <td>736826.0</td>\n",
       "    </tr>\n",
       "    <tr>\n",
       "      <th>42</th>\n",
       "      <td>https://www.mayoclinic.org/diseases-conditions...</td>\n",
       "      <td>63</td>\n",
       "      <td>stroke</td>\n",
       "      <td>6</td>\n",
       "      <td>Promptly spotting stroke symptoms leads to fas...</td>\n",
       "      <td>89</td>\n",
       "      <td>75718</td>\n",
       "      <td>3539</td>\n",
       "      <td>4447</td>\n",
       "      <td>1100</td>\n",
       "      <td>10</td>\n",
       "      <td>86</td>\n",
       "      <td>63</td>\n",
       "      <td>23</td>\n",
       "      <td>15</td>\n",
       "      <td>92</td>\n",
       "      <td>61</td>\n",
       "      <td>737539.0</td>\n",
       "    </tr>\n",
       "    <tr>\n",
       "      <th>43</th>\n",
       "      <td>https://www.mayoclinic.org/diseases-conditions...</td>\n",
       "      <td>61</td>\n",
       "      <td>breast cancer</td>\n",
       "      <td>13</td>\n",
       "      <td>Breast cancer — Comprehensive overview covers ...</td>\n",
       "      <td>109</td>\n",
       "      <td>93906</td>\n",
       "      <td>3409</td>\n",
       "      <td>2734</td>\n",
       "      <td>797</td>\n",
       "      <td>10</td>\n",
       "      <td>96</td>\n",
       "      <td>73</td>\n",
       "      <td>88</td>\n",
       "      <td>49</td>\n",
       "      <td>139</td>\n",
       "      <td>106</td>\n",
       "      <td>737385.0</td>\n",
       "    </tr>\n",
       "    <tr>\n",
       "      <th>48</th>\n",
       "      <td>https://www.mayoclinic.org/diseases-conditions...</td>\n",
       "      <td>60</td>\n",
       "      <td>cancer</td>\n",
       "      <td>6</td>\n",
       "      <td>Find out the basics about cancer, including sy...</td>\n",
       "      <td>120</td>\n",
       "      <td>93326</td>\n",
       "      <td>3532</td>\n",
       "      <td>2553</td>\n",
       "      <td>585</td>\n",
       "      <td>10</td>\n",
       "      <td>104</td>\n",
       "      <td>80</td>\n",
       "      <td>26</td>\n",
       "      <td>21</td>\n",
       "      <td>130</td>\n",
       "      <td>99</td>\n",
       "      <td>737040.0</td>\n",
       "    </tr>\n",
       "    <tr>\n",
       "      <th>56</th>\n",
       "      <td>https://www.mayoclinic.org/diseases-conditions...</td>\n",
       "      <td>61</td>\n",
       "      <td>pancreatic cancer</td>\n",
       "      <td>17</td>\n",
       "      <td>Pancreatic cancer — Overview covers symptoms, ...</td>\n",
       "      <td>152</td>\n",
       "      <td>76004</td>\n",
       "      <td>2881</td>\n",
       "      <td>2805</td>\n",
       "      <td>698</td>\n",
       "      <td>10</td>\n",
       "      <td>87</td>\n",
       "      <td>63</td>\n",
       "      <td>21</td>\n",
       "      <td>11</td>\n",
       "      <td>93</td>\n",
       "      <td>64</td>\n",
       "      <td>737539.0</td>\n",
       "    </tr>\n",
       "    <tr>\n",
       "      <th>62</th>\n",
       "      <td>https://www.mayoclinic.org/diseases-conditions...</td>\n",
       "      <td>64</td>\n",
       "      <td>heart disease</td>\n",
       "      <td>13</td>\n",
       "      <td>Learn about symptoms, causes and treatment of ...</td>\n",
       "      <td>132</td>\n",
       "      <td>93732</td>\n",
       "      <td>4052</td>\n",
       "      <td>7463</td>\n",
       "      <td>1540</td>\n",
       "      <td>10</td>\n",
       "      <td>88</td>\n",
       "      <td>64</td>\n",
       "      <td>39</td>\n",
       "      <td>26</td>\n",
       "      <td>130</td>\n",
       "      <td>88</td>\n",
       "      <td>736775.0</td>\n",
       "    </tr>\n",
       "    <tr>\n",
       "      <th>77</th>\n",
       "      <td>https://www.mayoclinic.org/diseases-conditions...</td>\n",
       "      <td>65</td>\n",
       "      <td>depression (major depressive disorder)</td>\n",
       "      <td>38</td>\n",
       "      <td>Depression is a mood disorder that causes a pe...</td>\n",
       "      <td>141</td>\n",
       "      <td>75409</td>\n",
       "      <td>2681</td>\n",
       "      <td>14873</td>\n",
       "      <td>2520</td>\n",
       "      <td>10</td>\n",
       "      <td>80</td>\n",
       "      <td>57</td>\n",
       "      <td>12</td>\n",
       "      <td>6</td>\n",
       "      <td>120</td>\n",
       "      <td>81</td>\n",
       "      <td>736728.0</td>\n",
       "    </tr>\n",
       "    <tr>\n",
       "      <th>85</th>\n",
       "      <td>https://www.mayoclinic.org/diseases-conditions...</td>\n",
       "      <td>62</td>\n",
       "      <td>coronavirus disease 2019 (covid-19)</td>\n",
       "      <td>35</td>\n",
       "      <td>Find out about coronavirus disease 2019 (COVID...</td>\n",
       "      <td>157</td>\n",
       "      <td>164386</td>\n",
       "      <td>5194</td>\n",
       "      <td>14924</td>\n",
       "      <td>554</td>\n",
       "      <td>0</td>\n",
       "      <td>263</td>\n",
       "      <td>240</td>\n",
       "      <td>15</td>\n",
       "      <td>7</td>\n",
       "      <td>97</td>\n",
       "      <td>62</td>\n",
       "      <td>737566.0</td>\n",
       "    </tr>\n",
       "    <tr>\n",
       "      <th>103</th>\n",
       "      <td>https://www.mayoclinic.org/diseases-conditions...</td>\n",
       "      <td>63</td>\n",
       "      <td>diabetes</td>\n",
       "      <td>8</td>\n",
       "      <td>Learn more about the different types of this b...</td>\n",
       "      <td>109</td>\n",
       "      <td>78005</td>\n",
       "      <td>3448</td>\n",
       "      <td>6681</td>\n",
       "      <td>1371</td>\n",
       "      <td>10</td>\n",
       "      <td>70</td>\n",
       "      <td>47</td>\n",
       "      <td>7</td>\n",
       "      <td>2</td>\n",
       "      <td>132</td>\n",
       "      <td>92</td>\n",
       "      <td>736914.0</td>\n",
       "    </tr>\n",
       "    <tr>\n",
       "      <th>195</th>\n",
       "      <td>https://www.mayoclinic.org/diseases-conditions...</td>\n",
       "      <td>63</td>\n",
       "      <td>psoriasis</td>\n",
       "      <td>9</td>\n",
       "      <td>Learn about this common skin condition that ca...</td>\n",
       "      <td>148</td>\n",
       "      <td>75064</td>\n",
       "      <td>2435</td>\n",
       "      <td>5438</td>\n",
       "      <td>1183</td>\n",
       "      <td>10</td>\n",
       "      <td>69</td>\n",
       "      <td>46</td>\n",
       "      <td>8</td>\n",
       "      <td>3</td>\n",
       "      <td>109</td>\n",
       "      <td>75</td>\n",
       "      <td>737547.0</td>\n",
       "    </tr>\n",
       "  </tbody>\n",
       "</table>\n",
       "</div>"
      ],
      "text/plain": [
       "                                                   url  pa  \\\n",
       "14   https://www.mayoclinic.org/diseases-conditions...  63   \n",
       "39   https://www.mayoclinic.org/diseases-conditions...  63   \n",
       "42   https://www.mayoclinic.org/diseases-conditions...  63   \n",
       "43   https://www.mayoclinic.org/diseases-conditions...  61   \n",
       "48   https://www.mayoclinic.org/diseases-conditions...  60   \n",
       "56   https://www.mayoclinic.org/diseases-conditions...  61   \n",
       "62   https://www.mayoclinic.org/diseases-conditions...  64   \n",
       "77   https://www.mayoclinic.org/diseases-conditions...  65   \n",
       "85   https://www.mayoclinic.org/diseases-conditions...  62   \n",
       "103  https://www.mayoclinic.org/diseases-conditions...  63   \n",
       "195  https://www.mayoclinic.org/diseases-conditions...  63   \n",
       "\n",
       "                                     header  header_len  \\\n",
       "14                      alzheimer's disease          19   \n",
       "39       high blood pressure (hypertension)          34   \n",
       "42                                   stroke           6   \n",
       "43                            breast cancer          13   \n",
       "48                                   cancer           6   \n",
       "56                        pancreatic cancer          17   \n",
       "62                            heart disease          13   \n",
       "77   depression (major depressive disorder)          38   \n",
       "85      coronavirus disease 2019 (covid-19)          35   \n",
       "103                                diabetes           8   \n",
       "195                               psoriasis           9   \n",
       "\n",
       "                                                  meta  meta_len   bytes  \\\n",
       "14   Alzheimer's disease causes a progressive loss ...       128   91009   \n",
       "39   Learn about the symptoms, treatment and preven...       142   83830   \n",
       "42   Promptly spotting stroke symptoms leads to fas...        89   75718   \n",
       "43   Breast cancer — Comprehensive overview covers ...       109   93906   \n",
       "48   Find out the basics about cancer, including sy...       120   93326   \n",
       "56   Pancreatic cancer — Overview covers symptoms, ...       152   76004   \n",
       "62   Learn about symptoms, causes and treatment of ...       132   93732   \n",
       "77   Depression is a mood disorder that causes a pe...       141   75409   \n",
       "85   Find out about coronavirus disease 2019 (COVID...       157  164386   \n",
       "103  Learn more about the different types of this b...       109   78005   \n",
       "195  Learn about this common skin condition that ca...       148   75064   \n",
       "\n",
       "     word_count  total_links  inbound_domains  outbound_domains  ext_links  \\\n",
       "14         3572         4124             1217                10         97   \n",
       "39         3147         6494             1587                10         85   \n",
       "42         3539         4447             1100                10         86   \n",
       "43         3409         2734              797                10         96   \n",
       "48         3532         2553              585                10        104   \n",
       "56         2881         2805              698                10         87   \n",
       "62         4052         7463             1540                10         88   \n",
       "77         2681        14873             2520                10         80   \n",
       "85         5194        14924              554                 0        263   \n",
       "103        3448         6681             1371                10         70   \n",
       "195        2435         5438             1183                10         69   \n",
       "\n",
       "     unique_ext  inlinks  unique_in  outlinks  unique_out  pub_date  \n",
       "14           73       15          7       127          85  737036.0  \n",
       "39           58        9          3       131          92  736826.0  \n",
       "42           63       23         15        92          61  737539.0  \n",
       "43           73       88         49       139         106  737385.0  \n",
       "48           80       26         21       130          99  737040.0  \n",
       "56           63       21         11        93          64  737539.0  \n",
       "62           64       39         26       130          88  736775.0  \n",
       "77           57       12          6       120          81  736728.0  \n",
       "85          240       15          7        97          62  737566.0  \n",
       "103          47        7          2       132          92  736914.0  \n",
       "195          46        8          3       109          75  737547.0  "
      ]
     },
     "execution_count": 68,
     "metadata": {},
     "output_type": "execute_result"
    }
   ],
   "source": [
    "data.loc[data.bytes>75000]"
   ]
  },
  {
   "cell_type": "markdown",
   "metadata": {},
   "source": [
    "Again, the trend makes sense; these larger pages are all about more commonly diagnosed conditions that have various forms."
   ]
  },
  {
   "cell_type": "markdown",
   "metadata": {},
   "source": [
    "## Word Count"
   ]
  },
  {
   "cell_type": "code",
   "execution_count": 18,
   "metadata": {},
   "outputs": [
    {
     "data": {
      "image/png": "[encoded data removed]",
      "text/plain": [
       "<Figure size 432x288 with 1 Axes>"
      ]
     },
     "metadata": {
      "needs_background": "light"
     },
     "output_type": "display_data"
    },
    {
     "name": "stdout",
     "output_type": "stream",
     "text": [
      "min: 1055\n",
      "max: 5194\n",
      "mean: 2050.3333333333335\n",
      "variance: 347291.97209302324\n",
      "stan dev: 589.314832744793\n"
     ]
    }
   ],
   "source": [
    "examine(data, \"word_count\", 50)"
   ]
  },
  {
   "cell_type": "markdown",
   "metadata": {},
   "source": [
    "Word count is a little more difficult to analyze in terms of SEO. Web pages should not be too thin, and should include good \"anchor content\" unique to the page and the subject, but lots of content does not necessarily mean that it is of good quality. There is a general consensus in the SEO world that a word count of around 1500 is average for high-ranking pages, though the suggested amount of content varies for different kinds of web pages (such as a blog versus a healthcare education page). The Mayo Clinic's average word count is 1655 for their Symptoms and Causes pages, but we can see from the histogram that there appear to be some outliers affecting that number."
   ]
  },
  {
   "cell_type": "code",
   "execution_count": 19,
   "metadata": {
    "scrolled": false
   },
   "outputs": [
    {
     "data": {
      "text/html": [
       "<div>\n",
       "<style scoped>\n",
       "    .dataframe tbody tr th:only-of-type {\n",
       "        vertical-align: middle;\n",
       "    }\n",
       "\n",
       "    .dataframe tbody tr th {\n",
       "        vertical-align: top;\n",
       "    }\n",
       "\n",
       "    .dataframe thead th {\n",
       "        text-align: right;\n",
       "    }\n",
       "</style>\n",
       "<table border=\"1\" class=\"dataframe\">\n",
       "  <thead>\n",
       "    <tr style=\"text-align: right;\">\n",
       "      <th></th>\n",
       "      <th>url</th>\n",
       "      <th>pa</th>\n",
       "      <th>header</th>\n",
       "      <th>header_len</th>\n",
       "      <th>meta</th>\n",
       "      <th>meta_len</th>\n",
       "      <th>bytes</th>\n",
       "      <th>word_count</th>\n",
       "      <th>total_links</th>\n",
       "      <th>inbound_domains</th>\n",
       "      <th>outbound_domains</th>\n",
       "      <th>ext_links</th>\n",
       "      <th>unique_ext</th>\n",
       "      <th>inlinks</th>\n",
       "      <th>unique_in</th>\n",
       "      <th>outlinks</th>\n",
       "      <th>unique_out</th>\n",
       "      <th>pub_date</th>\n",
       "    </tr>\n",
       "  </thead>\n",
       "  <tbody>\n",
       "    <tr>\n",
       "      <th>85</th>\n",
       "      <td>https://www.mayoclinic.org/diseases-conditions...</td>\n",
       "      <td>62</td>\n",
       "      <td>coronavirus disease 2019 (covid-19)</td>\n",
       "      <td>35</td>\n",
       "      <td>Find out about coronavirus disease 2019 (COVID...</td>\n",
       "      <td>157</td>\n",
       "      <td>164386</td>\n",
       "      <td>5194</td>\n",
       "      <td>14924</td>\n",
       "      <td>554</td>\n",
       "      <td>0</td>\n",
       "      <td>263</td>\n",
       "      <td>240</td>\n",
       "      <td>15</td>\n",
       "      <td>7</td>\n",
       "      <td>97</td>\n",
       "      <td>62</td>\n",
       "      <td>2020-05-21</td>\n",
       "    </tr>\n",
       "  </tbody>\n",
       "</table>\n",
       "</div>"
      ],
      "text/plain": [
       "                                                  url  pa  \\\n",
       "85  https://www.mayoclinic.org/diseases-conditions...  62   \n",
       "\n",
       "                                 header  header_len  \\\n",
       "85  coronavirus disease 2019 (covid-19)          35   \n",
       "\n",
       "                                                 meta  meta_len   bytes  \\\n",
       "85  Find out about coronavirus disease 2019 (COVID...       157  164386   \n",
       "\n",
       "    word_count  total_links  inbound_domains  outbound_domains  ext_links  \\\n",
       "85        5194        14924              554                 0        263   \n",
       "\n",
       "    unique_ext  inlinks  unique_in  outlinks  unique_out    pub_date  \n",
       "85         240       15          7        97          62  2020-05-21  "
      ]
     },
     "execution_count": 19,
     "metadata": {},
     "output_type": "execute_result"
    }
   ],
   "source": [
    "# unsurprisingly, coronavirus again\n",
    "data.loc[data[\"word_count\"]==5194]"
   ]
  },
  {
   "cell_type": "code",
   "execution_count": 69,
   "metadata": {
    "scrolled": true
   },
   "outputs": [
    {
     "data": {
      "image/png": "[encoded data removed]",
      "text/plain": [
       "<Figure size 432x288 with 1 Axes>"
      ]
     },
     "metadata": {
      "needs_background": "light"
     },
     "output_type": "display_data"
    }
   ],
   "source": [
    "exclude(data, 'word_count', 1000, 4000, 50)"
   ]
  },
  {
   "cell_type": "code",
   "execution_count": 20,
   "metadata": {
    "scrolled": true
   },
   "outputs": [
    {
     "data": {
      "text/html": [
       "<div>\n",
       "<style scoped>\n",
       "    .dataframe tbody tr th:only-of-type {\n",
       "        vertical-align: middle;\n",
       "    }\n",
       "\n",
       "    .dataframe tbody tr th {\n",
       "        vertical-align: top;\n",
       "    }\n",
       "\n",
       "    .dataframe thead th {\n",
       "        text-align: right;\n",
       "    }\n",
       "</style>\n",
       "<table border=\"1\" class=\"dataframe\">\n",
       "  <thead>\n",
       "    <tr style=\"text-align: right;\">\n",
       "      <th></th>\n",
       "      <th>url</th>\n",
       "      <th>pa</th>\n",
       "      <th>header</th>\n",
       "      <th>header_len</th>\n",
       "      <th>meta</th>\n",
       "      <th>meta_len</th>\n",
       "      <th>bytes</th>\n",
       "      <th>word_count</th>\n",
       "      <th>total_links</th>\n",
       "      <th>inbound_domains</th>\n",
       "      <th>outbound_domains</th>\n",
       "      <th>ext_links</th>\n",
       "      <th>unique_ext</th>\n",
       "      <th>inlinks</th>\n",
       "      <th>unique_in</th>\n",
       "      <th>outlinks</th>\n",
       "      <th>unique_out</th>\n",
       "      <th>pub_date</th>\n",
       "    </tr>\n",
       "  </thead>\n",
       "  <tbody>\n",
       "    <tr>\n",
       "      <th>7</th>\n",
       "      <td>https://www.mayoclinic.org/diseases-conditions...</td>\n",
       "      <td>62</td>\n",
       "      <td>drug addiction (substance use disorder)</td>\n",
       "      <td>39</td>\n",
       "      <td>With drug addiction (substance use disorder), ...</td>\n",
       "      <td>160</td>\n",
       "      <td>70000</td>\n",
       "      <td>4308</td>\n",
       "      <td>4641</td>\n",
       "      <td>1013</td>\n",
       "      <td>10</td>\n",
       "      <td>69</td>\n",
       "      <td>46</td>\n",
       "      <td>10</td>\n",
       "      <td>5</td>\n",
       "      <td>74</td>\n",
       "      <td>46</td>\n",
       "      <td>2017-10-26</td>\n",
       "    </tr>\n",
       "    <tr>\n",
       "      <th>62</th>\n",
       "      <td>https://www.mayoclinic.org/diseases-conditions...</td>\n",
       "      <td>64</td>\n",
       "      <td>heart disease</td>\n",
       "      <td>13</td>\n",
       "      <td>Learn about symptoms, causes and treatment of ...</td>\n",
       "      <td>132</td>\n",
       "      <td>93732</td>\n",
       "      <td>4052</td>\n",
       "      <td>7463</td>\n",
       "      <td>1540</td>\n",
       "      <td>10</td>\n",
       "      <td>88</td>\n",
       "      <td>64</td>\n",
       "      <td>39</td>\n",
       "      <td>26</td>\n",
       "      <td>130</td>\n",
       "      <td>88</td>\n",
       "      <td>2018-03-22</td>\n",
       "    </tr>\n",
       "    <tr>\n",
       "      <th>85</th>\n",
       "      <td>https://www.mayoclinic.org/diseases-conditions...</td>\n",
       "      <td>62</td>\n",
       "      <td>coronavirus disease 2019 (covid-19)</td>\n",
       "      <td>35</td>\n",
       "      <td>Find out about coronavirus disease 2019 (COVID...</td>\n",
       "      <td>157</td>\n",
       "      <td>164386</td>\n",
       "      <td>5194</td>\n",
       "      <td>14924</td>\n",
       "      <td>554</td>\n",
       "      <td>0</td>\n",
       "      <td>263</td>\n",
       "      <td>240</td>\n",
       "      <td>15</td>\n",
       "      <td>7</td>\n",
       "      <td>97</td>\n",
       "      <td>62</td>\n",
       "      <td>2020-05-21</td>\n",
       "    </tr>\n",
       "  </tbody>\n",
       "</table>\n",
       "</div>"
      ],
      "text/plain": [
       "                                                  url  pa  \\\n",
       "7   https://www.mayoclinic.org/diseases-conditions...  62   \n",
       "62  https://www.mayoclinic.org/diseases-conditions...  64   \n",
       "85  https://www.mayoclinic.org/diseases-conditions...  62   \n",
       "\n",
       "                                     header  header_len  \\\n",
       "7   drug addiction (substance use disorder)          39   \n",
       "62                            heart disease          13   \n",
       "85      coronavirus disease 2019 (covid-19)          35   \n",
       "\n",
       "                                                 meta  meta_len   bytes  \\\n",
       "7   With drug addiction (substance use disorder), ...       160   70000   \n",
       "62  Learn about symptoms, causes and treatment of ...       132   93732   \n",
       "85  Find out about coronavirus disease 2019 (COVID...       157  164386   \n",
       "\n",
       "    word_count  total_links  inbound_domains  outbound_domains  ext_links  \\\n",
       "7         4308         4641             1013                10         69   \n",
       "62        4052         7463             1540                10         88   \n",
       "85        5194        14924              554                 0        263   \n",
       "\n",
       "    unique_ext  inlinks  unique_in  outlinks  unique_out    pub_date  \n",
       "7           46       10          5        74          46  2017-10-26  \n",
       "62          64       39         26       130          88  2018-03-22  \n",
       "85         240       15          7        97          62  2020-05-21  "
      ]
     },
     "execution_count": 20,
     "metadata": {},
     "output_type": "execute_result"
    }
   ],
   "source": [
    "# other pages with word count far above average\n",
    "data.loc[data[\"word_count\"]>4000]"
   ]
  },
  {
   "cell_type": "markdown",
   "metadata": {},
   "source": [
    "The other pages with high word count are heart disease and substace abuse disorder. Both are relatively common conditions, and both describe a range of conditions, explaining the need for more words."
   ]
  },
  {
   "cell_type": "markdown",
   "metadata": {},
   "source": [
    "## Link Authority\n",
    "### Total Links\n",
    "*Total number of links to each URL in the dataset.*"
   ]
  },
  {
   "cell_type": "code",
   "execution_count": 22,
   "metadata": {},
   "outputs": [
    {
     "data": {
      "image/png": "[encoded data removed]",
      "text/plain": [
       "<Figure size 432x288 with 1 Axes>"
      ]
     },
     "metadata": {
      "needs_background": "light"
     },
     "output_type": "display_data"
    },
    {
     "name": "stdout",
     "output_type": "stream",
     "text": [
      "min: 786\n",
      "max: 38868\n",
      "mean: 4146.416666666667\n",
      "variance: 19909363.60232558\n",
      "stan dev: 4461.990990838684\n"
     ]
    }
   ],
   "source": [
    "examine(data, \"total_links\", 30)"
   ]
  },
  {
   "cell_type": "markdown",
   "metadata": {},
   "source": [
    "### Inbound Domains\n",
    "*Number of other websites (domains) that link to a URL in the dataset.*"
   ]
  },
  {
   "cell_type": "code",
   "execution_count": 58,
   "metadata": {
    "scrolled": false
   },
   "outputs": [
    {
     "data": {
      "image/png": "[encoded data removed]",
      "text/plain": [
       "<Figure size 432x288 with 1 Axes>"
      ]
     },
     "metadata": {
      "needs_background": "light"
     },
     "output_type": "display_data"
    },
    {
     "name": "stdout",
     "output_type": "stream",
     "text": [
      "min: 327\n",
      "max: 4191\n",
      "mean: 861.5324074074074\n",
      "variance: 208711.86871231697\n",
      "stan dev: 456.8499411320056\n"
     ]
    }
   ],
   "source": [
    "examine(data, \"inbound_domains\", 30)"
   ]
  },
  {
   "cell_type": "markdown",
   "metadata": {},
   "source": [
    "### External Links\n",
    "*Number of links from this page to another website (another domain).*"
   ]
  },
  {
   "cell_type": "code",
   "execution_count": 31,
   "metadata": {},
   "outputs": [
    {
     "data": {
      "image/png": "[encoded data removed]",
      "text/plain": [
       "<Figure size 432x288 with 1 Axes>"
      ]
     },
     "metadata": {
      "needs_background": "light"
     },
     "output_type": "display_data"
    },
    {
     "name": "stdout",
     "output_type": "stream",
     "text": [
      "min: 67\n",
      "max: 263\n",
      "mean: 71.66203703703704\n",
      "variance: 198.56897071490096\n",
      "stan dev: 14.091450270107082\n"
     ]
    }
   ],
   "source": [
    "examine(data, \"ext_links\", 20)"
   ]
  },
  {
   "cell_type": "markdown",
   "metadata": {},
   "source": [
    "This outlier is more extreme than the others we have seen in the data so far."
   ]
  },
  {
   "cell_type": "code",
   "execution_count": 32,
   "metadata": {
    "scrolled": true
   },
   "outputs": [
    {
     "data": {
      "text/html": [
       "<div>\n",
       "<style scoped>\n",
       "    .dataframe tbody tr th:only-of-type {\n",
       "        vertical-align: middle;\n",
       "    }\n",
       "\n",
       "    .dataframe tbody tr th {\n",
       "        vertical-align: top;\n",
       "    }\n",
       "\n",
       "    .dataframe thead th {\n",
       "        text-align: right;\n",
       "    }\n",
       "</style>\n",
       "<table border=\"1\" class=\"dataframe\">\n",
       "  <thead>\n",
       "    <tr style=\"text-align: right;\">\n",
       "      <th></th>\n",
       "      <th>url</th>\n",
       "      <th>pa</th>\n",
       "      <th>header</th>\n",
       "      <th>header_len</th>\n",
       "      <th>meta</th>\n",
       "      <th>meta_len</th>\n",
       "      <th>bytes</th>\n",
       "      <th>word_count</th>\n",
       "      <th>total_links</th>\n",
       "      <th>inbound_domains</th>\n",
       "      <th>outbound_domains</th>\n",
       "      <th>ext_links</th>\n",
       "      <th>unique_ext</th>\n",
       "      <th>inlinks</th>\n",
       "      <th>unique_in</th>\n",
       "      <th>outlinks</th>\n",
       "      <th>unique_out</th>\n",
       "      <th>pub_date</th>\n",
       "    </tr>\n",
       "  </thead>\n",
       "  <tbody>\n",
       "    <tr>\n",
       "      <th>48</th>\n",
       "      <td>https://www.mayoclinic.org/diseases-conditions...</td>\n",
       "      <td>60</td>\n",
       "      <td>cancer</td>\n",
       "      <td>6</td>\n",
       "      <td>Find out the basics about cancer, including sy...</td>\n",
       "      <td>120</td>\n",
       "      <td>93326</td>\n",
       "      <td>3532</td>\n",
       "      <td>2553</td>\n",
       "      <td>585</td>\n",
       "      <td>10</td>\n",
       "      <td>104</td>\n",
       "      <td>80</td>\n",
       "      <td>26</td>\n",
       "      <td>21</td>\n",
       "      <td>130</td>\n",
       "      <td>99</td>\n",
       "      <td>2018-12-12</td>\n",
       "    </tr>\n",
       "    <tr>\n",
       "      <th>85</th>\n",
       "      <td>https://www.mayoclinic.org/diseases-conditions...</td>\n",
       "      <td>62</td>\n",
       "      <td>coronavirus disease 2019 (covid-19)</td>\n",
       "      <td>35</td>\n",
       "      <td>Find out about coronavirus disease 2019 (COVID...</td>\n",
       "      <td>157</td>\n",
       "      <td>164386</td>\n",
       "      <td>5194</td>\n",
       "      <td>14924</td>\n",
       "      <td>554</td>\n",
       "      <td>0</td>\n",
       "      <td>263</td>\n",
       "      <td>240</td>\n",
       "      <td>15</td>\n",
       "      <td>7</td>\n",
       "      <td>97</td>\n",
       "      <td>62</td>\n",
       "      <td>2020-05-21</td>\n",
       "    </tr>\n",
       "  </tbody>\n",
       "</table>\n",
       "</div>"
      ],
      "text/plain": [
       "                                                  url  pa  \\\n",
       "48  https://www.mayoclinic.org/diseases-conditions...  60   \n",
       "85  https://www.mayoclinic.org/diseases-conditions...  62   \n",
       "\n",
       "                                 header  header_len  \\\n",
       "48                               cancer           6   \n",
       "85  coronavirus disease 2019 (covid-19)          35   \n",
       "\n",
       "                                                 meta  meta_len   bytes  \\\n",
       "48  Find out the basics about cancer, including sy...       120   93326   \n",
       "85  Find out about coronavirus disease 2019 (COVID...       157  164386   \n",
       "\n",
       "    word_count  total_links  inbound_domains  outbound_domains  ext_links  \\\n",
       "48        3532         2553              585                10        104   \n",
       "85        5194        14924              554                 0        263   \n",
       "\n",
       "    unique_ext  inlinks  unique_in  outlinks  unique_out    pub_date  \n",
       "48          80       26         21       130          99  2018-12-12  \n",
       "85         240       15          7        97          62  2020-05-21  "
      ]
     },
     "execution_count": 32,
     "metadata": {},
     "output_type": "execute_result"
    }
   ],
   "source": [
    "data[data.ext_links>100]"
   ]
  },
  {
   "cell_type": "markdown",
   "metadata": {},
   "source": [
    "And we see why: the Symptoms and Causes pages on the Mayo Clinic domain with the most links to other websites are those for cancer and coronavirus, widespread, newsworthy, very serious conditions that are currently affecting the lives of many, and about which people need a wealth of information to learn from and respond to to help with prevention and treatment."
   ]
  },
  {
   "cell_type": "code",
   "execution_count": 33,
   "metadata": {},
   "outputs": [
    {
     "data": {
      "image/png": "[encoded data removed]",
      "text/plain": [
       "<Figure size 432x288 with 1 Axes>"
      ]
     },
     "metadata": {
      "needs_background": "light"
     },
     "output_type": "display_data"
    }
   ],
   "source": [
    "exclude(data, \"ext_links\", 65, 100, 20)"
   ]
  },
  {
   "cell_type": "code",
   "execution_count": 57,
   "metadata": {
    "scrolled": false
   },
   "outputs": [
    {
     "data": {
      "text/html": [
       "<div>\n",
       "<style scoped>\n",
       "    .dataframe tbody tr th:only-of-type {\n",
       "        vertical-align: middle;\n",
       "    }\n",
       "\n",
       "    .dataframe tbody tr th {\n",
       "        vertical-align: top;\n",
       "    }\n",
       "\n",
       "    .dataframe thead th {\n",
       "        text-align: right;\n",
       "    }\n",
       "</style>\n",
       "<table border=\"1\" class=\"dataframe\">\n",
       "  <thead>\n",
       "    <tr style=\"text-align: right;\">\n",
       "      <th></th>\n",
       "      <th>url</th>\n",
       "      <th>pa</th>\n",
       "      <th>header</th>\n",
       "      <th>header_len</th>\n",
       "      <th>meta</th>\n",
       "      <th>meta_len</th>\n",
       "      <th>bytes</th>\n",
       "      <th>word_count</th>\n",
       "      <th>total_links</th>\n",
       "      <th>inbound_domains</th>\n",
       "      <th>outbound_domains</th>\n",
       "      <th>ext_links</th>\n",
       "      <th>unique_ext</th>\n",
       "      <th>inlinks</th>\n",
       "      <th>unique_in</th>\n",
       "      <th>outlinks</th>\n",
       "      <th>unique_out</th>\n",
       "      <th>pub_date</th>\n",
       "    </tr>\n",
       "  </thead>\n",
       "  <tbody>\n",
       "    <tr>\n",
       "      <th>14</th>\n",
       "      <td>https://www.mayoclinic.org/diseases-conditions...</td>\n",
       "      <td>63</td>\n",
       "      <td>alzheimer's disease</td>\n",
       "      <td>19</td>\n",
       "      <td>Alzheimer's disease causes a progressive loss ...</td>\n",
       "      <td>128</td>\n",
       "      <td>91009</td>\n",
       "      <td>3572</td>\n",
       "      <td>4124</td>\n",
       "      <td>1217</td>\n",
       "      <td>10</td>\n",
       "      <td>97</td>\n",
       "      <td>73</td>\n",
       "      <td>15</td>\n",
       "      <td>7</td>\n",
       "      <td>127</td>\n",
       "      <td>85</td>\n",
       "      <td>737036.0</td>\n",
       "    </tr>\n",
       "    <tr>\n",
       "      <th>43</th>\n",
       "      <td>https://www.mayoclinic.org/diseases-conditions...</td>\n",
       "      <td>61</td>\n",
       "      <td>breast cancer</td>\n",
       "      <td>13</td>\n",
       "      <td>Breast cancer — Comprehensive overview covers ...</td>\n",
       "      <td>109</td>\n",
       "      <td>93906</td>\n",
       "      <td>3409</td>\n",
       "      <td>2734</td>\n",
       "      <td>797</td>\n",
       "      <td>10</td>\n",
       "      <td>96</td>\n",
       "      <td>73</td>\n",
       "      <td>88</td>\n",
       "      <td>49</td>\n",
       "      <td>139</td>\n",
       "      <td>106</td>\n",
       "      <td>737385.0</td>\n",
       "    </tr>\n",
       "    <tr>\n",
       "      <th>48</th>\n",
       "      <td>https://www.mayoclinic.org/diseases-conditions...</td>\n",
       "      <td>60</td>\n",
       "      <td>cancer</td>\n",
       "      <td>6</td>\n",
       "      <td>Find out the basics about cancer, including sy...</td>\n",
       "      <td>120</td>\n",
       "      <td>93326</td>\n",
       "      <td>3532</td>\n",
       "      <td>2553</td>\n",
       "      <td>585</td>\n",
       "      <td>10</td>\n",
       "      <td>104</td>\n",
       "      <td>80</td>\n",
       "      <td>26</td>\n",
       "      <td>21</td>\n",
       "      <td>130</td>\n",
       "      <td>99</td>\n",
       "      <td>737040.0</td>\n",
       "    </tr>\n",
       "    <tr>\n",
       "      <th>85</th>\n",
       "      <td>https://www.mayoclinic.org/diseases-conditions...</td>\n",
       "      <td>62</td>\n",
       "      <td>coronavirus disease 2019 (covid-19)</td>\n",
       "      <td>35</td>\n",
       "      <td>Find out about coronavirus disease 2019 (COVID...</td>\n",
       "      <td>157</td>\n",
       "      <td>164386</td>\n",
       "      <td>5194</td>\n",
       "      <td>14924</td>\n",
       "      <td>554</td>\n",
       "      <td>0</td>\n",
       "      <td>263</td>\n",
       "      <td>240</td>\n",
       "      <td>15</td>\n",
       "      <td>7</td>\n",
       "      <td>97</td>\n",
       "      <td>62</td>\n",
       "      <td>737566.0</td>\n",
       "    </tr>\n",
       "  </tbody>\n",
       "</table>\n",
       "</div>"
      ],
      "text/plain": [
       "                                                  url  pa  \\\n",
       "14  https://www.mayoclinic.org/diseases-conditions...  63   \n",
       "43  https://www.mayoclinic.org/diseases-conditions...  61   \n",
       "48  https://www.mayoclinic.org/diseases-conditions...  60   \n",
       "85  https://www.mayoclinic.org/diseases-conditions...  62   \n",
       "\n",
       "                                 header  header_len  \\\n",
       "14                  alzheimer's disease          19   \n",
       "43                        breast cancer          13   \n",
       "48                               cancer           6   \n",
       "85  coronavirus disease 2019 (covid-19)          35   \n",
       "\n",
       "                                                 meta  meta_len   bytes  \\\n",
       "14  Alzheimer's disease causes a progressive loss ...       128   91009   \n",
       "43  Breast cancer — Comprehensive overview covers ...       109   93906   \n",
       "48  Find out the basics about cancer, including sy...       120   93326   \n",
       "85  Find out about coronavirus disease 2019 (COVID...       157  164386   \n",
       "\n",
       "    word_count  total_links  inbound_domains  outbound_domains  ext_links  \\\n",
       "14        3572         4124             1217                10         97   \n",
       "43        3409         2734              797                10         96   \n",
       "48        3532         2553              585                10        104   \n",
       "85        5194        14924              554                 0        263   \n",
       "\n",
       "    unique_ext  inlinks  unique_in  outlinks  unique_out  pub_date  \n",
       "14          73       15          7       127          85  737036.0  \n",
       "43          73       88         49       139         106  737385.0  \n",
       "48          80       26         21       130          99  737040.0  \n",
       "85         240       15          7        97          62  737566.0  "
      ]
     },
     "execution_count": 57,
     "metadata": {},
     "output_type": "execute_result"
    }
   ],
   "source": [
    "data[data.ext_links>90]"
   ]
  },
  {
   "cell_type": "markdown",
   "metadata": {},
   "source": [
    "Other such pages include different forms of cancer and common, perilous conditions."
   ]
  },
  {
   "cell_type": "markdown",
   "metadata": {},
   "source": [
    "### Unique External Links\n",
    "*Number of links from this page to another website with links to the same page counted only once.*"
   ]
  },
  {
   "cell_type": "code",
   "execution_count": 35,
   "metadata": {
    "scrolled": false
   },
   "outputs": [
    {
     "data": {
      "image/png": "[encoded data removed]",
      "text/plain": [
       "<Figure size 432x288 with 1 Axes>"
      ]
     },
     "metadata": {
      "needs_background": "light"
     },
     "output_type": "display_data"
    },
    {
     "name": "stdout",
     "output_type": "stream",
     "text": [
      "min: 45\n",
      "max: 240\n",
      "mean: 48.976851851851855\n",
      "variance: 193.74364771748495\n",
      "stan dev: 13.919182724480807\n"
     ]
    }
   ],
   "source": [
    "examine(data, \"unique_ext\", 30)"
   ]
  },
  {
   "cell_type": "code",
   "execution_count": 36,
   "metadata": {},
   "outputs": [
    {
     "data": {
      "text/html": [
       "<div>\n",
       "<style scoped>\n",
       "    .dataframe tbody tr th:only-of-type {\n",
       "        vertical-align: middle;\n",
       "    }\n",
       "\n",
       "    .dataframe tbody tr th {\n",
       "        vertical-align: top;\n",
       "    }\n",
       "\n",
       "    .dataframe thead th {\n",
       "        text-align: right;\n",
       "    }\n",
       "</style>\n",
       "<table border=\"1\" class=\"dataframe\">\n",
       "  <thead>\n",
       "    <tr style=\"text-align: right;\">\n",
       "      <th></th>\n",
       "      <th>url</th>\n",
       "      <th>pa</th>\n",
       "      <th>header</th>\n",
       "      <th>header_len</th>\n",
       "      <th>meta</th>\n",
       "      <th>meta_len</th>\n",
       "      <th>bytes</th>\n",
       "      <th>word_count</th>\n",
       "      <th>total_links</th>\n",
       "      <th>inbound_domains</th>\n",
       "      <th>outbound_domains</th>\n",
       "      <th>ext_links</th>\n",
       "      <th>unique_ext</th>\n",
       "      <th>inlinks</th>\n",
       "      <th>unique_in</th>\n",
       "      <th>outlinks</th>\n",
       "      <th>unique_out</th>\n",
       "      <th>pub_date</th>\n",
       "    </tr>\n",
       "  </thead>\n",
       "  <tbody>\n",
       "    <tr>\n",
       "      <th>85</th>\n",
       "      <td>https://www.mayoclinic.org/diseases-conditions...</td>\n",
       "      <td>62</td>\n",
       "      <td>coronavirus disease 2019 (covid-19)</td>\n",
       "      <td>35</td>\n",
       "      <td>Find out about coronavirus disease 2019 (COVID...</td>\n",
       "      <td>157</td>\n",
       "      <td>164386</td>\n",
       "      <td>5194</td>\n",
       "      <td>14924</td>\n",
       "      <td>554</td>\n",
       "      <td>0</td>\n",
       "      <td>263</td>\n",
       "      <td>240</td>\n",
       "      <td>15</td>\n",
       "      <td>7</td>\n",
       "      <td>97</td>\n",
       "      <td>62</td>\n",
       "      <td>2020-05-21</td>\n",
       "    </tr>\n",
       "  </tbody>\n",
       "</table>\n",
       "</div>"
      ],
      "text/plain": [
       "                                                  url  pa  \\\n",
       "85  https://www.mayoclinic.org/diseases-conditions...  62   \n",
       "\n",
       "                                 header  header_len  \\\n",
       "85  coronavirus disease 2019 (covid-19)          35   \n",
       "\n",
       "                                                 meta  meta_len   bytes  \\\n",
       "85  Find out about coronavirus disease 2019 (COVID...       157  164386   \n",
       "\n",
       "    word_count  total_links  inbound_domains  outbound_domains  ext_links  \\\n",
       "85        5194        14924              554                 0        263   \n",
       "\n",
       "    unique_ext  inlinks  unique_in  outlinks  unique_out    pub_date  \n",
       "85         240       15          7        97          62  2020-05-21  "
      ]
     },
     "execution_count": 36,
     "metadata": {},
     "output_type": "execute_result"
    }
   ],
   "source": [
    "data[data.unique_ext>80]"
   ]
  },
  {
   "cell_type": "code",
   "execution_count": 37,
   "metadata": {
    "scrolled": true
   },
   "outputs": [
    {
     "data": {
      "image/png": "[encoded data removed]",
      "text/plain": [
       "<Figure size 432x288 with 1 Axes>"
      ]
     },
     "metadata": {
      "needs_background": "light"
     },
     "output_type": "display_data"
    }
   ],
   "source": [
    "exclude(data, \"unique_ext\", 44,80, 30)"
   ]
  },
  {
   "cell_type": "code",
   "execution_count": 56,
   "metadata": {},
   "outputs": [
    {
     "data": {
      "text/html": [
       "<div>\n",
       "<style scoped>\n",
       "    .dataframe tbody tr th:only-of-type {\n",
       "        vertical-align: middle;\n",
       "    }\n",
       "\n",
       "    .dataframe tbody tr th {\n",
       "        vertical-align: top;\n",
       "    }\n",
       "\n",
       "    .dataframe thead th {\n",
       "        text-align: right;\n",
       "    }\n",
       "</style>\n",
       "<table border=\"1\" class=\"dataframe\">\n",
       "  <thead>\n",
       "    <tr style=\"text-align: right;\">\n",
       "      <th></th>\n",
       "      <th>url</th>\n",
       "      <th>pa</th>\n",
       "      <th>header</th>\n",
       "      <th>header_len</th>\n",
       "      <th>meta</th>\n",
       "      <th>meta_len</th>\n",
       "      <th>bytes</th>\n",
       "      <th>word_count</th>\n",
       "      <th>total_links</th>\n",
       "      <th>inbound_domains</th>\n",
       "      <th>outbound_domains</th>\n",
       "      <th>ext_links</th>\n",
       "      <th>unique_ext</th>\n",
       "      <th>inlinks</th>\n",
       "      <th>unique_in</th>\n",
       "      <th>outlinks</th>\n",
       "      <th>unique_out</th>\n",
       "      <th>pub_date</th>\n",
       "    </tr>\n",
       "  </thead>\n",
       "  <tbody>\n",
       "    <tr>\n",
       "      <th>14</th>\n",
       "      <td>https://www.mayoclinic.org/diseases-conditions...</td>\n",
       "      <td>63</td>\n",
       "      <td>alzheimer's disease</td>\n",
       "      <td>19</td>\n",
       "      <td>Alzheimer's disease causes a progressive loss ...</td>\n",
       "      <td>128</td>\n",
       "      <td>91009</td>\n",
       "      <td>3572</td>\n",
       "      <td>4124</td>\n",
       "      <td>1217</td>\n",
       "      <td>10</td>\n",
       "      <td>97</td>\n",
       "      <td>73</td>\n",
       "      <td>15</td>\n",
       "      <td>7</td>\n",
       "      <td>127</td>\n",
       "      <td>85</td>\n",
       "      <td>737036.0</td>\n",
       "    </tr>\n",
       "    <tr>\n",
       "      <th>43</th>\n",
       "      <td>https://www.mayoclinic.org/diseases-conditions...</td>\n",
       "      <td>61</td>\n",
       "      <td>breast cancer</td>\n",
       "      <td>13</td>\n",
       "      <td>Breast cancer — Comprehensive overview covers ...</td>\n",
       "      <td>109</td>\n",
       "      <td>93906</td>\n",
       "      <td>3409</td>\n",
       "      <td>2734</td>\n",
       "      <td>797</td>\n",
       "      <td>10</td>\n",
       "      <td>96</td>\n",
       "      <td>73</td>\n",
       "      <td>88</td>\n",
       "      <td>49</td>\n",
       "      <td>139</td>\n",
       "      <td>106</td>\n",
       "      <td>737385.0</td>\n",
       "    </tr>\n",
       "    <tr>\n",
       "      <th>48</th>\n",
       "      <td>https://www.mayoclinic.org/diseases-conditions...</td>\n",
       "      <td>60</td>\n",
       "      <td>cancer</td>\n",
       "      <td>6</td>\n",
       "      <td>Find out the basics about cancer, including sy...</td>\n",
       "      <td>120</td>\n",
       "      <td>93326</td>\n",
       "      <td>3532</td>\n",
       "      <td>2553</td>\n",
       "      <td>585</td>\n",
       "      <td>10</td>\n",
       "      <td>104</td>\n",
       "      <td>80</td>\n",
       "      <td>26</td>\n",
       "      <td>21</td>\n",
       "      <td>130</td>\n",
       "      <td>99</td>\n",
       "      <td>737040.0</td>\n",
       "    </tr>\n",
       "    <tr>\n",
       "      <th>85</th>\n",
       "      <td>https://www.mayoclinic.org/diseases-conditions...</td>\n",
       "      <td>62</td>\n",
       "      <td>coronavirus disease 2019 (covid-19)</td>\n",
       "      <td>35</td>\n",
       "      <td>Find out about coronavirus disease 2019 (COVID...</td>\n",
       "      <td>157</td>\n",
       "      <td>164386</td>\n",
       "      <td>5194</td>\n",
       "      <td>14924</td>\n",
       "      <td>554</td>\n",
       "      <td>0</td>\n",
       "      <td>263</td>\n",
       "      <td>240</td>\n",
       "      <td>15</td>\n",
       "      <td>7</td>\n",
       "      <td>97</td>\n",
       "      <td>62</td>\n",
       "      <td>737566.0</td>\n",
       "    </tr>\n",
       "    <tr>\n",
       "      <th>127</th>\n",
       "      <td>https://www.mayoclinic.org/diseases-conditions...</td>\n",
       "      <td>62</td>\n",
       "      <td>influenza (flu)</td>\n",
       "      <td>15</td>\n",
       "      <td>Learn more about the symptoms, causes and prev...</td>\n",
       "      <td>131</td>\n",
       "      <td>68565</td>\n",
       "      <td>2899</td>\n",
       "      <td>4381</td>\n",
       "      <td>949</td>\n",
       "      <td>10</td>\n",
       "      <td>89</td>\n",
       "      <td>66</td>\n",
       "      <td>8</td>\n",
       "      <td>3</td>\n",
       "      <td>82</td>\n",
       "      <td>50</td>\n",
       "      <td>737336.0</td>\n",
       "    </tr>\n",
       "  </tbody>\n",
       "</table>\n",
       "</div>"
      ],
      "text/plain": [
       "                                                   url  pa  \\\n",
       "14   https://www.mayoclinic.org/diseases-conditions...  63   \n",
       "43   https://www.mayoclinic.org/diseases-conditions...  61   \n",
       "48   https://www.mayoclinic.org/diseases-conditions...  60   \n",
       "85   https://www.mayoclinic.org/diseases-conditions...  62   \n",
       "127  https://www.mayoclinic.org/diseases-conditions...  62   \n",
       "\n",
       "                                  header  header_len  \\\n",
       "14                   alzheimer's disease          19   \n",
       "43                         breast cancer          13   \n",
       "48                                cancer           6   \n",
       "85   coronavirus disease 2019 (covid-19)          35   \n",
       "127                      influenza (flu)          15   \n",
       "\n",
       "                                                  meta  meta_len   bytes  \\\n",
       "14   Alzheimer's disease causes a progressive loss ...       128   91009   \n",
       "43   Breast cancer — Comprehensive overview covers ...       109   93906   \n",
       "48   Find out the basics about cancer, including sy...       120   93326   \n",
       "85   Find out about coronavirus disease 2019 (COVID...       157  164386   \n",
       "127  Learn more about the symptoms, causes and prev...       131   68565   \n",
       "\n",
       "     word_count  total_links  inbound_domains  outbound_domains  ext_links  \\\n",
       "14         3572         4124             1217                10         97   \n",
       "43         3409         2734              797                10         96   \n",
       "48         3532         2553              585                10        104   \n",
       "85         5194        14924              554                 0        263   \n",
       "127        2899         4381              949                10         89   \n",
       "\n",
       "     unique_ext  inlinks  unique_in  outlinks  unique_out  pub_date  \n",
       "14           73       15          7       127          85  737036.0  \n",
       "43           73       88         49       139         106  737385.0  \n",
       "48           80       26         21       130          99  737040.0  \n",
       "85          240       15          7        97          62  737566.0  \n",
       "127          66        8          3        82          50  737336.0  "
      ]
     },
     "execution_count": 56,
     "metadata": {},
     "output_type": "execute_result"
    }
   ],
   "source": [
    "data[data.unique_ext>65]"
   ]
  },
  {
   "cell_type": "code",
   "execution_count": 39,
   "metadata": {
    "scrolled": true
   },
   "outputs": [
    {
     "data": {
      "image/png": "[encoded data removed]",
      "text/plain": [
       "<Figure size 432x288 with 1 Axes>"
      ]
     },
     "metadata": {
      "needs_background": "light"
     },
     "output_type": "display_data"
    }
   ],
   "source": [
    "exclude(data, \"unique_ext\", 44, 55, 20)"
   ]
  },
  {
   "cell_type": "markdown",
   "metadata": {},
   "source": [
    "### Inlinks\n",
    "*Number of links to this page on the Mayo Clinic domain.*"
   ]
  },
  {
   "cell_type": "code",
   "execution_count": 23,
   "metadata": {},
   "outputs": [
    {
     "data": {
      "image/png": "[encoded data removed]",
      "text/plain": [
       "<Figure size 432x288 with 1 Axes>"
      ]
     },
     "metadata": {
      "needs_background": "light"
     },
     "output_type": "display_data"
    },
    {
     "name": "stdout",
     "output_type": "stream",
     "text": [
      "min: 7\n",
      "max: 88\n",
      "mean: 12.99537037037037\n",
      "variance: 68.74881567614126\n",
      "stan dev: 8.291490558165115\n"
     ]
    }
   ],
   "source": [
    "examine(data, \"inlinks\", 30)"
   ]
  },
  {
   "cell_type": "markdown",
   "metadata": {},
   "source": [
    "Most Symptoms and Causes pages on the Mayo Clinic site seem to have around 10 other Mayo Clinic pages linking to them. These would likely be related conditions and the Diagnosis and Treatment, Doctors and Departments, and Care at Mayo Clinic pages for the condition, as well as the index page the condition is listed under and any other related page on the website that for which linking to a Symptoms and Causes page would make sense."
   ]
  },
  {
   "cell_type": "code",
   "execution_count": 24,
   "metadata": {
    "scrolled": true
   },
   "outputs": [
    {
     "data": {
      "text/html": [
       "<div>\n",
       "<style scoped>\n",
       "    .dataframe tbody tr th:only-of-type {\n",
       "        vertical-align: middle;\n",
       "    }\n",
       "\n",
       "    .dataframe tbody tr th {\n",
       "        vertical-align: top;\n",
       "    }\n",
       "\n",
       "    .dataframe thead th {\n",
       "        text-align: right;\n",
       "    }\n",
       "</style>\n",
       "<table border=\"1\" class=\"dataframe\">\n",
       "  <thead>\n",
       "    <tr style=\"text-align: right;\">\n",
       "      <th></th>\n",
       "      <th>url</th>\n",
       "      <th>pa</th>\n",
       "      <th>header</th>\n",
       "      <th>header_len</th>\n",
       "      <th>meta</th>\n",
       "      <th>meta_len</th>\n",
       "      <th>bytes</th>\n",
       "      <th>word_count</th>\n",
       "      <th>total_links</th>\n",
       "      <th>inbound_domains</th>\n",
       "      <th>outbound_domains</th>\n",
       "      <th>ext_links</th>\n",
       "      <th>unique_ext</th>\n",
       "      <th>inlinks</th>\n",
       "      <th>unique_in</th>\n",
       "      <th>outlinks</th>\n",
       "      <th>unique_out</th>\n",
       "      <th>pub_date</th>\n",
       "    </tr>\n",
       "  </thead>\n",
       "  <tbody>\n",
       "    <tr>\n",
       "      <th>43</th>\n",
       "      <td>https://www.mayoclinic.org/diseases-conditions...</td>\n",
       "      <td>61</td>\n",
       "      <td>breast cancer</td>\n",
       "      <td>13</td>\n",
       "      <td>Breast cancer — Comprehensive overview covers ...</td>\n",
       "      <td>109</td>\n",
       "      <td>93906</td>\n",
       "      <td>3409</td>\n",
       "      <td>2734</td>\n",
       "      <td>797</td>\n",
       "      <td>10</td>\n",
       "      <td>96</td>\n",
       "      <td>73</td>\n",
       "      <td>88</td>\n",
       "      <td>49</td>\n",
       "      <td>139</td>\n",
       "      <td>106</td>\n",
       "      <td>2019-11-22</td>\n",
       "    </tr>\n",
       "  </tbody>\n",
       "</table>\n",
       "</div>"
      ],
      "text/plain": [
       "                                                  url  pa         header  \\\n",
       "43  https://www.mayoclinic.org/diseases-conditions...  61  breast cancer   \n",
       "\n",
       "    header_len                                               meta  meta_len  \\\n",
       "43          13  Breast cancer — Comprehensive overview covers ...       109   \n",
       "\n",
       "    bytes  word_count  total_links  inbound_domains  outbound_domains  \\\n",
       "43  93906        3409         2734              797                10   \n",
       "\n",
       "    ext_links  unique_ext  inlinks  unique_in  outlinks  unique_out  \\\n",
       "43         96          73       88         49       139         106   \n",
       "\n",
       "      pub_date  \n",
       "43  2019-11-22  "
      ]
     },
     "execution_count": 24,
     "metadata": {},
     "output_type": "execute_result"
    }
   ],
   "source": [
    "data[data.inlinks>60]"
   ]
  },
  {
   "cell_type": "code",
   "execution_count": 25,
   "metadata": {},
   "outputs": [
    {
     "data": {
      "text/html": [
       "<div>\n",
       "<style scoped>\n",
       "    .dataframe tbody tr th:only-of-type {\n",
       "        vertical-align: middle;\n",
       "    }\n",
       "\n",
       "    .dataframe tbody tr th {\n",
       "        vertical-align: top;\n",
       "    }\n",
       "\n",
       "    .dataframe thead th {\n",
       "        text-align: right;\n",
       "    }\n",
       "</style>\n",
       "<table border=\"1\" class=\"dataframe\">\n",
       "  <thead>\n",
       "    <tr style=\"text-align: right;\">\n",
       "      <th></th>\n",
       "      <th>url</th>\n",
       "      <th>pa</th>\n",
       "      <th>header</th>\n",
       "      <th>header_len</th>\n",
       "      <th>meta</th>\n",
       "      <th>meta_len</th>\n",
       "      <th>bytes</th>\n",
       "      <th>word_count</th>\n",
       "      <th>total_links</th>\n",
       "      <th>inbound_domains</th>\n",
       "      <th>outbound_domains</th>\n",
       "      <th>ext_links</th>\n",
       "      <th>unique_ext</th>\n",
       "      <th>inlinks</th>\n",
       "      <th>unique_in</th>\n",
       "      <th>outlinks</th>\n",
       "      <th>unique_out</th>\n",
       "      <th>pub_date</th>\n",
       "    </tr>\n",
       "  </thead>\n",
       "  <tbody>\n",
       "    <tr>\n",
       "      <th>23</th>\n",
       "      <td>https://www.mayoclinic.org/diseases-conditions...</td>\n",
       "      <td>60</td>\n",
       "      <td>heart arrhythmia</td>\n",
       "      <td>16</td>\n",
       "      <td>Learn about common heart disorders that can ca...</td>\n",
       "      <td>103</td>\n",
       "      <td>68502</td>\n",
       "      <td>3397</td>\n",
       "      <td>2182</td>\n",
       "      <td>481</td>\n",
       "      <td>10</td>\n",
       "      <td>67</td>\n",
       "      <td>45</td>\n",
       "      <td>54</td>\n",
       "      <td>34</td>\n",
       "      <td>94</td>\n",
       "      <td>65</td>\n",
       "      <td>2019-11-19</td>\n",
       "    </tr>\n",
       "    <tr>\n",
       "      <th>43</th>\n",
       "      <td>https://www.mayoclinic.org/diseases-conditions...</td>\n",
       "      <td>61</td>\n",
       "      <td>breast cancer</td>\n",
       "      <td>13</td>\n",
       "      <td>Breast cancer — Comprehensive overview covers ...</td>\n",
       "      <td>109</td>\n",
       "      <td>93906</td>\n",
       "      <td>3409</td>\n",
       "      <td>2734</td>\n",
       "      <td>797</td>\n",
       "      <td>10</td>\n",
       "      <td>96</td>\n",
       "      <td>73</td>\n",
       "      <td>88</td>\n",
       "      <td>49</td>\n",
       "      <td>139</td>\n",
       "      <td>106</td>\n",
       "      <td>2019-11-22</td>\n",
       "    </tr>\n",
       "    <tr>\n",
       "      <th>49</th>\n",
       "      <td>https://www.mayoclinic.org/diseases-conditions...</td>\n",
       "      <td>62</td>\n",
       "      <td>colon cancer</td>\n",
       "      <td>12</td>\n",
       "      <td>Find out about symptoms and risk factors for c...</td>\n",
       "      <td>158</td>\n",
       "      <td>67832</td>\n",
       "      <td>2531</td>\n",
       "      <td>6060</td>\n",
       "      <td>1036</td>\n",
       "      <td>10</td>\n",
       "      <td>83</td>\n",
       "      <td>60</td>\n",
       "      <td>43</td>\n",
       "      <td>21</td>\n",
       "      <td>96</td>\n",
       "      <td>64</td>\n",
       "      <td>2019-10-08</td>\n",
       "    </tr>\n",
       "    <tr>\n",
       "      <th>62</th>\n",
       "      <td>https://www.mayoclinic.org/diseases-conditions...</td>\n",
       "      <td>64</td>\n",
       "      <td>heart disease</td>\n",
       "      <td>13</td>\n",
       "      <td>Learn about symptoms, causes and treatment of ...</td>\n",
       "      <td>132</td>\n",
       "      <td>93732</td>\n",
       "      <td>4052</td>\n",
       "      <td>7463</td>\n",
       "      <td>1540</td>\n",
       "      <td>10</td>\n",
       "      <td>88</td>\n",
       "      <td>64</td>\n",
       "      <td>39</td>\n",
       "      <td>26</td>\n",
       "      <td>130</td>\n",
       "      <td>88</td>\n",
       "      <td>2018-03-22</td>\n",
       "    </tr>\n",
       "  </tbody>\n",
       "</table>\n",
       "</div>"
      ],
      "text/plain": [
       "                                                  url  pa            header  \\\n",
       "23  https://www.mayoclinic.org/diseases-conditions...  60  heart arrhythmia   \n",
       "43  https://www.mayoclinic.org/diseases-conditions...  61     breast cancer   \n",
       "49  https://www.mayoclinic.org/diseases-conditions...  62      colon cancer   \n",
       "62  https://www.mayoclinic.org/diseases-conditions...  64     heart disease   \n",
       "\n",
       "    header_len                                               meta  meta_len  \\\n",
       "23          16  Learn about common heart disorders that can ca...       103   \n",
       "43          13  Breast cancer — Comprehensive overview covers ...       109   \n",
       "49          12  Find out about symptoms and risk factors for c...       158   \n",
       "62          13  Learn about symptoms, causes and treatment of ...       132   \n",
       "\n",
       "    bytes  word_count  total_links  inbound_domains  outbound_domains  \\\n",
       "23  68502        3397         2182              481                10   \n",
       "43  93906        3409         2734              797                10   \n",
       "49  67832        2531         6060             1036                10   \n",
       "62  93732        4052         7463             1540                10   \n",
       "\n",
       "    ext_links  unique_ext  inlinks  unique_in  outlinks  unique_out  \\\n",
       "23         67          45       54         34        94          65   \n",
       "43         96          73       88         49       139         106   \n",
       "49         83          60       43         21        96          64   \n",
       "62         88          64       39         26       130          88   \n",
       "\n",
       "      pub_date  \n",
       "23  2019-11-19  \n",
       "43  2019-11-22  \n",
       "49  2019-10-08  \n",
       "62  2018-03-22  "
      ]
     },
     "execution_count": 25,
     "metadata": {},
     "output_type": "execute_result"
    }
   ],
   "source": [
    "data[data.inlinks>35]"
   ]
  },
  {
   "cell_type": "markdown",
   "metadata": {},
   "source": [
    "It's interesting that breast cancer is the page with the most internal inlinks of those I am examining. There are several types of breast cancer as well as conditions that can lead to breast cancer, and of course there are also many other kinds of cancer. It is possible that such pages link between one another on the Mayo Clinic domain."
   ]
  },
  {
   "cell_type": "markdown",
   "metadata": {},
   "source": [
    "### Unique Inlinks\n",
    "*Number of links to this page on the Mayo Clinic domain with links from the same page counted only once.*"
   ]
  },
  {
   "cell_type": "code",
   "execution_count": 26,
   "metadata": {
    "scrolled": false
   },
   "outputs": [
    {
     "data": {
      "image/png": "[encoded data removed]",
      "text/plain": [
       "<Figure size 432x288 with 1 Axes>"
      ]
     },
     "metadata": {
      "needs_background": "light"
     },
     "output_type": "display_data"
    },
    {
     "name": "stdout",
     "output_type": "stream",
     "text": [
      "min: 2\n",
      "max: 49\n",
      "mean: 6.125\n",
      "variance: 29.570348837209302\n",
      "stan dev: 5.4378625246699\n"
     ]
    }
   ],
   "source": [
    "examine(data, \"unique_in\", 30)"
   ]
  },
  {
   "cell_type": "markdown",
   "metadata": {},
   "source": [
    "This data largely resembles the total inlinks, except on a somewhat smaller scale."
   ]
  },
  {
   "cell_type": "code",
   "execution_count": 27,
   "metadata": {
    "scrolled": true
   },
   "outputs": [
    {
     "name": "stdout",
     "output_type": "stream",
     "text": [
      "Covariance: 43.72151\n",
      "Correlation: 0.96969\n",
      "R squared: 0.9403\n",
      "Linear Regression Slope: 0.6359602154292843\n"
     ]
    }
   ],
   "source": [
    "relate(data.inlinks, data.unique_in)"
   ]
  },
  {
   "cell_type": "code",
   "execution_count": 28,
   "metadata": {},
   "outputs": [
    {
     "data": {
      "text/html": [
       "<div>\n",
       "<style scoped>\n",
       "    .dataframe tbody tr th:only-of-type {\n",
       "        vertical-align: middle;\n",
       "    }\n",
       "\n",
       "    .dataframe tbody tr th {\n",
       "        vertical-align: top;\n",
       "    }\n",
       "\n",
       "    .dataframe thead th {\n",
       "        text-align: right;\n",
       "    }\n",
       "</style>\n",
       "<table border=\"1\" class=\"dataframe\">\n",
       "  <thead>\n",
       "    <tr style=\"text-align: right;\">\n",
       "      <th></th>\n",
       "      <th>url</th>\n",
       "      <th>pa</th>\n",
       "      <th>header</th>\n",
       "      <th>header_len</th>\n",
       "      <th>meta</th>\n",
       "      <th>meta_len</th>\n",
       "      <th>bytes</th>\n",
       "      <th>word_count</th>\n",
       "      <th>total_links</th>\n",
       "      <th>inbound_domains</th>\n",
       "      <th>outbound_domains</th>\n",
       "      <th>ext_links</th>\n",
       "      <th>unique_ext</th>\n",
       "      <th>inlinks</th>\n",
       "      <th>unique_in</th>\n",
       "      <th>outlinks</th>\n",
       "      <th>unique_out</th>\n",
       "      <th>pub_date</th>\n",
       "    </tr>\n",
       "  </thead>\n",
       "  <tbody>\n",
       "    <tr>\n",
       "      <th>43</th>\n",
       "      <td>https://www.mayoclinic.org/diseases-conditions...</td>\n",
       "      <td>61</td>\n",
       "      <td>breast cancer</td>\n",
       "      <td>13</td>\n",
       "      <td>Breast cancer — Comprehensive overview covers ...</td>\n",
       "      <td>109</td>\n",
       "      <td>93906</td>\n",
       "      <td>3409</td>\n",
       "      <td>2734</td>\n",
       "      <td>797</td>\n",
       "      <td>10</td>\n",
       "      <td>96</td>\n",
       "      <td>73</td>\n",
       "      <td>88</td>\n",
       "      <td>49</td>\n",
       "      <td>139</td>\n",
       "      <td>106</td>\n",
       "      <td>2019-11-22</td>\n",
       "    </tr>\n",
       "  </tbody>\n",
       "</table>\n",
       "</div>"
      ],
      "text/plain": [
       "                                                  url  pa         header  \\\n",
       "43  https://www.mayoclinic.org/diseases-conditions...  61  breast cancer   \n",
       "\n",
       "    header_len                                               meta  meta_len  \\\n",
       "43          13  Breast cancer — Comprehensive overview covers ...       109   \n",
       "\n",
       "    bytes  word_count  total_links  inbound_domains  outbound_domains  \\\n",
       "43  93906        3409         2734              797                10   \n",
       "\n",
       "    ext_links  unique_ext  inlinks  unique_in  outlinks  unique_out  \\\n",
       "43         96          73       88         49       139         106   \n",
       "\n",
       "      pub_date  \n",
       "43  2019-11-22  "
      ]
     },
     "execution_count": 28,
     "metadata": {},
     "output_type": "execute_result"
    }
   ],
   "source": [
    "data[data.unique_in>35]"
   ]
  },
  {
   "cell_type": "markdown",
   "metadata": {},
   "source": [
    "As one would therefore expect, the page that had the most inlinks also has the most unique inlinks."
   ]
  },
  {
   "cell_type": "markdown",
   "metadata": {},
   "source": [
    "## Outlinks\n",
    "*Number of links from this page to other pages on the Mayo Clinic domain.*"
   ]
  },
  {
   "cell_type": "code",
   "execution_count": 29,
   "metadata": {},
   "outputs": [
    {
     "data": {
      "image/png": "[encoded data removed]",
      "text/plain": [
       "<Figure size 432x288 with 1 Axes>"
      ]
     },
     "metadata": {
      "needs_background": "light"
     },
     "output_type": "display_data"
    },
    {
     "name": "stdout",
     "output_type": "stream",
     "text": [
      "min: 66\n",
      "max: 139\n",
      "mean: 79.57407407407408\n",
      "variance: 162.27355727820844\n",
      "stan dev: 12.738663873350628\n"
     ]
    }
   ],
   "source": [
    "examine(data, \"outlinks\", 70)"
   ]
  },
  {
   "cell_type": "markdown",
   "metadata": {},
   "source": [
    "We can see that Symptoms and Causes pages tend to link more to other page on the Mayo Clinic domain than be linked to. This is largely intuitive since it is more common for pages about conditions and diseases to link to pages for clinics that treat them, research summaries about them, or patient stories than for those pages to link back to the page for the condition itself. "
   ]
  },
  {
   "cell_type": "markdown",
   "metadata": {},
   "source": [
    "### Unique Outlinks\n",
    "*Number of links from this page to other pages on the Mayo Clinic domain with links to the same page counted only once.*"
   ]
  },
  {
   "cell_type": "code",
   "execution_count": 30,
   "metadata": {
    "scrolled": false
   },
   "outputs": [
    {
     "data": {
      "image/png": "[encoded data removed]",
      "text/plain": [
       "<Figure size 432x288 with 1 Axes>"
      ]
     },
     "metadata": {
      "needs_background": "light"
     },
     "output_type": "display_data"
    },
    {
     "name": "stdout",
     "output_type": "stream",
     "text": [
      "min: 41\n",
      "max: 106\n",
      "mean: 50.967592592592595\n",
      "variance: 108.7198751076658\n",
      "stan dev: 10.426882329232733\n"
     ]
    }
   ],
   "source": [
    "examine(data, \"unique_out\", 70)"
   ]
  },
  {
   "cell_type": "markdown",
   "metadata": {},
   "source": [
    "Again, this data resembles the data for total outlinks in shape; we still get the outliers."
   ]
  },
  {
   "cell_type": "markdown",
   "metadata": {},
   "source": [
    "## publication date"
   ]
  },
  {
   "cell_type": "code",
   "execution_count": 40,
   "metadata": {},
   "outputs": [
    {
     "data": {
      "text/plain": [
       "'2019-06-20'"
      ]
     },
     "execution_count": 40,
     "metadata": {},
     "output_type": "execute_result"
    }
   ],
   "source": [
    "data.pub_date[0]"
   ]
  },
  {
   "cell_type": "code",
   "execution_count": 41,
   "metadata": {},
   "outputs": [
    {
     "data": {
      "text/plain": [
       "str"
      ]
     },
     "execution_count": 41,
     "metadata": {},
     "output_type": "execute_result"
    }
   ],
   "source": [
    "# check date type\n",
    "type(data.pub_date[0])"
   ]
  },
  {
   "cell_type": "code",
   "execution_count": 42,
   "metadata": {},
   "outputs": [
    {
     "data": {
      "text/plain": [
       "numpy.float64"
      ]
     },
     "execution_count": 42,
     "metadata": {},
     "output_type": "execute_result"
    }
   ],
   "source": [
    "# convert pub_date from string to datetime_ob\n",
    "dat = []\n",
    "for date in data.pub_date:\n",
    "    ob = datetime.strptime(date, '%Y-%m-%d')\n",
    "    dat.append(ob)\n",
    "    \n",
    "# convert pub_date from datetime_ob to float\n",
    "data.pub_date = dt.date2num(dat)\n",
    "type(data[\"pub_date\"][0])"
   ]
  },
  {
   "cell_type": "code",
   "execution_count": 43,
   "metadata": {
    "scrolled": true
   },
   "outputs": [
    {
     "name": "stdout",
     "output_type": "stream",
     "text": [
      "min: 736230.0 2016-09-23\n",
      "max: 737566.0 2020-05-21\n"
     ]
    }
   ],
   "source": [
    "print(\"min:\", data[\"pub_date\"].min(), dt.num2date(data[\"pub_date\"].min()).strftime('%Y-%m-%d'))\n",
    "print(\"max:\", data[\"pub_date\"].max(), dt.num2date(data[\"pub_date\"].max()).strftime('%Y-%m-%d'))"
   ]
  },
  {
   "cell_type": "code",
   "execution_count": 44,
   "metadata": {},
   "outputs": [
    {
     "data": {
      "text/html": [
       "<div>\n",
       "<style scoped>\n",
       "    .dataframe tbody tr th:only-of-type {\n",
       "        vertical-align: middle;\n",
       "    }\n",
       "\n",
       "    .dataframe tbody tr th {\n",
       "        vertical-align: top;\n",
       "    }\n",
       "\n",
       "    .dataframe thead th {\n",
       "        text-align: right;\n",
       "    }\n",
       "</style>\n",
       "<table border=\"1\" class=\"dataframe\">\n",
       "  <thead>\n",
       "    <tr style=\"text-align: right;\">\n",
       "      <th></th>\n",
       "      <th>url</th>\n",
       "      <th>pa</th>\n",
       "      <th>header</th>\n",
       "      <th>header_len</th>\n",
       "      <th>meta</th>\n",
       "      <th>meta_len</th>\n",
       "      <th>bytes</th>\n",
       "      <th>word_count</th>\n",
       "      <th>total_links</th>\n",
       "      <th>inbound_domains</th>\n",
       "      <th>outbound_domains</th>\n",
       "      <th>ext_links</th>\n",
       "      <th>unique_ext</th>\n",
       "      <th>inlinks</th>\n",
       "      <th>unique_in</th>\n",
       "      <th>outlinks</th>\n",
       "      <th>unique_out</th>\n",
       "      <th>pub_date</th>\n",
       "    </tr>\n",
       "  </thead>\n",
       "  <tbody>\n",
       "    <tr>\n",
       "      <th>85</th>\n",
       "      <td>https://www.mayoclinic.org/diseases-conditions...</td>\n",
       "      <td>62</td>\n",
       "      <td>coronavirus disease 2019 (covid-19)</td>\n",
       "      <td>35</td>\n",
       "      <td>Find out about coronavirus disease 2019 (COVID...</td>\n",
       "      <td>157</td>\n",
       "      <td>164386</td>\n",
       "      <td>5194</td>\n",
       "      <td>14924</td>\n",
       "      <td>554</td>\n",
       "      <td>0</td>\n",
       "      <td>263</td>\n",
       "      <td>240</td>\n",
       "      <td>15</td>\n",
       "      <td>7</td>\n",
       "      <td>97</td>\n",
       "      <td>62</td>\n",
       "      <td>737566.0</td>\n",
       "    </tr>\n",
       "  </tbody>\n",
       "</table>\n",
       "</div>"
      ],
      "text/plain": [
       "                                                  url  pa  \\\n",
       "85  https://www.mayoclinic.org/diseases-conditions...  62   \n",
       "\n",
       "                                 header  header_len  \\\n",
       "85  coronavirus disease 2019 (covid-19)          35   \n",
       "\n",
       "                                                 meta  meta_len   bytes  \\\n",
       "85  Find out about coronavirus disease 2019 (COVID...       157  164386   \n",
       "\n",
       "    word_count  total_links  inbound_domains  outbound_domains  ext_links  \\\n",
       "85        5194        14924              554                 0        263   \n",
       "\n",
       "    unique_ext  inlinks  unique_in  outlinks  unique_out  pub_date  \n",
       "85         240       15          7        97          62  737566.0  "
      ]
     },
     "execution_count": 44,
     "metadata": {},
     "output_type": "execute_result"
    }
   ],
   "source": [
    "# updated today! (may 21, 2020)\n",
    "data[data.pub_date == 737566.0]"
   ]
  },
  {
   "cell_type": "code",
   "execution_count": 45,
   "metadata": {},
   "outputs": [],
   "source": [
    "# function to examine relationship between publication date and any other column with a scatter plot\n",
    "def pub(col, colname):\n",
    "    plt.plot_date(x=data[\"pub_date\"], y=col, xdate=True, ydate=False, alpha=0.5)\n",
    "    plt.title(\"publication date, \" + colname)\n",
    "    plt.show()"
   ]
  },
  {
   "cell_type": "markdown",
   "metadata": {},
   "source": [
    "## Analysis"
   ]
  },
  {
   "cell_type": "markdown",
   "metadata": {},
   "source": [
    "Main SEO boxes to check:\n",
    "- link authority\n",
    "- quality content\n",
    "- publication date\n",
    "\n",
    "Others that may give pages a boost:\n",
    "- good headers\n",
    "- good meta description\n",
    "- word count\n",
    "- page size"
   ]
  },
  {
   "cell_type": "code",
   "execution_count": 114,
   "metadata": {},
   "outputs": [
    {
     "data": {
      "text/plain": [
       "Index(['url', 'pa', 'header', 'header_len', 'meta', 'meta_len', 'bytes',\n",
       "       'word_count', 'total_links', 'inbound_domains', 'outbound_domains',\n",
       "       'ext_links', 'unique_ext', 'inlinks', 'unique_in', 'outlinks',\n",
       "       'unique_out', 'pub_date'],\n",
       "      dtype='object')"
      ]
     },
     "execution_count": 114,
     "metadata": {},
     "output_type": "execute_result"
    }
   ],
   "source": [
    "data.columns"
   ]
  },
  {
   "cell_type": "code",
   "execution_count": 118,
   "metadata": {},
   "outputs": [
    {
     "name": "stdout",
     "output_type": "stream",
     "text": [
      "header_len coefficient: 0.01018\n",
      "meta_len coefficient: 0.00292\n",
      "bytes coefficient: 0.00003\n",
      "word_count coefficient: 0.00049\n",
      "total_links coefficient: 0.00015\n",
      "inbound_domains coefficient: 0.00259\n",
      "outbound_domains coefficient: -0.07575\n",
      "ext_links coefficient: 0.00893\n",
      "unique_ext coefficient: 0.00844\n",
      "inlinks coefficient: -0.00274\n",
      "unique_in coefficient: -0.00462\n",
      "outlinks coefficient: 0.02845\n",
      "unique_out coefficient: 0.03168\n",
      "pub_date coefficient: -0.00080\n"
     ]
    }
   ],
   "source": [
    "for column in ['header_len', 'meta_len', 'bytes', 'word_count', 'total_links', 'inbound_domains', 'outbound_domains', 'ext_links', 'unique_ext', 'inlinks', 'unique_in', 'outlinks',\n",
    "       'unique_out', 'pub_date']:\n",
    "    model = LinearRegression().fit(data[[column]], data[\"pa\"])\n",
    "    print(\"%s coefficient: %.5f\" % (column, model.coef_))"
   ]
  },
  {
   "cell_type": "code",
   "execution_count": null,
   "metadata": {},
   "outputs": [],
   "source": []
  }
 ],
 "metadata": {
  "kernelspec": {
   "display_name": "Python 3",
   "language": "python",
   "name": "python3"
  },
  "language_info": {
   "codemirror_mode": {
    "name": "ipython",
    "version": 3
   },
   "file_extension": ".py",
   "mimetype": "text/x-python",
   "name": "python",
   "nbconvert_exporter": "python",
   "pygments_lexer": "ipython3",
   "version": "3.7.4"
  }
 },
 "nbformat": 4,
 "nbformat_minor": 2
}
