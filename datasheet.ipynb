{
 "cells": [
  {
   "cell_type": "markdown",
   "metadata": {},
   "source": [
    "# Phase 2\n",
    "## Data Collection and Description (Draft)"
   ]
  },
  {
   "cell_type": "markdown",
   "metadata": {},
   "source": [
    "*Effectively communicate what your dataset is about. The technical details of the data set will be described in your datasheet (follow a template as in the examples in sections 3.1-3.5 (Motivation to Uses) of this article on datasheets. Think of this as the “origin story” of your data set. You can write this in any style as long as it's easy to read as a Q&A. Datasheet will be graded on content, not style.*"
   ]
  },
  {
   "cell_type": "markdown",
   "metadata": {},
   "source": [
    "###  Why was this dataset created?\n",
    "Last summer and continuing remotely, I have been working at MassGeneral Hospital for Children as a digital marketing and web development intern. MGHfC struggles with brand recognition in competition with other childrens' hospitals and healthcare facilities, and as such the digital marketing department at MGHfC has been publishing more patient education pages on the website about conditions treated at the clinics of MGH's children's hospital to try and rank in Google and generate more site traffic and appointments.\n",
    "\n",
    "Despite their recent generation, MGHfC's pages are often beat in Google rankings by those of the Mayo Clinic, the widely acclaimed healthcare company based in Minnesota. Whereas the Mayo Clinic ranks in Google for 2.5m keywords, MGHfC ranks for 90,813 (data from previous analysis on https://moz.com/). To study what site structure and SEO tactics aid the Mayo Clinic in ranking in Google so often and so highly for their education pages, in this project I will be analyzing the contents of their Symptoms and Causes pages of their listed diseases and conditions to try and detect patterns in their pages that may be boosting their page rank.\n",
    "\n",
    "The final dataset I will be working with is a self-contained conglommeration of data I scraped from the Mayo Clinic's site and data provided by an SEO analysis helper tool that I have access to due to my internship position, Screaming Frog SEO Spider (indeed, that is the name of the application).\n",
    "\n",
    "### What processes might have influenced what data was observed and recorded and what was not?\n",
    "With the goals outlined above in mind, SEO Spider provides valuable information that I would not otherwise be able to gather–in this case, data about the kinds of links on the pages (ingoing, outgoing, unique...). However, due to the way the Mayo Clinic's symptoms and causes URLs are structured, I have to filter out the pages that I want from the data it provides, which also includes other pages listed under Diseases and Conditions.\n",
    "\n",
    "I could have done the project with only the Spider data, but I wanted to get more practice at webscraping! I'm proud of the result, even if the merging of the datasets is a bit redundant. Full disclaimer, I had hoped to scrape more data by hand than I got done for this draft of the datasheet, and I hope to use BeautifulSoup and XML parsing to do more of that for the final version.\n",
    "\n",
    "I scraped sample data from the particular pages that I wanted and merged it with data from Spider for the same pages. The resulting number of pages is fewer than either original set, weeding out some pages that I did not want to include in the analysis. The final product should be the full population of Symptoms and Causes pages on the Mayo Clinic site.\n",
    "\n",
    "### What preprocessing was done, and how did the data come to be in the form that you are using?\n",
    "In terms of the SEO Spider data, I crawled https://www.mayoclinic.org/diseases-conditions to a depth of 2 and downloaded a .csv file which I then cleaned in this notebook so that the dataframe only included the columns I wanted. I left behind address (the \"ugly\" (non-canonical) version of the final url), status code (can access myself, and should be 200, not interesting for data analysis), page title and headers, which are standard across Symptoms and Causes pages, % total (code to content ratio), and empty columns that I asked Spider not to gather data for or that Spider left blank.\n",
    "\n",
    "### What are the observations (rows) and the attributes (columns)?\n",
    "**Observations:** Each row contains information about the symptoms and treatment page for a disease or condition listed on the Mayo Clinic website. \n",
    "\n",
    "**Attributes:** The page's url, its primary header (H1, also the name of the condition described), the word count of the page content, the size of the page in bytes, the meta description of the page (what shows up in the Google result), the inlinks (internal links pointing to a given URL from the same subdomain that is being crawled), unique inlinks (count several internal links from the same subdomain page as 1), outlinks (internal links to other URLs on the same subdomain), unique outlinks, external outlinks (links to another subdomain), and unique external outlinks.\n",
    "\n",
    "### If people are involved, were they aware of the data collection and if so, what purpose did they expect the data to be used for?\n",
    "People are tangentially involved–the data I will be analyzing looks at how webpages were designed by someone, whether that's web designers working there or working for a company that created their website template, and the structure of the content of those pages, which likely have many different authors. Data about the people themselves will not be involved; only data about their work.\n",
    "\n",
    "### Who funded the creation of the dataset?\n",
    "The license for SEO Spider is funded by the MGH Marketing Department. My internship is unpaid–I am not completing this work for compensation besides my standing in this course, and the idea of applying this project to the area of my internship was entirely my own.\n",
    "\n",
    "To my knowledge, no one working for the Mayo Clinic is aware of this project, and none of the data used is confidential, private, or upsetting.\n",
    "\n",
    "This dataset has not yet been used for any tasks. It could potentially be used by other competitors of the Mayo Clinic or the Mayo Clinic itself to attempt to improve marketing strategies. This data should not be used to compromise the Mayo Clinic or any associated groups."
   ]
  },
  {
   "cell_type": "markdown",
   "metadata": {},
   "source": [
    "## Part 1: Web Scraping"
   ]
  },
  {
   "cell_type": "markdown",
   "metadata": {},
   "source": [
    "In the following section, I scrape the Mayo Clinic's Symptoms and Treatment pages under all of their indexed diseases and conditions."
   ]
  },
  {
   "cell_type": "code",
   "execution_count": 2,
   "metadata": {},
   "outputs": [],
   "source": [
    "# import the libraries\n",
    "import sys\n",
    "#!conda install --yes --prefix {sys.prefix} requests\n",
    "import requests\n",
    "from bs4 import BeautifulSoup\n",
    "#!conda install --yes --prefix {sys.prefix} lxml\n",
    "from string import ascii_uppercase as upp\n",
    "import re # for regular expressions in part 3\n",
    "import pandas as pd\n",
    "import matplotlib.pyplot as plt\n",
    "import numpy as np"
   ]
  },
  {
   "cell_type": "markdown",
   "metadata": {},
   "source": [
    "The first step is to get the long list of symptoms-causes URLs that are linked from the Mayo Clinic's indexed Diseases and Conditions lookup. I begin by saving the url up to and including the query for the letter, but not the letter itself. I also save the root of the URL for use later."
   ]
  },
  {
   "cell_type": "code",
   "execution_count": 1,
   "metadata": {},
   "outputs": [],
   "source": [
    "# get URLs: diseases-conditions pages organized in an alphabetical index, with one # entry\n",
    "url = 'https://www.mayoclinic.org/diseases-conditions/index?letter='\n",
    "root = 'https://www.mayoclinic.org'"
   ]
  },
  {
   "cell_type": "markdown",
   "metadata": {},
   "source": [
    "Next, I write a function to extract the URLs of the pages I want (from the URLs of the letter index pages!). Since I am doing a sort of double scraping, I make sure to limit the number of pages I scrape per index letter."
   ]
  },
  {
   "cell_type": "code",
   "execution_count": 20,
   "metadata": {},
   "outputs": [],
   "source": [
    "def extract(letter, addresses):\n",
    "    index = url + letter # url of index page for this letter\n",
    "    get = requests.get(index).content\n",
    "    soup = BeautifulSoup(get, \"lxml\")\n",
    "    # get list of articles on index page\n",
    "    within = soup.find_all(class_ = \"index content-within\")\n",
    "    # for limited number of index items in the resulting array\n",
    "    #if len(within) > 50:\n",
    "       # stop = 50\n",
    "   # else:\n",
    "        #stop = len(within)\n",
    "    for elm in within:\n",
    "        # gets letter's articles as strings in a list\n",
    "        links = re.findall(\"(?<=a\\shref=\\\").*?(?=\\\">)\", str(elm))\n",
    "        # for each of the links\n",
    "        for page in range(len(links)): \n",
    "            full = root + links[page] # symptoms-causes URL\n",
    "            if addresses.count(full)<1:\n",
    "                addresses.append(full)\n",
    "                content = requests.get(full)\n",
    "                # save as mayoA-000 etc.\n",
    "                with open(\"mayo{}-{:03d}.xml\".format(letter, page), \"w\") as writer:\n",
    "                    writer.write(content.text)"
   ]
  },
  {
   "cell_type": "markdown",
   "metadata": {},
   "source": [
    "I use the function to extract the URL from the # index page, the only index item that isn't listed under a capital letter of the alphabet. This helps me to ensure the function is behaving correctly without scraping too much."
   ]
  },
  {
   "cell_type": "code",
   "execution_count": 21,
   "metadata": {},
   "outputs": [
    {
     "data": {
      "text/plain": [
       "['https://www.mayoclinic.org/diseases-conditions/digeorge-syndrome/symptoms-causes/syc-20353543']"
      ]
     },
     "execution_count": 21,
     "metadata": {},
     "output_type": "execute_result"
    }
   ],
   "source": [
    "addresses = []\n",
    "extract(\"0\", addresses)\n",
    "addresses"
   ]
  },
  {
   "cell_type": "markdown",
   "metadata": {},
   "source": [
    "Now that I know it works, I extract more URLs:"
   ]
  },
  {
   "cell_type": "code",
   "execution_count": 22,
   "metadata": {},
   "outputs": [],
   "source": [
    "for letter in upp:\n",
    "    extract(letter, addresses)"
   ]
  },
  {
   "cell_type": "markdown",
   "metadata": {},
   "source": [
    "Now it's time to put these URLs into an initial dataframe that I will merge with the relevant Spider data."
   ]
  },
  {
   "cell_type": "code",
   "execution_count": 23,
   "metadata": {
    "scrolled": true
   },
   "outputs": [
    {
     "data": {
      "text/html": [
       "<div>\n",
       "<style scoped>\n",
       "    .dataframe tbody tr th:only-of-type {\n",
       "        vertical-align: middle;\n",
       "    }\n",
       "\n",
       "    .dataframe tbody tr th {\n",
       "        vertical-align: top;\n",
       "    }\n",
       "\n",
       "    .dataframe thead th {\n",
       "        text-align: right;\n",
       "    }\n",
       "</style>\n",
       "<table border=\"1\" class=\"dataframe\">\n",
       "  <thead>\n",
       "    <tr style=\"text-align: right;\">\n",
       "      <th></th>\n",
       "      <th>url</th>\n",
       "    </tr>\n",
       "  </thead>\n",
       "  <tbody>\n",
       "    <tr>\n",
       "      <td>0</td>\n",
       "      <td>https://www.mayoclinic.org/diseases-conditions...</td>\n",
       "    </tr>\n",
       "    <tr>\n",
       "      <td>1</td>\n",
       "      <td>https://www.mayoclinic.org/diseases-conditions...</td>\n",
       "    </tr>\n",
       "    <tr>\n",
       "      <td>2</td>\n",
       "      <td>https://www.mayoclinic.org/diseases-conditions...</td>\n",
       "    </tr>\n",
       "    <tr>\n",
       "      <td>3</td>\n",
       "      <td>https://www.mayoclinic.org/diseases-conditions...</td>\n",
       "    </tr>\n",
       "    <tr>\n",
       "      <td>4</td>\n",
       "      <td>https://www.mayoclinic.org/diseases-conditions...</td>\n",
       "    </tr>\n",
       "  </tbody>\n",
       "</table>\n",
       "</div>"
      ],
      "text/plain": [
       "                                                 url\n",
       "0  https://www.mayoclinic.org/diseases-conditions...\n",
       "1  https://www.mayoclinic.org/diseases-conditions...\n",
       "2  https://www.mayoclinic.org/diseases-conditions...\n",
       "3  https://www.mayoclinic.org/diseases-conditions...\n",
       "4  https://www.mayoclinic.org/diseases-conditions..."
      ]
     },
     "execution_count": 23,
     "metadata": {},
     "output_type": "execute_result"
    }
   ],
   "source": [
    "mayo_data = pd.DataFrame(addresses, columns=[\"url\"])\n",
    "mayo_data.head()"
   ]
  },
  {
   "cell_type": "code",
   "execution_count": 24,
   "metadata": {},
   "outputs": [
    {
     "data": {
      "text/plain": [
       "(1183, 1)"
      ]
     },
     "execution_count": 24,
     "metadata": {},
     "output_type": "execute_result"
    }
   ],
   "source": [
    "mayo_data.shape"
   ]
  },
  {
   "cell_type": "markdown",
   "metadata": {},
   "source": [
    "## Part 2: SEO Spider Data"
   ]
  },
  {
   "cell_type": "markdown",
   "metadata": {},
   "source": [
    "### Raw Source Data\n",
    "https://drive.google.com/open?id=1vlTTVOf3L2TnJxRma4TyJPCsgKpVvM19"
   ]
  },
  {
   "cell_type": "markdown",
   "metadata": {},
   "source": [
    "Below are all of the columns provided by SEO Spider, not all of which will be useful for my purposes."
   ]
  },
  {
   "cell_type": "code",
   "execution_count": 25,
   "metadata": {
    "scrolled": false
   },
   "outputs": [
    {
     "data": {
      "text/plain": [
       "Index(['Address', 'Content', 'Status Code', 'Status', 'Indexability',\n",
       "       'Indexability Status', 'Title 1', 'Title 1 Length',\n",
       "       'Title 1 Pixel Width', 'Meta Description 1',\n",
       "       'Meta Description 1 Length', 'Meta Description 1 Pixel Width',\n",
       "       'Meta Keyword 1', 'Meta Keywords 1 Length', 'H1-1', 'H1-1 length',\n",
       "       'H1-2', 'H1-2 length', 'H2-1', 'H2-1 length', 'H2-2', 'H2-2 length',\n",
       "       'Meta Robots 1', 'X-Robots-Tag 1', 'Meta Refresh 1',\n",
       "       'Canonical Link Element 1', 'rel=\"next\" 1', 'rel=\"prev\" 1',\n",
       "       'HTTP rel=\"next\" 1', 'HTTP rel=\"prev\" 1', 'Size (bytes)', 'Word Count',\n",
       "       'Text Ratio', 'Crawl Depth', 'Link Score', 'Inlinks', 'Unique Inlinks',\n",
       "       '% of Total', 'Outlinks', 'Unique Outlinks', 'External Outlinks',\n",
       "       'Unique External Outlinks', 'Hash', 'Response Time', 'Last Modified',\n",
       "       'Redirect URL', 'Redirect Type', 'URL Encoded Address'],\n",
       "      dtype='object')"
      ]
     },
     "execution_count": 25,
     "metadata": {},
     "output_type": "execute_result"
    }
   ],
   "source": [
    "raw = pd.read_csv(\"symptoms-causes.csv\")\n",
    "raw.columns"
   ]
  },
  {
   "cell_type": "markdown",
   "metadata": {},
   "source": [
    "I select which columns I want to keep:"
   ]
  },
  {
   "cell_type": "code",
   "execution_count": 26,
   "metadata": {},
   "outputs": [
    {
     "data": {
      "text/html": [
       "<div>\n",
       "<style scoped>\n",
       "    .dataframe tbody tr th:only-of-type {\n",
       "        vertical-align: middle;\n",
       "    }\n",
       "\n",
       "    .dataframe tbody tr th {\n",
       "        vertical-align: top;\n",
       "    }\n",
       "\n",
       "    .dataframe thead th {\n",
       "        text-align: right;\n",
       "    }\n",
       "</style>\n",
       "<table border=\"1\" class=\"dataframe\">\n",
       "  <thead>\n",
       "    <tr style=\"text-align: right;\">\n",
       "      <th></th>\n",
       "      <th>H1-1</th>\n",
       "      <th>URL Encoded Address</th>\n",
       "      <th>Word Count</th>\n",
       "      <th>Size (bytes)</th>\n",
       "      <th>Meta Description 1</th>\n",
       "      <th>Inlinks</th>\n",
       "      <th>Unique Inlinks</th>\n",
       "      <th>Outlinks</th>\n",
       "      <th>Unique Outlinks</th>\n",
       "      <th>External Outlinks</th>\n",
       "      <th>Unique External Outlinks</th>\n",
       "    </tr>\n",
       "  </thead>\n",
       "  <tbody>\n",
       "    <tr>\n",
       "      <td>0</td>\n",
       "      <td>Congenital heart disease in adults</td>\n",
       "      <td>https://www.mayoclinic.org/diseases-conditions...</td>\n",
       "      <td>2005</td>\n",
       "      <td>60740</td>\n",
       "      <td>Learn about treatments and complications of he...</td>\n",
       "      <td>53</td>\n",
       "      <td>29</td>\n",
       "      <td>112</td>\n",
       "      <td>83</td>\n",
       "      <td>70</td>\n",
       "      <td>48</td>\n",
       "    </tr>\n",
       "    <tr>\n",
       "      <td>1</td>\n",
       "      <td>Pulmonary fibrosis</td>\n",
       "      <td>https://www.mayoclinic.org/diseases-conditions...</td>\n",
       "      <td>2083</td>\n",
       "      <td>54587</td>\n",
       "      <td>Pulmonary fibrosis — Learn about the symptoms,...</td>\n",
       "      <td>36</td>\n",
       "      <td>18</td>\n",
       "      <td>83</td>\n",
       "      <td>53</td>\n",
       "      <td>67</td>\n",
       "      <td>45</td>\n",
       "    </tr>\n",
       "    <tr>\n",
       "      <td>2</td>\n",
       "      <td>Epilepsy</td>\n",
       "      <td>https://www.mayoclinic.org/diseases-conditions...</td>\n",
       "      <td>2749</td>\n",
       "      <td>63278</td>\n",
       "      <td>Learn about epilepsy symptoms, possible causes...</td>\n",
       "      <td>40</td>\n",
       "      <td>21</td>\n",
       "      <td>90</td>\n",
       "      <td>60</td>\n",
       "      <td>73</td>\n",
       "      <td>51</td>\n",
       "    </tr>\n",
       "    <tr>\n",
       "      <td>3</td>\n",
       "      <td>Cirrhosis</td>\n",
       "      <td>https://www.mayoclinic.org/diseases-conditions...</td>\n",
       "      <td>2008</td>\n",
       "      <td>55146</td>\n",
       "      <td>Cirrhosis is an advanced stage of scarring and...</td>\n",
       "      <td>35</td>\n",
       "      <td>17</td>\n",
       "      <td>82</td>\n",
       "      <td>53</td>\n",
       "      <td>67</td>\n",
       "      <td>45</td>\n",
       "    </tr>\n",
       "    <tr>\n",
       "      <td>4</td>\n",
       "      <td>Heart arrhythmia</td>\n",
       "      <td>https://www.mayoclinic.org/diseases-conditions...</td>\n",
       "      <td>3397</td>\n",
       "      <td>68502</td>\n",
       "      <td>Learn about common heart disorders that can ca...</td>\n",
       "      <td>54</td>\n",
       "      <td>34</td>\n",
       "      <td>94</td>\n",
       "      <td>65</td>\n",
       "      <td>67</td>\n",
       "      <td>45</td>\n",
       "    </tr>\n",
       "  </tbody>\n",
       "</table>\n",
       "</div>"
      ],
      "text/plain": [
       "                                 H1-1  \\\n",
       "0  Congenital heart disease in adults   \n",
       "1                  Pulmonary fibrosis   \n",
       "2                            Epilepsy   \n",
       "3                           Cirrhosis   \n",
       "4                    Heart arrhythmia   \n",
       "\n",
       "                                 URL Encoded Address  Word Count  \\\n",
       "0  https://www.mayoclinic.org/diseases-conditions...        2005   \n",
       "1  https://www.mayoclinic.org/diseases-conditions...        2083   \n",
       "2  https://www.mayoclinic.org/diseases-conditions...        2749   \n",
       "3  https://www.mayoclinic.org/diseases-conditions...        2008   \n",
       "4  https://www.mayoclinic.org/diseases-conditions...        3397   \n",
       "\n",
       "   Size (bytes)                                 Meta Description 1  Inlinks  \\\n",
       "0         60740  Learn about treatments and complications of he...       53   \n",
       "1         54587  Pulmonary fibrosis — Learn about the symptoms,...       36   \n",
       "2         63278  Learn about epilepsy symptoms, possible causes...       40   \n",
       "3         55146  Cirrhosis is an advanced stage of scarring and...       35   \n",
       "4         68502  Learn about common heart disorders that can ca...       54   \n",
       "\n",
       "   Unique Inlinks  Outlinks  Unique Outlinks  External Outlinks  \\\n",
       "0              29       112               83                 70   \n",
       "1              18        83               53                 67   \n",
       "2              21        90               60                 73   \n",
       "3              17        82               53                 67   \n",
       "4              34        94               65                 67   \n",
       "\n",
       "   Unique External Outlinks  \n",
       "0                        48  \n",
       "1                        45  \n",
       "2                        51  \n",
       "3                        45  \n",
       "4                        45  "
      ]
     },
     "execution_count": 26,
     "metadata": {},
     "output_type": "execute_result"
    }
   ],
   "source": [
    "trimmed = raw[['H1-1', \"URL Encoded Address\", \"Word Count\", 'Size (bytes)', \"Meta Description 1\", \"Inlinks\", \"Unique Inlinks\", 'Outlinks', 'Unique Outlinks', 'External Outlinks',\n",
    "       'Unique External Outlinks']]\n",
    "trimmed.head()"
   ]
  },
  {
   "cell_type": "markdown",
   "metadata": {},
   "source": [
    "...and convert them into more coding-friendly formats:"
   ]
  },
  {
   "cell_type": "code",
   "execution_count": 27,
   "metadata": {
    "scrolled": true
   },
   "outputs": [
    {
     "data": {
      "text/html": [
       "<div>\n",
       "<style scoped>\n",
       "    .dataframe tbody tr th:only-of-type {\n",
       "        vertical-align: middle;\n",
       "    }\n",
       "\n",
       "    .dataframe tbody tr th {\n",
       "        vertical-align: top;\n",
       "    }\n",
       "\n",
       "    .dataframe thead th {\n",
       "        text-align: right;\n",
       "    }\n",
       "</style>\n",
       "<table border=\"1\" class=\"dataframe\">\n",
       "  <thead>\n",
       "    <tr style=\"text-align: right;\">\n",
       "      <th></th>\n",
       "      <th>header</th>\n",
       "      <th>url</th>\n",
       "      <th>word_count</th>\n",
       "      <th>bytes</th>\n",
       "      <th>meta</th>\n",
       "      <th>inlinks</th>\n",
       "      <th>unique_inlinks</th>\n",
       "      <th>outlinks</th>\n",
       "      <th>unique_outlinks</th>\n",
       "      <th>external_outlinks</th>\n",
       "      <th>unique_external_outlinks</th>\n",
       "    </tr>\n",
       "  </thead>\n",
       "  <tbody>\n",
       "    <tr>\n",
       "      <td>0</td>\n",
       "      <td>congenital heart disease in adults</td>\n",
       "      <td>https://www.mayoclinic.org/diseases-conditions...</td>\n",
       "      <td>2005</td>\n",
       "      <td>60740</td>\n",
       "      <td>Learn about treatments and complications of he...</td>\n",
       "      <td>53</td>\n",
       "      <td>29</td>\n",
       "      <td>112</td>\n",
       "      <td>83</td>\n",
       "      <td>70</td>\n",
       "      <td>48</td>\n",
       "    </tr>\n",
       "    <tr>\n",
       "      <td>1</td>\n",
       "      <td>pulmonary fibrosis</td>\n",
       "      <td>https://www.mayoclinic.org/diseases-conditions...</td>\n",
       "      <td>2083</td>\n",
       "      <td>54587</td>\n",
       "      <td>Pulmonary fibrosis — Learn about the symptoms,...</td>\n",
       "      <td>36</td>\n",
       "      <td>18</td>\n",
       "      <td>83</td>\n",
       "      <td>53</td>\n",
       "      <td>67</td>\n",
       "      <td>45</td>\n",
       "    </tr>\n",
       "    <tr>\n",
       "      <td>2</td>\n",
       "      <td>epilepsy</td>\n",
       "      <td>https://www.mayoclinic.org/diseases-conditions...</td>\n",
       "      <td>2749</td>\n",
       "      <td>63278</td>\n",
       "      <td>Learn about epilepsy symptoms, possible causes...</td>\n",
       "      <td>40</td>\n",
       "      <td>21</td>\n",
       "      <td>90</td>\n",
       "      <td>60</td>\n",
       "      <td>73</td>\n",
       "      <td>51</td>\n",
       "    </tr>\n",
       "  </tbody>\n",
       "</table>\n",
       "</div>"
      ],
      "text/plain": [
       "                               header  \\\n",
       "0  congenital heart disease in adults   \n",
       "1                  pulmonary fibrosis   \n",
       "2                            epilepsy   \n",
       "\n",
       "                                                 url  word_count  bytes  \\\n",
       "0  https://www.mayoclinic.org/diseases-conditions...        2005  60740   \n",
       "1  https://www.mayoclinic.org/diseases-conditions...        2083  54587   \n",
       "2  https://www.mayoclinic.org/diseases-conditions...        2749  63278   \n",
       "\n",
       "                                                meta  inlinks  unique_inlinks  \\\n",
       "0  Learn about treatments and complications of he...       53              29   \n",
       "1  Pulmonary fibrosis — Learn about the symptoms,...       36              18   \n",
       "2  Learn about epilepsy symptoms, possible causes...       40              21   \n",
       "\n",
       "   outlinks  unique_outlinks  external_outlinks  unique_external_outlinks  \n",
       "0       112               83                 70                        48  \n",
       "1        83               53                 67                        45  \n",
       "2        90               60                 73                        51  "
      ]
     },
     "execution_count": 27,
     "metadata": {},
     "output_type": "execute_result"
    }
   ],
   "source": [
    "# lowercase, spaces to underscores\n",
    "new_colnames = [x.lower() for x in trimmed.columns]\n",
    "new_colnames = [x.replace(' ', '_') for x in new_colnames]\n",
    "\n",
    "# replace in original dataframe\n",
    "cleaned = trimmed\n",
    "cleaned.columns = new_colnames\n",
    "\n",
    "# replace individual column names that need modifying\n",
    "cleaned = cleaned.rename(columns = {'h1-1': 'header'})\n",
    "cleaned = cleaned.rename(columns = {'url_encoded_address' : 'url'})\n",
    "cleaned = cleaned.rename(columns = {'size_(bytes)' : 'bytes'})\n",
    "cleaned = cleaned.rename(columns = {'meta_description_1' : 'meta'})\n",
    "\n",
    "# reformat headers\n",
    "lower = [x.lower() for x in cleaned[\"header\"]]\n",
    "cleaned[\"header\"] = lower\n",
    "\n",
    "cleaned.head(3)"
   ]
  },
  {
   "cell_type": "code",
   "execution_count": 28,
   "metadata": {},
   "outputs": [
    {
     "data": {
      "text/plain": [
       "(1199, 11)"
      ]
     },
     "execution_count": 28,
     "metadata": {},
     "output_type": "execute_result"
    }
   ],
   "source": [
    "cleaned.shape"
   ]
  },
  {
   "cell_type": "markdown",
   "metadata": {},
   "source": [
    "## Merge Datasets"
   ]
  },
  {
   "cell_type": "markdown",
   "metadata": {},
   "source": [
    "In merging the datasets, I am paring down the data just a little bit."
   ]
  },
  {
   "cell_type": "code",
   "execution_count": 29,
   "metadata": {
    "scrolled": true
   },
   "outputs": [
    {
     "data": {
      "text/html": [
       "<div>\n",
       "<style scoped>\n",
       "    .dataframe tbody tr th:only-of-type {\n",
       "        vertical-align: middle;\n",
       "    }\n",
       "\n",
       "    .dataframe tbody tr th {\n",
       "        vertical-align: top;\n",
       "    }\n",
       "\n",
       "    .dataframe thead th {\n",
       "        text-align: right;\n",
       "    }\n",
       "</style>\n",
       "<table border=\"1\" class=\"dataframe\">\n",
       "  <thead>\n",
       "    <tr style=\"text-align: right;\">\n",
       "      <th></th>\n",
       "      <th>url</th>\n",
       "      <th>header</th>\n",
       "      <th>word_count</th>\n",
       "      <th>bytes</th>\n",
       "      <th>meta</th>\n",
       "      <th>inlinks</th>\n",
       "      <th>unique_inlinks</th>\n",
       "      <th>outlinks</th>\n",
       "      <th>unique_outlinks</th>\n",
       "      <th>external_outlinks</th>\n",
       "      <th>unique_external_outlinks</th>\n",
       "    </tr>\n",
       "  </thead>\n",
       "  <tbody>\n",
       "    <tr>\n",
       "      <td>0</td>\n",
       "      <td>https://www.mayoclinic.org/diseases-conditions...</td>\n",
       "      <td>digeorge syndrome (22q11.2 deletion syndrome)</td>\n",
       "      <td>2212</td>\n",
       "      <td>57561</td>\n",
       "      <td>DiGeorge syndrome (22q11.2 deletion syndrome) ...</td>\n",
       "      <td>13</td>\n",
       "      <td>7</td>\n",
       "      <td>70</td>\n",
       "      <td>44</td>\n",
       "      <td>67</td>\n",
       "      <td>45</td>\n",
       "    </tr>\n",
       "    <tr>\n",
       "      <td>1</td>\n",
       "      <td>https://www.mayoclinic.org/diseases-conditions...</td>\n",
       "      <td>atrial fibrillation</td>\n",
       "      <td>2732</td>\n",
       "      <td>68770</td>\n",
       "      <td>Find out about atrial fibrillation, a heart co...</td>\n",
       "      <td>31</td>\n",
       "      <td>19</td>\n",
       "      <td>100</td>\n",
       "      <td>71</td>\n",
       "      <td>75</td>\n",
       "      <td>52</td>\n",
       "    </tr>\n",
       "    <tr>\n",
       "      <td>2</td>\n",
       "      <td>https://www.mayoclinic.org/diseases-conditions...</td>\n",
       "      <td>abdominal aortic aneurysm</td>\n",
       "      <td>1530</td>\n",
       "      <td>48752</td>\n",
       "      <td>An abdominal aortic aneurysm can grow slowly a...</td>\n",
       "      <td>26</td>\n",
       "      <td>15</td>\n",
       "      <td>78</td>\n",
       "      <td>49</td>\n",
       "      <td>67</td>\n",
       "      <td>45</td>\n",
       "    </tr>\n",
       "  </tbody>\n",
       "</table>\n",
       "</div>"
      ],
      "text/plain": [
       "                                                 url  \\\n",
       "0  https://www.mayoclinic.org/diseases-conditions...   \n",
       "1  https://www.mayoclinic.org/diseases-conditions...   \n",
       "2  https://www.mayoclinic.org/diseases-conditions...   \n",
       "\n",
       "                                          header  word_count  bytes  \\\n",
       "0  digeorge syndrome (22q11.2 deletion syndrome)        2212  57561   \n",
       "1                            atrial fibrillation        2732  68770   \n",
       "2                      abdominal aortic aneurysm        1530  48752   \n",
       "\n",
       "                                                meta  inlinks  unique_inlinks  \\\n",
       "0  DiGeorge syndrome (22q11.2 deletion syndrome) ...       13               7   \n",
       "1  Find out about atrial fibrillation, a heart co...       31              19   \n",
       "2  An abdominal aortic aneurysm can grow slowly a...       26              15   \n",
       "\n",
       "   outlinks  unique_outlinks  external_outlinks  unique_external_outlinks  \n",
       "0        70               44                 67                        45  \n",
       "1       100               71                 75                        52  \n",
       "2        78               49                 67                        45  "
      ]
     },
     "execution_count": 29,
     "metadata": {},
     "output_type": "execute_result"
    }
   ],
   "source": [
    "data = pd.merge(mayo_data, cleaned, on='url', how='inner')\n",
    "data.head(3)"
   ]
  },
  {
   "cell_type": "code",
   "execution_count": 30,
   "metadata": {},
   "outputs": [
    {
     "data": {
      "text/plain": [
       "(1145, 11)"
      ]
     },
     "execution_count": 30,
     "metadata": {},
     "output_type": "execute_result"
    }
   ],
   "source": [
    "data.shape"
   ]
  },
  {
   "cell_type": "code",
   "execution_count": null,
   "metadata": {},
   "outputs": [],
   "source": []
  }
 ],
 "metadata": {
  "kernelspec": {
   "display_name": "Python 3",
   "language": "python",
   "name": "python3"
  },
  "language_info": {
   "codemirror_mode": {
    "name": "ipython",
    "version": 3
   },
   "file_extension": ".py",
   "mimetype": "text/x-python",
   "name": "python",
   "nbconvert_exporter": "python",
   "pygments_lexer": "ipython3",
   "version": "3.7.6"
  }
 },
 "nbformat": 4,
 "nbformat_minor": 2
}
